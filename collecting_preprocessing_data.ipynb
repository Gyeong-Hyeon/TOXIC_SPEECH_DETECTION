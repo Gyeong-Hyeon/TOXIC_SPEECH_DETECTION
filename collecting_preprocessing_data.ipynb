{
  "nbformat": 4,
  "nbformat_minor": 0,
  "metadata": {
    "colab": {
      "name": "collecting_preprocessing_data.ipynb",
      "provenance": [],
      "collapsed_sections": [
        "kJonT-xL2wiY"
      ],
      "include_colab_link": true
    },
    "kernelspec": {
      "display_name": "Python 3",
      "language": "python",
      "name": "python3"
    },
    "language_info": {
      "codemirror_mode": {
        "name": "ipython",
        "version": 3
      },
      "file_extension": ".py",
      "mimetype": "text/x-python",
      "name": "python",
      "nbconvert_exporter": "python",
      "pygments_lexer": "ipython3",
      "version": "3.8.5"
    }
  },
  "cells": [
    {
      "cell_type": "markdown",
      "metadata": {
        "id": "view-in-github",
        "colab_type": "text"
      },
      "source": [
        "<a href=\"https://colab.research.google.com/github/Gyeong-Hyeon/TOXIC_SPEECH_DETECTION/blob/main/collecting_preprocessing_data.ipynb\" target=\"_parent\"><img src=\"https://colab.research.google.com/assets/colab-badge.svg\" alt=\"Open In Colab\"/></a>"
      ]
    },
    {
      "cell_type": "code",
      "metadata": {
        "id": "vKoidO9b2wiE"
      },
      "source": [
        "import pandas as pd\n",
        "import re\n",
        "import numpy as np\n",
        "import seaborn as sns\n",
        "from collections import Counter"
      ],
      "execution_count": null,
      "outputs": []
    },
    {
      "cell_type": "code",
      "metadata": {
        "colab": {
          "base_uri": "https://localhost:8080/"
        },
        "id": "SKm0hnJX3p4u",
        "outputId": "e296a9f3-2fa3-4e1f-e12e-215b17338f8f"
      },
      "source": [
        "from google.colab import drive\n",
        "drive.mount('/content/drive')"
      ],
      "execution_count": null,
      "outputs": [
        {
          "output_type": "stream",
          "text": [
            "Mounted at /content/drive\n"
          ],
          "name": "stdout"
        }
      ]
    },
    {
      "cell_type": "code",
      "metadata": {
        "id": "JGCw1qxa37yZ"
      },
      "source": [
        "!unzip '/content/drive/MyDrive/finalproject/dataset.zip' -d '/content/drive/MyDrive/finalproject/data'"
      ],
      "execution_count": null,
      "outputs": []
    },
    {
      "cell_type": "markdown",
      "metadata": {
        "id": "2WxptyFv2wiI"
      },
      "source": [
        "# Jigsaw bias dataset"
      ]
    },
    {
      "cell_type": "code",
      "metadata": {
        "id": "2bkAS1z02wiI",
        "outputId": "1ea460b5-269c-4eac-e464-07f50bbfeb1a"
      },
      "source": [
        "import pandas as pd\n",
        "\n",
        "jigsaw_bias = pd.read_csv('C:\\\\Users\\\\user\\\\OneDrive\\\\Desktop\\\\codestates\\\\기업협업\\\\dataset\\\\jigsaw-unintended-bias-in-toxicity-classification\\\\train.csv')\n",
        "jigsaw_bias"
      ],
      "execution_count": null,
      "outputs": [
        {
          "output_type": "execute_result",
          "data": {
            "text/html": [
              "<div>\n",
              "<style scoped>\n",
              "    .dataframe tbody tr th:only-of-type {\n",
              "        vertical-align: middle;\n",
              "    }\n",
              "\n",
              "    .dataframe tbody tr th {\n",
              "        vertical-align: top;\n",
              "    }\n",
              "\n",
              "    .dataframe thead th {\n",
              "        text-align: right;\n",
              "    }\n",
              "</style>\n",
              "<table border=\"1\" class=\"dataframe\">\n",
              "  <thead>\n",
              "    <tr style=\"text-align: right;\">\n",
              "      <th></th>\n",
              "      <th>id</th>\n",
              "      <th>target</th>\n",
              "      <th>comment_text</th>\n",
              "      <th>severe_toxicity</th>\n",
              "      <th>obscene</th>\n",
              "      <th>identity_attack</th>\n",
              "      <th>insult</th>\n",
              "      <th>threat</th>\n",
              "      <th>asian</th>\n",
              "      <th>atheist</th>\n",
              "      <th>...</th>\n",
              "      <th>article_id</th>\n",
              "      <th>rating</th>\n",
              "      <th>funny</th>\n",
              "      <th>wow</th>\n",
              "      <th>sad</th>\n",
              "      <th>likes</th>\n",
              "      <th>disagree</th>\n",
              "      <th>sexual_explicit</th>\n",
              "      <th>identity_annotator_count</th>\n",
              "      <th>toxicity_annotator_count</th>\n",
              "    </tr>\n",
              "  </thead>\n",
              "  <tbody>\n",
              "    <tr>\n",
              "      <th>0</th>\n",
              "      <td>59848</td>\n",
              "      <td>0.000000</td>\n",
              "      <td>This is so cool. It's like, 'would you want yo...</td>\n",
              "      <td>0.000000</td>\n",
              "      <td>0.000000</td>\n",
              "      <td>0.000000</td>\n",
              "      <td>0.000000</td>\n",
              "      <td>0.0</td>\n",
              "      <td>NaN</td>\n",
              "      <td>NaN</td>\n",
              "      <td>...</td>\n",
              "      <td>2006</td>\n",
              "      <td>rejected</td>\n",
              "      <td>0</td>\n",
              "      <td>0</td>\n",
              "      <td>0</td>\n",
              "      <td>0</td>\n",
              "      <td>0</td>\n",
              "      <td>0.0</td>\n",
              "      <td>0</td>\n",
              "      <td>4</td>\n",
              "    </tr>\n",
              "    <tr>\n",
              "      <th>1</th>\n",
              "      <td>59849</td>\n",
              "      <td>0.000000</td>\n",
              "      <td>Thank you!! This would make my life a lot less...</td>\n",
              "      <td>0.000000</td>\n",
              "      <td>0.000000</td>\n",
              "      <td>0.000000</td>\n",
              "      <td>0.000000</td>\n",
              "      <td>0.0</td>\n",
              "      <td>NaN</td>\n",
              "      <td>NaN</td>\n",
              "      <td>...</td>\n",
              "      <td>2006</td>\n",
              "      <td>rejected</td>\n",
              "      <td>0</td>\n",
              "      <td>0</td>\n",
              "      <td>0</td>\n",
              "      <td>0</td>\n",
              "      <td>0</td>\n",
              "      <td>0.0</td>\n",
              "      <td>0</td>\n",
              "      <td>4</td>\n",
              "    </tr>\n",
              "    <tr>\n",
              "      <th>2</th>\n",
              "      <td>59852</td>\n",
              "      <td>0.000000</td>\n",
              "      <td>This is such an urgent design problem; kudos t...</td>\n",
              "      <td>0.000000</td>\n",
              "      <td>0.000000</td>\n",
              "      <td>0.000000</td>\n",
              "      <td>0.000000</td>\n",
              "      <td>0.0</td>\n",
              "      <td>NaN</td>\n",
              "      <td>NaN</td>\n",
              "      <td>...</td>\n",
              "      <td>2006</td>\n",
              "      <td>rejected</td>\n",
              "      <td>0</td>\n",
              "      <td>0</td>\n",
              "      <td>0</td>\n",
              "      <td>0</td>\n",
              "      <td>0</td>\n",
              "      <td>0.0</td>\n",
              "      <td>0</td>\n",
              "      <td>4</td>\n",
              "    </tr>\n",
              "    <tr>\n",
              "      <th>3</th>\n",
              "      <td>59855</td>\n",
              "      <td>0.000000</td>\n",
              "      <td>Is this something I'll be able to install on m...</td>\n",
              "      <td>0.000000</td>\n",
              "      <td>0.000000</td>\n",
              "      <td>0.000000</td>\n",
              "      <td>0.000000</td>\n",
              "      <td>0.0</td>\n",
              "      <td>NaN</td>\n",
              "      <td>NaN</td>\n",
              "      <td>...</td>\n",
              "      <td>2006</td>\n",
              "      <td>rejected</td>\n",
              "      <td>0</td>\n",
              "      <td>0</td>\n",
              "      <td>0</td>\n",
              "      <td>0</td>\n",
              "      <td>0</td>\n",
              "      <td>0.0</td>\n",
              "      <td>0</td>\n",
              "      <td>4</td>\n",
              "    </tr>\n",
              "    <tr>\n",
              "      <th>4</th>\n",
              "      <td>59856</td>\n",
              "      <td>0.893617</td>\n",
              "      <td>haha you guys are a bunch of losers.</td>\n",
              "      <td>0.021277</td>\n",
              "      <td>0.000000</td>\n",
              "      <td>0.021277</td>\n",
              "      <td>0.872340</td>\n",
              "      <td>0.0</td>\n",
              "      <td>0.0</td>\n",
              "      <td>0.0</td>\n",
              "      <td>...</td>\n",
              "      <td>2006</td>\n",
              "      <td>rejected</td>\n",
              "      <td>0</td>\n",
              "      <td>0</td>\n",
              "      <td>0</td>\n",
              "      <td>1</td>\n",
              "      <td>0</td>\n",
              "      <td>0.0</td>\n",
              "      <td>4</td>\n",
              "      <td>47</td>\n",
              "    </tr>\n",
              "    <tr>\n",
              "      <th>...</th>\n",
              "      <td>...</td>\n",
              "      <td>...</td>\n",
              "      <td>...</td>\n",
              "      <td>...</td>\n",
              "      <td>...</td>\n",
              "      <td>...</td>\n",
              "      <td>...</td>\n",
              "      <td>...</td>\n",
              "      <td>...</td>\n",
              "      <td>...</td>\n",
              "      <td>...</td>\n",
              "      <td>...</td>\n",
              "      <td>...</td>\n",
              "      <td>...</td>\n",
              "      <td>...</td>\n",
              "      <td>...</td>\n",
              "      <td>...</td>\n",
              "      <td>...</td>\n",
              "      <td>...</td>\n",
              "      <td>...</td>\n",
              "      <td>...</td>\n",
              "    </tr>\n",
              "    <tr>\n",
              "      <th>1804869</th>\n",
              "      <td>6333967</td>\n",
              "      <td>0.000000</td>\n",
              "      <td>Maybe the tax on \"things\" would be collected w...</td>\n",
              "      <td>0.000000</td>\n",
              "      <td>0.000000</td>\n",
              "      <td>0.000000</td>\n",
              "      <td>0.000000</td>\n",
              "      <td>0.0</td>\n",
              "      <td>NaN</td>\n",
              "      <td>NaN</td>\n",
              "      <td>...</td>\n",
              "      <td>399385</td>\n",
              "      <td>approved</td>\n",
              "      <td>0</td>\n",
              "      <td>0</td>\n",
              "      <td>0</td>\n",
              "      <td>0</td>\n",
              "      <td>0</td>\n",
              "      <td>0.0</td>\n",
              "      <td>0</td>\n",
              "      <td>4</td>\n",
              "    </tr>\n",
              "    <tr>\n",
              "      <th>1804870</th>\n",
              "      <td>6333969</td>\n",
              "      <td>0.000000</td>\n",
              "      <td>What do you call people who STILL think the di...</td>\n",
              "      <td>0.000000</td>\n",
              "      <td>0.000000</td>\n",
              "      <td>0.000000</td>\n",
              "      <td>0.000000</td>\n",
              "      <td>0.0</td>\n",
              "      <td>NaN</td>\n",
              "      <td>NaN</td>\n",
              "      <td>...</td>\n",
              "      <td>399528</td>\n",
              "      <td>approved</td>\n",
              "      <td>0</td>\n",
              "      <td>0</td>\n",
              "      <td>0</td>\n",
              "      <td>0</td>\n",
              "      <td>0</td>\n",
              "      <td>0.0</td>\n",
              "      <td>0</td>\n",
              "      <td>4</td>\n",
              "    </tr>\n",
              "    <tr>\n",
              "      <th>1804871</th>\n",
              "      <td>6333982</td>\n",
              "      <td>0.000000</td>\n",
              "      <td>thank you ,,,right or wrong,,, i am following ...</td>\n",
              "      <td>0.000000</td>\n",
              "      <td>0.000000</td>\n",
              "      <td>0.000000</td>\n",
              "      <td>0.000000</td>\n",
              "      <td>0.0</td>\n",
              "      <td>NaN</td>\n",
              "      <td>NaN</td>\n",
              "      <td>...</td>\n",
              "      <td>399457</td>\n",
              "      <td>approved</td>\n",
              "      <td>0</td>\n",
              "      <td>0</td>\n",
              "      <td>0</td>\n",
              "      <td>0</td>\n",
              "      <td>0</td>\n",
              "      <td>0.0</td>\n",
              "      <td>0</td>\n",
              "      <td>4</td>\n",
              "    </tr>\n",
              "    <tr>\n",
              "      <th>1804872</th>\n",
              "      <td>6334009</td>\n",
              "      <td>0.621212</td>\n",
              "      <td>Anyone who is quoted as having the following e...</td>\n",
              "      <td>0.030303</td>\n",
              "      <td>0.030303</td>\n",
              "      <td>0.045455</td>\n",
              "      <td>0.621212</td>\n",
              "      <td>0.0</td>\n",
              "      <td>NaN</td>\n",
              "      <td>NaN</td>\n",
              "      <td>...</td>\n",
              "      <td>399519</td>\n",
              "      <td>approved</td>\n",
              "      <td>0</td>\n",
              "      <td>0</td>\n",
              "      <td>0</td>\n",
              "      <td>0</td>\n",
              "      <td>0</td>\n",
              "      <td>0.0</td>\n",
              "      <td>0</td>\n",
              "      <td>66</td>\n",
              "    </tr>\n",
              "    <tr>\n",
              "      <th>1804873</th>\n",
              "      <td>6334010</td>\n",
              "      <td>0.000000</td>\n",
              "      <td>Students defined as EBD are legally just as di...</td>\n",
              "      <td>0.000000</td>\n",
              "      <td>0.000000</td>\n",
              "      <td>0.000000</td>\n",
              "      <td>0.000000</td>\n",
              "      <td>0.0</td>\n",
              "      <td>NaN</td>\n",
              "      <td>NaN</td>\n",
              "      <td>...</td>\n",
              "      <td>399318</td>\n",
              "      <td>approved</td>\n",
              "      <td>0</td>\n",
              "      <td>0</td>\n",
              "      <td>0</td>\n",
              "      <td>0</td>\n",
              "      <td>0</td>\n",
              "      <td>0.0</td>\n",
              "      <td>0</td>\n",
              "      <td>4</td>\n",
              "    </tr>\n",
              "  </tbody>\n",
              "</table>\n",
              "<p>1804874 rows × 45 columns</p>\n",
              "</div>"
            ],
            "text/plain": [
              "              id    target                                       comment_text  \\\n",
              "0          59848  0.000000  This is so cool. It's like, 'would you want yo...   \n",
              "1          59849  0.000000  Thank you!! This would make my life a lot less...   \n",
              "2          59852  0.000000  This is such an urgent design problem; kudos t...   \n",
              "3          59855  0.000000  Is this something I'll be able to install on m...   \n",
              "4          59856  0.893617               haha you guys are a bunch of losers.   \n",
              "...          ...       ...                                                ...   \n",
              "1804869  6333967  0.000000  Maybe the tax on \"things\" would be collected w...   \n",
              "1804870  6333969  0.000000  What do you call people who STILL think the di...   \n",
              "1804871  6333982  0.000000  thank you ,,,right or wrong,,, i am following ...   \n",
              "1804872  6334009  0.621212  Anyone who is quoted as having the following e...   \n",
              "1804873  6334010  0.000000  Students defined as EBD are legally just as di...   \n",
              "\n",
              "         severe_toxicity   obscene  identity_attack    insult  threat  asian  \\\n",
              "0               0.000000  0.000000         0.000000  0.000000     0.0    NaN   \n",
              "1               0.000000  0.000000         0.000000  0.000000     0.0    NaN   \n",
              "2               0.000000  0.000000         0.000000  0.000000     0.0    NaN   \n",
              "3               0.000000  0.000000         0.000000  0.000000     0.0    NaN   \n",
              "4               0.021277  0.000000         0.021277  0.872340     0.0    0.0   \n",
              "...                  ...       ...              ...       ...     ...    ...   \n",
              "1804869         0.000000  0.000000         0.000000  0.000000     0.0    NaN   \n",
              "1804870         0.000000  0.000000         0.000000  0.000000     0.0    NaN   \n",
              "1804871         0.000000  0.000000         0.000000  0.000000     0.0    NaN   \n",
              "1804872         0.030303  0.030303         0.045455  0.621212     0.0    NaN   \n",
              "1804873         0.000000  0.000000         0.000000  0.000000     0.0    NaN   \n",
              "\n",
              "         atheist  ...  article_id    rating  funny  wow  sad  likes  disagree  \\\n",
              "0            NaN  ...        2006  rejected      0    0    0      0         0   \n",
              "1            NaN  ...        2006  rejected      0    0    0      0         0   \n",
              "2            NaN  ...        2006  rejected      0    0    0      0         0   \n",
              "3            NaN  ...        2006  rejected      0    0    0      0         0   \n",
              "4            0.0  ...        2006  rejected      0    0    0      1         0   \n",
              "...          ...  ...         ...       ...    ...  ...  ...    ...       ...   \n",
              "1804869      NaN  ...      399385  approved      0    0    0      0         0   \n",
              "1804870      NaN  ...      399528  approved      0    0    0      0         0   \n",
              "1804871      NaN  ...      399457  approved      0    0    0      0         0   \n",
              "1804872      NaN  ...      399519  approved      0    0    0      0         0   \n",
              "1804873      NaN  ...      399318  approved      0    0    0      0         0   \n",
              "\n",
              "         sexual_explicit  identity_annotator_count  toxicity_annotator_count  \n",
              "0                    0.0                         0                         4  \n",
              "1                    0.0                         0                         4  \n",
              "2                    0.0                         0                         4  \n",
              "3                    0.0                         0                         4  \n",
              "4                    0.0                         4                        47  \n",
              "...                  ...                       ...                       ...  \n",
              "1804869              0.0                         0                         4  \n",
              "1804870              0.0                         0                         4  \n",
              "1804871              0.0                         0                         4  \n",
              "1804872              0.0                         0                        66  \n",
              "1804873              0.0                         0                         4  \n",
              "\n",
              "[1804874 rows x 45 columns]"
            ]
          },
          "metadata": {
            "tags": []
          },
          "execution_count": 23
        }
      ]
    },
    {
      "cell_type": "code",
      "metadata": {
        "id": "W2PsTi7Q2wiK",
        "outputId": "c75aa755-aec2-463e-f064-7d57be6fd6f1"
      },
      "source": [
        "import numpy as np\n",
        "\n",
        "jigsaw_bias.target = np.where(jigsaw_bias.target >= 0.5, 1, 0)\n",
        "jigsaw_bias = jigsaw_bias[['target', 'comment_text']]\n",
        "jigsaw_bias.target.value_counts()"
      ],
      "execution_count": null,
      "outputs": [
        {
          "output_type": "execute_result",
          "data": {
            "text/plain": [
              "0    1660540\n",
              "1     144334\n",
              "Name: target, dtype: int64"
            ]
          },
          "metadata": {
            "tags": []
          },
          "execution_count": 24
        }
      ]
    },
    {
      "cell_type": "code",
      "metadata": {
        "id": "usMH4GgHFDhJ",
        "outputId": "c75aa755-aec2-463e-f064-7d57be6fd6f1"
      },
      "source": [
        "import numpy as np\n",
        "\n",
        "jigsaw_bias.target = np.where(jigsaw_bias.target >= 0.7, 1, 0)\n",
        "jigsaw_bias = jigsaw_bias[['target', 'comment_text']]\n",
        "jigsaw_bias"
      ],
      "execution_count": null,
      "outputs": [
        {
          "output_type": "execute_result",
          "data": {
            "text/html": [
              "<div>\n",
              "<style scoped>\n",
              "    .dataframe tbody tr th:only-of-type {\n",
              "        vertical-align: middle;\n",
              "    }\n",
              "\n",
              "    .dataframe tbody tr th {\n",
              "        vertical-align: top;\n",
              "    }\n",
              "\n",
              "    .dataframe thead th {\n",
              "        text-align: right;\n",
              "    }\n",
              "</style>\n",
              "<table border=\"1\" class=\"dataframe\">\n",
              "  <thead>\n",
              "    <tr style=\"text-align: right;\">\n",
              "      <th></th>\n",
              "      <th>target</th>\n",
              "      <th>comment_text</th>\n",
              "    </tr>\n",
              "  </thead>\n",
              "  <tbody>\n",
              "    <tr>\n",
              "      <th>0</th>\n",
              "      <td>0</td>\n",
              "      <td>This is so cool. It's like, 'would you want yo...</td>\n",
              "    </tr>\n",
              "    <tr>\n",
              "      <th>1</th>\n",
              "      <td>0</td>\n",
              "      <td>Thank you!! This would make my life a lot less...</td>\n",
              "    </tr>\n",
              "    <tr>\n",
              "      <th>2</th>\n",
              "      <td>0</td>\n",
              "      <td>This is such an urgent design problem; kudos t...</td>\n",
              "    </tr>\n",
              "    <tr>\n",
              "      <th>3</th>\n",
              "      <td>0</td>\n",
              "      <td>Is this something I'll be able to install on m...</td>\n",
              "    </tr>\n",
              "    <tr>\n",
              "      <th>4</th>\n",
              "      <td>1</td>\n",
              "      <td>haha you guys are a bunch of losers.</td>\n",
              "    </tr>\n",
              "    <tr>\n",
              "      <th>...</th>\n",
              "      <td>...</td>\n",
              "      <td>...</td>\n",
              "    </tr>\n",
              "    <tr>\n",
              "      <th>1804869</th>\n",
              "      <td>0</td>\n",
              "      <td>Maybe the tax on \"things\" would be collected w...</td>\n",
              "    </tr>\n",
              "    <tr>\n",
              "      <th>1804870</th>\n",
              "      <td>0</td>\n",
              "      <td>What do you call people who STILL think the di...</td>\n",
              "    </tr>\n",
              "    <tr>\n",
              "      <th>1804871</th>\n",
              "      <td>0</td>\n",
              "      <td>thank you ,,,right or wrong,,, i am following ...</td>\n",
              "    </tr>\n",
              "    <tr>\n",
              "      <th>1804872</th>\n",
              "      <td>0</td>\n",
              "      <td>Anyone who is quoted as having the following e...</td>\n",
              "    </tr>\n",
              "    <tr>\n",
              "      <th>1804873</th>\n",
              "      <td>0</td>\n",
              "      <td>Students defined as EBD are legally just as di...</td>\n",
              "    </tr>\n",
              "  </tbody>\n",
              "</table>\n",
              "<p>1804874 rows × 2 columns</p>\n",
              "</div>"
            ],
            "text/plain": [
              "         target                                       comment_text\n",
              "0             0  This is so cool. It's like, 'would you want yo...\n",
              "1             0  Thank you!! This would make my life a lot less...\n",
              "2             0  This is such an urgent design problem; kudos t...\n",
              "3             0  Is this something I'll be able to install on m...\n",
              "4             1               haha you guys are a bunch of losers.\n",
              "...         ...                                                ...\n",
              "1804869       0  Maybe the tax on \"things\" would be collected w...\n",
              "1804870       0  What do you call people who STILL think the di...\n",
              "1804871       0  thank you ,,,right or wrong,,, i am following ...\n",
              "1804872       0  Anyone who is quoted as having the following e...\n",
              "1804873       0  Students defined as EBD are legally just as di...\n",
              "\n",
              "[1804874 rows x 2 columns]"
            ]
          },
          "metadata": {
            "tags": []
          },
          "execution_count": 13
        }
      ]
    },
    {
      "cell_type": "code",
      "metadata": {
        "id": "Sb8Slf5vFDhK",
        "outputId": "98bd66cf-e02e-4795-ad11-f1ded90c1d03"
      },
      "source": [
        "jigsaw_bias.target.value_counts()"
      ],
      "execution_count": null,
      "outputs": [
        {
          "output_type": "execute_result",
          "data": {
            "text/plain": [
              "0    1746200\n",
              "1      58674\n",
              "Name: target, dtype: int64"
            ]
          },
          "metadata": {
            "tags": []
          },
          "execution_count": 14
        }
      ]
    },
    {
      "cell_type": "code",
      "metadata": {
        "id": "7UHQ73RE2wiL",
        "outputId": "1b25d0f4-ad5f-4c6f-f5a5-1cec4c4a1d7a"
      },
      "source": [
        "for i,cmmt in enumerate(jigsaw_bias.comment_text):\n",
        "    print(cmmt)\n",
        "    if i == 10:\n",
        "        break    "
      ],
      "execution_count": null,
      "outputs": [
        {
          "output_type": "stream",
          "text": [
            "This is so cool. It's like, 'would you want your mother to read this??' Really great idea, well done!\n",
            "Thank you!! This would make my life a lot less anxiety-inducing. Keep it up, and don't let anyone get in your way!\n",
            "This is such an urgent design problem; kudos to you for taking it on. Very impressive!\n",
            "Is this something I'll be able to install on my site? When will you be releasing it?\n",
            "haha you guys are a bunch of losers.\n",
            "ur a sh*tty comment.\n",
            "hahahahahahahahhha suck it.\n",
            "FFFFUUUUUUUUUUUUUUU\n",
            "The ranchers seem motivated by mostly by greed; no one should have the right to allow their animals destroy public land.\n",
            "It was a great show. Not a combo I'd of expected to be good together but it was.\n",
            "Wow, that sounds great.\n"
          ],
          "name": "stdout"
        }
      ]
    },
    {
      "cell_type": "code",
      "metadata": {
        "id": "xGTgNeB_2wiL",
        "outputId": "0e1c0b33-9b85-4103-c346-59648e725f39"
      },
      "source": [
        "jigsaw_tar = jigsaw_bias[(jigsaw_bias.target == 1)]\n",
        "jigsaw_tar"
      ],
      "execution_count": null,
      "outputs": [
        {
          "output_type": "execute_result",
          "data": {
            "text/html": [
              "<div>\n",
              "<style scoped>\n",
              "    .dataframe tbody tr th:only-of-type {\n",
              "        vertical-align: middle;\n",
              "    }\n",
              "\n",
              "    .dataframe tbody tr th {\n",
              "        vertical-align: top;\n",
              "    }\n",
              "\n",
              "    .dataframe thead th {\n",
              "        text-align: right;\n",
              "    }\n",
              "</style>\n",
              "<table border=\"1\" class=\"dataframe\">\n",
              "  <thead>\n",
              "    <tr style=\"text-align: right;\">\n",
              "      <th></th>\n",
              "      <th>target</th>\n",
              "      <th>comment_text</th>\n",
              "    </tr>\n",
              "  </thead>\n",
              "  <tbody>\n",
              "    <tr>\n",
              "      <th>4</th>\n",
              "      <td>1</td>\n",
              "      <td>haha you guys are a bunch of losers.</td>\n",
              "    </tr>\n",
              "    <tr>\n",
              "      <th>31</th>\n",
              "      <td>1</td>\n",
              "      <td>Yet call out all Muslims for the acts of a few...</td>\n",
              "    </tr>\n",
              "    <tr>\n",
              "      <th>34</th>\n",
              "      <td>1</td>\n",
              "      <td>This bitch is nuts. Who would read a book by a...</td>\n",
              "    </tr>\n",
              "    <tr>\n",
              "      <th>123</th>\n",
              "      <td>1</td>\n",
              "      <td>Took this as an opportunity to check back in o...</td>\n",
              "    </tr>\n",
              "    <tr>\n",
              "      <th>289</th>\n",
              "      <td>1</td>\n",
              "      <td>You're an idiot.</td>\n",
              "    </tr>\n",
              "    <tr>\n",
              "      <th>...</th>\n",
              "      <td>...</td>\n",
              "      <td>...</td>\n",
              "    </tr>\n",
              "    <tr>\n",
              "      <th>1804738</th>\n",
              "      <td>1</td>\n",
              "      <td>Deserves his punishment.</td>\n",
              "    </tr>\n",
              "    <tr>\n",
              "      <th>1804753</th>\n",
              "      <td>1</td>\n",
              "      <td>I saved where I could because my children matt...</td>\n",
              "    </tr>\n",
              "    <tr>\n",
              "      <th>1804825</th>\n",
              "      <td>1</td>\n",
              "      <td>Who is the jerk in the last row between the C ...</td>\n",
              "    </tr>\n",
              "    <tr>\n",
              "      <th>1804838</th>\n",
              "      <td>1</td>\n",
              "      <td>Nobody really cares that she supports the scie...</td>\n",
              "    </tr>\n",
              "    <tr>\n",
              "      <th>1804857</th>\n",
              "      <td>1</td>\n",
              "      <td>I take your point, but I think you're shooting...</td>\n",
              "    </tr>\n",
              "  </tbody>\n",
              "</table>\n",
              "<p>58674 rows × 2 columns</p>\n",
              "</div>"
            ],
            "text/plain": [
              "         target                                       comment_text\n",
              "4             1               haha you guys are a bunch of losers.\n",
              "31            1  Yet call out all Muslims for the acts of a few...\n",
              "34            1  This bitch is nuts. Who would read a book by a...\n",
              "123           1  Took this as an opportunity to check back in o...\n",
              "289           1                                   You're an idiot.\n",
              "...         ...                                                ...\n",
              "1804738       1                           Deserves his punishment.\n",
              "1804753       1  I saved where I could because my children matt...\n",
              "1804825       1  Who is the jerk in the last row between the C ...\n",
              "1804838       1  Nobody really cares that she supports the scie...\n",
              "1804857       1  I take your point, but I think you're shooting...\n",
              "\n",
              "[58674 rows x 2 columns]"
            ]
          },
          "metadata": {
            "tags": []
          },
          "execution_count": 15
        }
      ]
    },
    {
      "cell_type": "code",
      "metadata": {
        "id": "06POgzHrFDhM",
        "outputId": "8e854797-1089-470e-a623-97df1c1b670a"
      },
      "source": [
        "jigsaw = jigsaw_bias[(jigsaw_bias.target == 0)]\n",
        "jigsaw = jigsaw.sample(n=9000,random_state=10)\n",
        "jigsaw"
      ],
      "execution_count": null,
      "outputs": [
        {
          "output_type": "execute_result",
          "data": {
            "text/html": [
              "<div>\n",
              "<style scoped>\n",
              "    .dataframe tbody tr th:only-of-type {\n",
              "        vertical-align: middle;\n",
              "    }\n",
              "\n",
              "    .dataframe tbody tr th {\n",
              "        vertical-align: top;\n",
              "    }\n",
              "\n",
              "    .dataframe thead th {\n",
              "        text-align: right;\n",
              "    }\n",
              "</style>\n",
              "<table border=\"1\" class=\"dataframe\">\n",
              "  <thead>\n",
              "    <tr style=\"text-align: right;\">\n",
              "      <th></th>\n",
              "      <th>target</th>\n",
              "      <th>comment_text</th>\n",
              "    </tr>\n",
              "  </thead>\n",
              "  <tbody>\n",
              "    <tr>\n",
              "      <th>731257</th>\n",
              "      <td>0</td>\n",
              "      <td>How so. I don't remember ever filling out net ...</td>\n",
              "    </tr>\n",
              "    <tr>\n",
              "      <th>313778</th>\n",
              "      <td>0</td>\n",
              "      <td>Yes, Michael Schill, and the colleagues demand...</td>\n",
              "    </tr>\n",
              "    <tr>\n",
              "      <th>396276</th>\n",
              "      <td>0</td>\n",
              "      <td>Personal abuse doesn't win a debate, Lamont.  ...</td>\n",
              "    </tr>\n",
              "    <tr>\n",
              "      <th>1728372</th>\n",
              "      <td>0</td>\n",
              "      <td>LW1: In the olden days when it was cheaper to ...</td>\n",
              "    </tr>\n",
              "    <tr>\n",
              "      <th>176412</th>\n",
              "      <td>0</td>\n",
              "      <td>Why is it that parks were created to protect t...</td>\n",
              "    </tr>\n",
              "    <tr>\n",
              "      <th>...</th>\n",
              "      <td>...</td>\n",
              "      <td>...</td>\n",
              "    </tr>\n",
              "    <tr>\n",
              "      <th>768355</th>\n",
              "      <td>0</td>\n",
              "      <td>What a tainted agenda driven report. So instea...</td>\n",
              "    </tr>\n",
              "    <tr>\n",
              "      <th>522101</th>\n",
              "      <td>0</td>\n",
              "      <td>How is that human rights file coming?....and t...</td>\n",
              "    </tr>\n",
              "    <tr>\n",
              "      <th>1378976</th>\n",
              "      <td>0</td>\n",
              "      <td>\"Additional information, including if there we...</td>\n",
              "    </tr>\n",
              "    <tr>\n",
              "      <th>956303</th>\n",
              "      <td>0</td>\n",
              "      <td>How do you leak something that hasn't been sai...</td>\n",
              "    </tr>\n",
              "    <tr>\n",
              "      <th>607292</th>\n",
              "      <td>0</td>\n",
              "      <td>Beats every other system out there!</td>\n",
              "    </tr>\n",
              "  </tbody>\n",
              "</table>\n",
              "<p>9000 rows × 2 columns</p>\n",
              "</div>"
            ],
            "text/plain": [
              "         target                                       comment_text\n",
              "731257        0  How so. I don't remember ever filling out net ...\n",
              "313778        0  Yes, Michael Schill, and the colleagues demand...\n",
              "396276        0  Personal abuse doesn't win a debate, Lamont.  ...\n",
              "1728372       0  LW1: In the olden days when it was cheaper to ...\n",
              "176412        0  Why is it that parks were created to protect t...\n",
              "...         ...                                                ...\n",
              "768355        0  What a tainted agenda driven report. So instea...\n",
              "522101        0  How is that human rights file coming?....and t...\n",
              "1378976       0  \"Additional information, including if there we...\n",
              "956303        0  How do you leak something that hasn't been sai...\n",
              "607292        0                Beats every other system out there!\n",
              "\n",
              "[9000 rows x 2 columns]"
            ]
          },
          "metadata": {
            "tags": []
          },
          "execution_count": 284
        }
      ]
    },
    {
      "cell_type": "code",
      "metadata": {
        "id": "TEQgyDkAFDhN",
        "outputId": "c32623e1-6369-4eb2-f088-5515c114876f"
      },
      "source": [
        "jigsaw = jigsaw.rename(columns={'comment_text':'cmmt_list'})\n",
        "jigsaw['cmmt_list'] = jigsaw['cmmt_list'].apply(lambda x: [x])\n",
        "context_2 = pd.concat([jigsaw,context])\n",
        "context_2"
      ],
      "execution_count": null,
      "outputs": [
        {
          "output_type": "execute_result",
          "data": {
            "text/html": [
              "<div>\n",
              "<style scoped>\n",
              "    .dataframe tbody tr th:only-of-type {\n",
              "        vertical-align: middle;\n",
              "    }\n",
              "\n",
              "    .dataframe tbody tr th {\n",
              "        vertical-align: top;\n",
              "    }\n",
              "\n",
              "    .dataframe thead th {\n",
              "        text-align: right;\n",
              "    }\n",
              "</style>\n",
              "<table border=\"1\" class=\"dataframe\">\n",
              "  <thead>\n",
              "    <tr style=\"text-align: right;\">\n",
              "      <th></th>\n",
              "      <th>target</th>\n",
              "      <th>cmmt_list</th>\n",
              "    </tr>\n",
              "  </thead>\n",
              "  <tbody>\n",
              "    <tr>\n",
              "      <th>731257</th>\n",
              "      <td>0</td>\n",
              "      <td>[How so. I don't remember ever filling out net...</td>\n",
              "    </tr>\n",
              "    <tr>\n",
              "      <th>313778</th>\n",
              "      <td>0</td>\n",
              "      <td>[Yes, Michael Schill, and the colleagues deman...</td>\n",
              "    </tr>\n",
              "    <tr>\n",
              "      <th>396276</th>\n",
              "      <td>0</td>\n",
              "      <td>[Personal abuse doesn't win a debate, Lamont. ...</td>\n",
              "    </tr>\n",
              "    <tr>\n",
              "      <th>1728372</th>\n",
              "      <td>0</td>\n",
              "      <td>[LW1: In the olden days when it was cheaper to...</td>\n",
              "    </tr>\n",
              "    <tr>\n",
              "      <th>176412</th>\n",
              "      <td>0</td>\n",
              "      <td>[Why is it that parks were created to protect ...</td>\n",
              "    </tr>\n",
              "    <tr>\n",
              "      <th>...</th>\n",
              "      <td>...</td>\n",
              "      <td>...</td>\n",
              "    </tr>\n",
              "    <tr>\n",
              "      <th>30812</th>\n",
              "      <td>0</td>\n",
              "      <td>[Lol, these people are really out there claimi...</td>\n",
              "    </tr>\n",
              "    <tr>\n",
              "      <th>30813</th>\n",
              "      <td>0</td>\n",
              "      <td>[saw this on Reddit, This is such a terrible b...</td>\n",
              "    </tr>\n",
              "    <tr>\n",
              "      <th>30814</th>\n",
              "      <td>0</td>\n",
              "      <td>[Is this really how our men should be spending...</td>\n",
              "    </tr>\n",
              "    <tr>\n",
              "      <th>30815</th>\n",
              "      <td>0</td>\n",
              "      <td>[Because you lame-ass #MAGA-ites believe that ...</td>\n",
              "    </tr>\n",
              "    <tr>\n",
              "      <th>30816</th>\n",
              "      <td>0</td>\n",
              "      <td>[Race and Religion in the Modern Pagan World h...</td>\n",
              "    </tr>\n",
              "  </tbody>\n",
              "</table>\n",
              "<p>63497 rows × 2 columns</p>\n",
              "</div>"
            ],
            "text/plain": [
              "        target                                          cmmt_list\n",
              "731257       0  [How so. I don't remember ever filling out net...\n",
              "313778       0  [Yes, Michael Schill, and the colleagues deman...\n",
              "396276       0  [Personal abuse doesn't win a debate, Lamont. ...\n",
              "1728372      0  [LW1: In the olden days when it was cheaper to...\n",
              "176412       0  [Why is it that parks were created to protect ...\n",
              "...        ...                                                ...\n",
              "30812        0  [Lol, these people are really out there claimi...\n",
              "30813        0  [saw this on Reddit, This is such a terrible b...\n",
              "30814        0  [Is this really how our men should be spending...\n",
              "30815        0  [Because you lame-ass #MAGA-ites believe that ...\n",
              "30816        0  [Race and Religion in the Modern Pagan World h...\n",
              "\n",
              "[63497 rows x 2 columns]"
            ]
          },
          "metadata": {
            "tags": []
          },
          "execution_count": 289
        }
      ]
    },
    {
      "cell_type": "markdown",
      "metadata": {
        "id": "L5JAZ_YTFDhN"
      },
      "source": [
        "# Jigsaw dataset"
      ]
    },
    {
      "cell_type": "code",
      "metadata": {
        "id": "txBy-uyH2wiM",
        "outputId": "a864fd30-f3d4-40eb-b224-95182bc2c0f8"
      },
      "source": [
        "import pandas as pd\n",
        "\n",
        "jigsaw_train = pd.read_csv('C:\\\\Users\\\\user\\\\OneDrive\\\\Desktop\\\\codestates\\\\기업협업\\\\dataset\\\\jigsaw_train.csv')\n",
        "jigsaw_train"
      ],
      "execution_count": null,
      "outputs": [
        {
          "output_type": "execute_result",
          "data": {
            "text/html": [
              "<div>\n",
              "<style scoped>\n",
              "    .dataframe tbody tr th:only-of-type {\n",
              "        vertical-align: middle;\n",
              "    }\n",
              "\n",
              "    .dataframe tbody tr th {\n",
              "        vertical-align: top;\n",
              "    }\n",
              "\n",
              "    .dataframe thead th {\n",
              "        text-align: right;\n",
              "    }\n",
              "</style>\n",
              "<table border=\"1\" class=\"dataframe\">\n",
              "  <thead>\n",
              "    <tr style=\"text-align: right;\">\n",
              "      <th></th>\n",
              "      <th>id</th>\n",
              "      <th>comment_text</th>\n",
              "      <th>toxic</th>\n",
              "      <th>severe_toxic</th>\n",
              "      <th>obscene</th>\n",
              "      <th>threat</th>\n",
              "      <th>insult</th>\n",
              "      <th>identity_hate</th>\n",
              "    </tr>\n",
              "  </thead>\n",
              "  <tbody>\n",
              "    <tr>\n",
              "      <th>0</th>\n",
              "      <td>0000997932d777bf</td>\n",
              "      <td>Explanation\\nWhy the edits made under my usern...</td>\n",
              "      <td>0</td>\n",
              "      <td>0</td>\n",
              "      <td>0</td>\n",
              "      <td>0</td>\n",
              "      <td>0</td>\n",
              "      <td>0</td>\n",
              "    </tr>\n",
              "    <tr>\n",
              "      <th>1</th>\n",
              "      <td>000103f0d9cfb60f</td>\n",
              "      <td>D'aww! He matches this background colour I'm s...</td>\n",
              "      <td>0</td>\n",
              "      <td>0</td>\n",
              "      <td>0</td>\n",
              "      <td>0</td>\n",
              "      <td>0</td>\n",
              "      <td>0</td>\n",
              "    </tr>\n",
              "    <tr>\n",
              "      <th>2</th>\n",
              "      <td>000113f07ec002fd</td>\n",
              "      <td>Hey man, I'm really not trying to edit war. It...</td>\n",
              "      <td>0</td>\n",
              "      <td>0</td>\n",
              "      <td>0</td>\n",
              "      <td>0</td>\n",
              "      <td>0</td>\n",
              "      <td>0</td>\n",
              "    </tr>\n",
              "    <tr>\n",
              "      <th>3</th>\n",
              "      <td>0001b41b1c6bb37e</td>\n",
              "      <td>\"\\nMore\\nI can't make any real suggestions on ...</td>\n",
              "      <td>0</td>\n",
              "      <td>0</td>\n",
              "      <td>0</td>\n",
              "      <td>0</td>\n",
              "      <td>0</td>\n",
              "      <td>0</td>\n",
              "    </tr>\n",
              "    <tr>\n",
              "      <th>4</th>\n",
              "      <td>0001d958c54c6e35</td>\n",
              "      <td>You, sir, are my hero. Any chance you remember...</td>\n",
              "      <td>0</td>\n",
              "      <td>0</td>\n",
              "      <td>0</td>\n",
              "      <td>0</td>\n",
              "      <td>0</td>\n",
              "      <td>0</td>\n",
              "    </tr>\n",
              "    <tr>\n",
              "      <th>...</th>\n",
              "      <td>...</td>\n",
              "      <td>...</td>\n",
              "      <td>...</td>\n",
              "      <td>...</td>\n",
              "      <td>...</td>\n",
              "      <td>...</td>\n",
              "      <td>...</td>\n",
              "      <td>...</td>\n",
              "    </tr>\n",
              "    <tr>\n",
              "      <th>159566</th>\n",
              "      <td>ffe987279560d7ff</td>\n",
              "      <td>\":::::And for the second time of asking, when ...</td>\n",
              "      <td>0</td>\n",
              "      <td>0</td>\n",
              "      <td>0</td>\n",
              "      <td>0</td>\n",
              "      <td>0</td>\n",
              "      <td>0</td>\n",
              "    </tr>\n",
              "    <tr>\n",
              "      <th>159567</th>\n",
              "      <td>ffea4adeee384e90</td>\n",
              "      <td>You should be ashamed of yourself \\n\\nThat is ...</td>\n",
              "      <td>0</td>\n",
              "      <td>0</td>\n",
              "      <td>0</td>\n",
              "      <td>0</td>\n",
              "      <td>0</td>\n",
              "      <td>0</td>\n",
              "    </tr>\n",
              "    <tr>\n",
              "      <th>159568</th>\n",
              "      <td>ffee36eab5c267c9</td>\n",
              "      <td>Spitzer \\n\\nUmm, theres no actual article for ...</td>\n",
              "      <td>0</td>\n",
              "      <td>0</td>\n",
              "      <td>0</td>\n",
              "      <td>0</td>\n",
              "      <td>0</td>\n",
              "      <td>0</td>\n",
              "    </tr>\n",
              "    <tr>\n",
              "      <th>159569</th>\n",
              "      <td>fff125370e4aaaf3</td>\n",
              "      <td>And it looks like it was actually you who put ...</td>\n",
              "      <td>0</td>\n",
              "      <td>0</td>\n",
              "      <td>0</td>\n",
              "      <td>0</td>\n",
              "      <td>0</td>\n",
              "      <td>0</td>\n",
              "    </tr>\n",
              "    <tr>\n",
              "      <th>159570</th>\n",
              "      <td>fff46fc426af1f9a</td>\n",
              "      <td>\"\\nAnd ... I really don't think you understand...</td>\n",
              "      <td>0</td>\n",
              "      <td>0</td>\n",
              "      <td>0</td>\n",
              "      <td>0</td>\n",
              "      <td>0</td>\n",
              "      <td>0</td>\n",
              "    </tr>\n",
              "  </tbody>\n",
              "</table>\n",
              "<p>159571 rows × 8 columns</p>\n",
              "</div>"
            ],
            "text/plain": [
              "                      id                                       comment_text  \\\n",
              "0       0000997932d777bf  Explanation\\nWhy the edits made under my usern...   \n",
              "1       000103f0d9cfb60f  D'aww! He matches this background colour I'm s...   \n",
              "2       000113f07ec002fd  Hey man, I'm really not trying to edit war. It...   \n",
              "3       0001b41b1c6bb37e  \"\\nMore\\nI can't make any real suggestions on ...   \n",
              "4       0001d958c54c6e35  You, sir, are my hero. Any chance you remember...   \n",
              "...                  ...                                                ...   \n",
              "159566  ffe987279560d7ff  \":::::And for the second time of asking, when ...   \n",
              "159567  ffea4adeee384e90  You should be ashamed of yourself \\n\\nThat is ...   \n",
              "159568  ffee36eab5c267c9  Spitzer \\n\\nUmm, theres no actual article for ...   \n",
              "159569  fff125370e4aaaf3  And it looks like it was actually you who put ...   \n",
              "159570  fff46fc426af1f9a  \"\\nAnd ... I really don't think you understand...   \n",
              "\n",
              "        toxic  severe_toxic  obscene  threat  insult  identity_hate  \n",
              "0           0             0        0       0       0              0  \n",
              "1           0             0        0       0       0              0  \n",
              "2           0             0        0       0       0              0  \n",
              "3           0             0        0       0       0              0  \n",
              "4           0             0        0       0       0              0  \n",
              "...       ...           ...      ...     ...     ...            ...  \n",
              "159566      0             0        0       0       0              0  \n",
              "159567      0             0        0       0       0              0  \n",
              "159568      0             0        0       0       0              0  \n",
              "159569      0             0        0       0       0              0  \n",
              "159570      0             0        0       0       0              0  \n",
              "\n",
              "[159571 rows x 8 columns]"
            ]
          },
          "metadata": {
            "tags": []
          },
          "execution_count": 5
        }
      ]
    },
    {
      "cell_type": "code",
      "metadata": {
        "id": "ky7fdsBtFDhO",
        "outputId": "30cedf34-926f-4f6a-bce7-c10110fcb371"
      },
      "source": [
        "jigsaw_train['target'] = jigsaw_train[['toxic','severe_toxic','obscene','threat','insult','identity_hate']].sum(axis=1)\n",
        "jigsaw_train['target'] = jigsaw_train['target'].apply(lambda x: 1 if x > 0 else x)\n",
        "jigsaw_train.target.value_counts()"
      ],
      "execution_count": null,
      "outputs": [
        {
          "output_type": "execute_result",
          "data": {
            "text/plain": [
              "0    143346\n",
              "1     16225\n",
              "Name: target, dtype: int64"
            ]
          },
          "metadata": {
            "tags": []
          },
          "execution_count": 19
        }
      ]
    },
    {
      "cell_type": "code",
      "metadata": {
        "id": "ws3TPhi_2wiM",
        "outputId": "03a60913-fa2b-49cd-8797-0a55327c1895"
      },
      "source": [
        "jigsaw_train = jigsaw_train[['comment_text','target']]\n",
        "jigsaw = pd.concat([jigsaw_train,jigsaw_tar])\n",
        "\n",
        "jigsaw"
      ],
      "execution_count": null,
      "outputs": [
        {
          "output_type": "execute_result",
          "data": {
            "text/html": [
              "<div>\n",
              "<style scoped>\n",
              "    .dataframe tbody tr th:only-of-type {\n",
              "        vertical-align: middle;\n",
              "    }\n",
              "\n",
              "    .dataframe tbody tr th {\n",
              "        vertical-align: top;\n",
              "    }\n",
              "\n",
              "    .dataframe thead th {\n",
              "        text-align: right;\n",
              "    }\n",
              "</style>\n",
              "<table border=\"1\" class=\"dataframe\">\n",
              "  <thead>\n",
              "    <tr style=\"text-align: right;\">\n",
              "      <th></th>\n",
              "      <th>comment_text</th>\n",
              "      <th>target</th>\n",
              "    </tr>\n",
              "  </thead>\n",
              "  <tbody>\n",
              "    <tr>\n",
              "      <th>0</th>\n",
              "      <td>Explanation\\nWhy the edits made under my usern...</td>\n",
              "      <td>0</td>\n",
              "    </tr>\n",
              "    <tr>\n",
              "      <th>1</th>\n",
              "      <td>D'aww! He matches this background colour I'm s...</td>\n",
              "      <td>0</td>\n",
              "    </tr>\n",
              "    <tr>\n",
              "      <th>2</th>\n",
              "      <td>Hey man, I'm really not trying to edit war. It...</td>\n",
              "      <td>0</td>\n",
              "    </tr>\n",
              "    <tr>\n",
              "      <th>3</th>\n",
              "      <td>\"\\nMore\\nI can't make any real suggestions on ...</td>\n",
              "      <td>0</td>\n",
              "    </tr>\n",
              "    <tr>\n",
              "      <th>4</th>\n",
              "      <td>You, sir, are my hero. Any chance you remember...</td>\n",
              "      <td>0</td>\n",
              "    </tr>\n",
              "    <tr>\n",
              "      <th>...</th>\n",
              "      <td>...</td>\n",
              "      <td>...</td>\n",
              "    </tr>\n",
              "    <tr>\n",
              "      <th>1804738</th>\n",
              "      <td>Deserves his punishment.</td>\n",
              "      <td>1</td>\n",
              "    </tr>\n",
              "    <tr>\n",
              "      <th>1804753</th>\n",
              "      <td>I saved where I could because my children matt...</td>\n",
              "      <td>1</td>\n",
              "    </tr>\n",
              "    <tr>\n",
              "      <th>1804825</th>\n",
              "      <td>Who is the jerk in the last row between the C ...</td>\n",
              "      <td>1</td>\n",
              "    </tr>\n",
              "    <tr>\n",
              "      <th>1804838</th>\n",
              "      <td>Nobody really cares that she supports the scie...</td>\n",
              "      <td>1</td>\n",
              "    </tr>\n",
              "    <tr>\n",
              "      <th>1804857</th>\n",
              "      <td>I take your point, but I think you're shooting...</td>\n",
              "      <td>1</td>\n",
              "    </tr>\n",
              "  </tbody>\n",
              "</table>\n",
              "<p>218245 rows × 2 columns</p>\n",
              "</div>"
            ],
            "text/plain": [
              "                                              comment_text  target\n",
              "0        Explanation\\nWhy the edits made under my usern...       0\n",
              "1        D'aww! He matches this background colour I'm s...       0\n",
              "2        Hey man, I'm really not trying to edit war. It...       0\n",
              "3        \"\\nMore\\nI can't make any real suggestions on ...       0\n",
              "4        You, sir, are my hero. Any chance you remember...       0\n",
              "...                                                    ...     ...\n",
              "1804738                           Deserves his punishment.       1\n",
              "1804753  I saved where I could because my children matt...       1\n",
              "1804825  Who is the jerk in the last row between the C ...       1\n",
              "1804838  Nobody really cares that she supports the scie...       1\n",
              "1804857  I take your point, but I think you're shooting...       1\n",
              "\n",
              "[218245 rows x 2 columns]"
            ]
          },
          "metadata": {
            "tags": []
          },
          "execution_count": 21
        }
      ]
    },
    {
      "cell_type": "code",
      "metadata": {
        "id": "uR1KF9682wiN",
        "outputId": "66e356d0-fb60-46b3-f19d-78e92a654fed"
      },
      "source": [
        "jigsaw.target.value_counts()"
      ],
      "execution_count": null,
      "outputs": [
        {
          "output_type": "execute_result",
          "data": {
            "text/plain": [
              "0    143346\n",
              "1     74899\n",
              "Name: target, dtype: int64"
            ]
          },
          "metadata": {
            "tags": []
          },
          "execution_count": 22
        }
      ]
    },
    {
      "cell_type": "code",
      "metadata": {
        "id": "cpHQJwLYFDhP",
        "outputId": "4a28d1a3-816a-4847-cb8a-17c396b202be"
      },
      "source": [
        "for comment in jigsaw.comment_text:\n",
        "    if comment.startswith('['):\n",
        "        print(comment)"
      ],
      "execution_count": null,
      "outputs": [
        {
          "output_type": "stream",
          "text": [
            "[[User_Talk:King Lopez|Lopez]]Contribs\n",
            "[www.us.terra.com/copa2006/esp/grandes/6251.html This] source appears to say 1968, not 1958. I'll adjust it to 16, accordingly. .\n",
            "[name of possible attack site]\n",
            "[Magician&Programmer;|Magician&Programmer;]Yes, why hurt someone greatly (the creator of the effect) and hurt all the performers as well, while not helping anyone?!?! DO YOU GET MONEY TO PUT THE METHOD THERE? That would be illegal! And if you don't, then why should you care?....\n",
            "[added clarifications; the context is the July 2008 AN/I.   ]\n",
            "[[Holly wing] \n",
            "This article was a  according to the criteria set out in WP:BIO. (aeropagitica)\n",
            "[edit] Oh Man...you deserve it!!!\n",
            "  The RickK Anti-Vandalism Barnstar \n",
            "For being one of the most consistent and accurate vandal-fighters I have seen here...ever Jmlk17\n",
            "[Rilla] meaning Religious Inlightment language looping Audio. Definition: Urban people decodeing goverment propaganda Messages through Hiphop and Drum&bass; and other forms of music in moder day babylon rangeing from 1968 till the end of time.To spread truth through music the true voices of minority/indigenous people\n",
            "\n",
            "Its the age of keeping it Rilla\n",
            "\n",
            "External links \n",
            "\n",
            "http://en.wikipedia.org/wiki/Drum_n_bass\n",
            "\n",
            "http://en.wikipedia.org/wiki/Hiphop\n",
            "\n",
            "http://www.isound.com/djrilla/\n",
            "[edit] And by the way it's not that I don't like it.  It was a bad article, a property it had without my liking it or not.  Best\n",
            "[file:///c:/Program%20Files/Internet%20Explorer/Custom] There you go.\n",
            "[[Barrett v. Rosenthal]\n",
            "[edit]Grapple X Vandalizes Pages\n",
            "\n",
            "He uses inappropriate language to attack other editors and attempt to quiet opinions that he does not agree with. His behavior is disgusting. DavisJune (talk)\n",
            "[[[comment]]] this article appears to be nothing but a dictionary definition, is there any reason the article has NOT been put up for deletion?\n",
            "[unsigned message from User:66.194.104.5, who is a suspected sockpuppet of User:Licorne]\n",
            "\n",
            "I guess that you're irritated by my clean-up of the article on Catalin, and my noting that it reads like a puff-piece for American Catalin.  In any event, you're in plain violation of WP:CIVIL here, which could result in yet another long-term block. —\n",
            "[[Media:Media:Example.ogg[[Media:Media:Example.ogg[[Media:Media:Example.ogg[[Media:Media:Example.ogg[[Media:Media:Example.ogg[[Media:Media:Example.ogg[[Media:Media:Example.ogg  #REDIRECT [[\n",
            "\n",
            "Insert text\n",
            "\n",
            "]]]]]]]]]]]]]]]]\n",
            "[Here's http://www.youtube.com/watch?v=oIIxlgcuQRU] the official vid.  How is Moni doing these days? Did she quit (if so, I'd take it with a grain of salt; no one ever really quits)? I always liked that oddball.\n",
            "[unsigned question left by 210.54.239.237 on 13 March 2006]\n",
            "[east718] As above, please unblock/undelete me?\n",
            "[User:RyanCahn|RyanCahn]] 6:04 PM August 4 2005.\n",
            "[Don Murphy] \n",
            "Please immediately ban user 208.69.112.58  who just keeps vandalizing the page  ColScott\n",
            "[The Ecclesiological debate]\n",
            "As it stands now, this section is completely unsourced and appears to be little more than a poorly written personal essay and includes blatant POV rants. Regardless of the fate of the rest of the article, this section should either be deleted or rewritten from the ground up.\n",
            "[edit] On undue weight, this is a separate issue.  This is where the situation where the fact is plainly established and in full view of daylight, but not particularly relevant to the subject's life or work.  E.g. that Verne's father was a lawyer - would not command a whole paragraph, as with the pedo thing.  The current problem I have is whether academic but nonetheless utterly speculative research is being presented as though it were in full view of daylight.\n",
            "[] or Milwaukee, Wisconsin?\n",
            "A few of the articles for the top 50 U.S. cities (most notably, New York City, Chicago and Philadelphia) as well as all of the major Canadian cities have been moved as to no longer include the state/provinces name in the title.  I remember awhile ago hearing about an effort to make all major U.S. cities state-less in order to make them consistent with the major cities in other parts of the world.  With that in mind, I think this article should be moved ASAP since it seems like a move is inevitable.\n",
            "[Chorus: DMX - repeat 2X]\n",
            "Where the hood, where the hood, where the hood at?\n",
            "Have that nigga in the cut, where the wood at?\n",
            "Oh, them niggaz actin up?!? Where the wolves at?\n",
            "You better BUST THAT if you gon pull that\n",
            "\n",
            "[DMX]\n",
            "Man, cats don't know what it's gonna be\n",
            "messin with a dog like me, D-to-the-M-to-the-X\n",
            "Last I heard, y'all cowards was havin sex, with the same sex\n",
            "I show no love......\n",
            "Empty out, reloaded and throw more slugs\n",
            "How you gonna explain born in a man?\n",
            "Even if we squashed the beef, I ain't touchin ya hand\n",
            "I don't mess with chumps, for those to been to jail\n",
            "That's the cat with the Kool-Aid on his lips and pumps\n",
            "I can't deal with brother that think they broads\n",
            "Only know how to be one way, that's the dog\n",
            "I know how to get down, know how to bite, bite\n",
            "Bark very little, but I know how to fight, fight\n",
            "I know how to chase a cat up in the tree\n",
            "man, i'll give you cowards the business for messin wot me\n",
            "ay you crazy!\n",
            "\n",
            "[Chorus x2]\n",
            "Where the hood, where the hood, where the hood at?\n",
            "Have that nigga in the cut, where the wood at?\n",
            "Oh, them niggaz actin up?!? Where the wolves at?\n",
            "You better BUST THAT if you gon pull that\n",
            "\n",
            "[DMX]\n",
            "Once a song, I come though, guns is drawn\n",
            "BLAM BLAM, lungs are gone, sons will mourn\n",
            "From dusk till dawn, nighttime belongs to the dog\n",
            "On the street passed midnight, look for 'em in the morgue\n",
            "Don't play with these cats cuz I ain't got nothin to say to these cats\n",
            "For the mothers that really do love em, please pray for these cats\n",
            "Cuz I know they all is hardheaded but I ain't got the patience\n",
            "Don't want me havin no patience turn into more patience\n",
            "More trips to I.C.U cuz I see you\n",
            "Tryna get away with things a real wouldn't do\n",
            "Where my dogs at? (right here) See them niggaz? (right there)\n",
            "get em boy! (right there) That's how we do... (aiight then)\n",
            "This is for my dogs, this is for my dogs\n",
            "yo, where we at baby?!? (creepin through the fog)\n",
            "From then till now, don't ask me how\n",
            "Know that we gon roll like them chaps and hit every block on the job\n",
            "\n",
            "[Chorus x2]\n",
            "Where the hood, where the hood, where the hood at?\n",
            "Have that nigga in the cut, where the wood at?\n",
            "Oh, them niggaz actin up?!? Where the wolves at?\n",
            "You better BUST THAT if you gon pull that\n",
            "\n",
            "where the hood at?!\n",
            "[   ]\n",
            "http://www.smallholder.co.uk/news/878983.honey_storage/\n",
            "[WP:Dinosaurs are sexy] \n",
            "\n",
            "hi GoldenMeadows, you are contributing good material for the article. If you werent I would be on the definately no side  of name change. As you might have realised I really like the present title. But unfortunately this is meant to be a serious encyclopedia not a play area. So I am not going to try and stop a name change. Nor, unless you appear to be in great need of help getting it happening, will I assist. Or even better someone else might come up with solid reasons for keeping the present title! I know; sometimes I'm not a good editor.\n",
            "[her tribe was at war with the Muslims]\n",
            "[sic. This and the below originally adressed to 'Rangeley'.]\n",
            "[ping|Ricky81682] Check this very recent Iranian Fars News Agency source, pretty much sums up Khamenei's view on Israel.\n",
            "[[User talk:[JohnCD]JohnCD|talk]] - are you going to reply to the above please or my email to you?\n",
            "[]\n",
            "This book is my source.\n",
            "[[unblock|unsigned comments by circle of connected users betray a campaign of coordinated attempts to block this account by aggravated and inflammatory delete tags and covert communications between users concerned notably Crusio, etc. all of whom have made several delete or merge articles which have been previously reviewed as keeps.  They have also made repeat edits contradicting well-researched material and have a concerted agenda to gain ownership of articles.  They have made false allegations of 'promotion', placed delete tags on articles and made innacurate edits and contradicted researched data without leaving a message on the article's or my talk page first.  Any comments have been a justified reaction to a spate of backhand discussions and disruptive edits which reflect poorly on the users concerned who hide behind a veil of 'wiki' conventions in their aggravating edits.\n",
            "[Edit]The section in question presents non-referenced, non-cited and inaccurate material which may be based on original research as encyclopedic content, which is not in accordance with wiki policy.  This is why I removed it.\n",
            "[User:wikiplayer13|wikiplayer13 ]] (talk)\n",
            "[[Link title]] \n",
            " If the world trade senter was noked down by 2 airplanes  now whirs the tallist billding in the world  if u find the anser write under  this\n",
            "[[[comment]]]  I feel these images are a bit too graphic for research purposes and seem to fall into the catagory of fetish images.  There is certainly no reason to show the actual vagina unless to show what a camel toe is.  It seems more that this is a case of WANTING to show vagina\n",
            "[ ] Get IdTech 4 moved to id Tech 4\n",
            "[File:TamilActorVijayimage.JPG]  This image is taken by me and created by me ..  So I'm the copy right holder , I know not how to include this details please guideThe wind or breeze\n",
            "[[Welcome}}  \n",
            "\n",
            "Tuberculosis\n",
            "Pathogenesis, diagnosis, treatment, and outcome aspects of cerebral tuberculosis.\n",
            "\n",
            "Tuberculosis of the central nervous system.\n",
            "\n",
            "Hope these help.\n",
            "[Image:Stop hand nuvola.svg]\n",
            "\n",
            "You will be banned for impersonating a wikipedia administrator, this is your final warning.\n",
            "[User:Gamaliel|Gamaliel]], there was a RFC. The people decided that this paragraph doesn't have a place in this article. Why do you insist on reverting to suit YOUR opinion instead of going with the decision of your peers?  5 July 2005 19:40 (UTC)\n",
            "[[User_talk:Osy|Post your comment to\n",
            "[edit: neither lede nor body]\n",
            "[I am sorry, I wrote this stupid sentence at about 2 o'clock in the night; the definition is perfectly correct and even well written]\n",
            "[User:Alderbourne|alderbourne]]  \n",
            "Wow, again I gotta say, what a disgusting comment. I am glad you are pro child molesting, but this is hardly the place for it (or maybe it is?).\n",
            "[Cup ref blowtorch turns on Craig Joubert]\n",
            "[Content Deleted] ==\n",
            "\n",
            "[Content Deleted]\n",
            "[User talk:JesseRafe|talk]], How dare you call me racist! Look at yourself, you pathetic human being. Now stop messaging me! My reading comprehension is just fine, but you clearly have your head high and mightily up your behind! Now stop harassing me you troll! Are you that sad you've got to keep harassing me!. P.S. If my edits were that bad, go and revert them back to your supposedly wonderful version that existed before. Are you really that delusional?   18:31, July 31, 2015 (GMT).\n",
            "[Edit conflict] You're going round in circles. The Völkischer Beobachter was also the official newspaper of a political party and had, so far as I can tell, the widest circulation in its country at its time. Clearly this also  suggests implicitly that its information must be verifiable and therefore reliable and any bias arises from editors! (talk)\n",
            "[Sources were pointed out by Ghatus  himself.]\n",
            "[snappycomputer.com computer repair memphis] \n",
            "[snappycomputer.com cheap domain regisration]\n",
            "[snappyregister.com domain registration] \n",
            "[snappyregister.com cheap domain regisration]\n",
            "[{unblock|responding administrators don't have a solid grasp of Wikipedia policy - request experienced admins who are willing to grapple with the very serious issue of false credentials}}\n",
            "[edit] Budokai tenakaichi 2\n",
            "In what way did I vandalize Budokai Tenkaichi 2? \n",
            "Oh, I see. Sorry,it was an accident. I must have hit something when I was editing. \n",
            "\n",
            "[edit] Cinco Ranch High School\n",
            "Why did you revert that edit? [1]\n",
            "\n",
            "I tried to cut out non-notable and unsourced material. I do not understand why you made the restoration.\n",
            "[[Wikipedia:WikiProject AP Biology 2008|Wikiproject Biology Request \n",
            "\n",
            "Do you still copy-edit? My recent lurking expeditions reveal that you are doing more image reviews, but I'll ask anyway...\n",
            "\n",
            "To be quite blunt about it, could you take a look at the Banker horse article? Your name has been recommended by 545397483979123 people (Trust me; I counted.)and your work on the Intro to Evolution article caught errors I didn't even know existed! The Banker horse article probably has errors that go unnoticed by me but would make an English teacher's eyes bleed. And we don't want that now do we?!?!?! Haha. No pressure.\n",
            "[EDIT] I have removed the quote, and slightly fixed the last sentence of the previous paragraph so that it does not sound like the actual episode word for word.\n",
            "[www.analmassacre.com Dave1185 private website]\n",
            "\n",
            "Flacid_micropenis2_highres.jpg\n",
            "[[Freemasonry has political influence over branches of the US government including the Central Intelligence Agency[9]]], as one clicks on the link, there pops up the article of CIA, but it does not justify or clearify the theory by connecting directly to the main CIA page instead of a more detailed section, you should have thought that part as one of you prepare this funny article. (  ).\n",
            "[['''|Talk''']] \n",
            "Found the source of prob.\n",
            "[quote]Hi, while I appreciate that you may have legitimate concerns ... [/quote]\n",
            "\n",
            "Thanks. \n",
            "\n",
            "Nah, to be honest I have dealt with guys like him before and in real life. He works on the basis that he thinks he can frighten folk off his territory by making threats, scaring us with admins, throwing as ***t as they can as they know some will stick - or as you say, the stink of it will frighten others away. \n",
            "\n",
            "I looked at the wiki mediation but it is all a waste of energy against anyone that is willing to spend the hours he has done putting together an entirely erroneous and dishonest RfC against Canaen.\n",
            "\n",
            "But I think I will write to the foundation and find out who their legal counsel because what he has written against Canaen is pure indelible libel. Whereas mediation is a waste of time, the foundation will jump if they start receiving legal letters requesting user contact details. They have to be law.\n",
            "\n",
            "I approached both of them, him and Skinwaker very reasonably in the first place and straight off received the same modus operandi. he is what he shows himself to be. BTW, I have absolutely no connection with Canaen or anyone else but I recognise decency and indeceny when I see it.\n",
            "\n",
            "When does one fight fire with fire?\n",
            "[Great. That would do )\n",
            "[Sitush] \n",
            "\n",
            "Arrogant-believes his arguments and references are best, Illogical- he cant digest logical evidence- still trying to get the biology definition in Math book: Eg; has written about khatris origin from Dashrath Sharma on Rajputs book, idiot- cant understand references and read them, racist (https://en.wikipedia.org/wiki/Racism) you come under this definition, \n",
            "\n",
            "Still if you have some shame left in you, quit wikipedia or start accepting.\n",
            "[aside from those with my mentor in our talk space]\n",
            "[to any of those fucking admins]\n",
            "[Maria], you damned wretch! \n",
            "\n",
            "Dearest Maria, \n",
            "I’ve lost all patience with you, and I’m too busy with the DR to discuss the matter here.\n",
            "Yours Truly.\n",
            "Sam Bowles\n",
            "[press edit to read it on line poet formation]\n",
            "[User:Bbb23]] you can take your pompous poaturings and berger off.\n",
            "[do you have details of where the charitable funds have gone?  Does he donate profits from his books that he promotes on air to charity?]\n",
            "[24 and 25, after 23]\n",
            "[File:TamilActorVijayimage.JPG]   This image is taken by me and created by me .. So I'm the copy right holder , I know not how to include this details please guideThe wind or breeze\n",
            "[Next two paras are from Gregkaye, not Gazkthul]\n",
            "[unsigned, undated cmt]\n",
            "\n",
            "Eh?  The properties are listed on the National Register of Historic Places  thus are notable by our definition.\n",
            "[Mazie Hirono featured article \n",
            "ok I fixed the sources -\n",
            "[{reply to|Thomas.W}}\n",
            "\n",
            "LOL, this was just a taste of things to come. ;-)\n",
            "[[File:Kolkata Knight Riders Logo.svg|200px\n",
            "[Thanks for unblocking; it was an accident/mistake as you thought. See my comment here. Thanks again,    Most certainly was]. Thanks for bringing it to my attention, Luna.\n",
            "[ am a good friend of the guys at less than jake and was only playing around with the guys i promoise you will not vandilize any of there pages ever again}\n",
            "[explosiveoxygen]\n",
            "1 I did not write anything which is not confirmed by Microsoft at the xbox one + kinect overview on their page.\n",
            "2 Which conclusions did I reach? I stated facts.\n",
            "How is saying that the kinect sensor scans your emotions and can detect and intuit your body movements using infrared a conclusion? How is kinect gaining information about your smiling an emotion?\n",
            "3 Did you even read the articles cited? They come to conclusions which I omitted. I could source you the XBOX one homepage for all of these statements, will you then stop removing my edit?\n",
            "[Typical Raul654 tactic here, I said the Hubble was used to observe the Earth. - ]\n",
            "[Wikipedia:Articles_for_deletion/Sturmgrenadier]\n",
            "\n",
            "hi, there is an organized campaign to save the above self-promotional vanity games-club page from deletion.... i'm wondering if you'd be willing to take a look and voice your opinion? normally i wouldnt care but (a) i hate organized campaigns from groups of users (especially when they have vested interests but dont declare them) and (b) when challenged about it, they suggested i try it myself! so here i am.... cheers!\n",
            "[Howe Bridge Colliery]] \n",
            "\n",
            "I am just letting you know I have created Howe Bridge Colliery.\n",
            "[Explosiveoxygen]\n",
            "You keep assuming these conclusions which are not written in my edit.\n",
            "I'm going to make another version of my edit and if you guys keep removing it then you are in fact guilty of bias in hiding the statistics of what a kinect can or can't do.\n",
            "Criticism is a fine heading, I will gladly rename it or move it to another section if this helps you sleep at night. You are so being biased and then accusing me of it.\n",
            "Whatever you think is a conclusion is based entirely from your opinion, I did not write those things even in the first version last week which had you guys censor me.\n",
            "What happened to free wikipedia? Your willingness to censor information is disgusting and you guys are killing the idea of wikipedia being neutral with your bias while claiming you are neutral.\n",
            "  ExplosiveOxygen\n",
            "[see my post above for context]\n",
            "[corr. archive page numbers.\n",
            "[Jean-Pascal Beintus]] \n",
            "\n",
            "Kinu, \n",
            "\n",
            "I noticed that you marked the Jean-Pascal Beintus article as violating copyright regulations and plagiarising content from beintus.com. I am the administrator of the site and wrote the article as well as all content on beintus.com. I have took all the necessary steps to permit the use of the material, including placing a tag in the site source, sending an email to wikipedia, and leaving a comment on the talk page. This was several days ago. It is important to M. Beintus that the original article is retained and the copyright violation tag removed. As the user who put the tag there in the first place, can you please remove it and bring back the old article (including text and photo), or at least give me a timeframe as to when the page will be online again? \n",
            "\n",
            "Many thanks, \n",
            "Kevin Walker \n",
            "P.S. Sorry about the whole Wolftime thing )\n",
            "[The telephone got a US Patent first because Bell happened to be in the 'States at the time.  ]\n",
            "[[Image:Tyrone Biggums.jpg|right|thumb|Chappelle as\n",
            "[[Link title\n",
            "== \n",
            " hey wats up? \n",
            " ==\n",
            "]]\n",
            "[Preceding commentary added by anonymous user at IP 194.109.22.149 on 2 October 2006.]\n",
            "[outdent] I have no objection to deleting V.s name on the subhead, & agree that I prob. shouldn't have used it. Apologies. So let's not get distracted from the content. V., do you agree this bit is in the wrong place here? If so, might be best for peace for you to move it, You do seem to be putting a lot of stuff in the lede which isn't  (yet) in the main article. Bst,\n",
            "[Fred edited out my first iteration of the above, (which was a little better put.) among other things.   ]\n",
            "[ excuse me, no, Craigs dad. ]\n",
            "[Notre Dame Fighting Irish football under Tyrone Willingham]] GA Review \n",
            "\n",
            "Hello, I will be doing the GA review for this article. The quick-fail criteria do not apply to this article, so the review will go forward. I like to review a little differently than many editors. I post my concerns on the talk page as I find them so that people can fix them before the review is complete. I usually have time to review a section or two at a time, so I don't see any need to make the nominator wait until I've gone through everything and posted a full review. If you have a chance to fix the concerns, feel free to do so any time. If not, they will be included in my final review. I have posted a few initial observations on the talk page from a quick glance over the article. Best wishes,\n",
            "[[Steven Byess] \n",
            "\n",
            "The article contains good notability assertions (now, maybe not when you saw it) so I've not speedied it. However, I did hack out a lot of self-promotion and POV.\n",
            "[not my quotation marks]\n",
            "[User:Ponyo]] we are sisters y'all are so crazy for blocking me i didn't do anything wrong you people want everything your way it makes no type of sense'\n",
            "[]\n",
            "\n",
            "7.9 billion TABThe Sun reaches the tip of the red giant branch, achieving its maximum radius of 256 times the present day value.[46] In the process, Mercury, Venus and possibly Earth are destroyed.[47]\n",
            "\n",
            "During these times, it is possible that Saturn's moon Titan could achieve surface temperatures necessary to support life.[48]\n",
            "[htttp://en.wikiquote.org/wiki/Age of Empires III/\n",
            "[[User:Anonunit|Anonunit]] | ( [[User talk:Anonunit|talk]] ) | (contributions [http://en.wikipedia.org/w/index.php?title=Special:Contributions&target;=Anonunit&offset;=0&limit;=500 1] [http://en.wikipedia.org/wiki/Special:Contributions/24.130.144.236 2] )\n",
            "[[==:Amortias is M(o)ther (fu)k(er)==\n",
            "[corr. archive page numbers.    ]\n",
            "[Both posted before the #request by Gnan/garra, which went into an archived talk page, not this current talk page inadvertently it appears now.  ]\n",
            "[Nijdam] Then it means: the average player wins the car, when she chooses the door\n",
            " with the car, and hence with prob. 1/3. So when switching she wins with 2/3 the car. No\n",
            " calculations needed. But the average player is not the player of the posed MHP!!\n",
            "[by user:Laomei, removed]\n",
            "[Trump] is an exhorter in a midsummer tent revival: direct, literal, and speaking at a decibel that makes it impossible to misunderstand his intentions. The end result of Trump’s evangelism is that a xenophobic, racist, misogynistic, serially mendacious narcissist is poised to pull in somewhere north of fifty million votes in the midst of the most bitterly contentious election in modern American history. The easy analysis holds that Trump’s jihad against decency has wrecked the Republican Party, but the damage is far more extensive than this. \n",
            "\n",
            "The problem of Trump is not simply that his opinions far exceed his knowledge; it’s that what he does know is so hostile to democracy, not only in the Republican Party or the United States but in the world. Whatever happens on November 8th, we are at the outset of a much longer reckoning. —Jelani Cobb\n",
            "[DO you think we are all stupid?] If they're like you, yes.\n",
            "[CLIP OF SEAN SPICER PRESS CONFERENCE IN JANUARY 2017] \n",
            "SPICER: Carter Page is an individual that the president-elect does not know..\n",
            "\n",
            "\n",
            "\n",
            "\n",
            "\n",
            "\n",
            "\n",
            "\n",
            "In March of 2016, Trump was asked who would be advising him on foreign policy.\n",
            "\n",
            "TRUMP: Well, I hadn’t thought of doing it, but if you want I can give you some of the names… Walid Phares, who you probably know, PhD, adviser to the House of Representatives caucus, and counter-terrorism expert; Carter Page, PhD; George Papadopoulos, he’s an energy and oil consultant, excellent guy; the Honorable Joe Schmitz, [former] inspector general at the Department of Defense; [retired] Lt. Gen. Keith Kellogg;  Jeff Sessions was named as Trump's chief foreign policy advisor later that same day.\n",
            "\n",
            "March 2017:\n",
            "\n",
            "Did you meet Sergey Kislyak? \n",
            "PAGE: I'm not going to deny that I talked to him.\n",
            "\n",
            "Extra credit:\n",
            "\n",
            "Joe Schmitz, jumped out at me. Extreme Christian fascist white supremacist tied to Blackwater.\n",
            "\n",
            "http://tinyurl.com/hq48ekk\n",
            "\n",
            "One happy family, of fascist traitors.\n",
            "[What do you mean if?]\n",
            "Well, it could always be something more malicious rather than merely stupid/negligent...\n",
            "[which is what MSM uses to describe this executive order.]\n",
            "Again, citation needed.  Even in this article they refer to it as a \"travel ban\" not \"banning Muslims.\"\n",
            "\n",
            "Also, I note you abandoned the previous silliness of \"the US constitution DOES NOT apply to foreigners\" and \"I have yet to see a reasonable argument.\"\n",
            "[Typical Dem.]\n",
            "Since it seems you are so, so interested in my person rather than my arguments I'll tell you I'm a nonpartisan and have been since I registered to vote so many decades ago.  You wouldn't be suffering from some foolish binary thinking now would you?  Everyone who questions what you write must be in the other major party without exception, right?  The world is only black or white without any shades of gray in between, right?\n",
            "Foolish, foolish thinking abounds.\n",
            "[It is amazing how men cannot help themselves and find a breast, especially bare, riveting.]\n",
            "It all depends on a number of factors, not the least whose and how desirable it is...\n",
            "[\"It wasn't wrong when your guy said it\" two-wrongs-make-a-right type idiocy in the first place.] is what you accused me of.\n",
            "\n",
            "Yet even democrats admit to using revenge tactics. “I was taught that two wrongs don’t make a right,” Ms. Heitkamp said. “Regardless of which party is in the White House, the U.S. Supreme Court should be above politics.” https://www.nytimes.com/2017/03/30/us/politics/two-democrats-back-gorsuch-supreme-court.html?_r=0\n",
            "\n",
            "That's just sad.\n",
            "[Yet even democrats admit to using revenge tactics]\n",
            "Is that somehow supposed to absolve your misconduct?  It seems to me that you will take any opportunity, even presenting an idiotic two-wrongs-make-a-right argument as an opportunity to take a shot at Democrats regardless of it is called for or if the poster you are replying to is a non-partisan that isn't going to bothered?  You've been given plenty of information that trolling Democrats isn't going to mean anything to a non-partisan like me but yet you continue to do so.  I'm left to conclude either you are so deeply entrenched in partisanship that you cannot help but pathologically take potshots in your soapboxing (which is pathetic) or incredibly immature and have an overriding need to have the last word hoping that the next trolling attempt will evoke some emotional response (which is even more pathetic).\n",
            "It seems the most helpful thing to do now is to stop bothering to read what you write.\n",
            "[Yes, I certainly lost interest in trying to maintain meaningful dialogue when you called my arguments \"retarded\".]\n",
            "It seems that you gave up earlier than that.\n",
            "[And there you go again with Biden \"idiocy\".]\n",
            "Let's get this straight.  You don't think that when Biden included it in his speech it wasn't an idiotic dereliction of duty owed under the Constitution's separation of powers?  It isn't just as idiotic, if not more so, when the Republicans don't actually talk about it but actually DO IT for a far longer period of time and without any consideration to due process ON TOP OF the Biden's idiocy?\n",
            "Now I expect you to still not actually give any consideration to the actual substance of the argument and just focus on the usage of the term \"idiot\" like a child would.\n",
            "[says the king of deflection.]\n",
            "Another idiotic relativistic argument.  All you can do is complain, complain, complain but never address the substance of the discussion.  Do you have any other excuses to present or will you finally hold up your end of any discussion?\n",
            "\n",
            "[The one who thinks former VP Biden has a role to play in discussion concerning Uber's operating practices]\n",
            "U wut m8?  You think my accusing you of deflecting is in any way part of any discussion be it about Uber or Biden?  You are making it hard to not call you retarded again because that idea can only be born from complete ignorance of basic rules of the English language.\n",
            "\n",
            "[The one...the one]\n",
            "And I note and disregard your return to obvious attempts at trolling.  If you don't want to participate in the discussion just say so.  Don't make yourself look like an idiot who doesn't understand the basics of written English to get out of it.  Clearly you have no intention of participating in any substantive discussion.\n",
            "[When the comments section of the ADN becomes a research paper requiring foot notes and a bibliography, then you can complain about having to google something.]\n",
            "Oh stop being such a drama queen.  If you state something don't feel put out when what you state is questioned.  Just put up or shut up.\n",
            "[Roberts wrote the opinion for the majority. They all sign off on it.]\n",
            "They all also wrote concurring opinions and are free to disagree with specific passages of the majority opinion even if they sign on.  That's what concurring opinions are all about.  If you want to apply the foolish notion of \"guilt by association\" that's your call but if you are going to disregard part of your own citation then I see no reason to continue participating in this discussion as you'll just ignore anything that doesn't agree with your closed-minded conclusion.\n",
            "[Ha! I saved this in case you deleted it]\n",
            "\n",
            "\"... the angry populist movement that lashes out at immigrants, Muslims and wants to turn back the clock.\"\n",
            "Yeah, turn back the clock to a time where we weren't getting blown up, stabbed, run-over, etc., for some stupid reason. What a ridiculous notion, eh?!\n",
            "I guess when you or your children get stabbed in the face you just smile and say \"jolly good show!!!\"\n",
            "[Why do dumb reporters think someone should IMMEDIATELY respond to them???]\n",
            "I wonder if the fact that stories don't wait around for government officials to later respond might have something to do with it.\n",
            "[It never ceases to amaze me how conservatives and idiots like Eastman can call for smaller and less intrusive government]\n",
            "It takes a certain kind of mindset to call for less intrusive government \"except when it comes to my issues\" as it functions upon an unquestionable belief of righteousness.  Strangely enough, it's has a striking similarity to those claiming to be deeply religious.\n",
            "[But Republicans, with their penchant for parading their patriotism, damned well ought to be leading the effort to uncover the full extent of Russian involvement in our last election and Vladimir Putin’s influence today. To do otherwise is not only hypocritical, but complicit.]\n",
            "It is increasingly obvious that Republicans only claim to be patriotic as they continue to put party above country.  This morning's article about McConnell supporting appointing Garland as Director of the FBI is damning evidence as he wouldn't give Garland a hearing as an apolitical Supreme Court Justice which is even more important than as an apolitical Director of the FBI.\n",
            "[There is no Reason Hillary should have lost to this buffoon]\n",
            "There are plenty of reasons for people to vote against Hillary but I agree that events seemed to conspire to Trump's benefit.\n",
            "[I am highly suspect of anyone that publicly supports the taxi system that we currently have in Anchorage...Either you don't get out much or you own a taxi medallion.]\n",
            "Because anyone who criticizes Uber/Lyft or even the law that benefits them must (by foolish guilt by association) be supporting the taxi system?  A person cannot possible support Uber/Lyft and still have a problem with the passage of this bill?  That the problem isn't the status quo but about how hypocrites in the Legislature constantly criticize the federal government and then do the exact same thing?\n",
            "[conjecture]\n",
            "Care to explain how you came to that conclusion or is it safe to assume you are just sticking your head in the sand when presented with an uncomfortable explanation?\n",
            "If you didn't want to have your question answered I suggest you not ask it in the first place.  If you think it is mere conjecture when you were given a specific historical example I have to assume you don't actually care about the facts and just raised the question because you are an ignorant and closed minded Trumpologist and I'm wasting my time.\n",
            "[\"Obstruction of justice.\" -- name one legal body who agrees with you.]\n",
            "What do you mean?  Obstruction of justice is a crime just like murder or fraud.\n",
            "[over the last 7 months of Democrats digging with Zero evidence]\n",
            "No.  Previously there were allegations of collusion with the Russians.  It wasn't until last month after Trump fired Comey that the allegation of obstruction of justice was raised.\n",
            "[The Director of the FBI serves at the pleasure of the President.]\n",
            "Straw man?  No claim was made to the otherwise.  The point was about _why_ he was fired not whether the President has the power to fire him.\n",
            "[No, it's not.]\n",
            "You sir, with all due respect, are a closed minded partisan fool.\n",
            "[insert laughing emoji w tears] Why do they have money for raises but no money for the stupid rail? In the private sector Caldwell would have been fired long ago. Disgusting.\n",
            "[Cue the usual pack of dithering fools.]\n",
            "[\"No one would perceive that as a threat, I hope they don't,\" Bossert said, referring to the tweet.]\n",
            "Why would you hope they don't if you don't believe anyone would perceive that as a threat?  Hope doesn't exist for events that are certain to happen, ie. no one says I hope the sun rises tomorrow if they know it is going to happen.\n",
            "How can this guy be an \"advisor\" to Homeland Security and say videos on social media and believe \"no one would perceive that as a threat?\"  ISIS release videos on social media to inspire terrorist acts all over the world and Trump has more than his fair share of believers in even the most incomprehensible conspiracy theory.  For example the shooter in Pizzagate.\n",
            "What's even worse is that Trump spouts that this crap is \"MODERN DAY PRESIDENTIAL\" and his followers will slurp it up with their $20, made in China, MAGA™ plastic spoon.\n",
            "[Got it, so the answer is zero:]\n",
            "Why ask a question if you are just going to ignore the answer?  With all due respect, you sir are a partisan liar.  You ignored the part about electronics and train stations.  I could have also mentioned having to take off shoes as well as no liquids above 3oz. but you make clear that would be a complete waste of time.  Why bother to present anything as you'll just ignore anything that doesn't fit your preconceived conclusions?\n",
            "[FM: Deterrence is a valid passive defensive strategy. Defense is an active response to a threat.]\n",
            "At this time I'd ask you for a source of \"definition\" that requires \"passive\" or \"active response\" but I know that would be a waste of time.  I'll point out your idiocy and expect further idiocy to defend this idiocy.\n",
            "Pitfall traps are not a form of defense?  A moat which has been used for thousands of years by multiple nations around the world is not a form defense?  Modern technologies like online PIN numbers to prevent unauthorized access are not a form defense?\n",
            "Everyone else in the world throughout history have recognized \"passive\" forms of defense not to mention put them into practice but that's not good enough for you.\n",
            "[...shooting someone and killing them no matter what is murder.]\n",
            "\n",
            "People with a badge and a gun doing their job, if they have to kill someone, are not committing murder. Same concept goes for folks in the military. It doesn't matter how many letters you put ahead or behind your name: it doesn't change that reality.\n",
            "[The White House defended President Donald Trump's involvement in issuing a statement about his son's meeting with a Russian lawyer during the campaign, saying that the statement was true and that the president was simply acting as a father]\n",
            "Yeah, no.  What Trump did does not only defy logic \"as a father\" but as a rational person.\n",
            "\"As a father,\" most father's let their sons make their own mistakes by the time they are nearly 40.  The only time I can think a father would do what Trump did was to take the blame, fall on the sword, to protect his son but that isn't what Trump did.\n",
            "\"As a rational person,\" what he did was involve himself, against direct advice from who knows how many attorneys, PR experts, etc. to not do so.  Most fathers who are not attorneys/PR would not think they know better than everyone else when it comes to legal/political matters.  Most fathers would learn after being burned time and time again for lying to the American people and the press.\n",
            "[That's funny! But bullets are still flying and men are still dying.]\n",
            "So the cops are waging war in Chicago?  You have a pretty liberal (and unrealistic) definition for \"war.\"\n",
            "[the Taliban control most of the country.]\n",
            "Source very needed.  Or are you also using a very liberal (and unrealistic) definition for \"control\" to mean anything that the Taliban attacks?\n",
            "[And your point is what?]\n",
            "That your statement is wrong on many accounts.  Please don't tell me you are one of those fools who believes someone has to state the opposite, or even state anything, to point out the error(s) in your statement.\n",
            "[I don't think you understand how this works. ]\n",
            "No, you don't know how this works.  No one is going to believe a complete stranger online.  Thus why anyone with critical thinking asks for a source when that happens.\n",
            "[explain why you think I'm wrong]\n",
            "\"Prove me wrong?\"  No, Russell.  It is not anyone else's obligation to counter-argue or prove there is not a teapot in orbit around the sun.\n",
            "[condescending]\n",
            "I strongly suggest you not personalize or become emotionally wed to your opinion especially when you present it online.  It provides an incentive to make yourself look like a fool.\n",
            "[You want proof NK has a bigger army, air force, and navy]\n",
            "Straw man?  I asked for proof for your statement [the Taliban controls most of Afghanistan].  I suggest you read closely but it seems that was a complete waste your conduct indicates you do not intend to.\n",
            "[How much oil should be allowed to seep out of the ground when it is part of nature. Should natural seep be stopped by man?]\n",
            "That's an idiotic argument.  That's like saying let's not stop/prosecute anyone who starts a forest fire because forest fires start naturally anyway.  No one says we should stop all natural seepage but that doesn't mean we should just let unnatural seepage go unchecked.\n",
            "[Insert racist joke about coal black skin here.]\n",
            "\n",
            "Oh, sorry, it's OK to make jokes about white people's skin color but not black people's or brown people's.\n",
            "\n",
            "Because social justice.\n",
            "[So violence on the left is justified because the disgusting white supremacists deserve it? Rationalize much?]\n",
            "Straw man much?  The subject of Tom's letter is about Trump and Trump's conduct not a defense or justification of the actions of protesters or counter-protesters.\n",
            "[See Post Above] ... At that instant the scales fell from our eyes, and we understood the nature of his diabolism, and we perceived how our National Assembly, the ministers of our parliament, our highest officials and institutions of government, had all become prostitutes of the whoredom of Desmarais.”\n",
            "Richard Le Hir, Desmarais: La Dépossession tranquille, Saint Denis, Montréal, Les Éditions Michel Brûlé, 2012, 13.\n",
            "[If you want me to dig up all the information source I have to gain, 400 word limit will not do justice.]\n",
            "Straw man?  I only ask for you to provide links relevant to the current discussion not \"all the information source I have to gain.\"  And it is a limitation we all share, even those of us who provide sources and links.\n",
            "[And to be honest, it not worth the time.]\n",
            "So you are too good to bother providing links.  People tend to not believe complete strangers.  Thus the necessity of providing sources and links to address any reliability issues.  Any fool can claim to have knowledge but without some proof anyone who practice even the bare minimum of critical thinking has but little choice but assume a fool is spouting nonsense without some reason to believe otherwise.\n",
            "So if you refuse to provide links because you cannot be bothered then a fool is what I have to judge you as until you demonstrate some reason to believe otherwise.\n",
            "[The \"Donald\" handing out a favor to Sheriff Joe, his old pal and fellow birther from years back is ridiculous.]\n",
            "The Donald treats the Presidency like his own personal plaything.  He's President when he wants to be.  Hands it off to his subordinates when needed but he doesn't want it.  Plays golf when it feels appropriate.  And brooks no dissent or criticism without seeking retribution even if it means sullying his plaything.\n",
            "He doesn't understand the honor or the privilege of serving because he cannot grasp the duties and obligations that comes with the office of the President of the United States.\n",
            "[To say that juxtaposing and making the same a massacre and overtly implying that someone had something to do with that massacre is mere \"negligence\" is absolutely asinine]\n",
            "You confer what is determined based upon the evidence is \"extremely silly or stupid?\"  Is that how you see federal courts and judges function?\n",
            "[Those \"journalists\" knew one thing had nothing to do with the other]\n",
            "What are you waiting for?  You better call Palin and tell her you have evidence that proves the \"journalists\" knew that the two were not connected because that'll prove there was actual malice.\n",
            "Wait.  Why don't I hear you dialing?\n",
            "[Your unrelated SCOTUS case is cute]\n",
            "Let me get this straight.  The judge in this article used exactly the standard but you deem it as \"unrelated?\"\n",
            "You sir, are in complete and completely irrational denial.  It is clear that no construction of words and facts will make a lick of difference to you as you delude yourself into believing you know the law better than anyone else.\n",
            "[Either you are one of those benefiting from the system and willing to carry the water too, or you have never looked very deeply into these cases]\n",
            "Why am I not surprised you provided no source?  Also why am I not surprised you function under an idiotic \"you're either with us or against us\" black-and-white thinking.\n",
            "[they will never chose the citizen over the gov]\n",
            "So in every appeals case where there is no jury involved, just judges judging lower court judges, the government always wins, huh?  We don't have Miranda warnings because the Supreme Court, again no jury, decided with the government, amirite?  Or abortion rights because the Supreme Court, again no jury, decided with the Texas state government, amirite?  Or...\n",
            "Might I suggest you stop commenting about stuff you clearly have no idea what you are talking about?\n",
            "[You did not deny my contention]\n",
            "Let me get this straight.  I am under some burden to address something completely speculative or else it is considered as accurate or even valid?  Go read about Russell's Teapot as you are sorely ignorant of basic logic.\n",
            "[Actually I have intimate knowledge of what I speak]\n",
            "Then it should be easy for you to provide a source that supports what you speak of.  So why didn't you?  Do you believe everyone else is supposed to believe you simply because you say so?  Did your mother ever teach you not believe everything you hear, read, etc. because you seem to function in completely the opposite.\n",
            "[a 12 year old could tell you the income tax... are unconstitutional]\n",
            "For someone who claims to be \"intimately\" knowledgeable with the law and the Constitution you clearly unfamiliar with the amendment process or never read (or even heard of) the Sixteenth Amendment.\n",
            "[As for the supremacy clause your statement is a non-sequitur]\n",
            "You asked, in complete ignorance of the facts, the question:\n",
            "[Can one law defeat another?]\n",
            "Now you claim the Supremacy clause, which deals exactly with the issue of one law defeating another, is a non-sequitur[sic]?  You sir, are either an idiot (tossing around the term non sequitur without understanding) or a liar (claiming it is a non sequitur in bad faith).\n",
            "It seems to me that you asked this question in the ludicrous belief that one law cannot defeat another law and now trying to marginalize the fact that laws can defeat other laws without being, as you claimed, \"an absurdity.\"  If this is how you handle disagreement, and more importantly being shown how ignorant you are, then this is a waste of time.  You'll use any self-serving justification, regardless of how ridiculous, to ignore anything that doesn't support your prejudicial position, ie. you've closed your mind.\n",
            "[To say one law can defeat another shows just how ignorant a person can be.]\n",
            "YOU tell me to go read the Constitution and then ignore the Supremacy clause AGAIN and maintain one law cannot defeat another law?  You have proven beyond question I am wasting my time trying to reason with a closed minded twit.\n",
            "[So to make it apples and apples lets just not have anyone under the blanket vote]\n",
            "Or possess firearms or freely move.  Thanks for making it clear your position is ludicrous.\n",
            "[Don Young is an old, white, out of touch loser.....]\n",
            "Is he an out of touch loser because he is old or white?\n",
            ".\n",
            "When trying to figure out what is wrong with our country, a good start for you would be to look in the mirror.\n",
            "[I feel sorry for the left that can't understand why they lost power. They blame the Russian, the Nazis, the KKK]\n",
            "Let's make this plain.  You are abandoning any argument on the subject of these kids and resorting to pointless partisan attacks?  Nothing in the article or that we've discussed had anything to do with \"the left,\" \"Russians, \"Nazis,\" or the KKK.\n",
            "[If someone from Somalia moves in next to me, refuses to learn English, wants my taxes to pay for them, has a bunch of goats and half naked kids running around, and has their women wearing a burka we are not going to be friends.]\n",
            "So why do you advocate removing dreamers when they've, \"paid taxes, speak English, and generally live a life like the rest of the people around you?\"  Dreamers grew up here, 91% of them work, some have even joined the military yet it seems you ignore the realities of their situation even when you claim you wouldn't have a problem.  Are you intentionally ignoring them or lying to me?\n",
            "[Yes, burning flags is despicable so is not standing during the national anthem.]\n",
            "\n",
            "You said NOTHING about burning the flag???\n",
            "No surprise you missed your own point.\n",
            "[It's frankly disgusting the way the press is able to write whatever they want to write and people should look into it]\n",
            "I guess Trump never heard of Gawker.\n",
            "There is a lot to criticize Trump here. There's his blatant attack on the First Amendment and protection of speech and the press.  Another is his complete ignorance of defamation law.\n",
            "But there are two more which battles in my mind as the most egregious.  It's a difficult choice but the lesser of the two is Trump's continued aggression that, as usual, leads him to jump on the political land mine with both feet when it could have been easily defused by just pivoting on what he 'actually meant' like he's done probably a thousand times now.  But no!  That isn't good enough.  Trump instead escalates his war on the media and the Constitution.\n",
            "What is worse than his incompetent assault on the Constitution?  His hypocritical sense of entitlement. He defends his choice to cyberbully others on the very right he now attacks that others have.\n",
            "[Murkowski-warren have been in Congress way long enough to address the \"new crisis.\"  Murkowski and Warren have FAILED Alaskans and Americans]\n",
            "Everyone is supposed to take personal responsibility for their own actions and words except for Trump according to Trump and Trumpologists.  I'm not even going to get to the basic failures in understanding fundamental civics evident here as it is too face-palmingly ignorant.\n",
            "[But at least he is not Hillary.]\n",
            "That is not a good thing.  I kept mentioning it during the campaign season that Hillary is a terrible choice but still better than Trump because Trump would jump on political landmines with two feet which Hillary had the statescraft experience to dance around them.  Off the top of my head here's a list of idiotic choices which Trump often double-downed on when he could have pivoted, if not outright avoided, if he had any experience in public office:\n",
            "-Charlottesville\n",
            "-Tillerson's diplomacy with North Korea\n",
            "-Joe Arpaio\n",
            "-Court losses on various Executive Orders, most notably four of the five versions of the travel ban.\n",
            "-Everything Flynn\n",
            "-Calling the intelligence agency as \"on a witch hunt\"\n",
            "I expect I could probable drub up a half dozen other questionable decision Trump made that Hillary would have avoided but these are just the ones off the top of my head and his first year in office isn't even over.\n",
            "[If they had their way Alaska would not be fit for habitation unless you are a criminal, a street drunk]\n",
            "Wow.  Calling arguments against SB91 for being fallacious, dishonest or just patently wrong, by your own conduct, means we don't hold Alaska's best interests in mind.  Only that we want Alaska to be a hive of villainy.  I almost got around to responding to your comment about Texmex's straw man but considering your blatant black and white rationality I don't see it worth the time as present nuances or facts that don't fit in your highly binary perspective are going to be ignored.\n"
          ],
          "name": "stdout"
        }
      ]
    },
    {
      "cell_type": "markdown",
      "metadata": {
        "id": "6Pe4Cpwx2wiO"
      },
      "source": [
        "# GAP"
      ]
    },
    {
      "cell_type": "code",
      "metadata": {
        "colab": {
          "base_uri": "https://localhost:8080/",
          "height": 111
        },
        "id": "dK6LowUy2wiO",
        "outputId": "95ac9778-103d-4b63-f2df-6ecfe1efa5d7"
      },
      "source": [
        "import pandas as pd\n",
        "\n",
        "gap = pd.read_csv('https://raw.githubusercontent.com/jing-qian/A-Benchmark-Dataset-for-Learning-to-Intervene-in-Online-Hate-Speech/master/data/gab.csv')\n",
        "gap"
      ],
      "execution_count": null,
      "outputs": [
        {
          "output_type": "execute_result",
          "data": {
            "text/html": [
              "<div>\n",
              "<style scoped>\n",
              "    .dataframe tbody tr th:only-of-type {\n",
              "        vertical-align: middle;\n",
              "    }\n",
              "\n",
              "    .dataframe tbody tr th {\n",
              "        vertical-align: top;\n",
              "    }\n",
              "\n",
              "    .dataframe thead th {\n",
              "        text-align: right;\n",
              "    }\n",
              "</style>\n",
              "<table border=\"1\" class=\"dataframe\">\n",
              "  <thead>\n",
              "    <tr style=\"text-align: right;\">\n",
              "      <th></th>\n",
              "      <th>id</th>\n",
              "      <th>text</th>\n",
              "      <th>hate_speech_idx</th>\n",
              "      <th>response</th>\n",
              "    </tr>\n",
              "  </thead>\n",
              "  <tbody>\n",
              "    <tr>\n",
              "      <th>0</th>\n",
              "      <td>1. 39869714\\n</td>\n",
              "      <td>1. i joined gab to remind myself how retarded ...</td>\n",
              "      <td>[1]</td>\n",
              "      <td>[\"Using words that insult one group while defe...</td>\n",
              "    </tr>\n",
              "    <tr>\n",
              "      <th>1</th>\n",
              "      <td>1. 39845588\\n2. \\t39848775\\n3. \\t\\t39911017\\n</td>\n",
              "      <td>1. This is what the left is really scared of. ...</td>\n",
              "      <td>[3]</td>\n",
              "      <td>['You can disagree with someones opinion witho...</td>\n",
              "    </tr>\n",
              "    <tr>\n",
              "      <th>2</th>\n",
              "      <td>1. 37485560\\n2. \\t37528625\\n</td>\n",
              "      <td>1. It makes you an asshole.\\n2. \\tGive it to a...</td>\n",
              "      <td>[2]</td>\n",
              "      <td>['Your argument is more rational if you leave ...</td>\n",
              "    </tr>\n",
              "    <tr>\n",
              "      <th>3</th>\n",
              "      <td>1. 39787626\\n2. \\t39794481\\n</td>\n",
              "      <td>1. So they manage to provide a whole lot of da...</td>\n",
              "      <td>[2]</td>\n",
              "      <td>[\"You shouldn't generalize a specific group or...</td>\n",
              "    </tr>\n",
              "    <tr>\n",
              "      <th>4</th>\n",
              "      <td>1. 37957930\\n2. \\t39953348\\n3. \\t\\t39965219\\n</td>\n",
              "      <td>1. Hi there, i,m Keith, i hope you are doing w...</td>\n",
              "      <td>[3]</td>\n",
              "      <td>['If someone is rude it is better to ignore th...</td>\n",
              "    </tr>\n",
              "    <tr>\n",
              "      <th>...</th>\n",
              "      <td>...</td>\n",
              "      <td>...</td>\n",
              "      <td>...</td>\n",
              "      <td>...</td>\n",
              "    </tr>\n",
              "    <tr>\n",
              "      <th>11820</th>\n",
              "      <td>1. 37556347\\n2. \\t37556710\\n</td>\n",
              "      <td>1. Remember this 3 months ago? The intern that...</td>\n",
              "      <td>[2]</td>\n",
              "      <td>['Using words that profanely refer to parts of...</td>\n",
              "    </tr>\n",
              "    <tr>\n",
              "      <th>11821</th>\n",
              "      <td>1. 38624662\\n2. \\t38624840\\n</td>\n",
              "      <td>1. #Sweden's four major dailies aftonbladet.se...</td>\n",
              "      <td>[2]</td>\n",
              "      <td>['Hey there, derogatory comments are not produ...</td>\n",
              "    </tr>\n",
              "    <tr>\n",
              "      <th>11822</th>\n",
              "      <td>1. 38361617\\n2. \\t38421472\\n3. \\t\\t38422734\\n</td>\n",
              "      <td>1. Satisfaction and justice\\n2. \\tBEST TRUMP I...</td>\n",
              "      <td>[3]</td>\n",
              "      <td>['Using words that negatively describes someon...</td>\n",
              "    </tr>\n",
              "    <tr>\n",
              "      <th>11823</th>\n",
              "      <td>1. 38710847\\n2. \\t38711592\\n3. \\t\\t38718122\\n</td>\n",
              "      <td>1. Twitter BANNED me and reported me to the FB...</td>\n",
              "      <td>[2, 3]</td>\n",
              "      <td>[\"I don't think using words that are sexist in...</td>\n",
              "    </tr>\n",
              "    <tr>\n",
              "      <th>11824</th>\n",
              "      <td>1. 37951623\\n</td>\n",
              "      <td>1. How absolutely unbelievably fascinating? A ...</td>\n",
              "      <td>[1]</td>\n",
              "      <td>[\"Using words that derogatorily reference a pa...</td>\n",
              "    </tr>\n",
              "  </tbody>\n",
              "</table>\n",
              "<p>11825 rows × 4 columns</p>\n",
              "</div>"
            ],
            "text/plain": [
              "                                                  id  \\\n",
              "0                                      1. 39869714\\n   \n",
              "1      1. 39845588\\n2. \\t39848775\\n3. \\t\\t39911017\\n   \n",
              "2                       1. 37485560\\n2. \\t37528625\\n   \n",
              "3                       1. 39787626\\n2. \\t39794481\\n   \n",
              "4      1. 37957930\\n2. \\t39953348\\n3. \\t\\t39965219\\n   \n",
              "...                                              ...   \n",
              "11820                   1. 37556347\\n2. \\t37556710\\n   \n",
              "11821                   1. 38624662\\n2. \\t38624840\\n   \n",
              "11822  1. 38361617\\n2. \\t38421472\\n3. \\t\\t38422734\\n   \n",
              "11823  1. 38710847\\n2. \\t38711592\\n3. \\t\\t38718122\\n   \n",
              "11824                                  1. 37951623\\n   \n",
              "\n",
              "                                                    text hate_speech_idx  \\\n",
              "0      1. i joined gab to remind myself how retarded ...             [1]   \n",
              "1      1. This is what the left is really scared of. ...             [3]   \n",
              "2      1. It makes you an asshole.\\n2. \\tGive it to a...             [2]   \n",
              "3      1. So they manage to provide a whole lot of da...             [2]   \n",
              "4      1. Hi there, i,m Keith, i hope you are doing w...             [3]   \n",
              "...                                                  ...             ...   \n",
              "11820  1. Remember this 3 months ago? The intern that...             [2]   \n",
              "11821  1. #Sweden's four major dailies aftonbladet.se...             [2]   \n",
              "11822  1. Satisfaction and justice\\n2. \\tBEST TRUMP I...             [3]   \n",
              "11823  1. Twitter BANNED me and reported me to the FB...          [2, 3]   \n",
              "11824  1. How absolutely unbelievably fascinating? A ...             [1]   \n",
              "\n",
              "                                                response  \n",
              "0      [\"Using words that insult one group while defe...  \n",
              "1      ['You can disagree with someones opinion witho...  \n",
              "2      ['Your argument is more rational if you leave ...  \n",
              "3      [\"You shouldn't generalize a specific group or...  \n",
              "4      ['If someone is rude it is better to ignore th...  \n",
              "...                                                  ...  \n",
              "11820  ['Using words that profanely refer to parts of...  \n",
              "11821  ['Hey there, derogatory comments are not produ...  \n",
              "11822  ['Using words that negatively describes someon...  \n",
              "11823  [\"I don't think using words that are sexist in...  \n",
              "11824  [\"Using words that derogatorily reference a pa...  \n",
              "\n",
              "[11825 rows x 4 columns]"
            ]
          },
          "metadata": {
            "tags": []
          },
          "execution_count": 6
        }
      ]
    },
    {
      "cell_type": "code",
      "metadata": {
        "id": "8vaJXZHv2wiP",
        "outputId": "f41852cb-55ef-4e7b-d9b1-86a111fd5867"
      },
      "source": [
        "c = 0\n",
        "for t,i,r in zip(gap.text, gap.hate_speech_idx, gap.response):\n",
        "    print('Text',t,'\\nResponse:',r,'\\nLabel:',i,'\\n*****************************')\n",
        "    c+=1\n",
        "    if c == 5:\n",
        "        break   "
      ],
      "execution_count": null,
      "outputs": [
        {
          "output_type": "stream",
          "text": [
            "Text 1. i joined gab to remind myself how retarded jew haters are. You wouldn't be typing on your abacus without them you retard.\n",
            " \n",
            "Response: [\"Using words that insult one group while defending another group doesn't come across as helpful.\", 'You can make the same point more effectively without the use of hateful terminology.', 'Use of the r-word is unacceptable in our discourse as it demeans and insults people with mental disabilities.'] \n",
            "Label: [1] \n",
            "*****************************\n",
            "Text 1. This is what the left is really scared of.    https://redd.it/9rfkts\n",
            "2. \tThat literally looks like a monkey. Why are we supposed to pretend it’s a person bc it’s wearing a red hat? \n",
            "3. \t\tDumb Cunt\n",
            " \n",
            "Response: ['You can disagree with someones opinion without calling them names. Use reason and you might get more people on your side.', 'You can make the same point more effectively without the use of hateful terminology.', 'Use of the c-word is unacceptable in our discourse as it demeans and insults women.'] \n",
            "Label: [3] \n",
            "*****************************\n",
            "Text 1. It makes you an asshole.\n",
            "2. \tGive it to a  soldier who has defend it , then try to burn it . Show me what a badass you really are.  The flag is helpless to stop you or fight back . Completely unnecessary act , its proves nothing and accomplishes nothing. It only shows your a ignorant weak faggot  . Like kicking a puppy ,,,  it shows how weak and worthless you are \n",
            " \n",
            "Response: ['Your argument is more rational if you leave you the hateful words, people will be more inclined to listen to you then.', 'You can make the same point more effectively without the use of hateful terminology.', 'Use of the slur here is unacceptable in our discourse as it demeans and insults gays.'] \n",
            "Label: [2] \n",
            "*****************************\n",
            "Text 1. So they manage to provide a whole lot of data, except a critical little nugget.   Gay men are well over half the patients who present at STI clinics, and are probably the source of the emerging antibiotic-resistant pathogens.   https://www.dailymail.co.uk/health/article-6315871/One-young-person-England-told-STI-FOUR-MINUTES.html\n",
            "2. \tyup. i cant smoke in a bar because it's harmful to some faggot that's getting drunk, doing drugs & having an STD potluck w/ the boys later...... seems legit. \n",
            " \n",
            "Response: [\"You shouldn't generalize a specific group or call them names, use thoughtful words in your discussion and it will help get your point out.\", 'You can make the same point more effectively without the use of hateful terminology.', 'Use of the slur here is unacceptable in our discourse as it demeans and insults gays.'] \n",
            "Label: [2] \n",
            "*****************************\n",
            "Text 1. Hi there, i,m Keith, i hope you are doing well, i would be very honored to get to know you if you would be interested? @PugLife\n",
            "2. \tFuck off\n",
            "3. \t\twow, what a rude cunt \n",
            " \n",
            "Response: ['If someone is rude it is better to ignore them instead of being equally as rude right back.', 'You can make the same point more effectively without the use of hateful terminology.', 'Use of the c-word is unacceptable in our discourse as it demeans and insults women.'] \n",
            "Label: [3] \n",
            "*****************************\n"
          ],
          "name": "stdout"
        }
      ]
    },
    {
      "cell_type": "code",
      "metadata": {
        "colab": {
          "base_uri": "https://localhost:8080/"
        },
        "id": "o48w4hqh2wiP",
        "outputId": "50760990-4c7c-4ccd-91cb-6498f9e46c42"
      },
      "source": [
        "gap.isnull().sum()"
      ],
      "execution_count": null,
      "outputs": [
        {
          "output_type": "execute_result",
          "data": {
            "text/plain": [
              "id                   0\n",
              "text                 0\n",
              "hate_speech_idx    656\n",
              "response           656\n",
              "dtype: int64"
            ]
          },
          "metadata": {
            "tags": []
          },
          "execution_count": 30
        }
      ]
    },
    {
      "cell_type": "markdown",
      "metadata": {
        "id": "uciroTLr2wiQ"
      },
      "source": [
        "# Reddit"
      ]
    },
    {
      "cell_type": "code",
      "metadata": {
        "colab": {
          "base_uri": "https://localhost:8080/",
          "height": 111
        },
        "id": "vef3IK732wiQ",
        "outputId": "13505d2d-f060-4be2-8159-390e6b773d77"
      },
      "source": [
        "reddit = pd.read_csv('https://raw.githubusercontent.com/jing-qian/A-Benchmark-Dataset-for-Learning-to-Intervene-in-Online-Hate-Speech/master/data/reddit.csv')\n",
        "reddit"
      ],
      "execution_count": null,
      "outputs": [
        {
          "output_type": "execute_result",
          "data": {
            "text/html": [
              "<div>\n",
              "<style scoped>\n",
              "    .dataframe tbody tr th:only-of-type {\n",
              "        vertical-align: middle;\n",
              "    }\n",
              "\n",
              "    .dataframe tbody tr th {\n",
              "        vertical-align: top;\n",
              "    }\n",
              "\n",
              "    .dataframe thead th {\n",
              "        text-align: right;\n",
              "    }\n",
              "</style>\n",
              "<table border=\"1\" class=\"dataframe\">\n",
              "  <thead>\n",
              "    <tr style=\"text-align: right;\">\n",
              "      <th></th>\n",
              "      <th>id</th>\n",
              "      <th>text</th>\n",
              "      <th>hate_speech_idx</th>\n",
              "      <th>response</th>\n",
              "    </tr>\n",
              "  </thead>\n",
              "  <tbody>\n",
              "    <tr>\n",
              "      <th>0</th>\n",
              "      <td>1. e8q18lf\\n2. \\te8q9w5s\\n3. \\t\\te8qbobk\\n4. \\...</td>\n",
              "      <td>1. A subsection of retarded Hungarians? Ohh bo...</td>\n",
              "      <td>[1]</td>\n",
              "      <td>[\"I don't see a reason why it's okay to insult...</td>\n",
              "    </tr>\n",
              "    <tr>\n",
              "      <th>1</th>\n",
              "      <td>1. e9c6naz\\n2. \\te9d03a5\\n3. \\t\\te9d8e4d\\n</td>\n",
              "      <td>1. &gt; \"y'all hear sumn?\"  by all means I live i...</td>\n",
              "      <td>[3]</td>\n",
              "      <td>['Persons with disabilities is the accepted te...</td>\n",
              "    </tr>\n",
              "    <tr>\n",
              "      <th>2</th>\n",
              "      <td>1. e84rl2i\\n2. \\te84w60l\\n3. \\t\\te8544rn\\n4. \\...</td>\n",
              "      <td>1. wouldn't the defenders or whatever they are...</td>\n",
              "      <td>NaN</td>\n",
              "      <td>NaN</td>\n",
              "    </tr>\n",
              "    <tr>\n",
              "      <th>3</th>\n",
              "      <td>1. e7kq72n\\n2. \\te7m24ar\\n</td>\n",
              "      <td>1. Because the Japanese aren't retarded and kn...</td>\n",
              "      <td>[1]</td>\n",
              "      <td>[\"It's not right for anyone of any gender to b...</td>\n",
              "    </tr>\n",
              "    <tr>\n",
              "      <th>4</th>\n",
              "      <td>1. e7hdgoh\\n2. \\te7iyj6a\\n3. \\t\\te7j6iho\\n4. \\...</td>\n",
              "      <td>1. That might be true if we didn't have an exa...</td>\n",
              "      <td>[2, 3]</td>\n",
              "      <td>[\"You shouldn't be bringing up sensitive topic...</td>\n",
              "    </tr>\n",
              "    <tr>\n",
              "      <th>...</th>\n",
              "      <td>...</td>\n",
              "      <td>...</td>\n",
              "      <td>...</td>\n",
              "      <td>...</td>\n",
              "    </tr>\n",
              "    <tr>\n",
              "      <th>5015</th>\n",
              "      <td>1. e90fta8\\n2. \\te90g8px\\n3. \\t\\te90jlq5\\n4. \\...</td>\n",
              "      <td>1. Who does she claim as *her people*?\\n2. \\tI...</td>\n",
              "      <td>[8]</td>\n",
              "      <td>['its inappropriate to use the word faggot as ...</td>\n",
              "    </tr>\n",
              "    <tr>\n",
              "      <th>5016</th>\n",
              "      <td>1. e9b7mn2\\n2. \\te9bv6ir\\n</td>\n",
              "      <td>1. Here's what's going to happen:  Broward is ...</td>\n",
              "      <td>NaN</td>\n",
              "      <td>NaN</td>\n",
              "    </tr>\n",
              "    <tr>\n",
              "      <th>5017</th>\n",
              "      <td>1. e7q8ilv\\n2. \\te7qddqq\\n3. \\t\\te7qstbc\\n4. \\...</td>\n",
              "      <td>1. Oh boy...so here comes a long venting post ...</td>\n",
              "      <td>[1, 4]</td>\n",
              "      <td>[\"using the word 'nigger' is a direct attack t...</td>\n",
              "    </tr>\n",
              "    <tr>\n",
              "      <th>5018</th>\n",
              "      <td>1. dwp8jut\\n</td>\n",
              "      <td>1. OP, stop being a faggot and post videos nex...</td>\n",
              "      <td>[1]</td>\n",
              "      <td>[\"using the words 'faggot fuckers' is offensiv...</td>\n",
              "    </tr>\n",
              "    <tr>\n",
              "      <th>5019</th>\n",
              "      <td>1. e76148j\\n2. \\te76uzdz\\n3. \\t\\te772r42\\n4. \\...</td>\n",
              "      <td>1. In this 20 minute long video, Top Hate and ...</td>\n",
              "      <td>[2]</td>\n",
              "      <td>[\"Using the word 'retard'  is offensive to the...</td>\n",
              "    </tr>\n",
              "  </tbody>\n",
              "</table>\n",
              "<p>5020 rows × 4 columns</p>\n",
              "</div>"
            ],
            "text/plain": [
              "                                                     id  \\\n",
              "0     1. e8q18lf\\n2. \\te8q9w5s\\n3. \\t\\te8qbobk\\n4. \\...   \n",
              "1            1. e9c6naz\\n2. \\te9d03a5\\n3. \\t\\te9d8e4d\\n   \n",
              "2     1. e84rl2i\\n2. \\te84w60l\\n3. \\t\\te8544rn\\n4. \\...   \n",
              "3                            1. e7kq72n\\n2. \\te7m24ar\\n   \n",
              "4     1. e7hdgoh\\n2. \\te7iyj6a\\n3. \\t\\te7j6iho\\n4. \\...   \n",
              "...                                                 ...   \n",
              "5015  1. e90fta8\\n2. \\te90g8px\\n3. \\t\\te90jlq5\\n4. \\...   \n",
              "5016                         1. e9b7mn2\\n2. \\te9bv6ir\\n   \n",
              "5017  1. e7q8ilv\\n2. \\te7qddqq\\n3. \\t\\te7qstbc\\n4. \\...   \n",
              "5018                                       1. dwp8jut\\n   \n",
              "5019  1. e76148j\\n2. \\te76uzdz\\n3. \\t\\te772r42\\n4. \\...   \n",
              "\n",
              "                                                   text hate_speech_idx  \\\n",
              "0     1. A subsection of retarded Hungarians? Ohh bo...             [1]   \n",
              "1     1. > \"y'all hear sumn?\"  by all means I live i...             [3]   \n",
              "2     1. wouldn't the defenders or whatever they are...             NaN   \n",
              "3     1. Because the Japanese aren't retarded and kn...             [1]   \n",
              "4     1. That might be true if we didn't have an exa...          [2, 3]   \n",
              "...                                                 ...             ...   \n",
              "5015  1. Who does she claim as *her people*?\\n2. \\tI...             [8]   \n",
              "5016  1. Here's what's going to happen:  Broward is ...             NaN   \n",
              "5017  1. Oh boy...so here comes a long venting post ...          [1, 4]   \n",
              "5018  1. OP, stop being a faggot and post videos nex...             [1]   \n",
              "5019  1. In this 20 minute long video, Top Hate and ...             [2]   \n",
              "\n",
              "                                               response  \n",
              "0     [\"I don't see a reason why it's okay to insult...  \n",
              "1     ['Persons with disabilities is the accepted te...  \n",
              "2                                                   NaN  \n",
              "3     [\"It's not right for anyone of any gender to b...  \n",
              "4     [\"You shouldn't be bringing up sensitive topic...  \n",
              "...                                                 ...  \n",
              "5015  ['its inappropriate to use the word faggot as ...  \n",
              "5016                                                NaN  \n",
              "5017  [\"using the word 'nigger' is a direct attack t...  \n",
              "5018  [\"using the words 'faggot fuckers' is offensiv...  \n",
              "5019  [\"Using the word 'retard'  is offensive to the...  \n",
              "\n",
              "[5020 rows x 4 columns]"
            ]
          },
          "metadata": {
            "tags": []
          },
          "execution_count": 3
        }
      ]
    },
    {
      "cell_type": "code",
      "metadata": {
        "id": "grZwibaF2wiQ",
        "scrolled": false,
        "outputId": "a3c6d07b-e6ab-4ee0-fc27-8fae7d97e5f0"
      },
      "source": [
        "i = 0\n",
        "for t,r in zip(reddit.text, reddit.response):\n",
        "    print(t,'\\nResponse:',r,'\\n*****************************')\n",
        "    i+=1\n",
        "    if i == 2:\n",
        "        break   "
      ],
      "execution_count": null,
      "outputs": [
        {
          "output_type": "stream",
          "text": [
            "1. A subsection of retarded Hungarians? Ohh boy. brace for a livid Bulbasaur coming in here trying to hate a hole in some of her stupider countrymen.\n",
            "2. \tHiii. Just got off work. 444 is mainly the typa guys you imagine writing for US stupid sites, but basically they just try to fit in with the Western European and US big city hipsters.   Rich kids from Budapest who feel they are brave journalistic heroes.  \n",
            "3. \t\twow i guess soyboys are the same in every country\n",
            "4. \t\t\tOwen Benjamin's soyboy song goes for every country and that's why it's so amazing. \n",
            " \n",
            "Response: [\"I don't see a reason why it's okay to insult others based on their ethnic background.\", 'Language people. You can express your ire respectfully and we insist that you do so. Thank you.', 'Stop using mental impairments for insults on posts'] \n",
            "*****************************\n",
            "1. > \"y'all hear sumn?\"  by all means I live in a small town rn (for work). 5k people here, originally a mining community. No one is protesting here. Nobody mentioned the protest today. Nobody here cares, they're busy loving their family and working hard.  Thank god for the electoral college. Liberals think we don't matter. \n",
            "2. \t[removed]\n",
            "3. \t\tah a liberal has slipped in. you can tell because the first question asked was loaded and retarded.  >  What does \"working hard\" mean? Your political views get more validated by how much manual labour you put in?   where did I say that? and yes, of course you have no clue what \"working hard\" means. Few soyboys do.  > Based on your comment regarding the EC I guess you don't really think that 2 mil majority of people who voted for Hillary don't really matter.  I shouldn't have to explain to you the point of the EC. If you want to talk to someone who is more patient with you than I am, you can check out AskThe_Donald. \n",
            " \n",
            "Response: ['Persons with disabilities is the accepted term. Consider this a first warning. We appreciate your understanding and cooperation.', 'Avert from using mental impairments as a way to insult users.'] \n",
            "*****************************\n"
          ],
          "name": "stdout"
        }
      ]
    },
    {
      "cell_type": "code",
      "metadata": {
        "colab": {
          "base_uri": "https://localhost:8080/",
          "height": 419
        },
        "id": "oClJLlbl2wiR",
        "outputId": "27adc31d-9720-47f6-8dc7-3a4703fd1469"
      },
      "source": [
        "df = pd.concat([reddit,gap])\n",
        "df = df[['text','hate_speech_idx']]\n",
        "df.reset_index(drop=True, inplace=True)\n",
        "\n",
        "df"
      ],
      "execution_count": null,
      "outputs": [
        {
          "output_type": "execute_result",
          "data": {
            "text/html": [
              "<div>\n",
              "<style scoped>\n",
              "    .dataframe tbody tr th:only-of-type {\n",
              "        vertical-align: middle;\n",
              "    }\n",
              "\n",
              "    .dataframe tbody tr th {\n",
              "        vertical-align: top;\n",
              "    }\n",
              "\n",
              "    .dataframe thead th {\n",
              "        text-align: right;\n",
              "    }\n",
              "</style>\n",
              "<table border=\"1\" class=\"dataframe\">\n",
              "  <thead>\n",
              "    <tr style=\"text-align: right;\">\n",
              "      <th></th>\n",
              "      <th>text</th>\n",
              "      <th>hate_speech_idx</th>\n",
              "    </tr>\n",
              "  </thead>\n",
              "  <tbody>\n",
              "    <tr>\n",
              "      <th>0</th>\n",
              "      <td>1. A subsection of retarded Hungarians? Ohh bo...</td>\n",
              "      <td>[1]</td>\n",
              "    </tr>\n",
              "    <tr>\n",
              "      <th>1</th>\n",
              "      <td>1. &gt; \"y'all hear sumn?\"  by all means I live i...</td>\n",
              "      <td>[3]</td>\n",
              "    </tr>\n",
              "    <tr>\n",
              "      <th>2</th>\n",
              "      <td>1. wouldn't the defenders or whatever they are...</td>\n",
              "      <td>NaN</td>\n",
              "    </tr>\n",
              "    <tr>\n",
              "      <th>3</th>\n",
              "      <td>1. Because the Japanese aren't retarded and kn...</td>\n",
              "      <td>[1]</td>\n",
              "    </tr>\n",
              "    <tr>\n",
              "      <th>4</th>\n",
              "      <td>1. That might be true if we didn't have an exa...</td>\n",
              "      <td>[2, 3]</td>\n",
              "    </tr>\n",
              "    <tr>\n",
              "      <th>...</th>\n",
              "      <td>...</td>\n",
              "      <td>...</td>\n",
              "    </tr>\n",
              "    <tr>\n",
              "      <th>16840</th>\n",
              "      <td>1. Remember this 3 months ago? The intern that...</td>\n",
              "      <td>[2]</td>\n",
              "    </tr>\n",
              "    <tr>\n",
              "      <th>16841</th>\n",
              "      <td>1. #Sweden's four major dailies aftonbladet.se...</td>\n",
              "      <td>[2]</td>\n",
              "    </tr>\n",
              "    <tr>\n",
              "      <th>16842</th>\n",
              "      <td>1. Satisfaction and justice\\n2. \\tBEST TRUMP I...</td>\n",
              "      <td>[3]</td>\n",
              "    </tr>\n",
              "    <tr>\n",
              "      <th>16843</th>\n",
              "      <td>1. Twitter BANNED me and reported me to the FB...</td>\n",
              "      <td>[2, 3]</td>\n",
              "    </tr>\n",
              "    <tr>\n",
              "      <th>16844</th>\n",
              "      <td>1. How absolutely unbelievably fascinating? A ...</td>\n",
              "      <td>[1]</td>\n",
              "    </tr>\n",
              "  </tbody>\n",
              "</table>\n",
              "<p>16845 rows × 2 columns</p>\n",
              "</div>"
            ],
            "text/plain": [
              "                                                    text hate_speech_idx\n",
              "0      1. A subsection of retarded Hungarians? Ohh bo...             [1]\n",
              "1      1. > \"y'all hear sumn?\"  by all means I live i...             [3]\n",
              "2      1. wouldn't the defenders or whatever they are...             NaN\n",
              "3      1. Because the Japanese aren't retarded and kn...             [1]\n",
              "4      1. That might be true if we didn't have an exa...          [2, 3]\n",
              "...                                                  ...             ...\n",
              "16840  1. Remember this 3 months ago? The intern that...             [2]\n",
              "16841  1. #Sweden's four major dailies aftonbladet.se...             [2]\n",
              "16842  1. Satisfaction and justice\\n2. \\tBEST TRUMP I...             [3]\n",
              "16843  1. Twitter BANNED me and reported me to the FB...          [2, 3]\n",
              "16844  1. How absolutely unbelievably fascinating? A ...             [1]\n",
              "\n",
              "[16845 rows x 2 columns]"
            ]
          },
          "metadata": {
            "tags": []
          },
          "execution_count": 176
        }
      ]
    },
    {
      "cell_type": "code",
      "metadata": {
        "colab": {
          "base_uri": "https://localhost:8080/"
        },
        "id": "Ok8Z_4Xo2wiR",
        "outputId": "99d63161-7ede-448a-9583-944ce0854306"
      },
      "source": [
        "org_len = len(df)\n",
        "df = df.dropna()\n",
        "print(df.isnull().sum())\n",
        "print(f'Total {org_len - len(df)} datas were dropped')"
      ],
      "execution_count": null,
      "outputs": [
        {
          "output_type": "stream",
          "text": [
            "text               0\n",
            "hate_speech_idx    0\n",
            "dtype: int64\n",
            "Total 1829 datas were dropped\n"
          ],
          "name": "stdout"
        }
      ]
    },
    {
      "cell_type": "code",
      "metadata": {
        "colab": {
          "base_uri": "https://localhost:8080/"
        },
        "id": "PE-S1I5F2wiS",
        "scrolled": false,
        "outputId": "a04aad93-95c8-49f5-cbb9-fc0c675f30e8"
      },
      "source": [
        "import re\n",
        "\n",
        "df['target'] = df['hate_speech_idx'].apply(lambda x: re.findall('[0-9]+',x))\n",
        "df['target'] = df['target'].apply(lambda x: list(map(int, x)))"
      ],
      "execution_count": null,
      "outputs": [
        {
          "output_type": "stream",
          "text": [
            "<ipython-input-178-251b2450670c>:3: SettingWithCopyWarning: \n",
            "A value is trying to be set on a copy of a slice from a DataFrame.\n",
            "Try using .loc[row_indexer,col_indexer] = value instead\n",
            "\n",
            "See the caveats in the documentation: https://pandas.pydata.org/pandas-docs/stable/user_guide/indexing.html#returning-a-view-versus-a-copy\n",
            "  df['target'] = df['hate_speech_idx'].apply(lambda x: re.findall('[0-9]+',x))\n",
            "<ipython-input-178-251b2450670c>:4: SettingWithCopyWarning: \n",
            "A value is trying to be set on a copy of a slice from a DataFrame.\n",
            "Try using .loc[row_indexer,col_indexer] = value instead\n",
            "\n",
            "See the caveats in the documentation: https://pandas.pydata.org/pandas-docs/stable/user_guide/indexing.html#returning-a-view-versus-a-copy\n",
            "  df['target'] = df['target'].apply(lambda x: list(map(int, x)))\n"
          ],
          "name": "stderr"
        }
      ]
    },
    {
      "cell_type": "code",
      "metadata": {
        "colab": {
          "base_uri": "https://localhost:8080/"
        },
        "id": "59FoWtWPOpod",
        "outputId": "a314a77c-b01a-4099-8d01-dd625d5f0a1f"
      },
      "source": [
        "print(type(df.target[0]))\n",
        "print(type(df.target[0][0]))"
      ],
      "execution_count": null,
      "outputs": [
        {
          "output_type": "stream",
          "text": [
            "<class 'list'>\n",
            "<class 'int'>\n"
          ],
          "name": "stdout"
        }
      ]
    },
    {
      "cell_type": "code",
      "metadata": {
        "id": "7p5r4_uPFDhV",
        "outputId": "33a1722f-0aff-428d-fc89-80cc64b075d7"
      },
      "source": [
        "max_len = max([len(label) for label in df.target])\n",
        "print(max_len)"
      ],
      "execution_count": null,
      "outputs": [
        {
          "output_type": "stream",
          "text": [
            "13\n"
          ],
          "name": "stdout"
        }
      ]
    },
    {
      "cell_type": "code",
      "metadata": {
        "id": "ZSveR1elFDhX",
        "outputId": "04a64368-fa6e-47ad-cbd6-cb0b06aa015f"
      },
      "source": [
        "#라벨이 한개인 데이터만 남김\n",
        "import numpy as np\n",
        "\n",
        "org_len = len(df)\n",
        "df['target'] = df['target'].apply(lambda x: x if len(x) ==1 else np.NaN)\n",
        "df = df.dropna()\n",
        "print(f'total {org_len - len(df)} datas are dropped')"
      ],
      "execution_count": null,
      "outputs": [
        {
          "output_type": "stream",
          "text": [
            "total 3099 datas are dropped\n"
          ],
          "name": "stdout"
        },
        {
          "output_type": "stream",
          "text": [
            "<ipython-input-173-d0079f06bb0b>:5: SettingWithCopyWarning: \n",
            "A value is trying to be set on a copy of a slice from a DataFrame.\n",
            "Try using .loc[row_indexer,col_indexer] = value instead\n",
            "\n",
            "See the caveats in the documentation: https://pandas.pydata.org/pandas-docs/stable/user_guide/indexing.html#returning-a-view-versus-a-copy\n",
            "  df['target'] = df['target'].apply(lambda x: x if len(x) ==1 else np.NaN)\n"
          ],
          "name": "stderr"
        }
      ]
    },
    {
      "cell_type": "code",
      "metadata": {
        "id": "Sb0HeQWuFDhY",
        "outputId": "b9c399e7-f7e4-463e-ffb8-c57508652beb"
      },
      "source": [
        "cnt=0\n",
        "for target, cmmt in zip(df.target, df.text):\n",
        "    if 1 not in target:\n",
        "        print('target:',target)\n",
        "        print(cmmt)\n",
        "        cnt+=1\n",
        "    if cnt > 3:\n",
        "        break"
      ],
      "execution_count": null,
      "outputs": [
        {
          "output_type": "stream",
          "text": [
            "target: [3]\n",
            "1. > \"y'all hear sumn?\"  by all means I live in a small town rn (for work). 5k people here, originally a mining community. No one is protesting here. Nobody mentioned the protest today. Nobody here cares, they're busy loving their family and working hard.  Thank god for the electoral college. Liberals think we don't matter. \n",
            "2. \t[removed]\n",
            "3. \t\tah a liberal has slipped in. you can tell because the first question asked was loaded and retarded.  >  What does \"working hard\" mean? Your political views get more validated by how much manual labour you put in?   where did I say that? and yes, of course you have no clue what \"working hard\" means. Few soyboys do.  > Based on your comment regarding the EC I guess you don't really think that 2 mil majority of people who voted for Hillary don't really matter.  I shouldn't have to explain to you the point of the EC. If you want to talk to someone who is more patient with you than I am, you can check out AskThe_Donald. \n",
            "\n",
            "target: [8]\n",
            "1. Why, what is the point of making all of that fuss over a egg McMuffin it’s probably not even real egg.\n",
            "2. \tit is actually, i worked there a long time ago. the aren't even the crappy boxed liquid egg \n",
            "3. \t\t[deleted]\n",
            "4. \t\t\tThen you're ignorant.   I worked as a grill guy at McDonald's for 2 years. I cracked thousands of eggs into holders and tipped them  into O shaped egg rings on the grill.  It's real eggs. Unless there is a fake egg that looks tastes smells and breaks exactly like a real egg. \n",
            "5. \t\t\t\tI don't believe you. No way McDonald's could sell eggs, *eggs*, at that price. Only the highest end restaurants would sell such a luxury food. Chicken eggs are a delicacy and I won't let you fill me with lies. \n",
            "6. \t\t\t\t\tCould be a loss leader. Also, you probably get eggs pretty cheap when you buy as many as McDonald's does. \n",
            "7. \t\t\t\t\t\tHe was joking.\n",
            "8. \t\t\t\t\t\t\tjesus, this is the most retarded thread i've read in a while.\n",
            "9. \t\t\t\t\t\t\t\tOh no you didn't. You did not just use that ableist word.\n",
            "\n",
            "target: [8]\n",
            "1. Where in the fuck do these women get these entitled attitudes from?  She deserved everything she got.  You should expect to get punched in the face for acting like that.\n",
            "2. \tGetting away with it for their entire lives.  Like a badly trained dog or a toddler that is never punished correctly they learn this behaviour through lack of consequences.  The blame thusly lays squarely at the feet of their family unit (dysfunctional/fatherless/abusive/etc), their direct social circle (friends, co workers and people they studied with) and then only indirectly at the people they surround themselves with in their wider community and society.  Because it takes a trashy low quality human to produce more trashy low quality humans you tend to get pockets of these spring up in specific \"community bubbles\" as they tend to be self rewarding - for example if your entire family is like this then they put direct pressure on everyone else they come in contact with in that neighbourhood/area to also conform to that type of behaviour which has a cumulative effect if other trashy families are also present.   TLDR - this is learned behaviour. \n",
            "3. \t\tHave you noticed that you typically see more of this type of behavior from females than males?  Do you think that it's because some parents are 'easier' and more indulgent on girls? Or is it bacause some people think they can bully their way into getting what they want because a vast number of people these days are afraid of confrontation?  I'm the mother to a teenage boy and if he ever even thought about acting like this he would not enjoy the consequences.  I agree with you 100% this behavior is learned at an early age.\n",
            "4. \t\t\tParrents are **100%** more relaxed on their female children. (This is coming from a 16 year old male with two brothers and two sisters)  So many times in the past my mom and dad have been very relaxed, and a lot less likely to jump to harsh punishment toward my sister's even if what they did was pretty bad. As well, my parents for some reason let my older sister get a smartphone at like 13, but I didn't get one till I was 15. :/\n",
            "5. \t\t\t\t>Parrents are **100%** more relaxed on their female children.   Bull fucking shit. I got punished for everything I did wrong and for some things I didn't even do. I have 3 brothers and 2 sisters and the boys in my family were treated like gold. As the oldest of my full-blooded siblings (2 younger brothers), I was afforded luxuries before them because I was older, not because of some pussypass shit. Untwist your perceptions, my dude.\n",
            "6. \t\t\t\t\tMy father and mother loved beating the shit out of me physically and emotionally, but my sisters were treated like they'd been touched by Midas himself. It's almost like all families are different and perhaps people shouldn't interpret other people's experiences through their own lens. Just because the kid up there said it's 100&#37; true doesn't mean it is.\n",
            "7. \t\t\t\t\t\t>Just because the kid up there said it's 100&#37; true doesn't mean it is.  Right. That's exactly what I was trying to convey. Every family is different and to make blanket statements like PC did is not helpful and is just untrue.  I'm truly sorry about what happened to you as a child. No one should have to endure that.  EDIT: changed OP to PC (parent commenter)\n",
            "8. \t\t\t\t\t\t\tAh, yeah, I can see what you mean. Also, thanks for empathizing; it sucked but I made it through, and they're no longer in my life.  Sorry my tone was a little cunty. Everyone kinda has certain ways of replying based on which subreddit they're on, heh. \n",
            "\n",
            "target: [2]\n",
            "1. This is the same kind of bullshit reporting that led everybody to believe the wage-gap myth. I would expect nothing better from the shambles which is the current state of the New York Times.   The comparison of mens’ and womens’ penalties as an argument that one sex or the other is being discriminated against is ridiculous. You really need to know how often they break the rules vs how often they are penalized. A comparison of that ratio for each sex would tell you if there was really any favoritism. \n",
            "2. \tThe wage-gap bullshit has been debunked so easily so many times, I'm surprised there are retards out there who still believe in it.  \n",
            "\n"
          ],
          "name": "stdout"
        }
      ]
    },
    {
      "cell_type": "code",
      "metadata": {
        "colab": {
          "base_uri": "https://localhost:8080/"
        },
        "id": "P4v8540w2wiS",
        "outputId": "cc13f450-96d2-41a2-fa19-bb100d383d80"
      },
      "source": [
        "max_label = 0\n",
        "\n",
        "for i,l_list in enumerate(df.target):\n",
        "    for label in l_list:\n",
        "        if label > max_label:\n",
        "            max_label = label\n",
        "        elif label == max_label:\n",
        "            print(i,max_label)"
      ],
      "execution_count": null,
      "outputs": [
        {
          "output_type": "stream",
          "text": [
            "3 3\n",
            "5 8\n",
            "27 8\n",
            "98 17\n",
            "1097 20\n",
            "1863 20\n",
            "1939 20\n",
            "2852 20\n",
            "2889 20\n",
            "3099 20\n",
            "3311 20\n",
            "3723 20\n",
            "4338 20\n",
            "4348 20\n",
            "4413 20\n",
            "7350 20\n",
            "10058 20\n",
            "12267 20\n",
            "12680 20\n",
            "13754 20\n"
          ],
          "name": "stdout"
        }
      ]
    },
    {
      "cell_type": "code",
      "metadata": {
        "colab": {
          "base_uri": "https://localhost:8080/"
        },
        "id": "BOIxtVk32wiS",
        "outputId": "a1c6559e-0df0-4626-c0fd-421844761ccf"
      },
      "source": [
        "cmmt = []\n",
        "for cnt, cmmts in enumerate(df.text):\n",
        "    texts = []\n",
        "    if len(cmmt) != cnt:\n",
        "        print(cnt)\n",
        "        break\n",
        "    for i in range(1,22):\n",
        "        try:\n",
        "            if i == 1:\n",
        "                text = cmmts.split(f'{i}. ')[1]\n",
        "            else:\n",
        "                text = cmmts.split(f'\\n{i}. ')[1]\n",
        "            text = text.split(f'\\n{i+1}. ')[0]\n",
        "            text = text.strip()\n",
        "            texts.append(text) \n",
        "            \n",
        "        except IndexError:\n",
        "            cmmt.append(texts)\n",
        "            if cnt == len(df.text)-1:\n",
        "                print('Splitting all rows is finished')\n",
        "            break"
      ],
      "execution_count": null,
      "outputs": [
        {
          "output_type": "stream",
          "text": [
            "Splitting all rows is finished\n"
          ],
          "name": "stdout"
        }
      ]
    },
    {
      "cell_type": "code",
      "metadata": {
        "colab": {
          "base_uri": "https://localhost:8080/",
          "height": 521
        },
        "id": "F6Xw-3Po2wiU",
        "outputId": "ff744e76-1556-44f7-b92e-e733c90be1d3"
      },
      "source": [
        "df['cmmt_list'] = cmmt\n",
        "data = df[['target','cmmt_list']]\n",
        "data"
      ],
      "execution_count": null,
      "outputs": [
        {
          "output_type": "stream",
          "text": [
            "<ipython-input-180-2430bc1765ce>:1: SettingWithCopyWarning: \n",
            "A value is trying to be set on a copy of a slice from a DataFrame.\n",
            "Try using .loc[row_indexer,col_indexer] = value instead\n",
            "\n",
            "See the caveats in the documentation: https://pandas.pydata.org/pandas-docs/stable/user_guide/indexing.html#returning-a-view-versus-a-copy\n",
            "  df['cmmt_list'] = cmmt\n"
          ],
          "name": "stderr"
        },
        {
          "output_type": "execute_result",
          "data": {
            "text/html": [
              "<div>\n",
              "<style scoped>\n",
              "    .dataframe tbody tr th:only-of-type {\n",
              "        vertical-align: middle;\n",
              "    }\n",
              "\n",
              "    .dataframe tbody tr th {\n",
              "        vertical-align: top;\n",
              "    }\n",
              "\n",
              "    .dataframe thead th {\n",
              "        text-align: right;\n",
              "    }\n",
              "</style>\n",
              "<table border=\"1\" class=\"dataframe\">\n",
              "  <thead>\n",
              "    <tr style=\"text-align: right;\">\n",
              "      <th></th>\n",
              "      <th>target</th>\n",
              "      <th>cmmt_list</th>\n",
              "    </tr>\n",
              "  </thead>\n",
              "  <tbody>\n",
              "    <tr>\n",
              "      <th>0</th>\n",
              "      <td>[1]</td>\n",
              "      <td>[A subsection of retarded Hungarians? Ohh boy....</td>\n",
              "    </tr>\n",
              "    <tr>\n",
              "      <th>1</th>\n",
              "      <td>[3]</td>\n",
              "      <td>[&gt; \"y'all hear sumn?\"  by all means I live in ...</td>\n",
              "    </tr>\n",
              "    <tr>\n",
              "      <th>3</th>\n",
              "      <td>[1]</td>\n",
              "      <td>[Because the Japanese aren't retarded and know...</td>\n",
              "    </tr>\n",
              "    <tr>\n",
              "      <th>4</th>\n",
              "      <td>[2, 3]</td>\n",
              "      <td>[That might be true if we didn't have an examp...</td>\n",
              "    </tr>\n",
              "    <tr>\n",
              "      <th>5</th>\n",
              "      <td>[8]</td>\n",
              "      <td>[Why, what is the point of making all of that ...</td>\n",
              "    </tr>\n",
              "    <tr>\n",
              "      <th>...</th>\n",
              "      <td>...</td>\n",
              "      <td>...</td>\n",
              "    </tr>\n",
              "    <tr>\n",
              "      <th>16840</th>\n",
              "      <td>[2]</td>\n",
              "      <td>[Remember this 3 months ago? The intern that y...</td>\n",
              "    </tr>\n",
              "    <tr>\n",
              "      <th>16841</th>\n",
              "      <td>[2]</td>\n",
              "      <td>[#Sweden's four major dailies aftonbladet.se, ...</td>\n",
              "    </tr>\n",
              "    <tr>\n",
              "      <th>16842</th>\n",
              "      <td>[3]</td>\n",
              "      <td>[Satisfaction and justice, BEST TRUMP INSTANT ...</td>\n",
              "    </tr>\n",
              "    <tr>\n",
              "      <th>16843</th>\n",
              "      <td>[2, 3]</td>\n",
              "      <td>[Twitter BANNED me and reported me to the FBI ...</td>\n",
              "    </tr>\n",
              "    <tr>\n",
              "      <th>16844</th>\n",
              "      <td>[1]</td>\n",
              "      <td>[How absolutely unbelievably fascinating? A Pa...</td>\n",
              "    </tr>\n",
              "  </tbody>\n",
              "</table>\n",
              "<p>15016 rows × 2 columns</p>\n",
              "</div>"
            ],
            "text/plain": [
              "       target                                          cmmt_list\n",
              "0         [1]  [A subsection of retarded Hungarians? Ohh boy....\n",
              "1         [3]  [> \"y'all hear sumn?\"  by all means I live in ...\n",
              "3         [1]  [Because the Japanese aren't retarded and know...\n",
              "4      [2, 3]  [That might be true if we didn't have an examp...\n",
              "5         [8]  [Why, what is the point of making all of that ...\n",
              "...       ...                                                ...\n",
              "16840     [2]  [Remember this 3 months ago? The intern that y...\n",
              "16841     [2]  [#Sweden's four major dailies aftonbladet.se, ...\n",
              "16842     [3]  [Satisfaction and justice, BEST TRUMP INSTANT ...\n",
              "16843  [2, 3]  [Twitter BANNED me and reported me to the FBI ...\n",
              "16844     [1]  [How absolutely unbelievably fascinating? A Pa...\n",
              "\n",
              "[15016 rows x 2 columns]"
            ]
          },
          "metadata": {
            "tags": []
          },
          "execution_count": 180
        }
      ]
    },
    {
      "cell_type": "code",
      "metadata": {
        "colab": {
          "base_uri": "https://localhost:8080/"
        },
        "id": "33Z9cKTy2wiU",
        "scrolled": true,
        "outputId": "c964d54b-22b6-4a4c-c772-6e78590315c8"
      },
      "source": [
        "#Non toxic 코멘트 추가\n",
        "org_data = len(data)\n",
        "\n",
        "for cmmt, labels in zip(data.cmmt_list, data.target):\n",
        "    for i in range(labels[-1]): #toxic speech가 있는 열까지만 출력\n",
        "        if i+1 not in labels:\n",
        "            try:\n",
        "                data = data.append({'target':0,'cmmt_list':[cmmt[i]]},ignore_index=True)\n",
        "            except IndexError:\n",
        "                print(i)\n",
        "                print(labels)\n",
        "                print(len(cmmt))\n",
        "                break\n",
        "            \n",
        "print(f'Total {len(data)-org_data} of non_toxic commets are added')"
      ],
      "execution_count": null,
      "outputs": [
        {
          "output_type": "stream",
          "text": [
            "14\n",
            "[20]\n",
            "14\n",
            "Total 20358 of non_toxic commets are added\n"
          ],
          "name": "stdout"
        }
      ]
    },
    {
      "cell_type": "code",
      "metadata": {
        "id": "nYgihkdnFDha",
        "outputId": "95864b58-e65f-4336-9feb-4e03e7bdebbe"
      },
      "source": [
        "for i, (cmmt, labels) in enumerate(zip(data.cmmt_list, data.target)):\n",
        "    if labels == [20] and len(cmmt) < 20:\n",
        "        print(i)"
      ],
      "execution_count": null,
      "outputs": [
        {
          "output_type": "stream",
          "text": [
            "3311\n"
          ],
          "name": "stdout"
        }
      ]
    },
    {
      "cell_type": "code",
      "metadata": {
        "id": "s4evmoypFDha",
        "outputId": "6ec06b3a-fee8-4b15-e73c-f5475f2f1977"
      },
      "source": [
        "print(df.text.iloc[3311])\n",
        "print(df.cmmt_list.iloc[3311])\n",
        "print(df.target.iloc[3311])"
      ],
      "execution_count": null,
      "outputs": [
        {
          "output_type": "stream",
          "text": [
            "1. Disney princesses have been heavily criticized by actual feminists for as long as the two have existed. Just because the SJW crowd is suddenly getting into it doesn't mean they're wrong. \n",
            "2. \tThen again, what makes you say feminists are automatically right? ACTUAL feminists include women who wanted black people's voting to never happen, men to be reduced to 10% of society and said all penis-in-vagina is automatically rape. It's not like we are talking about a group that exists therefore is right. \n",
            "3. \t\tI didn't say they're automatically right.. I said that they're right in this situation. The message of The Little Mermaid is quite literally to give up absolutely everything that you are in order to find \"the perfect man\". Ironically the original fairytale had the exact opposite message, to learn to be comfortable with who you are instead of relying on other people to make you happy. Cinderella was again about how you aren't worthy until you change your appearance and demeanor.  What's funny is something like Aladdin which was a gender swap of the same premise, ultimately ended with the message being not to lie, but instead to be yourself.  Beauty and the Beast was about legit stockholme syndrome. Fall in love with abusive assholes just because it's better than being single. The hardworking Gaston is considered an ass for all of his negative traits, the Beast, whose accomplishments are a result of birth-rite, does all of the exact same negative shit, but he's considered a good guy.  What shocks me is feminists who don't spot these glaring problems, but instead blindly support Disney. \"The Force is Female\" is a marketing slogan, not a philosophy. And where did you get your \"ACTUAL\" feminists? You're talking about extremists. Extremists are never a good thing and are almost always a minority. For every Andrea Dworkin there are 20 non-vocal, even-tempered feminists. For every Roosh-V there are 20 normal non-sexist MRAs.\n",
            "4. \t\t\tHow many stories are about men giving up everything and risking it all for being with the perfect woman, protecting her, caring about her, etc.? I'm not saying it should be the rule of law, but for many people that's how they want to be and how they are. Now you will say because muh society, but it has always been that way. You don't have to like it. But if you deny that risking everything for love is something people do, then you are being disingenuous.   With Cinderella you should also consider that the prince loved her even when he found out what she really was. Like you can't ignore the fact they had no chance at meeting otherwise.      Aladdin is completely different, though. He literally created a whole, complex lie with stories made up of his deeds. Like there is a whole song of the Genie going around and saying outright lies about him. He created a whole new persona, while Cinderella just went to the ball.      Belle only started liking the Beast once he started being nicer. She hated and feared him when he was mean. Girl kept trying to get away from him. It's again, disingenuous to say she fell in love with him.    Both him and Gaston started out as dickbags, but the Beast was willing to work on himself and become a much better person. Gaston, even to his last moment was an aggressive person and refused to listen to Belle. Even with Maurice, while the Beast imprisoned him at first, he exchanged him for Belle, then also let even her go when Maurice was ill.    To me one of the big themes of the movie is how you can change, better yourself and set things right if you try. (I think one song in the movie even has lyrics along those lines.)       The feminists I talked about? Elizabeth Cady Stanton   > Elizabeth Cady Stanton (November 12, 1815 – October 26, 1902) was an American suffragist, social activist, abolitionist, and leading figure of the early women's rights movement. Her Declaration of Sentiments, presented at the Seneca Falls Convention held in 1848 in Seneca Falls, New York, is often credited with initiating the first organized women's rights and women's suffrage movements in the United States.[1][2] Stanton was president of the National Woman Suffrage Association from 1892 until 1900.        Sally Miller Gearhart    > Sally Miller Gearhart (born April 15, 1931) is an American teacher, feminist, science-fiction writer, and political activist.[1] In 1973, she became the first open lesbian to obtain a tenure-track faculty position when she was hired by San Francisco State University, where she helped establish one of the first women and gender study programs in the country.[2] She later became a nationally known gay rights activist.      And Andrea Dworkin, whom I probably don't have to introduce at all.   Conveniently, she is the only one who is considered a radical feminist, though not at all a little fringe no-name nobody.    Please, do the typical thing and declare that the biggest of big name organisers or feminism are totally not actual feminists. Because YOU know what feminism REALLY is about, somehow Emmeline Pankhurt (suffragette and also white feather movement supporter), Germaine Greer (influential second-waver and also supporter of female-on-male pedophilia) or Marion Zimmer Bradley (celebrated feminist fantasy author and habitual incestuous child rapist) were not real. None of them actually are, just you. \n",
            "5. \t\t\t\tJesus! Fuck you're nutty. You've read into my statements as if I'm somehow in support of internment camps for men. You're just as fucking nuts as those lunatics. Go fight your gender war somewhere else.  &#x200B;  We're talking about whether the stories reinterpretted by Disney are sexist or not, not whether other stories are sexist or whether some feminists are batshit crazy. Establishing that good things will only happen for you when you literally give up on who you are is damaging. What I literally said is that they're not wrong to say that Disney has pushed some pretty sexist messages in their media in an attempt to profit. They care about women's right about as much as Obama. Hint: They don't, they just like to talk about it.\n",
            "6. \t\t\t\t\t> What I literally said is that they're not wrong to say that Disney has pushed some pretty sexist messages  Or they are movies in which people like you decide to read sexist messages into. People read into pieces of art the things that they want to see. That's why great works are always so discussed and analyzed. Everybody has a different perspective. Unless Disney explicitly says what their message is, it's just your interpretation being imposed on them.\n",
            "7. \t\t\t\t\t\tI just said this to someone else, but.... Disney princess movies are advertised to extremely young children. Not middle aged women. A middle aged woman somehow being manipulated by some shitty disney movie probably has more to worry about than \"the big bad media\". A 6 year old though? Her first interpretation of male/female relationships is one of pure fantasy. Generally speaking boys at the same age are watching adventure movies/shows like Transformers, Ninja turtles or Pokemon. They're about making friends, having a good time and being morally right. Shows advertised to girls(at least back in the 80s-90s) are generally about finding the right guy.\n",
            "8. \t\t\t\t\t\t\t>Disney princess movies are advertised to extremely young children. Not middle aged women.  So? Kids who watch Superman don't usually try to jump off the roof with a towel around them.  Even kids can grasp the nature of reality.  >Her first interpretation of male/female relationships is one of pure fantasy.  Actually it would be his/her parents and family members.  >Shows advertised to girls(at least back in the 80s-90s) are generally about finding the right guy.  Jem, My Little Pony, She-Ra, Punky Brewster, Strawberry Shortcake, would all disagree with you.  What shows were you talking about exactly?  And how is this a sexist message anyways? If it's what girls like and want to see.\n",
            "9. \t\t\t\t\t\t\t\tI'm certain I could find a ton of stories of kids being stupid with makeshift capes. That's not the point though. The point is that kids absolutely do want to emulate Superman's morals. They use those stories as a way of determining how they act around others. A story about a very fantastical interaction is going to create an idea of fantasy. I'm sure little girls want to become mermaids, the same as boys want to become superman, the difference is interpersonal relationships.  Generally speaking a familial relationship is viewed entirely differently. A kid generally doesn't watch their parents go on dates, they don't watch their parents fall in love. Even those with a broken household still aren't sitting in on their mother's date with suitor #2. The nuance of attraction is being simulated with camera work and sound in movies and tv shows.  Kids are attracted to colors, not so much stories. Designing a story with pink colours but doesn't feature a relationship is absolutely doable and I don't think people take issue with it. It's the shows that are pink in colour and are pushing some tumultuous, romantic subplot that become a problem. Boy Meets World is about a kid, his brother and best friend screwing around. Season 3 introduces a romantic subplot that's treated in a fairly healthy way throughout the rest of the series. Girl Meets World is about a girl and her best friend dealing with dramatic relationships right from day 1.\n",
            "10. \t\t\t\t\t\t\t\t\tThose goal posts are getting pretty hard to make out from here.  >A story about a very fantastical interaction is going to create an idea of fantasy. I'm sure little girls want to become mermaids, the same as boys want to become superman, the difference is interpersonal relationships.  Fantasy is not reality. Even children know this.  Interpersonal skills are learned from interacting with other people. Not from watching media. no one, even kids emulates these characters in real life. Unless you hace evidence otherwise?  >Generally speaking a familial relationship is viewed entirely differently. A kid generally doesn't watch their parents go on dates, they don't watch their parents fall in love.  No. But they do watch them kiss, hug, interrelate, see how they manage conflicts etc.  This is their first experience with relationships, despite what you claimed.  I can still kind of see that goal post creeping back.  >Kids are attracted to colors, not so much stories. Designing a story with pink colours but doesn't feature a relationship is absolutely doable and I don't think people take issue with it. It's the shows that are pink in colour and are pushing some tumultuous, romantic subplot that become a problem. Boy Meets World is about a kid, his brother and best friend screwing around. Season 3 introduces a romantic subplot that's treated in a fairly healthy way throughout the rest of the series. Girl Meets World is about a girl and her best friend dealing with dramatic relationships right from day 1.  Girl Meets World? You mean the show from 2014?  >Shows advertised to girls(at least back in the 80s-90s) are generally about finding the right guy.  There goes the goal post, out of sight forever.\n",
            "11. \t\t\t\t\t\t\t\t\t\tI feel as if you're afraid of the word feminism.  I thought we were having a conversation. Not an \"agree with me or you're wrong\". Sometimes this sub devolves to the same shit as the radfems.\n",
            "12. \t\t\t\t\t\t\t\t\t\t\tI don't recall ever mentioning feminism. But this is why we were never really having a conversation. You can't respond to the things I say.\n",
            "13. \t\t\t\t\t\t\t\t\t\t\t\tGo back to bitching about goalposts retard. \n",
            "14. \t\t\t\t\t\t\t\t\t\t\t\t\t>Go back to bitching about goalposts retard.  You are getting a Rule 1 warning for this. Knock off the name calling.\n",
            "\n",
            "[\"Disney princesses have been heavily criticized by actual feminists for as long as the two have existed. Just because the SJW crowd is suddenly getting into it doesn't mean they're wrong.\", \"Then again, what makes you say feminists are automatically right? ACTUAL feminists include women who wanted black people's voting to never happen, men to be reduced to 10% of society and said all penis-in-vagina is automatically rape. It's not like we are talking about a group that exists therefore is right.\", 'I didn\\'t say they\\'re automatically right.. I said that they\\'re right in this situation. The message of The Little Mermaid is quite literally to give up absolutely everything that you are in order to find \"the perfect man\". Ironically the original fairytale had the exact opposite message, to learn to be comfortable with who you are instead of relying on other people to make you happy. Cinderella was again about how you aren\\'t worthy until you change your appearance and demeanor.  What\\'s funny is something like Aladdin which was a gender swap of the same premise, ultimately ended with the message being not to lie, but instead to be yourself.  Beauty and the Beast was about legit stockholme syndrome. Fall in love with abusive assholes just because it\\'s better than being single. The hardworking Gaston is considered an ass for all of his negative traits, the Beast, whose accomplishments are a result of birth-rite, does all of the exact same negative shit, but he\\'s considered a good guy.  What shocks me is feminists who don\\'t spot these glaring problems, but instead blindly support Disney. \"The Force is Female\" is a marketing slogan, not a philosophy. And where did you get your \"ACTUAL\" feminists? You\\'re talking about extremists. Extremists are never a good thing and are almost always a minority. For every Andrea Dworkin there are 20 non-vocal, even-tempered feminists. For every Roosh-V there are 20 normal non-sexist MRAs.', \"How many stories are about men giving up everything and risking it all for being with the perfect woman, protecting her, caring about her, etc.? I'm not saying it should be the rule of law, but for many people that's how they want to be and how they are. Now you will say because muh society, but it has always been that way. You don't have to like it. But if you deny that risking everything for love is something people do, then you are being disingenuous.   With Cinderella you should also consider that the prince loved her even when he found out what she really was. Like you can't ignore the fact they had no chance at meeting otherwise.      Aladdin is completely different, though. He literally created a whole, complex lie with stories made up of his deeds. Like there is a whole song of the Genie going around and saying outright lies about him. He created a whole new persona, while Cinderella just went to the ball.      Belle only started liking the Beast once he started being nicer. She hated and feared him when he was mean. Girl kept trying to get away from him. It's again, disingenuous to say she fell in love with him.    Both him and Gaston started out as dickbags, but the Beast was willing to work on himself and become a much better person. Gaston, even to his last moment was an aggressive person and refused to listen to Belle. Even with Maurice, while the Beast imprisoned him at first, he exchanged him for Belle, then also let even her go when Maurice was ill.    To me one of the big themes of the movie is how you can change, better yourself and set things right if you try. (I think one song in the movie even has lyrics along those lines.)       The feminists I talked about? Elizabeth Cady Stanton   > Elizabeth Cady Stanton (November 12, 1815 – October 26, 1902) was an American suffragist, social activist, abolitionist, and leading figure of the early women's rights movement. Her Declaration of Sentiments, presented at the Seneca Falls Convention held in 1848 in Seneca Falls, New York, is often credited with initiating the first organized women's rights and women's suffrage movements in the United States.[1][2] Stanton was president of the National Woman Suffrage Association from 1892 until 1900.        Sally Miller Gearhart    > Sally Miller Gearhart (born April 15, 1931) is an American teacher, feminist, science-fiction writer, and political activist.[1] In 1973, she became the first open lesbian to obtain a tenure-track faculty position when she was hired by San Francisco State University, where she helped establish one of the first women and gender study programs in the country.[2] She later became a nationally known gay rights activist.      And Andrea Dworkin, whom I probably don't have to introduce at all.   Conveniently, she is the only one who is considered a radical feminist, though not at all a little fringe no-name nobody.    Please, do the typical thing and declare that the biggest of big name organisers or feminism are totally not actual feminists. Because YOU know what feminism REALLY is about, somehow Emmeline Pankhurt (suffragette and also white feather movement supporter), Germaine Greer (influential second-waver and also supporter of female-on-male pedophilia) or Marion Zimmer Bradley (celebrated feminist fantasy author and habitual incestuous child rapist) were not real. None of them actually are, just you.\", \"Jesus! Fuck you're nutty. You've read into my statements as if I'm somehow in support of internment camps for men. You're just as fucking nuts as those lunatics. Go fight your gender war somewhere else.  &#x200B;  We're talking about whether the stories reinterpretted by Disney are sexist or not, not whether other stories are sexist or whether some feminists are batshit crazy. Establishing that good things will only happen for you when you literally give up on who you are is damaging. What I literally said is that they're not wrong to say that Disney has pushed some pretty sexist messages in their media in an attempt to profit. They care about women's right about as much as Obama. Hint: They don't, they just like to talk about it.\", \"> What I literally said is that they're not wrong to say that Disney has pushed some pretty sexist messages  Or they are movies in which people like you decide to read sexist messages into. People read into pieces of art the things that they want to see. That's why great works are always so discussed and analyzed. Everybody has a different perspective. Unless Disney explicitly says what their message is, it's just your interpretation being imposed on them.\", 'I just said this to someone else, but.... Disney princess movies are advertised to extremely young children. Not middle aged women. A middle aged woman somehow being manipulated by some shitty disney movie probably has more to worry about than \"the big bad media\". A 6 year old though? Her first interpretation of male/female relationships is one of pure fantasy. Generally speaking boys at the same age are watching adventure movies/shows like Transformers, Ninja turtles or Pokemon. They\\'re about making friends, having a good time and being morally right. Shows advertised to girls(at least back in the 80s-90s) are generally about finding the right guy.', \">Disney princess movies are advertised to extremely young children. Not middle aged women.  So? Kids who watch Superman don't usually try to jump off the roof with a towel around them.  Even kids can grasp the nature of reality.  >Her first interpretation of male/female relationships is one of pure fantasy.  Actually it would be his/her parents and family members.  >Shows advertised to girls(at least back in the 80s-90s) are generally about finding the right guy.  Jem, My Little Pony, She-Ra, Punky Brewster, Strawberry Shortcake, would all disagree with you.  What shows were you talking about exactly?  And how is this a sexist message anyways? If it's what girls like and want to see.\", \"I'm certain I could find a ton of stories of kids being stupid with makeshift capes. That's not the point though. The point is that kids absolutely do want to emulate Superman's morals. They use those stories as a way of determining how they act around others. A story about a very fantastical interaction is going to create an idea of fantasy. I'm sure little girls want to become mermaids, the same as boys want to become superman, the difference is interpersonal relationships.  Generally speaking a familial relationship is viewed entirely differently. A kid generally doesn't watch their parents go on dates, they don't watch their parents fall in love. Even those with a broken household still aren't sitting in on their mother's date with suitor #2. The nuance of attraction is being simulated with camera work and sound in movies and tv shows.  Kids are attracted to colors, not so much stories. Designing a story with pink colours but doesn't feature a relationship is absolutely doable and I don't think people take issue with it. It's the shows that are pink in colour and are pushing some tumultuous, romantic subplot that become a problem. Boy Meets World is about a kid, his brother and best friend screwing around. Season 3 introduces a romantic subplot that's treated in a fairly healthy way throughout the rest of the series. Girl Meets World is about a girl and her best friend dealing with dramatic relationships right from day 1.\", \"Those goal posts are getting pretty hard to make out from here.  >A story about a very fantastical interaction is going to create an idea of fantasy. I'm sure little girls want to become mermaids, the same as boys want to become superman, the difference is interpersonal relationships.  Fantasy is not reality. Even children know this.  Interpersonal skills are learned from interacting with other people. Not from watching media. no one, even kids emulates these characters in real life. Unless you hace evidence otherwise?  >Generally speaking a familial relationship is viewed entirely differently. A kid generally doesn't watch their parents go on dates, they don't watch their parents fall in love.  No. But they do watch them kiss, hug, interrelate, see how they manage conflicts etc.  This is their first experience with relationships, despite what you claimed.  I can still kind of see that goal post creeping back.  >Kids are attracted to colors, not so much stories. Designing a story with pink colours but doesn't feature a relationship is absolutely doable and I don't think people take issue with it. It's the shows that are pink in colour and are pushing some tumultuous, romantic subplot that become a problem. Boy Meets World is about a kid, his brother and best friend screwing around. Season 3 introduces a romantic subplot that's treated in a fairly healthy way throughout the rest of the series. Girl Meets World is about a girl and her best friend dealing with dramatic relationships right from day 1.  Girl Meets World? You mean the show from 2014?  >Shows advertised to girls(at least back in the 80s-90s) are generally about finding the right guy.  There goes the goal post, out of sight forever.\", 'I feel as if you\\'re afraid of the word feminism.  I thought we were having a conversation. Not an \"agree with me or you\\'re wrong\". Sometimes this sub devolves to the same shit as the radfems.', \"I don't recall ever mentioning feminism. But this is why we were never really having a conversation. You can't respond to the things I say.\", 'Go back to bitching about goalposts retard.', '>Go back to bitching about goalposts retard.  You are getting a Rule 1 warning for this. Knock off the name calling.']\n",
            "[20]\n"
          ],
          "name": "stdout"
        }
      ]
    },
    {
      "cell_type": "code",
      "metadata": {
        "id": "RQkZi22HFDha"
      },
      "source": [
        "data = data.drop(data.index[3311])\n",
        "data = data.reset_index(drop=True)"
      ],
      "execution_count": null,
      "outputs": []
    },
    {
      "cell_type": "code",
      "metadata": {
        "id": "ic7H4_IjFDhb",
        "outputId": "521ac378-b7f4-4419-8276-9e8ffa0af0c4"
      },
      "source": [
        "df_2 = data[['cmmt_list','target']]\n",
        "\n",
        "for idx, cmmts in enumerate(data['cmmt_list']):\n",
        "    cnt = 0\n",
        "    org_len = len(cmmts)\n",
        "    new_text = []\n",
        "    new_label = [0] * len(data['target'][idx])\n",
        "    \n",
        "    for i,cmmt in enumerate(cmmts):\n",
        "        if cmmt == '[deleted]' or cmmt == '[removed]' or cmmt == 'deleted' or cmmt == 'removed':\n",
        "            #라벨 변경\n",
        "            for j,label in enumerate(data['target'][idx]):\n",
        "                #[deleted]나 [removed]가 label이었으면 해당 라벨 제거\n",
        "                if label == i+1: \n",
        "                    data['target'][idx].remove(i+1)\n",
        "                    print(f'deleted wrong label at index{idx}')\n",
        "                #[deleted]나 [removed]보다 뒷 문장에 매겨진 라벨들은 -1해줌\n",
        "                elif label > i+1:\n",
        "                    new_label[j]+=1\n",
        "            #delete 개수 세기\n",
        "            cnt+=1\n",
        "        else:\n",
        "            new_text.append(cmmt)\n",
        "    \n",
        "    if org_len - len(new_text) == cnt and cnt != 0:\n",
        "        data['cmmt_list'][idx] = new_text\n",
        "        for j in range(len(data['target'][idx])):\n",
        "            data['target'][idx][j] = data['target'][idx][j] - new_label[j]\n",
        "            \n",
        "    elif org_len - len(new_text) == cnt and cnt == 0:\n",
        "        pass\n",
        "    else:\n",
        "        print(f'Index {idx} has error')\n",
        "        break\n",
        "\n",
        "cnt=0\n",
        "for new, org in zip(data['cmmt_list'], df_2['cmmt_list']):\n",
        "    idx = 0\n",
        "    if new != org:\n",
        "        for i in range(len(org)):\n",
        "            try:\n",
        "                if new[i-idx] != org[i]:\n",
        "                    cnt+=1\n",
        "                    idx+=1\n",
        "                    \n",
        "            except IndexError: #맨 마지막 문장이 삭제된 경우\n",
        "                cnt+=1\n",
        "            \n",
        "print(f'total {cnt} of [deleted]/[removed] sentences are deleted')          "
      ],
      "execution_count": null,
      "outputs": [
        {
          "output_type": "stream",
          "text": [
            "deleted wrong label at index3250\n",
            "total 411 of [deleted]/[removed] sentences are deleted\n"
          ],
          "name": "stdout"
        }
      ]
    },
    {
      "cell_type": "code",
      "metadata": {
        "id": "YvITfHUSFDhc",
        "outputId": "44ba5876-05e2-470a-8cf2-1bf63341c9d4"
      },
      "source": [
        "df.text.iloc[3250]"
      ],
      "execution_count": null,
      "outputs": [
        {
          "output_type": "execute_result",
          "data": {
            "text/plain": [
              "\"1. [deleted]\\n2. \\tI would have turned tricks in an alley to get me a remastered Diablo 2. But this... this is full retard.\\n3. \\t\\tIt's ridiculous, fans keep flat out telling Blizzard what they want (remakes of WarCraft 1 & 2 and Diablo 1 & 2) and not only does Blizzard actively ignore them, on multiple occasions Blizzard executives have said gamers are stupid and that those older games aren't any good. \\n\""
            ]
          },
          "metadata": {
            "tags": []
          },
          "execution_count": 183
        }
      ]
    },
    {
      "cell_type": "code",
      "metadata": {
        "id": "GfTi2n5HFDhd"
      },
      "source": [
        "data = data.drop(data.index[3250])\n",
        "data = data.reset_index(drop=True)"
      ],
      "execution_count": null,
      "outputs": []
    },
    {
      "cell_type": "code",
      "metadata": {
        "id": "phDdxa6BFDhd",
        "outputId": "43e1f7f3-9a52-4558-f204-16924227c779"
      },
      "source": [
        "df_2 = data[['cmmt_list','target']]\n",
        "df_2"
      ],
      "execution_count": null,
      "outputs": [
        {
          "output_type": "execute_result",
          "data": {
            "text/html": [
              "<div>\n",
              "<style scoped>\n",
              "    .dataframe tbody tr th:only-of-type {\n",
              "        vertical-align: middle;\n",
              "    }\n",
              "\n",
              "    .dataframe tbody tr th {\n",
              "        vertical-align: top;\n",
              "    }\n",
              "\n",
              "    .dataframe thead th {\n",
              "        text-align: right;\n",
              "    }\n",
              "</style>\n",
              "<table border=\"1\" class=\"dataframe\">\n",
              "  <thead>\n",
              "    <tr style=\"text-align: right;\">\n",
              "      <th></th>\n",
              "      <th>cmmt_list</th>\n",
              "      <th>target</th>\n",
              "    </tr>\n",
              "  </thead>\n",
              "  <tbody>\n",
              "    <tr>\n",
              "      <th>0</th>\n",
              "      <td>[A subsection of retarded Hungarians? Ohh boy....</td>\n",
              "      <td>[1]</td>\n",
              "    </tr>\n",
              "    <tr>\n",
              "      <th>1</th>\n",
              "      <td>[&gt; \"y'all hear sumn?\"  by all means I live in ...</td>\n",
              "      <td>[2]</td>\n",
              "    </tr>\n",
              "    <tr>\n",
              "      <th>2</th>\n",
              "      <td>[Because the Japanese aren't retarded and know...</td>\n",
              "      <td>[1]</td>\n",
              "    </tr>\n",
              "    <tr>\n",
              "      <th>3</th>\n",
              "      <td>[That might be true if we didn't have an examp...</td>\n",
              "      <td>[2, 3]</td>\n",
              "    </tr>\n",
              "    <tr>\n",
              "      <th>4</th>\n",
              "      <td>[Why, what is the point of making all of that ...</td>\n",
              "      <td>[7]</td>\n",
              "    </tr>\n",
              "    <tr>\n",
              "      <th>...</th>\n",
              "      <td>...</td>\n",
              "      <td>...</td>\n",
              "    </tr>\n",
              "    <tr>\n",
              "      <th>15009</th>\n",
              "      <td>[Remember this 3 months ago? The intern that y...</td>\n",
              "      <td>[2]</td>\n",
              "    </tr>\n",
              "    <tr>\n",
              "      <th>15010</th>\n",
              "      <td>[#Sweden's four major dailies aftonbladet.se, ...</td>\n",
              "      <td>[2]</td>\n",
              "    </tr>\n",
              "    <tr>\n",
              "      <th>15011</th>\n",
              "      <td>[Satisfaction and justice, BEST TRUMP INSTANT ...</td>\n",
              "      <td>[3]</td>\n",
              "    </tr>\n",
              "    <tr>\n",
              "      <th>15012</th>\n",
              "      <td>[Twitter BANNED me and reported me to the FBI ...</td>\n",
              "      <td>[2, 3]</td>\n",
              "    </tr>\n",
              "    <tr>\n",
              "      <th>15013</th>\n",
              "      <td>[How absolutely unbelievably fascinating? A Pa...</td>\n",
              "      <td>[1]</td>\n",
              "    </tr>\n",
              "  </tbody>\n",
              "</table>\n",
              "<p>15014 rows × 2 columns</p>\n",
              "</div>"
            ],
            "text/plain": [
              "                                               cmmt_list  target\n",
              "0      [A subsection of retarded Hungarians? Ohh boy....     [1]\n",
              "1      [> \"y'all hear sumn?\"  by all means I live in ...     [2]\n",
              "2      [Because the Japanese aren't retarded and know...     [1]\n",
              "3      [That might be true if we didn't have an examp...  [2, 3]\n",
              "4      [Why, what is the point of making all of that ...     [7]\n",
              "...                                                  ...     ...\n",
              "15009  [Remember this 3 months ago? The intern that y...     [2]\n",
              "15010  [#Sweden's four major dailies aftonbladet.se, ...     [2]\n",
              "15011  [Satisfaction and justice, BEST TRUMP INSTANT ...     [3]\n",
              "15012  [Twitter BANNED me and reported me to the FBI ...  [2, 3]\n",
              "15013  [How absolutely unbelievably fascinating? A Pa...     [1]\n",
              "\n",
              "[15014 rows x 2 columns]"
            ]
          },
          "metadata": {
            "tags": []
          },
          "execution_count": 196
        }
      ]
    },
    {
      "cell_type": "code",
      "metadata": {
        "id": "d7Jtk_bsFDhd",
        "outputId": "bb0aeb4f-4cdd-4c06-fb64-87bbea927d00"
      },
      "source": [
        "#앞의 문장은 toxic이 아니고, 뒷문장과 합쳐졌을 때 toxic임\n",
        "#코멘트의 인덱스는 label-1\n",
        "\n",
        "org_len = len(data)\n",
        "sig_non = 0\n",
        "con_non = 0\n",
        "sig_tox = 0\n",
        "con_tox = 0\n",
        "\n",
        "for cmmt, labels in zip(data.cmmt_list, data.target):\n",
        "    try:\n",
        "        label = labels[0]\n",
        "        if len(labels) > 1: #라벨이 두 개 이상일 때\n",
        "            for label in labels:\n",
        "                if label > 1:\n",
        "                    data = data.append({'target':1,'cmmt_list':[cmmt[label-2:label]]},ignore_index=True) #앞문장과 합쳐졌을때 toxic\n",
        "                    con_tox+=1\n",
        "\n",
        "                    #non-toxic context 생성                                           \n",
        "                    if label > 2 and label-1 not in labels and label-2 not in labels: #toxic 앞 두 문장이 non toxic\n",
        "                        data = data.append({'target':0,'cmmt_list':[cmmt[label-3:label-1]]},ignore_index=True)\n",
        "                        con_non+=1\n",
        "                    elif label-1 not in labels:\n",
        "                        data = data.append({'target':0,'cmmt_list':[cmmt[label-2]]},ignore_index=True) #앞앞문장이 toxic이거나 없을 때\n",
        "                        sig_non+=1\n",
        "\n",
        "                #첫 번째 문장이 toxic일 때        \n",
        "                elif label == 1:\n",
        "                    data = data.append({'target':1,'cmmt_list':[cmmt[0]]},ignore_index=True)\n",
        "                    sig_tox+=1\n",
        "\n",
        "        elif label > 3: #라벨이 하나고 세번째 문장 이후면\n",
        "            data = data.append({'target':0,'cmmt_list':[cmmt[label-3:label-1]]},ignore_index=True) #앞의 두 문장 non toxic\n",
        "            data = data.append({'target':1,'cmmt_list':[cmmt[label-2:label]]},ignore_index=True) #바로 앞문장과 해당 문장 toxic\n",
        "            con_non+=1\n",
        "            con_tox+=1\n",
        "        elif label == 2: #라벨이 하나고 두번째 문장이면\n",
        "            data = data.append({'target':0,'cmmt_list':[cmmt[label-2]]},ignore_index=True) #앞의 문장은 non toxic\n",
        "            data = data.append({'target':1,'cmmt_list':[cmmt[label-2:label]]},ignore_index=True) #뒷문장과 합쳐졌을 때 toxic\n",
        "            sig_non+=1\n",
        "            sig_tox+=1\n",
        "        else: #라벨이 하나고 첫번째 문장이면\n",
        "            data = data.append({'target':1,'cmmt_list':[cmmt[0]]},ignore_index=True) #앞의 문장은 non toxic\n",
        "            sig_tox+=1\n",
        "            \n",
        "    except IndexError:\n",
        "        print(labels)\n",
        "        print(cmmt)\n",
        "\n",
        "                                                    \n",
        "print(f'Total {sig_tox} of toxic single-commets are added')\n",
        "print(f'Total {sig_non} of non-toxic single-commets are added')\n",
        "print(f'Total {con_tox} of toxic context-commets are added')\n",
        "print(f'Total {con_non} of non-toxic context-commets are added')\n",
        "print()\n",
        "print(f'Totally {len(data)-org_len} of commets are added')\n",
        "assert len(data)-org_len == sig_tox + sig_non + con_tox + con_non"
      ],
      "execution_count": null,
      "outputs": [
        {
          "output_type": "stream",
          "text": [
            "Total 12509 of toxic single-commets are added\n",
            "Total 6508 of non-toxic single-commets are added\n",
            "Total 7362 of toxic context-commets are added\n",
            "Total 2406 of non-toxic context-commets are added\n",
            "\n",
            "Totally 28785 of commets are added\n"
          ],
          "name": "stdout"
        }
      ]
    },
    {
      "cell_type": "code",
      "metadata": {
        "id": "xB4Ntd8LFDhe",
        "outputId": "10797974-2ca2-4e3c-f870-22b4540e6b14"
      },
      "source": [
        "data = data[-28785:]\n",
        "data = data.reset_index(drop=True)\n",
        "data"
      ],
      "execution_count": null,
      "outputs": [
        {
          "output_type": "execute_result",
          "data": {
            "text/html": [
              "<div>\n",
              "<style scoped>\n",
              "    .dataframe tbody tr th:only-of-type {\n",
              "        vertical-align: middle;\n",
              "    }\n",
              "\n",
              "    .dataframe tbody tr th {\n",
              "        vertical-align: top;\n",
              "    }\n",
              "\n",
              "    .dataframe thead th {\n",
              "        text-align: right;\n",
              "    }\n",
              "</style>\n",
              "<table border=\"1\" class=\"dataframe\">\n",
              "  <thead>\n",
              "    <tr style=\"text-align: right;\">\n",
              "      <th></th>\n",
              "      <th>target</th>\n",
              "      <th>cmmt_list</th>\n",
              "    </tr>\n",
              "  </thead>\n",
              "  <tbody>\n",
              "    <tr>\n",
              "      <th>0</th>\n",
              "      <td>1</td>\n",
              "      <td>[A subsection of retarded Hungarians? Ohh boy....</td>\n",
              "    </tr>\n",
              "    <tr>\n",
              "      <th>1</th>\n",
              "      <td>0</td>\n",
              "      <td>[&gt; \"y'all hear sumn?\"  by all means I live in ...</td>\n",
              "    </tr>\n",
              "    <tr>\n",
              "      <th>2</th>\n",
              "      <td>1</td>\n",
              "      <td>[[&gt; \"y'all hear sumn?\"  by all means I live in...</td>\n",
              "    </tr>\n",
              "    <tr>\n",
              "      <th>3</th>\n",
              "      <td>1</td>\n",
              "      <td>[Because the Japanese aren't retarded and know...</td>\n",
              "    </tr>\n",
              "    <tr>\n",
              "      <th>4</th>\n",
              "      <td>1</td>\n",
              "      <td>[[That might be true if we didn't have an exam...</td>\n",
              "    </tr>\n",
              "    <tr>\n",
              "      <th>...</th>\n",
              "      <td>...</td>\n",
              "      <td>...</td>\n",
              "    </tr>\n",
              "    <tr>\n",
              "      <th>28780</th>\n",
              "      <td>1</td>\n",
              "      <td>[Satisfaction and justice]</td>\n",
              "    </tr>\n",
              "    <tr>\n",
              "      <th>28781</th>\n",
              "      <td>1</td>\n",
              "      <td>[[Twitter BANNED me and reported me to the FBI...</td>\n",
              "    </tr>\n",
              "    <tr>\n",
              "      <th>28782</th>\n",
              "      <td>0</td>\n",
              "      <td>[Twitter BANNED me and reported me to the FBI ...</td>\n",
              "    </tr>\n",
              "    <tr>\n",
              "      <th>28783</th>\n",
              "      <td>1</td>\n",
              "      <td>[[I was routinely suspended for saying fuck, a...</td>\n",
              "    </tr>\n",
              "    <tr>\n",
              "      <th>28784</th>\n",
              "      <td>1</td>\n",
              "      <td>[How absolutely unbelievably fascinating? A Pa...</td>\n",
              "    </tr>\n",
              "  </tbody>\n",
              "</table>\n",
              "<p>28785 rows × 2 columns</p>\n",
              "</div>"
            ],
            "text/plain": [
              "      target                                          cmmt_list\n",
              "0          1  [A subsection of retarded Hungarians? Ohh boy....\n",
              "1          0  [> \"y'all hear sumn?\"  by all means I live in ...\n",
              "2          1  [[> \"y'all hear sumn?\"  by all means I live in...\n",
              "3          1  [Because the Japanese aren't retarded and know...\n",
              "4          1  [[That might be true if we didn't have an exam...\n",
              "...      ...                                                ...\n",
              "28780      1                         [Satisfaction and justice]\n",
              "28781      1  [[Twitter BANNED me and reported me to the FBI...\n",
              "28782      0  [Twitter BANNED me and reported me to the FBI ...\n",
              "28783      1  [[I was routinely suspended for saying fuck, a...\n",
              "28784      1  [How absolutely unbelievably fascinating? A Pa...\n",
              "\n",
              "[28785 rows x 2 columns]"
            ]
          },
          "metadata": {
            "tags": []
          },
          "execution_count": 207
        }
      ]
    },
    {
      "cell_type": "code",
      "metadata": {
        "id": "XuEU3WwQFDhg",
        "outputId": "d1d35e75-8251-4a43-b4bd-4656b71555e8"
      },
      "source": [
        "#non_toxic context data 추가\n",
        "cnt=0\n",
        "org_len = len(data)\n",
        "\n",
        "for cmmt, labels in zip(df_2.cmmt_list, df_2.target):\n",
        "    for label in labels:\n",
        "        try:\n",
        "            if label+1 not in labels and label+2 not in labels:\n",
        "                data = data.append({'target':0,'cmmt_list':cmmt[label:label+2]},ignore_index=True)\n",
        "                cnt+=1\n",
        "        except:\n",
        "            continue\n",
        "        if cnt > 4900: #Toxic contxt 개수 - non toxic context 개수랑 비슷하게 맞추기\n",
        "            break\n",
        "\n",
        "if cnt < 4901:\n",
        "    print('Additinal process...')\n",
        "    for cmmt, labels in zip(df_2.cmmt_list, df_2.target):\n",
        "        if len(labels) == 1 and labels[0] > 4:\n",
        "            data = data.append({'target':0,'cmmt_list':cmmt[label[0]-5:label[0]-3]},ignore_index=True)\n",
        "            cnt+=1\n",
        "        if cnt > 4900:\n",
        "            break\n",
        "                 \n",
        "print(f'Total {len(data)-org_len} of non-toxic context-commets are added')"
      ],
      "execution_count": null,
      "outputs": [
        {
          "output_type": "stream",
          "text": [
            "Total 13601 of non-toxic context-commets are added\n"
          ],
          "name": "stdout"
        }
      ]
    },
    {
      "cell_type": "code",
      "metadata": {
        "id": "ZVwuDdWpFDhh",
        "outputId": "a041f292-e0d7-4b65-eff3-43642fd5b4ff"
      },
      "source": [
        "data = data.reset_index(drop=True)\n",
        "data"
      ],
      "execution_count": null,
      "outputs": [
        {
          "output_type": "execute_result",
          "data": {
            "text/html": [
              "<div>\n",
              "<style scoped>\n",
              "    .dataframe tbody tr th:only-of-type {\n",
              "        vertical-align: middle;\n",
              "    }\n",
              "\n",
              "    .dataframe tbody tr th {\n",
              "        vertical-align: top;\n",
              "    }\n",
              "\n",
              "    .dataframe thead th {\n",
              "        text-align: right;\n",
              "    }\n",
              "</style>\n",
              "<table border=\"1\" class=\"dataframe\">\n",
              "  <thead>\n",
              "    <tr style=\"text-align: right;\">\n",
              "      <th></th>\n",
              "      <th>target</th>\n",
              "      <th>cmmt_list</th>\n",
              "    </tr>\n",
              "  </thead>\n",
              "  <tbody>\n",
              "    <tr>\n",
              "      <th>0</th>\n",
              "      <td>1</td>\n",
              "      <td>[A subsection of retarded Hungarians? Ohh boy....</td>\n",
              "    </tr>\n",
              "    <tr>\n",
              "      <th>1</th>\n",
              "      <td>0</td>\n",
              "      <td>[&gt; \"y'all hear sumn?\"  by all means I live in ...</td>\n",
              "    </tr>\n",
              "    <tr>\n",
              "      <th>2</th>\n",
              "      <td>1</td>\n",
              "      <td>[&gt; \"y'all hear sumn?\"  by all means I live in ...</td>\n",
              "    </tr>\n",
              "    <tr>\n",
              "      <th>3</th>\n",
              "      <td>1</td>\n",
              "      <td>[Because the Japanese aren't retarded and know...</td>\n",
              "    </tr>\n",
              "    <tr>\n",
              "      <th>4</th>\n",
              "      <td>1</td>\n",
              "      <td>[That might be true if we didn't have an examp...</td>\n",
              "    </tr>\n",
              "    <tr>\n",
              "      <th>...</th>\n",
              "      <td>...</td>\n",
              "      <td>...</td>\n",
              "    </tr>\n",
              "    <tr>\n",
              "      <th>36849</th>\n",
              "      <td>0</td>\n",
              "      <td>[]</td>\n",
              "    </tr>\n",
              "    <tr>\n",
              "      <th>36850</th>\n",
              "      <td>0</td>\n",
              "      <td>[]</td>\n",
              "    </tr>\n",
              "    <tr>\n",
              "      <th>36851</th>\n",
              "      <td>0</td>\n",
              "      <td>[RIGHT YOU ARE Kirk. and our govt is OVERLOADE...</td>\n",
              "    </tr>\n",
              "    <tr>\n",
              "      <th>36852</th>\n",
              "      <td>0</td>\n",
              "      <td>[]</td>\n",
              "    </tr>\n",
              "    <tr>\n",
              "      <th>36853</th>\n",
              "      <td>0</td>\n",
              "      <td>[]</td>\n",
              "    </tr>\n",
              "  </tbody>\n",
              "</table>\n",
              "<p>36854 rows × 2 columns</p>\n",
              "</div>"
            ],
            "text/plain": [
              "      target                                          cmmt_list\n",
              "0          1  [A subsection of retarded Hungarians? Ohh boy....\n",
              "1          0  [> \"y'all hear sumn?\"  by all means I live in ...\n",
              "2          1  [> \"y'all hear sumn?\"  by all means I live in ...\n",
              "3          1  [Because the Japanese aren't retarded and know...\n",
              "4          1  [That might be true if we didn't have an examp...\n",
              "...      ...                                                ...\n",
              "36849      0                                                 []\n",
              "36850      0                                                 []\n",
              "36851      0  [RIGHT YOU ARE Kirk. and our govt is OVERLOADE...\n",
              "36852      0                                                 []\n",
              "36853      0                                                 []\n",
              "\n",
              "[36854 rows x 2 columns]"
            ]
          },
          "metadata": {
            "tags": []
          },
          "execution_count": 242
        }
      ]
    },
    {
      "cell_type": "code",
      "metadata": {
        "id": "sRf9V_JGFDhi",
        "outputId": "0ad363b8-d67d-4988-bd15-90aa4d0791bb"
      },
      "source": [
        "import numpy as np\n",
        "\n",
        "def clean(cmmt):\n",
        "    if not cmmt:\n",
        "        return np.NaN\n",
        "    return cmmt\n",
        "    \n",
        "data['cmmt_list'] = data['cmmt_list'].apply(lambda x: clean(x))\n",
        "\n",
        "data.isnull().sum()"
      ],
      "execution_count": null,
      "outputs": [
        {
          "output_type": "execute_result",
          "data": {
            "text/plain": [
              "target          0\n",
              "cmmt_list    3538\n",
              "dtype: int64"
            ]
          },
          "metadata": {
            "tags": []
          },
          "execution_count": 246
        }
      ]
    },
    {
      "cell_type": "code",
      "metadata": {
        "id": "n7UMLL7OFDhi",
        "outputId": "3bc3afd6-677a-476c-b5a1-9b2d22693988"
      },
      "source": [
        "data = data.dropna()\n",
        "data"
      ],
      "execution_count": null,
      "outputs": [
        {
          "output_type": "execute_result",
          "data": {
            "text/html": [
              "<div>\n",
              "<style scoped>\n",
              "    .dataframe tbody tr th:only-of-type {\n",
              "        vertical-align: middle;\n",
              "    }\n",
              "\n",
              "    .dataframe tbody tr th {\n",
              "        vertical-align: top;\n",
              "    }\n",
              "\n",
              "    .dataframe thead th {\n",
              "        text-align: right;\n",
              "    }\n",
              "</style>\n",
              "<table border=\"1\" class=\"dataframe\">\n",
              "  <thead>\n",
              "    <tr style=\"text-align: right;\">\n",
              "      <th></th>\n",
              "      <th>target</th>\n",
              "      <th>cmmt_list</th>\n",
              "    </tr>\n",
              "  </thead>\n",
              "  <tbody>\n",
              "    <tr>\n",
              "      <th>0</th>\n",
              "      <td>1</td>\n",
              "      <td>[A subsection of retarded Hungarians? Ohh boy....</td>\n",
              "    </tr>\n",
              "    <tr>\n",
              "      <th>1</th>\n",
              "      <td>0</td>\n",
              "      <td>[&gt; \"y'all hear sumn?\"  by all means I live in ...</td>\n",
              "    </tr>\n",
              "    <tr>\n",
              "      <th>2</th>\n",
              "      <td>1</td>\n",
              "      <td>[&gt; \"y'all hear sumn?\"  by all means I live in ...</td>\n",
              "    </tr>\n",
              "    <tr>\n",
              "      <th>3</th>\n",
              "      <td>1</td>\n",
              "      <td>[Because the Japanese aren't retarded and know...</td>\n",
              "    </tr>\n",
              "    <tr>\n",
              "      <th>4</th>\n",
              "      <td>1</td>\n",
              "      <td>[That might be true if we didn't have an examp...</td>\n",
              "    </tr>\n",
              "    <tr>\n",
              "      <th>...</th>\n",
              "      <td>...</td>\n",
              "      <td>...</td>\n",
              "    </tr>\n",
              "    <tr>\n",
              "      <th>36812</th>\n",
              "      <td>0</td>\n",
              "      <td>[I don't know whether someone is memeing or if...</td>\n",
              "    </tr>\n",
              "    <tr>\n",
              "      <th>36827</th>\n",
              "      <td>0</td>\n",
              "      <td>[Not 1 bit Bud. Fuckin weak white ppl hv no cl...</td>\n",
              "    </tr>\n",
              "    <tr>\n",
              "      <th>36841</th>\n",
              "      <td>0</td>\n",
              "      <td>[Right! Every smart phone I've had just makes ...</td>\n",
              "    </tr>\n",
              "    <tr>\n",
              "      <th>36845</th>\n",
              "      <td>0</td>\n",
              "      <td>[I would sure hope that you realize that not a...</td>\n",
              "    </tr>\n",
              "    <tr>\n",
              "      <th>36851</th>\n",
              "      <td>0</td>\n",
              "      <td>[RIGHT YOU ARE Kirk. and our govt is OVERLOADE...</td>\n",
              "    </tr>\n",
              "  </tbody>\n",
              "</table>\n",
              "<p>30060 rows × 2 columns</p>\n",
              "</div>"
            ],
            "text/plain": [
              "      target                                          cmmt_list\n",
              "0          1  [A subsection of retarded Hungarians? Ohh boy....\n",
              "1          0  [> \"y'all hear sumn?\"  by all means I live in ...\n",
              "2          1  [> \"y'all hear sumn?\"  by all means I live in ...\n",
              "3          1  [Because the Japanese aren't retarded and know...\n",
              "4          1  [That might be true if we didn't have an examp...\n",
              "...      ...                                                ...\n",
              "36812      0  [I don't know whether someone is memeing or if...\n",
              "36827      0  [Not 1 bit Bud. Fuckin weak white ppl hv no cl...\n",
              "36841      0  [Right! Every smart phone I've had just makes ...\n",
              "36845      0  [I would sure hope that you realize that not a...\n",
              "36851      0  [RIGHT YOU ARE Kirk. and our govt is OVERLOADE...\n",
              "\n",
              "[30060 rows x 2 columns]"
            ]
          },
          "metadata": {
            "tags": []
          },
          "execution_count": 248
        }
      ]
    },
    {
      "cell_type": "code",
      "metadata": {
        "id": "Tsb6JhQUFDhj"
      },
      "source": [
        "data = data.reset_index(drop=True)"
      ],
      "execution_count": null,
      "outputs": []
    },
    {
      "cell_type": "code",
      "metadata": {
        "id": "MbNn4lckFDhj",
        "outputId": "0b870da9-cb36-49c0-860f-6ce45f8b2ced"
      },
      "source": [
        "sig_non = 0\n",
        "con_non = 0\n",
        "sig_tox = 0\n",
        "con_tox = 0\n",
        "\n",
        "for i, (target, cmmts) in enumerate(zip(data.target, data.cmmt_list)):\n",
        "    if len(cmmts) == 2 and target == 1:\n",
        "        con_tox+=1\n",
        "    elif len(cmmts) == 2 and target == 0:\n",
        "        con_non+=1\n",
        "    elif len(cmmts) == 1 and target == 1:\n",
        "        sig_tox+=1\n",
        "    elif len(cmmts) == 1 and target == 0:\n",
        "        sig_non+=1\n",
        "    else:\n",
        "        print('IDX:',i,'LEN:',len(cmmts),'TARGET:',target)\n",
        "        \n",
        "print(f'con_tox : {con_tox}',f'con_non : {con_non}',f'sig_tox : {sig_tox}',f'sig_non : {sig_non}',sep='\\n')\n",
        "\n",
        "#위에서 con_tox 잘못계산함..."
      ],
      "execution_count": null,
      "outputs": [
        {
          "output_type": "stream",
          "text": [
            "con_tox : 11785\n",
            "con_non : 3218\n",
            "sig_tox : 8086\n",
            "sig_non : 6971\n"
          ],
          "name": "stdout"
        }
      ]
    },
    {
      "cell_type": "code",
      "metadata": {
        "id": "3zLSC24zFDhj",
        "outputId": "a07490e2-9447-4f15-eeb7-27555976ff83"
      },
      "source": [
        "org_len = len(context)\n",
        "\n",
        "for cmmt, labels in zip(df_2.cmmt_list, df_2.target):\n",
        "    if len(labels) == 1 and labels[0] > 16:\n",
        "        context = context.append({'target':0,'cmmt_list':cmmt[labels[0]-5:labels[0]-3]},ignore_index=True)\n",
        "\n",
        "print(f'Total {len(context)-org_len} of non-toxic context-commets are added')"
      ],
      "execution_count": null,
      "outputs": [
        {
          "output_type": "stream",
          "text": [
            "Total 13 of non-toxic context-commets are added\n"
          ],
          "name": "stdout"
        }
      ]
    },
    {
      "cell_type": "code",
      "metadata": {
        "id": "kZG7AG2iFDhk",
        "outputId": "50f7a469-e978-4b1f-ab5c-6313c05d6573"
      },
      "source": [
        "org_len = len(data)\n",
        "\n",
        "for cmmt, labels in zip(df_2.cmmt_list, df_2.target):\n",
        "    if len(labels) == 1 and labels[0] > 6:\n",
        "        data = data.append({'target':0,'cmmt_list':cmmt[labels[0]-7:labels[0]-5]},ignore_index=True)\n",
        "\n",
        "print(f'Total {len(data)-org_len} of non-toxic context-commets are added')"
      ],
      "execution_count": null,
      "outputs": [
        {
          "output_type": "stream",
          "text": [
            "Total 261 of non-toxic context-commets are added\n"
          ],
          "name": "stdout"
        }
      ]
    },
    {
      "cell_type": "code",
      "metadata": {
        "colab": {
          "base_uri": "https://localhost:8080/",
          "height": 419
        },
        "id": "pEv_sU9T3jXH",
        "outputId": "939c6627-7207-4693-b04c-17779677ac18"
      },
      "source": [
        "import pandas as pd\n",
        "import ast\n",
        "\n",
        "data = pd.read_csv('C:\\\\Users\\\\user\\\\OneDrive\\\\Desktop\\\\codestates\\\\기업협업\\\\dataset\\\\gap_reddit_2.csv', index_col=0)\n",
        "data['target'] = data['target'].apply(lambda x: ast.literal_eval(x))\n",
        "data['cmmt_list'] = data['cmmt_list'].apply(lambda x: ast.literal_eval(x))\n",
        "data['target'] = data['target'].apply(lambda x: list(map(int, x)))\n",
        "data"
      ],
      "execution_count": null,
      "outputs": [
        {
          "output_type": "execute_result",
          "data": {
            "text/html": [
              "<div>\n",
              "<style scoped>\n",
              "    .dataframe tbody tr th:only-of-type {\n",
              "        vertical-align: middle;\n",
              "    }\n",
              "\n",
              "    .dataframe tbody tr th {\n",
              "        vertical-align: top;\n",
              "    }\n",
              "\n",
              "    .dataframe thead th {\n",
              "        text-align: right;\n",
              "    }\n",
              "</style>\n",
              "<table border=\"1\" class=\"dataframe\">\n",
              "  <thead>\n",
              "    <tr style=\"text-align: right;\">\n",
              "      <th></th>\n",
              "      <th>target</th>\n",
              "      <th>cmmt_list</th>\n",
              "    </tr>\n",
              "  </thead>\n",
              "  <tbody>\n",
              "    <tr>\n",
              "      <th>0</th>\n",
              "      <td>[1]</td>\n",
              "      <td>[A subsection of retarded Hungarians? Ohh boy....</td>\n",
              "    </tr>\n",
              "    <tr>\n",
              "      <th>1</th>\n",
              "      <td>[3]</td>\n",
              "      <td>[&gt; \"y'all hear sumn?\"  by all means I live in ...</td>\n",
              "    </tr>\n",
              "    <tr>\n",
              "      <th>2</th>\n",
              "      <td>[1]</td>\n",
              "      <td>[Because the Japanese aren't retarded and know...</td>\n",
              "    </tr>\n",
              "    <tr>\n",
              "      <th>3</th>\n",
              "      <td>[2, 3]</td>\n",
              "      <td>[That might be true if we didn't have an examp...</td>\n",
              "    </tr>\n",
              "    <tr>\n",
              "      <th>4</th>\n",
              "      <td>[8]</td>\n",
              "      <td>[Why, what is the point of making all of that ...</td>\n",
              "    </tr>\n",
              "    <tr>\n",
              "      <th>...</th>\n",
              "      <td>...</td>\n",
              "      <td>...</td>\n",
              "    </tr>\n",
              "    <tr>\n",
              "      <th>44208</th>\n",
              "      <td>[0]</td>\n",
              "      <td>[Remember this 3 months ago? The intern that y...</td>\n",
              "    </tr>\n",
              "    <tr>\n",
              "      <th>44209</th>\n",
              "      <td>[0]</td>\n",
              "      <td>[#Sweden's four major dailies aftonbladet.se, ...</td>\n",
              "    </tr>\n",
              "    <tr>\n",
              "      <th>44210</th>\n",
              "      <td>[0]</td>\n",
              "      <td>[Satisfaction and justice]</td>\n",
              "    </tr>\n",
              "    <tr>\n",
              "      <th>44211</th>\n",
              "      <td>[0]</td>\n",
              "      <td>[BEST TRUMP INSTANT KARMA EVER!]</td>\n",
              "    </tr>\n",
              "    <tr>\n",
              "      <th>44212</th>\n",
              "      <td>[0]</td>\n",
              "      <td>[Twitter BANNED me and reported me to the FBI ...</td>\n",
              "    </tr>\n",
              "  </tbody>\n",
              "</table>\n",
              "<p>44213 rows × 2 columns</p>\n",
              "</div>"
            ],
            "text/plain": [
              "       target                                          cmmt_list\n",
              "0         [1]  [A subsection of retarded Hungarians? Ohh boy....\n",
              "1         [3]  [> \"y'all hear sumn?\"  by all means I live in ...\n",
              "2         [1]  [Because the Japanese aren't retarded and know...\n",
              "3      [2, 3]  [That might be true if we didn't have an examp...\n",
              "4         [8]  [Why, what is the point of making all of that ...\n",
              "...       ...                                                ...\n",
              "44208     [0]  [Remember this 3 months ago? The intern that y...\n",
              "44209     [0]  [#Sweden's four major dailies aftonbladet.se, ...\n",
              "44210     [0]                         [Satisfaction and justice]\n",
              "44211     [0]                   [BEST TRUMP INSTANT KARMA EVER!]\n",
              "44212     [0]  [Twitter BANNED me and reported me to the FBI ...\n",
              "\n",
              "[44213 rows x 2 columns]"
            ]
          },
          "metadata": {
            "tags": []
          },
          "execution_count": 25
        }
      ]
    },
    {
      "cell_type": "code",
      "metadata": {
        "id": "0QkE88BCFDhk"
      },
      "source": [
        "for target, cmmt in zip(data.target, data.cmmt_list):\n",
        "    if target == [2,3]:\n",
        "        print(cmmt)"
      ],
      "execution_count": null,
      "outputs": []
    },
    {
      "cell_type": "code",
      "metadata": {
        "colab": {
          "base_uri": "https://localhost:8080/"
        },
        "id": "_HikaFBf7_i8",
        "outputId": "7102d861-f55b-4d50-b2de-522bd18e757f"
      },
      "source": [
        "org_data = len(data)\n",
        "i = 0\n",
        "for cmmts, labels in zip(data.cmmt_list, data.target):\n",
        "    cnt = 0\n",
        "    for label in labels:\n",
        "        #Option1)label == 1이면 한문장, 2면 0:1, 3이면 0:2, 2,3이면 0:2, 0:3\n",
        "        #Option2)label == 1이면 한문장, 2면 0:1, 3이면 1:2, 2,3이면 0:1, 1:2\n",
        "        if label != 0: \n",
        "            cmmt = cmmts[:label]\n",
        "            data = data.append({'target':[1], 'cmmt_list':cmmt}, ignore_index=True)\n",
        "            cnt+=1\n",
        "            if cnt == len(labels):\n",
        "                data = data.drop(data.index[i])\n",
        "                i-=1\n",
        "        elif label == 0:\n",
        "            cmmt = cmmts[:2]\n",
        "            data = data.append({'target':[0], 'cmmt_list':cmmt}, ignore_index=True)\n",
        "            data = data.drop(data.index[i])\n",
        "            i-=1\n",
        "    i+=1\n",
        "            \n",
        "print(f'Total {len(data)-org_data} of toxic commets are added')"
      ],
      "execution_count": null,
      "outputs": [
        {
          "output_type": "stream",
          "text": [
            "Total 4857 of toxic commets are added\n"
          ],
          "name": "stdout"
        }
      ]
    },
    {
      "cell_type": "code",
      "metadata": {
        "colab": {
          "base_uri": "https://localhost:8080/",
          "height": 419
        },
        "id": "P-O5WMj9RH01",
        "outputId": "25419af0-2089-4c62-feb1-fb8cb7777fab"
      },
      "source": [
        "data"
      ],
      "execution_count": null,
      "outputs": [
        {
          "output_type": "execute_result",
          "data": {
            "text/html": [
              "<div>\n",
              "<style scoped>\n",
              "    .dataframe tbody tr th:only-of-type {\n",
              "        vertical-align: middle;\n",
              "    }\n",
              "\n",
              "    .dataframe tbody tr th {\n",
              "        vertical-align: top;\n",
              "    }\n",
              "\n",
              "    .dataframe thead th {\n",
              "        text-align: right;\n",
              "    }\n",
              "</style>\n",
              "<table border=\"1\" class=\"dataframe\">\n",
              "  <thead>\n",
              "    <tr style=\"text-align: right;\">\n",
              "      <th></th>\n",
              "      <th>target</th>\n",
              "      <th>cmmt_list</th>\n",
              "    </tr>\n",
              "  </thead>\n",
              "  <tbody>\n",
              "    <tr>\n",
              "      <th>1</th>\n",
              "      <td>[1]</td>\n",
              "      <td>[A subsection of retarded Hungarians? Ohh boy....</td>\n",
              "    </tr>\n",
              "    <tr>\n",
              "      <th>2</th>\n",
              "      <td>[1]</td>\n",
              "      <td>[&gt; \"y'all hear sumn?\"  by all means I live in ...</td>\n",
              "    </tr>\n",
              "    <tr>\n",
              "      <th>3</th>\n",
              "      <td>[1]</td>\n",
              "      <td>[Because the Japanese aren't retarded and know...</td>\n",
              "    </tr>\n",
              "    <tr>\n",
              "      <th>4</th>\n",
              "      <td>[1]</td>\n",
              "      <td>[That might be true if we didn't have an examp...</td>\n",
              "    </tr>\n",
              "    <tr>\n",
              "      <th>5</th>\n",
              "      <td>[1]</td>\n",
              "      <td>[That might be true if we didn't have an examp...</td>\n",
              "    </tr>\n",
              "    <tr>\n",
              "      <th>...</th>\n",
              "      <td>...</td>\n",
              "      <td>...</td>\n",
              "    </tr>\n",
              "    <tr>\n",
              "      <th>49066</th>\n",
              "      <td>[0]</td>\n",
              "      <td>[Remember this 3 months ago? The intern that y...</td>\n",
              "    </tr>\n",
              "    <tr>\n",
              "      <th>49067</th>\n",
              "      <td>[0]</td>\n",
              "      <td>[#Sweden's four major dailies aftonbladet.se, ...</td>\n",
              "    </tr>\n",
              "    <tr>\n",
              "      <th>49068</th>\n",
              "      <td>[0]</td>\n",
              "      <td>[Satisfaction and justice]</td>\n",
              "    </tr>\n",
              "    <tr>\n",
              "      <th>49069</th>\n",
              "      <td>[0]</td>\n",
              "      <td>[BEST TRUMP INSTANT KARMA EVER!]</td>\n",
              "    </tr>\n",
              "    <tr>\n",
              "      <th>49070</th>\n",
              "      <td>[0]</td>\n",
              "      <td>[Twitter BANNED me and reported me to the FBI ...</td>\n",
              "    </tr>\n",
              "  </tbody>\n",
              "</table>\n",
              "<p>49070 rows × 2 columns</p>\n",
              "</div>"
            ],
            "text/plain": [
              "      target                                          cmmt_list\n",
              "1        [1]  [A subsection of retarded Hungarians? Ohh boy....\n",
              "2        [1]  [> \"y'all hear sumn?\"  by all means I live in ...\n",
              "3        [1]  [Because the Japanese aren't retarded and know...\n",
              "4        [1]  [That might be true if we didn't have an examp...\n",
              "5        [1]  [That might be true if we didn't have an examp...\n",
              "...      ...                                                ...\n",
              "49066    [0]  [Remember this 3 months ago? The intern that y...\n",
              "49067    [0]  [#Sweden's four major dailies aftonbladet.se, ...\n",
              "49068    [0]                         [Satisfaction and justice]\n",
              "49069    [0]                   [BEST TRUMP INSTANT KARMA EVER!]\n",
              "49070    [0]  [Twitter BANNED me and reported me to the FBI ...\n",
              "\n",
              "[49070 rows x 2 columns]"
            ]
          },
          "metadata": {
            "tags": []
          },
          "execution_count": 27
        }
      ]
    },
    {
      "cell_type": "code",
      "metadata": {
        "id": "iMmn7NjaFDhm",
        "outputId": "d11f89eb-3134-4512-b72e-a0345268f0b2"
      },
      "source": [
        "data['target'] = data['target'].apply(lambda x: x[0])\n",
        "\n",
        "data.target.unique()"
      ],
      "execution_count": null,
      "outputs": [
        {
          "output_type": "execute_result",
          "data": {
            "text/plain": [
              "array([1, 0], dtype=int64)"
            ]
          },
          "metadata": {
            "tags": []
          },
          "execution_count": 28
        }
      ]
    },
    {
      "cell_type": "code",
      "metadata": {
        "id": "yukeKVT4FDho",
        "outputId": "a50da9b5-9a39-428a-c869-9ca5e7c4ea5a"
      },
      "source": [
        "org_data = len(data)\n",
        "i = 0\n",
        "for cmmts in data.cmmt_list:\n",
        "    if cmmts == ['removed'] or cmmts == [['removed']] or cmmts == ['[removed]']:\n",
        "        data = data.drop(data.index[i])\n",
        "        i-=1\n",
        "    i+=1\n",
        "        \n",
        "print(f'Total {org_data-len(data)} of datas are deleted')"
      ],
      "execution_count": null,
      "outputs": [
        {
          "output_type": "stream",
          "text": [
            "Total 63 of datas are deleted\n"
          ],
          "name": "stdout"
        }
      ]
    },
    {
      "cell_type": "code",
      "metadata": {
        "id": "pBBy-xdtFDho",
        "outputId": "76371a55-b80e-441a-b480-c00a4c4c9952"
      },
      "source": [
        "data.target.value_counts()"
      ],
      "execution_count": null,
      "outputs": [
        {
          "output_type": "execute_result",
          "data": {
            "text/plain": [
              "0    29134\n",
              "1    19873\n",
              "Name: target, dtype: int64"
            ]
          },
          "metadata": {
            "tags": []
          },
          "execution_count": 30
        }
      ]
    },
    {
      "cell_type": "code",
      "metadata": {
        "id": "rGJt5BTwFDhp",
        "outputId": "f20df95e-e97a-4eb8-972d-923a93a01cd6"
      },
      "source": [
        "import numpy as np\n",
        "\n",
        "# target = data[(data.target == 1)]\n",
        "# data = data[(data.target == 0)]\n",
        "\n",
        "df = data.copy()\n",
        "df['cmmt_list'] = df['cmmt_list'].apply(lambda x: x if len(x)<3 else np.NaN)\n",
        "df = df.dropna()\n",
        "df.target.value_counts()        "
      ],
      "execution_count": null,
      "outputs": [
        {
          "output_type": "execute_result",
          "data": {
            "text/plain": [
              "0    29134\n",
              "1    12873\n",
              "Name: target, dtype: int64"
            ]
          },
          "metadata": {
            "tags": []
          },
          "execution_count": 33
        }
      ]
    },
    {
      "cell_type": "code",
      "metadata": {
        "id": "DNXzadnGFDhq",
        "outputId": "8f9f880f-adfc-46c2-cdde-d5fcf9d0c48d"
      },
      "source": [
        "jigsaw = jigsaw.rename(columns={'comment_text':'cmmt_list'})\n",
        "df = pd.concat([data,jigsaw])\n",
        "\n",
        "df"
      ],
      "execution_count": null,
      "outputs": [
        {
          "output_type": "execute_result",
          "data": {
            "text/html": [
              "<div>\n",
              "<style scoped>\n",
              "    .dataframe tbody tr th:only-of-type {\n",
              "        vertical-align: middle;\n",
              "    }\n",
              "\n",
              "    .dataframe tbody tr th {\n",
              "        vertical-align: top;\n",
              "    }\n",
              "\n",
              "    .dataframe thead th {\n",
              "        text-align: right;\n",
              "    }\n",
              "</style>\n",
              "<table border=\"1\" class=\"dataframe\">\n",
              "  <thead>\n",
              "    <tr style=\"text-align: right;\">\n",
              "      <th></th>\n",
              "      <th>target</th>\n",
              "      <th>cmmt_list</th>\n",
              "    </tr>\n",
              "  </thead>\n",
              "  <tbody>\n",
              "    <tr>\n",
              "      <th>1</th>\n",
              "      <td>0</td>\n",
              "      <td>[Hiii. Just got off work. 444 is mainly the ty...</td>\n",
              "    </tr>\n",
              "    <tr>\n",
              "      <th>2</th>\n",
              "      <td>0</td>\n",
              "      <td>[wow i guess soyboys are the same in every cou...</td>\n",
              "    </tr>\n",
              "    <tr>\n",
              "      <th>3</th>\n",
              "      <td>0</td>\n",
              "      <td>[Owen Benjamin's soyboy song goes for every co...</td>\n",
              "    </tr>\n",
              "    <tr>\n",
              "      <th>4</th>\n",
              "      <td>0</td>\n",
              "      <td>[&gt; \"y'all hear sumn?\"  by all means I live in ...</td>\n",
              "    </tr>\n",
              "    <tr>\n",
              "      <th>6</th>\n",
              "      <td>0</td>\n",
              "      <td>[Japan doesn't shy* away from a lot of things....</td>\n",
              "    </tr>\n",
              "    <tr>\n",
              "      <th>...</th>\n",
              "      <td>...</td>\n",
              "      <td>...</td>\n",
              "    </tr>\n",
              "    <tr>\n",
              "      <th>1804825</th>\n",
              "      <td>1</td>\n",
              "      <td>Who is the jerk in the last row between the C ...</td>\n",
              "    </tr>\n",
              "    <tr>\n",
              "      <th>1804838</th>\n",
              "      <td>1</td>\n",
              "      <td>Nobody really cares that she supports the scie...</td>\n",
              "    </tr>\n",
              "    <tr>\n",
              "      <th>1804856</th>\n",
              "      <td>1</td>\n",
              "      <td>Believing in God or not believing in God are p...</td>\n",
              "    </tr>\n",
              "    <tr>\n",
              "      <th>1804857</th>\n",
              "      <td>1</td>\n",
              "      <td>I take your point, but I think you're shooting...</td>\n",
              "    </tr>\n",
              "    <tr>\n",
              "      <th>1804872</th>\n",
              "      <td>1</td>\n",
              "      <td>Anyone who is quoted as having the following e...</td>\n",
              "    </tr>\n",
              "  </tbody>\n",
              "</table>\n",
              "<p>352912 rows × 2 columns</p>\n",
              "</div>"
            ],
            "text/plain": [
              "         target                                          cmmt_list\n",
              "1             0  [Hiii. Just got off work. 444 is mainly the ty...\n",
              "2             0  [wow i guess soyboys are the same in every cou...\n",
              "3             0  [Owen Benjamin's soyboy song goes for every co...\n",
              "4             0  [> \"y'all hear sumn?\"  by all means I live in ...\n",
              "6             0  [Japan doesn't shy* away from a lot of things....\n",
              "...         ...                                                ...\n",
              "1804825       1  Who is the jerk in the last row between the C ...\n",
              "1804838       1  Nobody really cares that she supports the scie...\n",
              "1804856       1  Believing in God or not believing in God are p...\n",
              "1804857       1  I take your point, but I think you're shooting...\n",
              "1804872       1  Anyone who is quoted as having the following e...\n",
              "\n",
              "[352912 rows x 2 columns]"
            ]
          },
          "metadata": {
            "tags": []
          },
          "execution_count": 13
        }
      ]
    },
    {
      "cell_type": "code",
      "metadata": {
        "id": "c4n2UizuFDhr",
        "outputId": "b7e42e03-0cc9-49ff-b3cb-64741e58a5e0"
      },
      "source": [
        "df.target.value_counts()"
      ],
      "execution_count": null,
      "outputs": [
        {
          "output_type": "execute_result",
          "data": {
            "text/plain": [
              "1    179501\n",
              "0    173411\n",
              "Name: target, dtype: int64"
            ]
          },
          "metadata": {
            "tags": []
          },
          "execution_count": 52
        }
      ]
    },
    {
      "cell_type": "code",
      "metadata": {
        "id": "WDRIlHONFDhs"
      },
      "source": [
        "df.to_csv('finaldata.csv', index=False)"
      ],
      "execution_count": null,
      "outputs": []
    },
    {
      "cell_type": "markdown",
      "metadata": {
        "id": "e1xxCoUl2wiW"
      },
      "source": [
        "# gao2018"
      ]
    },
    {
      "cell_type": "code",
      "metadata": {
        "id": "WqVR_EO5FDhs",
        "outputId": "862c96d4-8d86-4a97-9336-d6f2ed279940"
      },
      "source": [
        "import pandas as pd\n",
        "\n",
        "gao = pd.read_json('https://raw.githubusercontent.com/sjtuprog/fox-news-comments/master/full-comments-u.json#', lines = True)\n",
        "gao"
      ],
      "execution_count": null,
      "outputs": [
        {
          "output_type": "execute_result",
          "data": {
            "text/html": [
              "<div>\n",
              "<style scoped>\n",
              "    .dataframe tbody tr th:only-of-type {\n",
              "        vertical-align: middle;\n",
              "    }\n",
              "\n",
              "    .dataframe tbody tr th {\n",
              "        vertical-align: top;\n",
              "    }\n",
              "\n",
              "    .dataframe thead th {\n",
              "        text-align: right;\n",
              "    }\n",
              "</style>\n",
              "<table border=\"1\" class=\"dataframe\">\n",
              "  <thead>\n",
              "    <tr style=\"text-align: right;\">\n",
              "      <th></th>\n",
              "      <th>title</th>\n",
              "      <th>text</th>\n",
              "      <th>label</th>\n",
              "      <th>succ</th>\n",
              "      <th>meta</th>\n",
              "      <th>user</th>\n",
              "      <th>mentions</th>\n",
              "      <th>prev</th>\n",
              "    </tr>\n",
              "  </thead>\n",
              "  <tbody>\n",
              "    <tr>\n",
              "      <th>0</th>\n",
              "      <td>German lawmakers approve 'no means no' rape la...</td>\n",
              "      <td>Merkel would never say NO</td>\n",
              "      <td>1</td>\n",
              "      <td></td>\n",
              "      <td>German lawmakers passed a bill Thursday that w...</td>\n",
              "      <td>barryswallows</td>\n",
              "      <td></td>\n",
              "      <td></td>\n",
              "    </tr>\n",
              "    <tr>\n",
              "      <th>1</th>\n",
              "      <td>German lawmakers approve 'no means no' rape la...</td>\n",
              "      <td>Expect more and more women to be asking .. \"wh...</td>\n",
              "      <td>1</td>\n",
              "      <td></td>\n",
              "      <td>German lawmakers passed a bill Thursday that w...</td>\n",
              "      <td>PostApocalypticHero</td>\n",
              "      <td></td>\n",
              "      <td></td>\n",
              "    </tr>\n",
              "    <tr>\n",
              "      <th>2</th>\n",
              "      <td>German lawmakers approve 'no means no' rape la...</td>\n",
              "      <td>Groping people in public wasn't already illega...</td>\n",
              "      <td>0</td>\n",
              "      <td></td>\n",
              "      <td>German lawmakers passed a bill Thursday that w...</td>\n",
              "      <td>californiamojo</td>\n",
              "      <td></td>\n",
              "      <td></td>\n",
              "    </tr>\n",
              "    <tr>\n",
              "      <th>3</th>\n",
              "      <td>German lawmakers approve 'no means no' rape la...</td>\n",
              "      <td>Merkel, possible the only person in charge who...</td>\n",
              "      <td>1</td>\n",
              "      <td></td>\n",
              "      <td>German lawmakers passed a bill Thursday that w...</td>\n",
              "      <td>MikeSte</td>\n",
              "      <td></td>\n",
              "      <td></td>\n",
              "    </tr>\n",
              "    <tr>\n",
              "      <th>4</th>\n",
              "      <td>German lawmakers approve 'no means no' rape la...</td>\n",
              "      <td>They know very well, no means NO! They need to...</td>\n",
              "      <td>1</td>\n",
              "      <td></td>\n",
              "      <td>German lawmakers passed a bill Thursday that w...</td>\n",
              "      <td>scientist</td>\n",
              "      <td></td>\n",
              "      <td></td>\n",
              "    </tr>\n",
              "    <tr>\n",
              "      <th>...</th>\n",
              "      <td>...</td>\n",
              "      <td>...</td>\n",
              "      <td>...</td>\n",
              "      <td>...</td>\n",
              "      <td>...</td>\n",
              "      <td>...</td>\n",
              "      <td>...</td>\n",
              "      <td>...</td>\n",
              "    </tr>\n",
              "    <tr>\n",
              "      <th>1523</th>\n",
              "      <td>Fury as feminist blames toddler alligator deat...</td>\n",
              "      <td>No, 10000 Loose nuts off their meds!</td>\n",
              "      <td>1</td>\n",
              "      <td></td>\n",
              "      <td>A white Chicago-based Social Justice Warrior w...</td>\n",
              "      <td>toorotten</td>\n",
              "      <td></td>\n",
              "      <td></td>\n",
              "    </tr>\n",
              "    <tr>\n",
              "      <th>1524</th>\n",
              "      <td>Fury as feminist blames toddler alligator deat...</td>\n",
              "      <td>Just another ugly leftist.</td>\n",
              "      <td>1</td>\n",
              "      <td>True. Most leftists ,esp female leftists have ...</td>\n",
              "      <td>A white Chicago-based Social Justice Warrior w...</td>\n",
              "      <td>randwolf13</td>\n",
              "      <td></td>\n",
              "      <td></td>\n",
              "    </tr>\n",
              "    <tr>\n",
              "      <th>1525</th>\n",
              "      <td>Fury as feminist blames toddler alligator deat...</td>\n",
              "      <td>True. Most leftists ,esp female leftists have ...</td>\n",
              "      <td>1</td>\n",
              "      <td></td>\n",
              "      <td>A white Chicago-based Social Justice Warrior w...</td>\n",
              "      <td>creatingfalserealitiesleadstoinsanity</td>\n",
              "      <td>@randwolf13</td>\n",
              "      <td>Just another ugly leftist.</td>\n",
              "    </tr>\n",
              "    <tr>\n",
              "      <th>1526</th>\n",
              "      <td>Fury as feminist blames toddler alligator deat...</td>\n",
              "      <td>First, lets get this straight: a white, gay ma...</td>\n",
              "      <td>1</td>\n",
              "      <td></td>\n",
              "      <td>A white Chicago-based Social Justice Warrior w...</td>\n",
              "      <td>KhaosDominus</td>\n",
              "      <td></td>\n",
              "      <td></td>\n",
              "    </tr>\n",
              "    <tr>\n",
              "      <th>1527</th>\n",
              "      <td>Fury as feminist blames toddler alligator deat...</td>\n",
              "      <td>White privilege ...work all your life to take ...</td>\n",
              "      <td>1</td>\n",
              "      <td></td>\n",
              "      <td>A white Chicago-based Social Justice Warrior w...</td>\n",
              "      <td>leftisrighthippy</td>\n",
              "      <td></td>\n",
              "      <td></td>\n",
              "    </tr>\n",
              "  </tbody>\n",
              "</table>\n",
              "<p>1528 rows × 8 columns</p>\n",
              "</div>"
            ],
            "text/plain": [
              "                                                  title  \\\n",
              "0     German lawmakers approve 'no means no' rape la...   \n",
              "1     German lawmakers approve 'no means no' rape la...   \n",
              "2     German lawmakers approve 'no means no' rape la...   \n",
              "3     German lawmakers approve 'no means no' rape la...   \n",
              "4     German lawmakers approve 'no means no' rape la...   \n",
              "...                                                 ...   \n",
              "1523  Fury as feminist blames toddler alligator deat...   \n",
              "1524  Fury as feminist blames toddler alligator deat...   \n",
              "1525  Fury as feminist blames toddler alligator deat...   \n",
              "1526  Fury as feminist blames toddler alligator deat...   \n",
              "1527  Fury as feminist blames toddler alligator deat...   \n",
              "\n",
              "                                                   text  label  \\\n",
              "0                             Merkel would never say NO      1   \n",
              "1     Expect more and more women to be asking .. \"wh...      1   \n",
              "2     Groping people in public wasn't already illega...      0   \n",
              "3     Merkel, possible the only person in charge who...      1   \n",
              "4     They know very well, no means NO! They need to...      1   \n",
              "...                                                 ...    ...   \n",
              "1523               No, 10000 Loose nuts off their meds!      1   \n",
              "1524                         Just another ugly leftist.      1   \n",
              "1525  True. Most leftists ,esp female leftists have ...      1   \n",
              "1526  First, lets get this straight: a white, gay ma...      1   \n",
              "1527  White privilege ...work all your life to take ...      1   \n",
              "\n",
              "                                                   succ  \\\n",
              "0                                                         \n",
              "1                                                         \n",
              "2                                                         \n",
              "3                                                         \n",
              "4                                                         \n",
              "...                                                 ...   \n",
              "1523                                                      \n",
              "1524  True. Most leftists ,esp female leftists have ...   \n",
              "1525                                                      \n",
              "1526                                                      \n",
              "1527                                                      \n",
              "\n",
              "                                                   meta  \\\n",
              "0     German lawmakers passed a bill Thursday that w...   \n",
              "1     German lawmakers passed a bill Thursday that w...   \n",
              "2     German lawmakers passed a bill Thursday that w...   \n",
              "3     German lawmakers passed a bill Thursday that w...   \n",
              "4     German lawmakers passed a bill Thursday that w...   \n",
              "...                                                 ...   \n",
              "1523  A white Chicago-based Social Justice Warrior w...   \n",
              "1524  A white Chicago-based Social Justice Warrior w...   \n",
              "1525  A white Chicago-based Social Justice Warrior w...   \n",
              "1526  A white Chicago-based Social Justice Warrior w...   \n",
              "1527  A white Chicago-based Social Justice Warrior w...   \n",
              "\n",
              "                                       user     mentions  \\\n",
              "0                             barryswallows                \n",
              "1                       PostApocalypticHero                \n",
              "2                            californiamojo                \n",
              "3                                   MikeSte                \n",
              "4                                 scientist                \n",
              "...                                     ...          ...   \n",
              "1523                              toorotten                \n",
              "1524                             randwolf13                \n",
              "1525  creatingfalserealitiesleadstoinsanity  @randwolf13   \n",
              "1526                           KhaosDominus                \n",
              "1527                       leftisrighthippy                \n",
              "\n",
              "                            prev  \n",
              "0                                 \n",
              "1                                 \n",
              "2                                 \n",
              "3                                 \n",
              "4                                 \n",
              "...                          ...  \n",
              "1523                              \n",
              "1524                              \n",
              "1525  Just another ugly leftist.  \n",
              "1526                              \n",
              "1527                              \n",
              "\n",
              "[1528 rows x 8 columns]"
            ]
          },
          "metadata": {
            "tags": []
          },
          "execution_count": 376
        }
      ]
    },
    {
      "cell_type": "code",
      "metadata": {
        "id": "6dtEaIY3FDhs",
        "outputId": "def7f108-4861-45a7-cc3b-dc05baa5b3da"
      },
      "source": [
        "group = gao.groupby('title').sum()\n",
        "sample = dict(zip(list(group.index), list(group['label'])))\n",
        "sample"
      ],
      "execution_count": null,
      "outputs": [
        {
          "output_type": "execute_result",
          "data": {
            "text/plain": [
              "{'Black Lives Matter must rescind anti-Israel declaration': 33,\n",
              " 'Confederate flag debate: Protecting hatred preserves freedom': 12,\n",
              " 'First lady Obama takes swipe at Trump': 60,\n",
              " \"Fury as feminist blames toddler alligator death on white 'entitlement'\": 48,\n",
              " \"German lawmakers approve 'no means no' rape law after Cologne assaults\": 58,\n",
              " 'ICE program failing to rid US of dangerous illegal immigrants, analysts say': 56,\n",
              " 'Navy names ship after gay rights advocate Harvey Milk': 52,\n",
              " 'States moving to restore work requirements for food stamp recipients': 35,\n",
              " 'Supreme Court has spoken on affirmative action. Now, colleges should boost income diversity': 32,\n",
              " 'Texas, 12 states to ask judge to stall Obama transgender bathroom order': 49}"
            ]
          },
          "metadata": {
            "tags": []
          },
          "execution_count": 222
        }
      ]
    },
    {
      "cell_type": "code",
      "metadata": {
        "id": "Si_55immFDht",
        "outputId": "d200e20a-b769-423c-80a0-7bce827c14cc"
      },
      "source": [
        "target = gao[(gao.label == 0)]\n",
        "print('Before sampling:',gao.label.value_counts(),sep='\\n')\n",
        "gao = gao[(gao.label == 1)]\n",
        "\n",
        "cmmt = dict(zip(list(group.index), [0]*len(list(group.index))))\n",
        "\n",
        "for i in range(len(target)):\n",
        "    title = target.iloc[i]['title']\n",
        "    if cmmt[title] < sample[title]:\n",
        "        gao = gao.append({'title':target.iloc[i]['title'], 'text':target.iloc[i]['text'], 'label':target.iloc[i]['label']}, ignore_index=True)\n",
        "        cmmt[title]+=1\n",
        "        \n",
        "print('-'*10)\n",
        "print('After sampling:',gao.label.value_counts(),sep='\\n')        "
      ],
      "execution_count": null,
      "outputs": [
        {
          "output_type": "stream",
          "text": [
            "Before sampling:\n",
            "0    1093\n",
            "1     435\n",
            "Name: label, dtype: int64\n",
            "----------\n",
            "After sampling:\n",
            "1    435\n",
            "0    434\n",
            "Name: label, dtype: int64\n"
          ],
          "name": "stdout"
        }
      ]
    },
    {
      "cell_type": "code",
      "metadata": {
        "id": "cvReqydTFDht",
        "outputId": "2c05ca35-b1c7-442b-f36d-2c41b85f3471"
      },
      "source": [
        "gao.groupby(['title','label']).count()"
      ],
      "execution_count": null,
      "outputs": [
        {
          "output_type": "execute_result",
          "data": {
            "text/html": [
              "<div>\n",
              "<style scoped>\n",
              "    .dataframe tbody tr th:only-of-type {\n",
              "        vertical-align: middle;\n",
              "    }\n",
              "\n",
              "    .dataframe tbody tr th {\n",
              "        vertical-align: top;\n",
              "    }\n",
              "\n",
              "    .dataframe thead th {\n",
              "        text-align: right;\n",
              "    }\n",
              "</style>\n",
              "<table border=\"1\" class=\"dataframe\">\n",
              "  <thead>\n",
              "    <tr style=\"text-align: right;\">\n",
              "      <th></th>\n",
              "      <th></th>\n",
              "      <th>text</th>\n",
              "      <th>succ</th>\n",
              "      <th>meta</th>\n",
              "      <th>user</th>\n",
              "      <th>mentions</th>\n",
              "      <th>prev</th>\n",
              "    </tr>\n",
              "    <tr>\n",
              "      <th>title</th>\n",
              "      <th>label</th>\n",
              "      <th></th>\n",
              "      <th></th>\n",
              "      <th></th>\n",
              "      <th></th>\n",
              "      <th></th>\n",
              "      <th></th>\n",
              "    </tr>\n",
              "  </thead>\n",
              "  <tbody>\n",
              "    <tr>\n",
              "      <th rowspan=\"2\" valign=\"top\">Black Lives Matter must rescind anti-Israel declaration</th>\n",
              "      <th>0</th>\n",
              "      <td>32</td>\n",
              "      <td>0</td>\n",
              "      <td>0</td>\n",
              "      <td>0</td>\n",
              "      <td>0</td>\n",
              "      <td>0</td>\n",
              "    </tr>\n",
              "    <tr>\n",
              "      <th>1</th>\n",
              "      <td>33</td>\n",
              "      <td>33</td>\n",
              "      <td>33</td>\n",
              "      <td>33</td>\n",
              "      <td>33</td>\n",
              "      <td>33</td>\n",
              "    </tr>\n",
              "    <tr>\n",
              "      <th rowspan=\"2\" valign=\"top\">Confederate flag debate: Protecting hatred preserves freedom</th>\n",
              "      <th>0</th>\n",
              "      <td>12</td>\n",
              "      <td>0</td>\n",
              "      <td>0</td>\n",
              "      <td>0</td>\n",
              "      <td>0</td>\n",
              "      <td>0</td>\n",
              "    </tr>\n",
              "    <tr>\n",
              "      <th>1</th>\n",
              "      <td>12</td>\n",
              "      <td>12</td>\n",
              "      <td>12</td>\n",
              "      <td>12</td>\n",
              "      <td>12</td>\n",
              "      <td>12</td>\n",
              "    </tr>\n",
              "    <tr>\n",
              "      <th rowspan=\"2\" valign=\"top\">First lady Obama takes swipe at Trump</th>\n",
              "      <th>0</th>\n",
              "      <td>60</td>\n",
              "      <td>0</td>\n",
              "      <td>0</td>\n",
              "      <td>0</td>\n",
              "      <td>0</td>\n",
              "      <td>0</td>\n",
              "    </tr>\n",
              "    <tr>\n",
              "      <th>1</th>\n",
              "      <td>60</td>\n",
              "      <td>60</td>\n",
              "      <td>60</td>\n",
              "      <td>60</td>\n",
              "      <td>60</td>\n",
              "      <td>60</td>\n",
              "    </tr>\n",
              "    <tr>\n",
              "      <th rowspan=\"2\" valign=\"top\">Fury as feminist blames toddler alligator death on white 'entitlement'</th>\n",
              "      <th>0</th>\n",
              "      <td>48</td>\n",
              "      <td>0</td>\n",
              "      <td>0</td>\n",
              "      <td>0</td>\n",
              "      <td>0</td>\n",
              "      <td>0</td>\n",
              "    </tr>\n",
              "    <tr>\n",
              "      <th>1</th>\n",
              "      <td>48</td>\n",
              "      <td>48</td>\n",
              "      <td>48</td>\n",
              "      <td>48</td>\n",
              "      <td>48</td>\n",
              "      <td>48</td>\n",
              "    </tr>\n",
              "    <tr>\n",
              "      <th rowspan=\"2\" valign=\"top\">German lawmakers approve 'no means no' rape law after Cologne assaults</th>\n",
              "      <th>0</th>\n",
              "      <td>58</td>\n",
              "      <td>0</td>\n",
              "      <td>0</td>\n",
              "      <td>0</td>\n",
              "      <td>0</td>\n",
              "      <td>0</td>\n",
              "    </tr>\n",
              "    <tr>\n",
              "      <th>1</th>\n",
              "      <td>58</td>\n",
              "      <td>58</td>\n",
              "      <td>58</td>\n",
              "      <td>58</td>\n",
              "      <td>58</td>\n",
              "      <td>58</td>\n",
              "    </tr>\n",
              "    <tr>\n",
              "      <th rowspan=\"2\" valign=\"top\">ICE program failing to rid US of dangerous illegal immigrants, analysts say</th>\n",
              "      <th>0</th>\n",
              "      <td>56</td>\n",
              "      <td>0</td>\n",
              "      <td>0</td>\n",
              "      <td>0</td>\n",
              "      <td>0</td>\n",
              "      <td>0</td>\n",
              "    </tr>\n",
              "    <tr>\n",
              "      <th>1</th>\n",
              "      <td>56</td>\n",
              "      <td>56</td>\n",
              "      <td>56</td>\n",
              "      <td>56</td>\n",
              "      <td>56</td>\n",
              "      <td>56</td>\n",
              "    </tr>\n",
              "    <tr>\n",
              "      <th rowspan=\"2\" valign=\"top\">Navy names ship after gay rights advocate Harvey Milk</th>\n",
              "      <th>0</th>\n",
              "      <td>52</td>\n",
              "      <td>0</td>\n",
              "      <td>0</td>\n",
              "      <td>0</td>\n",
              "      <td>0</td>\n",
              "      <td>0</td>\n",
              "    </tr>\n",
              "    <tr>\n",
              "      <th>1</th>\n",
              "      <td>52</td>\n",
              "      <td>52</td>\n",
              "      <td>52</td>\n",
              "      <td>52</td>\n",
              "      <td>52</td>\n",
              "      <td>52</td>\n",
              "    </tr>\n",
              "    <tr>\n",
              "      <th rowspan=\"2\" valign=\"top\">States moving to restore work requirements for food stamp recipients</th>\n",
              "      <th>0</th>\n",
              "      <td>35</td>\n",
              "      <td>0</td>\n",
              "      <td>0</td>\n",
              "      <td>0</td>\n",
              "      <td>0</td>\n",
              "      <td>0</td>\n",
              "    </tr>\n",
              "    <tr>\n",
              "      <th>1</th>\n",
              "      <td>35</td>\n",
              "      <td>35</td>\n",
              "      <td>35</td>\n",
              "      <td>35</td>\n",
              "      <td>35</td>\n",
              "      <td>35</td>\n",
              "    </tr>\n",
              "    <tr>\n",
              "      <th rowspan=\"2\" valign=\"top\">Supreme Court has spoken on affirmative action. Now, colleges should boost income diversity</th>\n",
              "      <th>0</th>\n",
              "      <td>32</td>\n",
              "      <td>0</td>\n",
              "      <td>0</td>\n",
              "      <td>0</td>\n",
              "      <td>0</td>\n",
              "      <td>0</td>\n",
              "    </tr>\n",
              "    <tr>\n",
              "      <th>1</th>\n",
              "      <td>32</td>\n",
              "      <td>32</td>\n",
              "      <td>32</td>\n",
              "      <td>32</td>\n",
              "      <td>32</td>\n",
              "      <td>32</td>\n",
              "    </tr>\n",
              "    <tr>\n",
              "      <th rowspan=\"2\" valign=\"top\">Texas, 12 states to ask judge to stall Obama transgender bathroom order</th>\n",
              "      <th>0</th>\n",
              "      <td>49</td>\n",
              "      <td>0</td>\n",
              "      <td>0</td>\n",
              "      <td>0</td>\n",
              "      <td>0</td>\n",
              "      <td>0</td>\n",
              "    </tr>\n",
              "    <tr>\n",
              "      <th>1</th>\n",
              "      <td>49</td>\n",
              "      <td>49</td>\n",
              "      <td>49</td>\n",
              "      <td>49</td>\n",
              "      <td>49</td>\n",
              "      <td>49</td>\n",
              "    </tr>\n",
              "  </tbody>\n",
              "</table>\n",
              "</div>"
            ],
            "text/plain": [
              "                                                          text  succ  meta  \\\n",
              "title                                              label                     \n",
              "Black Lives Matter must rescind anti-Israel dec... 0        32     0     0   \n",
              "                                                   1        33    33    33   \n",
              "Confederate flag debate: Protecting hatred pres... 0        12     0     0   \n",
              "                                                   1        12    12    12   \n",
              "First lady Obama takes swipe at Trump              0        60     0     0   \n",
              "                                                   1        60    60    60   \n",
              "Fury as feminist blames toddler alligator death... 0        48     0     0   \n",
              "                                                   1        48    48    48   \n",
              "German lawmakers approve 'no means no' rape law... 0        58     0     0   \n",
              "                                                   1        58    58    58   \n",
              "ICE program failing to rid US of dangerous ille... 0        56     0     0   \n",
              "                                                   1        56    56    56   \n",
              "Navy names ship after gay rights advocate Harve... 0        52     0     0   \n",
              "                                                   1        52    52    52   \n",
              "States moving to restore work requirements for ... 0        35     0     0   \n",
              "                                                   1        35    35    35   \n",
              "Supreme Court has spoken on affirmative action.... 0        32     0     0   \n",
              "                                                   1        32    32    32   \n",
              "Texas, 12 states to ask judge to stall Obama tr... 0        49     0     0   \n",
              "                                                   1        49    49    49   \n",
              "\n",
              "                                                          user  mentions  prev  \n",
              "title                                              label                        \n",
              "Black Lives Matter must rescind anti-Israel dec... 0         0         0     0  \n",
              "                                                   1        33        33    33  \n",
              "Confederate flag debate: Protecting hatred pres... 0         0         0     0  \n",
              "                                                   1        12        12    12  \n",
              "First lady Obama takes swipe at Trump              0         0         0     0  \n",
              "                                                   1        60        60    60  \n",
              "Fury as feminist blames toddler alligator death... 0         0         0     0  \n",
              "                                                   1        48        48    48  \n",
              "German lawmakers approve 'no means no' rape law... 0         0         0     0  \n",
              "                                                   1        58        58    58  \n",
              "ICE program failing to rid US of dangerous ille... 0         0         0     0  \n",
              "                                                   1        56        56    56  \n",
              "Navy names ship after gay rights advocate Harve... 0         0         0     0  \n",
              "                                                   1        52        52    52  \n",
              "States moving to restore work requirements for ... 0         0         0     0  \n",
              "                                                   1        35        35    35  \n",
              "Supreme Court has spoken on affirmative action.... 0         0         0     0  \n",
              "                                                   1        32        32    32  \n",
              "Texas, 12 states to ask judge to stall Obama tr... 0         0         0     0  \n",
              "                                                   1        49        49    49  "
            ]
          },
          "metadata": {
            "tags": []
          },
          "execution_count": 169
        }
      ]
    },
    {
      "cell_type": "code",
      "metadata": {
        "id": "qP0A72H0FDht",
        "outputId": "b5e0c4c6-525a-480d-f6e4-6d21c9067376"
      },
      "source": [
        "gao = gao[['title','text','label']]\n",
        "\n",
        "context = []\n",
        "\n",
        "for title, text in zip(gao.title, gao.text):\n",
        "    context.append([title,text])\n",
        "    \n",
        "gao['cmmt_list'] = context\n",
        "gao = gao[['cmmt_list','label']]\n",
        "gao = gao.rename(columns={'label':'target'})\n",
        "gao"
      ],
      "execution_count": null,
      "outputs": [
        {
          "output_type": "execute_result",
          "data": {
            "text/html": [
              "<div>\n",
              "<style scoped>\n",
              "    .dataframe tbody tr th:only-of-type {\n",
              "        vertical-align: middle;\n",
              "    }\n",
              "\n",
              "    .dataframe tbody tr th {\n",
              "        vertical-align: top;\n",
              "    }\n",
              "\n",
              "    .dataframe thead th {\n",
              "        text-align: right;\n",
              "    }\n",
              "</style>\n",
              "<table border=\"1\" class=\"dataframe\">\n",
              "  <thead>\n",
              "    <tr style=\"text-align: right;\">\n",
              "      <th></th>\n",
              "      <th>cmmt_list</th>\n",
              "      <th>target</th>\n",
              "    </tr>\n",
              "  </thead>\n",
              "  <tbody>\n",
              "    <tr>\n",
              "      <th>0</th>\n",
              "      <td>[German lawmakers approve 'no means no' rape l...</td>\n",
              "      <td>1</td>\n",
              "    </tr>\n",
              "    <tr>\n",
              "      <th>1</th>\n",
              "      <td>[German lawmakers approve 'no means no' rape l...</td>\n",
              "      <td>1</td>\n",
              "    </tr>\n",
              "    <tr>\n",
              "      <th>2</th>\n",
              "      <td>[German lawmakers approve 'no means no' rape l...</td>\n",
              "      <td>1</td>\n",
              "    </tr>\n",
              "    <tr>\n",
              "      <th>3</th>\n",
              "      <td>[German lawmakers approve 'no means no' rape l...</td>\n",
              "      <td>1</td>\n",
              "    </tr>\n",
              "    <tr>\n",
              "      <th>4</th>\n",
              "      <td>[German lawmakers approve 'no means no' rape l...</td>\n",
              "      <td>1</td>\n",
              "    </tr>\n",
              "    <tr>\n",
              "      <th>...</th>\n",
              "      <td>...</td>\n",
              "      <td>...</td>\n",
              "    </tr>\n",
              "    <tr>\n",
              "      <th>864</th>\n",
              "      <td>[Fury as feminist blames toddler alligator dea...</td>\n",
              "      <td>0</td>\n",
              "    </tr>\n",
              "    <tr>\n",
              "      <th>865</th>\n",
              "      <td>[Fury as feminist blames toddler alligator dea...</td>\n",
              "      <td>0</td>\n",
              "    </tr>\n",
              "    <tr>\n",
              "      <th>866</th>\n",
              "      <td>[Fury as feminist blames toddler alligator dea...</td>\n",
              "      <td>0</td>\n",
              "    </tr>\n",
              "    <tr>\n",
              "      <th>867</th>\n",
              "      <td>[Fury as feminist blames toddler alligator dea...</td>\n",
              "      <td>0</td>\n",
              "    </tr>\n",
              "    <tr>\n",
              "      <th>868</th>\n",
              "      <td>[Fury as feminist blames toddler alligator dea...</td>\n",
              "      <td>0</td>\n",
              "    </tr>\n",
              "  </tbody>\n",
              "</table>\n",
              "<p>869 rows × 2 columns</p>\n",
              "</div>"
            ],
            "text/plain": [
              "                                             cmmt_list  target\n",
              "0    [German lawmakers approve 'no means no' rape l...       1\n",
              "1    [German lawmakers approve 'no means no' rape l...       1\n",
              "2    [German lawmakers approve 'no means no' rape l...       1\n",
              "3    [German lawmakers approve 'no means no' rape l...       1\n",
              "4    [German lawmakers approve 'no means no' rape l...       1\n",
              "..                                                 ...     ...\n",
              "864  [Fury as feminist blames toddler alligator dea...       0\n",
              "865  [Fury as feminist blames toddler alligator dea...       0\n",
              "866  [Fury as feminist blames toddler alligator dea...       0\n",
              "867  [Fury as feminist blames toddler alligator dea...       0\n",
              "868  [Fury as feminist blames toddler alligator dea...       0\n",
              "\n",
              "[869 rows x 2 columns]"
            ]
          },
          "metadata": {
            "tags": []
          },
          "execution_count": 261
        }
      ]
    },
    {
      "cell_type": "code",
      "metadata": {
        "id": "HlpbTgJsFDht",
        "outputId": "7a74155c-e540-4807-cb16-d534ce28beb2"
      },
      "source": [
        "context = pd.concat([gao,data])\n",
        "\n",
        "context"
      ],
      "execution_count": null,
      "outputs": [
        {
          "output_type": "execute_result",
          "data": {
            "text/html": [
              "<div>\n",
              "<style scoped>\n",
              "    .dataframe tbody tr th:only-of-type {\n",
              "        vertical-align: middle;\n",
              "    }\n",
              "\n",
              "    .dataframe tbody tr th {\n",
              "        vertical-align: top;\n",
              "    }\n",
              "\n",
              "    .dataframe thead th {\n",
              "        text-align: right;\n",
              "    }\n",
              "</style>\n",
              "<table border=\"1\" class=\"dataframe\">\n",
              "  <thead>\n",
              "    <tr style=\"text-align: right;\">\n",
              "      <th></th>\n",
              "      <th>cmmt_list</th>\n",
              "      <th>target</th>\n",
              "    </tr>\n",
              "  </thead>\n",
              "  <tbody>\n",
              "    <tr>\n",
              "      <th>0</th>\n",
              "      <td>[German lawmakers approve 'no means no' rape l...</td>\n",
              "      <td>1</td>\n",
              "    </tr>\n",
              "    <tr>\n",
              "      <th>1</th>\n",
              "      <td>[German lawmakers approve 'no means no' rape l...</td>\n",
              "      <td>1</td>\n",
              "    </tr>\n",
              "    <tr>\n",
              "      <th>2</th>\n",
              "      <td>[German lawmakers approve 'no means no' rape l...</td>\n",
              "      <td>1</td>\n",
              "    </tr>\n",
              "    <tr>\n",
              "      <th>3</th>\n",
              "      <td>[German lawmakers approve 'no means no' rape l...</td>\n",
              "      <td>1</td>\n",
              "    </tr>\n",
              "    <tr>\n",
              "      <th>4</th>\n",
              "      <td>[German lawmakers approve 'no means no' rape l...</td>\n",
              "      <td>1</td>\n",
              "    </tr>\n",
              "    <tr>\n",
              "      <th>...</th>\n",
              "      <td>...</td>\n",
              "      <td>...</td>\n",
              "    </tr>\n",
              "    <tr>\n",
              "      <th>30812</th>\n",
              "      <td>[Lol, these people are really out there claimi...</td>\n",
              "      <td>0</td>\n",
              "    </tr>\n",
              "    <tr>\n",
              "      <th>30813</th>\n",
              "      <td>[saw this on Reddit, This is such a terrible b...</td>\n",
              "      <td>0</td>\n",
              "    </tr>\n",
              "    <tr>\n",
              "      <th>30814</th>\n",
              "      <td>[Is this really how our men should be spending...</td>\n",
              "      <td>0</td>\n",
              "    </tr>\n",
              "    <tr>\n",
              "      <th>30815</th>\n",
              "      <td>[Because you lame-ass #MAGA-ites believe that ...</td>\n",
              "      <td>0</td>\n",
              "    </tr>\n",
              "    <tr>\n",
              "      <th>30816</th>\n",
              "      <td>[Race and Religion in the Modern Pagan World h...</td>\n",
              "      <td>0</td>\n",
              "    </tr>\n",
              "  </tbody>\n",
              "</table>\n",
              "<p>31686 rows × 2 columns</p>\n",
              "</div>"
            ],
            "text/plain": [
              "                                               cmmt_list target\n",
              "0      [German lawmakers approve 'no means no' rape l...      1\n",
              "1      [German lawmakers approve 'no means no' rape l...      1\n",
              "2      [German lawmakers approve 'no means no' rape l...      1\n",
              "3      [German lawmakers approve 'no means no' rape l...      1\n",
              "4      [German lawmakers approve 'no means no' rape l...      1\n",
              "...                                                  ...    ...\n",
              "30812  [Lol, these people are really out there claimi...      0\n",
              "30813  [saw this on Reddit, This is such a terrible b...      0\n",
              "30814  [Is this really how our men should be spending...      0\n",
              "30815  [Because you lame-ass #MAGA-ites believe that ...      0\n",
              "30816  [Race and Religion in the Modern Pagan World h...      0\n",
              "\n",
              "[31686 rows x 2 columns]"
            ]
          },
          "metadata": {
            "tags": []
          },
          "execution_count": 262
        }
      ]
    },
    {
      "cell_type": "code",
      "metadata": {
        "id": "3Hu2v21rFDhu",
        "outputId": "441b7e4c-e53c-4d82-ec87-30e29ece047a"
      },
      "source": [
        "df_gao.target.value_counts()"
      ],
      "execution_count": null,
      "outputs": [
        {
          "output_type": "execute_result",
          "data": {
            "text/plain": [
              "1    179936\n",
              "0    174504\n",
              "Name: target, dtype: int64"
            ]
          },
          "metadata": {
            "tags": []
          },
          "execution_count": 54
        }
      ]
    },
    {
      "cell_type": "code",
      "metadata": {
        "id": "JB4j334BFDhu"
      },
      "source": [
        "df_gao.to_csv('finaldata_wgao.csv', index=False)"
      ],
      "execution_count": null,
      "outputs": []
    },
    {
      "cell_type": "markdown",
      "metadata": {
        "id": "kplhSGHSFDhu"
      },
      "source": [
        "# Pan12"
      ]
    },
    {
      "cell_type": "code",
      "metadata": {
        "id": "Dk3YehLVQfTC",
        "outputId": "5f80fe0d-f291-430b-9a43-e277161ceb69"
      },
      "source": [
        "import xml.etree.ElementTree as ET\n",
        "\n",
        "tree = ET.parse('C:\\\\Users\\\\user\\\\OneDrive\\\\Desktop\\\\codestates\\\\기업협업\\\\dataset\\\\pan12\\\\train\\\\training-corpus.xml')\n",
        "root = tree.getroot()\n",
        "\n",
        "root.tag"
      ],
      "execution_count": null,
      "outputs": [
        {
          "output_type": "execute_result",
          "data": {
            "text/plain": [
              "'conversations'"
            ]
          },
          "metadata": {
            "tags": []
          },
          "execution_count": 60
        }
      ]
    },
    {
      "cell_type": "code",
      "metadata": {
        "id": "fErOIJqlFDhv",
        "outputId": "dc2685c3-6b48-448e-e8d4-2f7e4b42331a"
      },
      "source": [
        "len(root[0])"
      ],
      "execution_count": null,
      "outputs": [
        {
          "output_type": "execute_result",
          "data": {
            "text/plain": [
              "62"
            ]
          },
          "metadata": {
            "tags": []
          },
          "execution_count": 75
        }
      ]
    },
    {
      "cell_type": "code",
      "metadata": {
        "id": "tGmISH06FDhv"
      },
      "source": [
        "pd.read_csv('C:\\\\Users\\\\user\\\\OneDrive\\\\Desktop\\\\codestates\\\\기업협업\\\\dataset\\\\pan12\\\\train\\\\training-corpus.xml')"
      ],
      "execution_count": null,
      "outputs": []
    },
    {
      "cell_type": "code",
      "metadata": {
        "id": "WLUSZKJYFDhv",
        "outputId": "46a6527d-5533-4e96-ad01-f9d40040df53"
      },
      "source": [
        "root[0][8][2].text"
      ],
      "execution_count": null,
      "outputs": [
        {
          "output_type": "execute_result",
          "data": {
            "text/plain": [
              "'M here.  Just got home from weekend trip.  Tired.'"
            ]
          },
          "metadata": {
            "tags": []
          },
          "execution_count": 87
        }
      ]
    },
    {
      "cell_type": "code",
      "metadata": {
        "id": "TXoc9OuWFDhv",
        "outputId": "cf195e2e-2892-4b28-b115-74aac0843a56"
      },
      "source": [
        "cmmts = []\n",
        "\n",
        "for i in len(root):\n",
        "    for i in len(root[i]):\n",
        "        id = root[i][0][0].text\n",
        "        text = root[i][0][2].text"
      ],
      "execution_count": null,
      "outputs": [
        {
          "output_type": "execute_result",
          "data": {
            "text/plain": [
              "'Hola.'"
            ]
          },
          "metadata": {
            "tags": []
          },
          "execution_count": 70
        }
      ]
    },
    {
      "cell_type": "markdown",
      "metadata": {
        "id": "kJonT-xL2wiY"
      },
      "source": [
        "# data collection"
      ]
    },
    {
      "cell_type": "code",
      "metadata": {
        "id": "0qIGiU1n2wiZ",
        "outputId": "3d084212-3d63-4503-f11b-cedc0f19289c"
      },
      "source": [
        "dfs = pd.read_csv('C:\\\\Users\\\\user\\\\OneDrive\\\\Desktop\\\\codestates\\\\기업협업\\\\dataset\\\\combined.tsv', sep='\\t')\n",
        "\n",
        "dfs = dfs[(dfs.file_language == 'en')]\n",
        "dfs.file_name.unique()"
      ],
      "execution_count": null,
      "outputs": [
        {
          "output_type": "execute_result",
          "data": {
            "text/plain": [
              "array(['ousidhoum2019en_with_stopwords.csv', 'ousidhoum2019en.csv',\n",
              "       'davidson2017en.csv', 'gibert2018en.csv', 'gao2018en.csv',\n",
              "       'qian2019en_gab.csv', 'qian2019en_reddit.csv', 'mandl2019en.csv',\n",
              "       'mandl2019ger.csv', 'mandl2019hind.csv', 'bretschneider2017en.csv',\n",
              "       'basile2019en.csv', 'wulczyn2017en_toxic.csv',\n",
              "       'wulczyn2017en_aggressive.csv', 'wulczyn2017en_attack.csv',\n",
              "       'zampieri2019en.csv', 'bretschneider2016en_wow.csv',\n",
              "       'bretschneider2016en_lol.csv'], dtype=object)"
            ]
          },
          "metadata": {
            "tags": []
          },
          "execution_count": 89
        }
      ]
    },
    {
      "cell_type": "code",
      "metadata": {
        "id": "8sFZLFyF2wia",
        "outputId": "e3735a80-7916-4b5e-c26e-2eb4aab35bc6"
      },
      "source": [
        "files = ['ousidhoum2019en.csv', 'davidson2017en.csv', 'gibert2018en.csv',\n",
        "       'gao2018en.csv', 'qian2019en_gab.csv', 'qian2019en_reddit.csv',\n",
        "       'mandl2019en.csv', 'bretschneider2017en.csv', 'basile2019en.csv',\n",
        "       'wulczyn2017en_toxic.csv', 'wulczyn2017en_aggressive.csv',\n",
        "       'wulczyn2017en_attack.csv', 'zampieri2019en.csv',\n",
        "       'bretschneider2016en_wow.csv', 'bretschneider2016en_lol.csv']\n",
        "\n",
        "df = dfs[(dfs.file_name == files[0])]\n",
        "df"
      ],
      "execution_count": null,
      "outputs": [
        {
          "output_type": "execute_result",
          "data": {
            "text/html": [
              "<div>\n",
              "<style scoped>\n",
              "    .dataframe tbody tr th:only-of-type {\n",
              "        vertical-align: middle;\n",
              "    }\n",
              "\n",
              "    .dataframe tbody tr th {\n",
              "        vertical-align: top;\n",
              "    }\n",
              "\n",
              "    .dataframe thead th {\n",
              "        text-align: right;\n",
              "    }\n",
              "</style>\n",
              "<table border=\"1\" class=\"dataframe\">\n",
              "  <thead>\n",
              "    <tr style=\"text-align: right;\">\n",
              "      <th></th>\n",
              "      <th>id</th>\n",
              "      <th>file_platform</th>\n",
              "      <th>file_language</th>\n",
              "      <th>file_name</th>\n",
              "      <th>text</th>\n",
              "      <th>labels</th>\n",
              "    </tr>\n",
              "  </thead>\n",
              "  <tbody>\n",
              "    <tr>\n",
              "      <th>9000</th>\n",
              "      <td>0</td>\n",
              "      <td>twitter</td>\n",
              "      <td>en</td>\n",
              "      <td>ousidhoum2019en.csv</td>\n",
              "      <td>call sis im boy girl still faggot shut</td>\n",
              "      <td>['offensive', 'indirect']</td>\n",
              "    </tr>\n",
              "    <tr>\n",
              "      <th>9001</th>\n",
              "      <td>1</td>\n",
              "      <td>twitter</td>\n",
              "      <td>en</td>\n",
              "      <td>ousidhoum2019en.csv</td>\n",
              "      <td>@user @user legit nilas retarded idk</td>\n",
              "      <td>['offensive', 'indirect', 'disrespectful']</td>\n",
              "    </tr>\n",
              "    <tr>\n",
              "      <th>9002</th>\n",
              "      <td>2</td>\n",
              "      <td>twitter</td>\n",
              "      <td>en</td>\n",
              "      <td>ousidhoum2019en.csv</td>\n",
              "      <td>said retard @url</td>\n",
              "      <td>['abusive', 'offensive', 'fearful', 'hate', 'i...</td>\n",
              "    </tr>\n",
              "    <tr>\n",
              "      <th>9003</th>\n",
              "      <td>3</td>\n",
              "      <td>twitter</td>\n",
              "      <td>en</td>\n",
              "      <td>ousidhoum2019en.csv</td>\n",
              "      <td>america another 8 years obama's ideology via h...</td>\n",
              "      <td>['abusive', 'fearful', 'none', 'disrespectful'...</td>\n",
              "    </tr>\n",
              "    <tr>\n",
              "      <th>9004</th>\n",
              "      <td>4</td>\n",
              "      <td>twitter</td>\n",
              "      <td>en</td>\n",
              "      <td>ousidhoum2019en.csv</td>\n",
              "      <td>@user don... fucking made cry twat.</td>\n",
              "      <td>['offensive', 'indirect']</td>\n",
              "    </tr>\n",
              "    <tr>\n",
              "      <th>...</th>\n",
              "      <td>...</td>\n",
              "      <td>...</td>\n",
              "      <td>...</td>\n",
              "      <td>...</td>\n",
              "      <td>...</td>\n",
              "      <td>...</td>\n",
              "    </tr>\n",
              "    <tr>\n",
              "      <th>14642</th>\n",
              "      <td>5642</td>\n",
              "      <td>twitter</td>\n",
              "      <td>en</td>\n",
              "      <td>ousidhoum2019en.csv</td>\n",
              "      <td>@user @user retard :) x</td>\n",
              "      <td>['direct', 'hate']</td>\n",
              "    </tr>\n",
              "    <tr>\n",
              "      <th>14643</th>\n",
              "      <td>5643</td>\n",
              "      <td>twitter</td>\n",
              "      <td>en</td>\n",
              "      <td>ousidhoum2019en.csv</td>\n",
              "      <td>i'm hole sir i'm faggot sir i'm clit sir i'm h...</td>\n",
              "      <td>['offensive', 'fearful', 'indirect']</td>\n",
              "    </tr>\n",
              "    <tr>\n",
              "      <th>14644</th>\n",
              "      <td>5644</td>\n",
              "      <td>twitter</td>\n",
              "      <td>en</td>\n",
              "      <td>ousidhoum2019en.csv</td>\n",
              "      <td>(2/2) like fucking twat i'm damage heal you. r...</td>\n",
              "      <td>['hate', 'indirect']</td>\n",
              "    </tr>\n",
              "    <tr>\n",
              "      <th>14645</th>\n",
              "      <td>5645</td>\n",
              "      <td>twitter</td>\n",
              "      <td>en</td>\n",
              "      <td>ousidhoum2019en.csv</td>\n",
              "      <td>bf retarded guess u r 2</td>\n",
              "      <td>['none', 'indirect']</td>\n",
              "    </tr>\n",
              "    <tr>\n",
              "      <th>14646</th>\n",
              "      <td>5646</td>\n",
              "      <td>twitter</td>\n",
              "      <td>en</td>\n",
              "      <td>ousidhoum2019en.csv</td>\n",
              "      <td>@user whats ching chong stuff mean</td>\n",
              "      <td>['offensive', 'indirect']</td>\n",
              "    </tr>\n",
              "  </tbody>\n",
              "</table>\n",
              "<p>5647 rows × 6 columns</p>\n",
              "</div>"
            ],
            "text/plain": [
              "         id file_platform file_language            file_name  \\\n",
              "9000      0       twitter            en  ousidhoum2019en.csv   \n",
              "9001      1       twitter            en  ousidhoum2019en.csv   \n",
              "9002      2       twitter            en  ousidhoum2019en.csv   \n",
              "9003      3       twitter            en  ousidhoum2019en.csv   \n",
              "9004      4       twitter            en  ousidhoum2019en.csv   \n",
              "...     ...           ...           ...                  ...   \n",
              "14642  5642       twitter            en  ousidhoum2019en.csv   \n",
              "14643  5643       twitter            en  ousidhoum2019en.csv   \n",
              "14644  5644       twitter            en  ousidhoum2019en.csv   \n",
              "14645  5645       twitter            en  ousidhoum2019en.csv   \n",
              "14646  5646       twitter            en  ousidhoum2019en.csv   \n",
              "\n",
              "                                                    text  \\\n",
              "9000              call sis im boy girl still faggot shut   \n",
              "9001                @user @user legit nilas retarded idk   \n",
              "9002                                    said retard @url   \n",
              "9003   america another 8 years obama's ideology via h...   \n",
              "9004                 @user don... fucking made cry twat.   \n",
              "...                                                  ...   \n",
              "14642                            @user @user retard :) x   \n",
              "14643  i'm hole sir i'm faggot sir i'm clit sir i'm h...   \n",
              "14644  (2/2) like fucking twat i'm damage heal you. r...   \n",
              "14645                            bf retarded guess u r 2   \n",
              "14646                 @user whats ching chong stuff mean   \n",
              "\n",
              "                                                  labels  \n",
              "9000                           ['offensive', 'indirect']  \n",
              "9001          ['offensive', 'indirect', 'disrespectful']  \n",
              "9002   ['abusive', 'offensive', 'fearful', 'hate', 'i...  \n",
              "9003   ['abusive', 'fearful', 'none', 'disrespectful'...  \n",
              "9004                           ['offensive', 'indirect']  \n",
              "...                                                  ...  \n",
              "14642                                 ['direct', 'hate']  \n",
              "14643               ['offensive', 'fearful', 'indirect']  \n",
              "14644                               ['hate', 'indirect']  \n",
              "14645                               ['none', 'indirect']  \n",
              "14646                          ['offensive', 'indirect']  \n",
              "\n",
              "[5647 rows x 6 columns]"
            ]
          },
          "metadata": {
            "tags": []
          },
          "execution_count": 104
        }
      ]
    },
    {
      "cell_type": "code",
      "metadata": {
        "id": "EOZoSYrHFDhx",
        "outputId": "9304a3ac-c29d-4f2d-9563-09eb756ea260"
      },
      "source": [
        "df.labels.unique()"
      ],
      "execution_count": null,
      "outputs": [
        {
          "output_type": "execute_result",
          "data": {
            "text/plain": [
              "array([\"['offensive', 'indirect']\",\n",
              "       \"['offensive', 'indirect', 'disrespectful']\",\n",
              "       \"['abusive', 'offensive', 'fearful', 'hate', 'indirect']\",\n",
              "       \"['abusive', 'fearful', 'none', 'disrespectful', 'hate', 'indirect']\",\n",
              "       \"['direct', 'offensive']\", \"['none', 'indirect']\",\n",
              "       \"['direct', 'hate', 'offensive']\",\n",
              "       \"['hate', 'indirect', 'disrespectful']\",\n",
              "       \"['hate', 'none', 'indirect']\", \"['direct', 'hate']\",\n",
              "       \"['abusive', 'offensive', 'direct']\",\n",
              "       \"['abusive', 'none', 'indirect']\",\n",
              "       \"['offensive', 'indirect', 'none']\",\n",
              "       \"['abusive', 'offensive', 'none', 'disrespectful', 'hate', 'indirect']\",\n",
              "       \"['offensive', 'fearful', 'none', 'disrespectful', 'hate', 'indirect']\",\n",
              "       \"['abusive', 'hate', 'indirect']\",\n",
              "       \"['abusive', 'fearful', 'none', 'hate', 'indirect']\",\n",
              "       \"['abusive', 'offensive', 'fearful', 'none', 'disrespectful', 'indirect']\",\n",
              "       \"['hate', 'indirect']\",\n",
              "       \"['abusive', 'offensive', 'fearful', 'disrespectful', 'hate', 'indirect']\",\n",
              "       \"['fearful', 'indirect', 'none']\",\n",
              "       \"['offensive', 'fearful', 'indirect']\",\n",
              "       \"['indirect', 'disrespectful']\", \"['direct', 'none']\",\n",
              "       \"['hate', 'offensive', 'indirect']\",\n",
              "       \"['abusive', 'offensive', 'indirect']\",\n",
              "       \"['abusive', 'direct', 'offensive', 'fearful', 'none', 'hate']\",\n",
              "       \"['hate', 'fearful', 'indirect']\",\n",
              "       \"['abusive', 'offensive', 'fearful', 'none', 'hate', 'indirect']\",\n",
              "       \"['direct', 'offensive', 'disrespectful']\",\n",
              "       \"['abusive', 'fearful', 'indirect']\",\n",
              "       \"['none', 'indirect', 'disrespectful']\",\n",
              "       \"['abusive', 'indirect', 'disrespectful']\",\n",
              "       \"['direct', 'offensive', 'none']\",\n",
              "       \"['direct', 'hate', 'disrespectful']\",\n",
              "       \"['offensive', 'fearful', 'none', 'hate', 'indirect']\",\n",
              "       \"['fearful', 'indirect', 'disrespectful']\",\n",
              "       \"['abusive', 'hate', 'direct']\", \"['fearful', 'indirect']\",\n",
              "       \"['abusive', 'direct', 'offensive', 'fearful', 'disrespectful', 'hate']\",\n",
              "       \"['abusive', 'direct', 'disrespectful']\",\n",
              "       \"['abusive', 'none', 'direct']\", \"['direct', 'disrespectful']\",\n",
              "       \"['abusive', 'direct', 'fearful', 'none', 'hate']\",\n",
              "       \"['abusive', 'fearful', 'none', 'disrespectful', 'indirect']\",\n",
              "       \"['abusive', 'offensive', 'none', 'hate', 'indirect']\",\n",
              "       \"['direct', 'hate', 'none']\",\n",
              "       \"['abusive', 'direct', 'offensive', 'none', 'disrespectful', 'hate']\",\n",
              "       \"['offensive', 'none', 'disrespectful', 'hate', 'indirect']\",\n",
              "       \"['abusive', 'fearful', 'direct']\", \"['direct', 'fearful']\",\n",
              "       \"['abusive', 'offensive', 'disrespectful', 'hate', 'indirect']\",\n",
              "       \"['direct', 'hate', 'fearful']\",\n",
              "       \"['abusive', 'fearful', 'disrespectful', 'hate', 'indirect']\",\n",
              "       \"['abusive', 'offensive', 'none', 'disrespectful', 'indirect']\",\n",
              "       \"['fearful', 'none', 'disrespectful', 'hate', 'indirect']\",\n",
              "       \"['direct', 'offensive', 'fearful', 'none', 'disrespectful', 'hate']\",\n",
              "       \"['abusive', 'offensive', 'fearful', 'disrespectful', 'indirect']\",\n",
              "       \"['abusive', 'direct', 'offensive', 'disrespectful', 'hate']\",\n",
              "       \"['direct', 'offensive', 'fearful', 'none', 'disrespectful']\",\n",
              "       \"['abusive', 'offensive', 'fearful', 'none', 'indirect']\",\n",
              "       \"['hate', 'offensive', 'indirect', 'disrespectful']\",\n",
              "       \"['abusive', 'direct', 'offensive', 'fearful', 'none', 'disrespectful']\",\n",
              "       \"['abusive', 'offensive', 'indirect', 'none']\",\n",
              "       \"['direct', 'offensive', 'fearful']\",\n",
              "       \"['direct', 'fearful', 'disrespectful']\",\n",
              "       \"['abusive', 'none', 'disrespectful', 'hate', 'indirect']\",\n",
              "       \"['abusive', 'indirect']\",\n",
              "       \"['abusive', 'direct', 'fearful', 'none', 'disrespectful', 'hate']\",\n",
              "       \"['offensive', 'fearful', 'disrespectful', 'hate', 'indirect']\"],\n",
              "      dtype=object)"
            ]
          },
          "metadata": {
            "tags": []
          },
          "execution_count": 105
        }
      ]
    },
    {
      "cell_type": "code",
      "metadata": {
        "id": "YK1Q3figFDhx"
      },
      "source": [
        "df['cmmt_list'] = df['cmmt_list'].apply(lambda x: ast.literal_eval(x))"
      ],
      "execution_count": null,
      "outputs": []
    },
    {
      "cell_type": "markdown",
      "metadata": {
        "id": "6Zsg3htXFDhx"
      },
      "source": [
        "# Toxicity Detection: Does Context Really Matter?"
      ]
    },
    {
      "cell_type": "code",
      "metadata": {
        "id": "yKeHj7sXFDhy",
        "outputId": "1b38ea1b-e761-4c9e-f0d7-80a57a7721b0"
      },
      "source": [
        "gc = pd.read_csv('C:\\\\Users\\\\user\\\\OneDrive\\\\Desktop\\\\codestates\\\\기업협업\\\\dataset\\\\gc.csv')\n",
        "gc"
      ],
      "execution_count": null,
      "outputs": [
        {
          "output_type": "execute_result",
          "data": {
            "text/html": [
              "<div>\n",
              "<style scoped>\n",
              "    .dataframe tbody tr th:only-of-type {\n",
              "        vertical-align: middle;\n",
              "    }\n",
              "\n",
              "    .dataframe tbody tr th {\n",
              "        vertical-align: top;\n",
              "    }\n",
              "\n",
              "    .dataframe thead th {\n",
              "        text-align: right;\n",
              "    }\n",
              "</style>\n",
              "<table border=\"1\" class=\"dataframe\">\n",
              "  <thead>\n",
              "    <tr style=\"text-align: right;\">\n",
              "      <th></th>\n",
              "      <th>id</th>\n",
              "      <th>text</th>\n",
              "      <th>parent</th>\n",
              "      <th>label</th>\n",
              "      <th>api</th>\n",
              "    </tr>\n",
              "  </thead>\n",
              "  <tbody>\n",
              "    <tr>\n",
              "      <th>0</th>\n",
              "      <td>100030037.40314.40314</td>\n",
              "      <td>BTW, I see no \"attack\" here.  What I see is so...</td>\n",
              "      <td>I also feel its important for StuRat to have h...</td>\n",
              "      <td>0</td>\n",
              "      <td>0.1323</td>\n",
              "    </tr>\n",
              "    <tr>\n",
              "      <th>1</th>\n",
              "      <td>100104685.102437.102437</td>\n",
              "      <td>I realise... I just want to urge caution and a...</td>\n",
              "      <td>A main reason this project was started was to ...</td>\n",
              "      <td>0</td>\n",
              "      <td>0.0314</td>\n",
              "    </tr>\n",
              "    <tr>\n",
              "      <th>2</th>\n",
              "      <td>100189373.112824.112824</td>\n",
              "      <td>I should have stressed that this should be a t...</td>\n",
              "      <td>I'd go for that. (By the way, not all deletion...</td>\n",
              "      <td>0</td>\n",
              "      <td>0.2229</td>\n",
              "    </tr>\n",
              "    <tr>\n",
              "      <th>3</th>\n",
              "      <td>100203140.40393.40393</td>\n",
              "      <td>Thanks to Lysy for shortening and copy editing...</td>\n",
              "      <td>(edit conflict with Piotrus) I agree with the...</td>\n",
              "      <td>0</td>\n",
              "      <td>0.0559</td>\n",
              "    </tr>\n",
              "    <tr>\n",
              "      <th>4</th>\n",
              "      <td>100214962.61084.61084</td>\n",
              "      <td>I like the additional info in the info box. I...</td>\n",
              "      <td>The larger box displays fine in Mozilla Firefo...</td>\n",
              "      <td>0</td>\n",
              "      <td>0.0539</td>\n",
              "    </tr>\n",
              "    <tr>\n",
              "      <th>...</th>\n",
              "      <td>...</td>\n",
              "      <td>...</td>\n",
              "      <td>...</td>\n",
              "      <td>...</td>\n",
              "      <td>...</td>\n",
              "    </tr>\n",
              "    <tr>\n",
              "      <th>9995</th>\n",
              "      <td>99779758.10078.10078</td>\n",
              "      <td>If you read the page www.apple.com/appletv/ yo...</td>\n",
              "      <td>The name on Apple's site reads \"iPhone\". Sinc...</td>\n",
              "      <td>0</td>\n",
              "      <td>0.0721</td>\n",
              "    </tr>\n",
              "    <tr>\n",
              "      <th>9996</th>\n",
              "      <td>99818042.3681.3681</td>\n",
              "      <td>I have had the impression that the name \"Hotei...</td>\n",
              "      <td>I think it is reasonable to refer to him as \"...</td>\n",
              "      <td>0</td>\n",
              "      <td>0.0709</td>\n",
              "    </tr>\n",
              "    <tr>\n",
              "      <th>9997</th>\n",
              "      <td>99855988.571.607</td>\n",
              "      <td>I redirected the article.  After looking at th...</td>\n",
              "      <td>I think incidence of indirect taxation is redu...</td>\n",
              "      <td>0</td>\n",
              "      <td>0.0777</td>\n",
              "    </tr>\n",
              "    <tr>\n",
              "      <th>9998</th>\n",
              "      <td>99873404.2183.2183</td>\n",
              "      <td>No need to thank me. Sorry for losing my cool ...</td>\n",
              "      <td>Well, sadly, I find maintaining the naming con...</td>\n",
              "      <td>0</td>\n",
              "      <td>0.0499</td>\n",
              "    </tr>\n",
              "    <tr>\n",
              "      <th>9999</th>\n",
              "      <td>99905191.117296.117160</td>\n",
              "      <td>And that's why I was talking about my own adm...</td>\n",
              "      <td>Yeah, it wouldn't help. Right now, you can hon...</td>\n",
              "      <td>0</td>\n",
              "      <td>0.0914</td>\n",
              "    </tr>\n",
              "  </tbody>\n",
              "</table>\n",
              "<p>10000 rows × 5 columns</p>\n",
              "</div>"
            ],
            "text/plain": [
              "                           id  \\\n",
              "0       100030037.40314.40314   \n",
              "1     100104685.102437.102437   \n",
              "2     100189373.112824.112824   \n",
              "3       100203140.40393.40393   \n",
              "4       100214962.61084.61084   \n",
              "...                       ...   \n",
              "9995     99779758.10078.10078   \n",
              "9996       99818042.3681.3681   \n",
              "9997         99855988.571.607   \n",
              "9998       99873404.2183.2183   \n",
              "9999   99905191.117296.117160   \n",
              "\n",
              "                                                   text  \\\n",
              "0     BTW, I see no \"attack\" here.  What I see is so...   \n",
              "1     I realise... I just want to urge caution and a...   \n",
              "2     I should have stressed that this should be a t...   \n",
              "3     Thanks to Lysy for shortening and copy editing...   \n",
              "4      I like the additional info in the info box. I...   \n",
              "...                                                 ...   \n",
              "9995  If you read the page www.apple.com/appletv/ yo...   \n",
              "9996  I have had the impression that the name \"Hotei...   \n",
              "9997  I redirected the article.  After looking at th...   \n",
              "9998  No need to thank me. Sorry for losing my cool ...   \n",
              "9999   And that's why I was talking about my own adm...   \n",
              "\n",
              "                                                 parent  label     api  \n",
              "0     I also feel its important for StuRat to have h...      0  0.1323  \n",
              "1     A main reason this project was started was to ...      0  0.0314  \n",
              "2     I'd go for that. (By the way, not all deletion...      0  0.2229  \n",
              "3      (edit conflict with Piotrus) I agree with the...      0  0.0559  \n",
              "4     The larger box displays fine in Mozilla Firefo...      0  0.0539  \n",
              "...                                                 ...    ...     ...  \n",
              "9995  The name on Apple's site reads \"iPhone\". Sinc...      0  0.0721  \n",
              "9996   I think it is reasonable to refer to him as \"...      0  0.0709  \n",
              "9997  I think incidence of indirect taxation is redu...      0  0.0777  \n",
              "9998  Well, sadly, I find maintaining the naming con...      0  0.0499  \n",
              "9999  Yeah, it wouldn't help. Right now, you can hon...      0  0.0914  \n",
              "\n",
              "[10000 rows x 5 columns]"
            ]
          },
          "metadata": {
            "tags": []
          },
          "execution_count": 171
        }
      ]
    },
    {
      "cell_type": "code",
      "metadata": {
        "id": "OTnqFlYbFDhy",
        "outputId": "cef7c24f-172f-4c28-fcdd-451352f93a8d"
      },
      "source": [
        "gc.label.value_counts()"
      ],
      "execution_count": null,
      "outputs": [
        {
          "output_type": "execute_result",
          "data": {
            "text/plain": [
              "0    9849\n",
              "1     151\n",
              "Name: label, dtype: int64"
            ]
          },
          "metadata": {
            "tags": []
          },
          "execution_count": 173
        }
      ]
    },
    {
      "cell_type": "code",
      "metadata": {
        "id": "SNIzbLmqFDhy",
        "outputId": "13f16e2f-bee2-4d1f-f994-919d307d7e1f"
      },
      "source": [
        "def sampling_func(data, n_sample):\n",
        "    np.random.seed(10)\n",
        "    N = len(data)\n",
        "    sample = data.take(np.random.permutation(N)[:n_sample])\n",
        "    return sample\n",
        "\n",
        "gc = gc.groupby('label', group_keys=False).apply(sampling_func, n_sample=151)\n",
        "gc.label.value_counts()"
      ],
      "execution_count": null,
      "outputs": [
        {
          "output_type": "execute_result",
          "data": {
            "text/plain": [
              "1    151\n",
              "0    151\n",
              "Name: label, dtype: int64"
            ]
          },
          "metadata": {
            "tags": []
          },
          "execution_count": 174
        }
      ]
    },
    {
      "cell_type": "code",
      "metadata": {
        "id": "yw_n2InuFDhy"
      },
      "source": [
        "data = gc[(gc.label == 1)]\n",
        "\n",
        "i = 0\n",
        "for q,a in zip(data.parent,data.text):\n",
        "    if i > 10:\n",
        "        break\n",
        "    print('PARENT:\\n',q)\n",
        "    print('TEXT:\\n',a)\n",
        "    print('*'*10)\n",
        "    i+=1"
      ],
      "execution_count": null,
      "outputs": []
    },
    {
      "cell_type": "markdown",
      "metadata": {
        "id": "BcU4LW6JFDhz"
      },
      "source": [
        "데이터들이 공격적이거나 나쁜 말들이 아닌데도 label이 1로 부여되어 있어 안쓰기로 결정"
      ]
    },
    {
      "cell_type": "code",
      "metadata": {
        "id": "XHW0agYmFDhz",
        "outputId": "73ba8725-3ed1-4369-95e7-d76644ea711c"
      },
      "source": [
        "comments = []\n",
        "for q,a in zip(gc.parent,gc.text):\n",
        "    comments.append([q,a])\n",
        "\n",
        "gc['cmmt_list'] = comments\n",
        "gc = gc.rename(columns={'label':'target'})\n",
        "gc = gc[['target','cmmt_list']]\n",
        "context = pd.concat([gao,gc])\n",
        "\n",
        "context"
      ],
      "execution_count": null,
      "outputs": [
        {
          "output_type": "execute_result",
          "data": {
            "text/html": [
              "<div>\n",
              "<style scoped>\n",
              "    .dataframe tbody tr th:only-of-type {\n",
              "        vertical-align: middle;\n",
              "    }\n",
              "\n",
              "    .dataframe tbody tr th {\n",
              "        vertical-align: top;\n",
              "    }\n",
              "\n",
              "    .dataframe thead th {\n",
              "        text-align: right;\n",
              "    }\n",
              "</style>\n",
              "<table border=\"1\" class=\"dataframe\">\n",
              "  <thead>\n",
              "    <tr style=\"text-align: right;\">\n",
              "      <th></th>\n",
              "      <th>cmmt_list</th>\n",
              "      <th>target</th>\n",
              "    </tr>\n",
              "  </thead>\n",
              "  <tbody>\n",
              "    <tr>\n",
              "      <th>0</th>\n",
              "      <td>[German lawmakers approve 'no means no' rape l...</td>\n",
              "      <td>1</td>\n",
              "    </tr>\n",
              "    <tr>\n",
              "      <th>1</th>\n",
              "      <td>[German lawmakers approve 'no means no' rape l...</td>\n",
              "      <td>1</td>\n",
              "    </tr>\n",
              "    <tr>\n",
              "      <th>2</th>\n",
              "      <td>[German lawmakers approve 'no means no' rape l...</td>\n",
              "      <td>1</td>\n",
              "    </tr>\n",
              "    <tr>\n",
              "      <th>3</th>\n",
              "      <td>[German lawmakers approve 'no means no' rape l...</td>\n",
              "      <td>1</td>\n",
              "    </tr>\n",
              "    <tr>\n",
              "      <th>4</th>\n",
              "      <td>[German lawmakers approve 'no means no' rape l...</td>\n",
              "      <td>1</td>\n",
              "    </tr>\n",
              "    <tr>\n",
              "      <th>...</th>\n",
              "      <td>...</td>\n",
              "      <td>...</td>\n",
              "    </tr>\n",
              "    <tr>\n",
              "      <th>6784</th>\n",
              "      <td>[Take it to the talk page. This isn't the venu...</td>\n",
              "      <td>1</td>\n",
              "    </tr>\n",
              "    <tr>\n",
              "      <th>3976</th>\n",
              "      <td>[N-E-T-T-O Netto is the place to go, shop all ...</td>\n",
              "      <td>1</td>\n",
              "    </tr>\n",
              "    <tr>\n",
              "      <th>838</th>\n",
              "      <td>[PS Thomas McPherson Brown article lacks suita...</td>\n",
              "      <td>1</td>\n",
              "    </tr>\n",
              "    <tr>\n",
              "      <th>7832</th>\n",
              "      <td>[All of his arguements are nail perfect, you'r...</td>\n",
              "      <td>1</td>\n",
              "    </tr>\n",
              "    <tr>\n",
              "      <th>709</th>\n",
              "      <td>[There you go again Gnixon.  Research?  Shall ...</td>\n",
              "      <td>1</td>\n",
              "    </tr>\n",
              "  </tbody>\n",
              "</table>\n",
              "<p>1171 rows × 2 columns</p>\n",
              "</div>"
            ],
            "text/plain": [
              "                                              cmmt_list  target\n",
              "0     [German lawmakers approve 'no means no' rape l...       1\n",
              "1     [German lawmakers approve 'no means no' rape l...       1\n",
              "2     [German lawmakers approve 'no means no' rape l...       1\n",
              "3     [German lawmakers approve 'no means no' rape l...       1\n",
              "4     [German lawmakers approve 'no means no' rape l...       1\n",
              "...                                                 ...     ...\n",
              "6784  [Take it to the talk page. This isn't the venu...       1\n",
              "3976  [N-E-T-T-O Netto is the place to go, shop all ...       1\n",
              "838   [PS Thomas McPherson Brown article lacks suita...       1\n",
              "7832  [All of his arguements are nail perfect, you'r...       1\n",
              "709   [There you go again Gnixon.  Research?  Shall ...       1\n",
              "\n",
              "[1171 rows x 2 columns]"
            ]
          },
          "metadata": {
            "tags": []
          },
          "execution_count": 175
        }
      ]
    },
    {
      "cell_type": "code",
      "metadata": {
        "id": "ygZfH701FDhz",
        "outputId": "f0680d0a-56f5-4ef6-92b7-1176a3c96df1"
      },
      "source": [
        "context.target.value_counts()"
      ],
      "execution_count": null,
      "outputs": [
        {
          "output_type": "execute_result",
          "data": {
            "text/plain": [
              "1    586\n",
              "0    585\n",
              "Name: target, dtype: int64"
            ]
          },
          "metadata": {
            "tags": []
          },
          "execution_count": 176
        }
      ]
    },
    {
      "cell_type": "markdown",
      "metadata": {
        "id": "VwD8m-47FDh0"
      },
      "source": [
        "# Sexual tweet"
      ]
    },
    {
      "cell_type": "code",
      "metadata": {
        "id": "pF6YVLCGFDh0",
        "outputId": "6100fe28-be92-4e0a-b9c3-53d63223ffaa"
      },
      "source": [
        "sa = pd.read_csv('C:\\\\Users\\\\user\\\\OneDrive\\\\Desktop\\\\codestates\\\\기업협업\\\\dataset\\\\sexual_Cleaned_tweets.csv')\n",
        "sa"
      ],
      "execution_count": null,
      "outputs": [
        {
          "output_type": "execute_result",
          "data": {
            "text/html": [
              "<div>\n",
              "<style scoped>\n",
              "    .dataframe tbody tr th:only-of-type {\n",
              "        vertical-align: middle;\n",
              "    }\n",
              "\n",
              "    .dataframe tbody tr th {\n",
              "        vertical-align: top;\n",
              "    }\n",
              "\n",
              "    .dataframe thead th {\n",
              "        text-align: right;\n",
              "    }\n",
              "</style>\n",
              "<table border=\"1\" class=\"dataframe\">\n",
              "  <thead>\n",
              "    <tr style=\"text-align: right;\">\n",
              "      <th></th>\n",
              "      <th>Unnamed: 0</th>\n",
              "      <th>Unnamed: 0.1</th>\n",
              "      <th>Key Word</th>\n",
              "      <th>Username</th>\n",
              "      <th>User_ID</th>\n",
              "      <th>Datetime</th>\n",
              "      <th>Favorite_count</th>\n",
              "      <th>Geo</th>\n",
              "      <th>Coordinates</th>\n",
              "      <th>Label</th>\n",
              "      <th>Text</th>\n",
              "      <th>Unnamed: 9</th>\n",
              "      <th>Unnamed: 10</th>\n",
              "      <th>Unnamed: 11</th>\n",
              "    </tr>\n",
              "  </thead>\n",
              "  <tbody>\n",
              "    <tr>\n",
              "      <th>0</th>\n",
              "      <td>1150</td>\n",
              "      <td>1150</td>\n",
              "      <td>brotherfucker</td>\n",
              "      <td>sheri79923585</td>\n",
              "      <td>1.330000e+18</td>\n",
              "      <td>08-11-2020 23:22</td>\n",
              "      <td>2</td>\n",
              "      <td>NaN</td>\n",
              "      <td>NaN</td>\n",
              "      <td>0.0</td>\n",
              "      <td>If Lauren is t suggesting to deport this gross...</td>\n",
              "      <td>NaN</td>\n",
              "      <td>NaN</td>\n",
              "      <td>NaN</td>\n",
              "    </tr>\n",
              "    <tr>\n",
              "      <th>1</th>\n",
              "      <td>1867</td>\n",
              "      <td>1867</td>\n",
              "      <td>Aroused</td>\n",
              "      <td>schwyhart</td>\n",
              "      <td>1.330000e+18</td>\n",
              "      <td>10-11-2020 18:18</td>\n",
              "      <td>4</td>\n",
              "      <td>NaN</td>\n",
              "      <td>NaN</td>\n",
              "      <td>1.0</td>\n",
              "      <td>F in the chat for Corbin, he’s clearly constan...</td>\n",
              "      <td>NaN</td>\n",
              "      <td>NaN</td>\n",
              "      <td>NaN</td>\n",
              "    </tr>\n",
              "    <tr>\n",
              "      <th>2</th>\n",
              "      <td>3883</td>\n",
              "      <td>1575</td>\n",
              "      <td>hoe</td>\n",
              "      <td>Naambo11s</td>\n",
              "      <td>1.326780e+18</td>\n",
              "      <td>2020-11-12 06:51:53</td>\n",
              "      <td>0</td>\n",
              "      <td>NaN</td>\n",
              "      <td>NaN</td>\n",
              "      <td>0.0</td>\n",
              "      <td>Congratulations to Thando and his fiancÃ©, let...</td>\n",
              "      <td>NaN</td>\n",
              "      <td>NaN</td>\n",
              "      <td>NaN</td>\n",
              "    </tr>\n",
              "    <tr>\n",
              "      <th>3</th>\n",
              "      <td>1026</td>\n",
              "      <td>1026</td>\n",
              "      <td>boobies</td>\n",
              "      <td>MoonSLullabies</td>\n",
              "      <td>1.330000e+18</td>\n",
              "      <td>11-11-2020 07:41</td>\n",
              "      <td>0</td>\n",
              "      <td>NaN</td>\n",
              "      <td>NaN</td>\n",
              "      <td>0.0</td>\n",
              "      <td>if you . ♡ ° ♡ think °. ♡ . + that . ✵ ♡ ✷ ♡ ✧...</td>\n",
              "      <td>NaN</td>\n",
              "      <td>NaN</td>\n",
              "      <td>NaN</td>\n",
              "    </tr>\n",
              "    <tr>\n",
              "      <th>4</th>\n",
              "      <td>320</td>\n",
              "      <td>320</td>\n",
              "      <td>ass cowboy</td>\n",
              "      <td>olivialynnfahey</td>\n",
              "      <td>1.330000e+18</td>\n",
              "      <td>10-11-2020 01:33</td>\n",
              "      <td>3</td>\n",
              "      <td>NaN</td>\n",
              "      <td>NaN</td>\n",
              "      <td>0.0</td>\n",
              "      <td>Before anyone says anything, I am gonna get a ...</td>\n",
              "      <td>NaN</td>\n",
              "      <td>NaN</td>\n",
              "      <td>NaN</td>\n",
              "    </tr>\n",
              "    <tr>\n",
              "      <th>...</th>\n",
              "      <td>...</td>\n",
              "      <td>...</td>\n",
              "      <td>...</td>\n",
              "      <td>...</td>\n",
              "      <td>...</td>\n",
              "      <td>...</td>\n",
              "      <td>...</td>\n",
              "      <td>...</td>\n",
              "      <td>...</td>\n",
              "      <td>...</td>\n",
              "      <td>...</td>\n",
              "      <td>...</td>\n",
              "      <td>...</td>\n",
              "      <td>...</td>\n",
              "    </tr>\n",
              "    <tr>\n",
              "      <th>4567</th>\n",
              "      <td>3615</td>\n",
              "      <td>3615</td>\n",
              "      <td>fucked</td>\n",
              "      <td>thatboylsu</td>\n",
              "      <td>1.330000e+18</td>\n",
              "      <td>11-11-2020 15:33</td>\n",
              "      <td>0</td>\n",
              "      <td>NaN</td>\n",
              "      <td>NaN</td>\n",
              "      <td>0.0</td>\n",
              "      <td>what ab when we fucked😩</td>\n",
              "      <td>NaN</td>\n",
              "      <td>NaN</td>\n",
              "      <td>NaN</td>\n",
              "    </tr>\n",
              "    <tr>\n",
              "      <th>4568</th>\n",
              "      <td>2810</td>\n",
              "      <td>2810</td>\n",
              "      <td>cock suck</td>\n",
              "      <td>W44864</td>\n",
              "      <td>1.330000e+18</td>\n",
              "      <td>11-11-2020 08:19</td>\n",
              "      <td>1</td>\n",
              "      <td>NaN</td>\n",
              "      <td>NaN</td>\n",
              "      <td>1.0</td>\n",
              "      <td>Also,i think you should go now. Daddy Sony wan...</td>\n",
              "      <td>NaN</td>\n",
              "      <td>NaN</td>\n",
              "      <td>NaN</td>\n",
              "    </tr>\n",
              "    <tr>\n",
              "      <th>4569</th>\n",
              "      <td>2693</td>\n",
              "      <td>2693</td>\n",
              "      <td>Buttfuck</td>\n",
              "      <td>Flatchestbones</td>\n",
              "      <td>1.330000e+18</td>\n",
              "      <td>11-11-2020 01:50</td>\n",
              "      <td>6</td>\n",
              "      <td>NaN</td>\n",
              "      <td>NaN</td>\n",
              "      <td>1.0</td>\n",
              "      <td>Me and him buttfuck on the daily btw</td>\n",
              "      <td>NaN</td>\n",
              "      <td>NaN</td>\n",
              "      <td>NaN</td>\n",
              "    </tr>\n",
              "    <tr>\n",
              "      <th>4570</th>\n",
              "      <td>1096</td>\n",
              "      <td>1096</td>\n",
              "      <td>Breast Job</td>\n",
              "      <td>WilliamNaughto3</td>\n",
              "      <td>1.330000e+18</td>\n",
              "      <td>10-11-2020 13:25</td>\n",
              "      <td>2</td>\n",
              "      <td>NaN</td>\n",
              "      <td>NaN</td>\n",
              "      <td>0.0</td>\n",
              "      <td>that's their job or are they still on the brea...</td>\n",
              "      <td>NaN</td>\n",
              "      <td>NaN</td>\n",
              "      <td>NaN</td>\n",
              "    </tr>\n",
              "    <tr>\n",
              "      <th>4571</th>\n",
              "      <td>3316</td>\n",
              "      <td>3316</td>\n",
              "      <td>pusy</td>\n",
              "      <td>MMR53376452</td>\n",
              "      <td>1.320000e+18</td>\n",
              "      <td>07-11-2020 05:11</td>\n",
              "      <td>0</td>\n",
              "      <td>NaN</td>\n",
              "      <td>NaN</td>\n",
              "      <td>1.0</td>\n",
              "      <td>I'm gonna eat your pusy</td>\n",
              "      <td>NaN</td>\n",
              "      <td>NaN</td>\n",
              "      <td>NaN</td>\n",
              "    </tr>\n",
              "  </tbody>\n",
              "</table>\n",
              "<p>4572 rows × 14 columns</p>\n",
              "</div>"
            ],
            "text/plain": [
              "      Unnamed: 0  Unnamed: 0.1       Key Word         Username       User_ID  \\\n",
              "0           1150          1150  brotherfucker    sheri79923585  1.330000e+18   \n",
              "1           1867          1867        Aroused        schwyhart  1.330000e+18   \n",
              "2           3883          1575            hoe        Naambo11s  1.326780e+18   \n",
              "3           1026          1026        boobies   MoonSLullabies  1.330000e+18   \n",
              "4            320           320     ass cowboy  olivialynnfahey  1.330000e+18   \n",
              "...          ...           ...            ...              ...           ...   \n",
              "4567        3615          3615         fucked       thatboylsu  1.330000e+18   \n",
              "4568        2810          2810      cock suck           W44864  1.330000e+18   \n",
              "4569        2693          2693       Buttfuck   Flatchestbones  1.330000e+18   \n",
              "4570        1096          1096     Breast Job  WilliamNaughto3  1.330000e+18   \n",
              "4571        3316          3316           pusy      MMR53376452  1.320000e+18   \n",
              "\n",
              "                 Datetime  Favorite_count  Geo Coordinates  Label  \\\n",
              "0        08-11-2020 23:22               2  NaN         NaN    0.0   \n",
              "1        10-11-2020 18:18               4  NaN         NaN    1.0   \n",
              "2     2020-11-12 06:51:53               0  NaN         NaN    0.0   \n",
              "3        11-11-2020 07:41               0  NaN         NaN    0.0   \n",
              "4        10-11-2020 01:33               3  NaN         NaN    0.0   \n",
              "...                   ...             ...  ...         ...    ...   \n",
              "4567     11-11-2020 15:33               0  NaN         NaN    0.0   \n",
              "4568     11-11-2020 08:19               1  NaN         NaN    1.0   \n",
              "4569     11-11-2020 01:50               6  NaN         NaN    1.0   \n",
              "4570     10-11-2020 13:25               2  NaN         NaN    0.0   \n",
              "4571     07-11-2020 05:11               0  NaN         NaN    1.0   \n",
              "\n",
              "                                                   Text Unnamed: 9  \\\n",
              "0     If Lauren is t suggesting to deport this gross...        NaN   \n",
              "1     F in the chat for Corbin, he’s clearly constan...        NaN   \n",
              "2     Congratulations to Thando and his fiancÃ©, let...        NaN   \n",
              "3     if you . ♡ ° ♡ think °. ♡ . + that . ✵ ♡ ✷ ♡ ✧...        NaN   \n",
              "4     Before anyone says anything, I am gonna get a ...        NaN   \n",
              "...                                                 ...        ...   \n",
              "4567                            what ab when we fucked😩        NaN   \n",
              "4568  Also,i think you should go now. Daddy Sony wan...        NaN   \n",
              "4569               Me and him buttfuck on the daily btw        NaN   \n",
              "4570  that's their job or are they still on the brea...        NaN   \n",
              "4571                            I'm gonna eat your pusy        NaN   \n",
              "\n",
              "     Unnamed: 10 Unnamed: 11  \n",
              "0            NaN         NaN  \n",
              "1            NaN         NaN  \n",
              "2            NaN         NaN  \n",
              "3            NaN         NaN  \n",
              "4            NaN         NaN  \n",
              "...          ...         ...  \n",
              "4567         NaN         NaN  \n",
              "4568         NaN         NaN  \n",
              "4569         NaN         NaN  \n",
              "4570         NaN         NaN  \n",
              "4571         NaN         NaN  \n",
              "\n",
              "[4572 rows x 14 columns]"
            ]
          },
          "metadata": {
            "tags": []
          },
          "execution_count": 263
        }
      ]
    },
    {
      "cell_type": "code",
      "metadata": {
        "id": "2oEByAU_FDh0",
        "outputId": "1a2ae75e-5df7-4db8-dff8-2fa06d421270"
      },
      "source": [
        "data = sa[(sa['Unnamed: 9'].notnull())]\n",
        "data"
      ],
      "execution_count": null,
      "outputs": [
        {
          "output_type": "execute_result",
          "data": {
            "text/html": [
              "<div>\n",
              "<style scoped>\n",
              "    .dataframe tbody tr th:only-of-type {\n",
              "        vertical-align: middle;\n",
              "    }\n",
              "\n",
              "    .dataframe tbody tr th {\n",
              "        vertical-align: top;\n",
              "    }\n",
              "\n",
              "    .dataframe thead th {\n",
              "        text-align: right;\n",
              "    }\n",
              "</style>\n",
              "<table border=\"1\" class=\"dataframe\">\n",
              "  <thead>\n",
              "    <tr style=\"text-align: right;\">\n",
              "      <th></th>\n",
              "      <th>Unnamed: 0</th>\n",
              "      <th>Unnamed: 0.1</th>\n",
              "      <th>Key Word</th>\n",
              "      <th>Username</th>\n",
              "      <th>User_ID</th>\n",
              "      <th>Datetime</th>\n",
              "      <th>Favorite_count</th>\n",
              "      <th>Geo</th>\n",
              "      <th>Coordinates</th>\n",
              "      <th>Label</th>\n",
              "      <th>Text</th>\n",
              "      <th>Unnamed: 9</th>\n",
              "      <th>Unnamed: 10</th>\n",
              "      <th>Unnamed: 11</th>\n",
              "    </tr>\n",
              "  </thead>\n",
              "  <tbody>\n",
              "    <tr>\n",
              "      <th>127</th>\n",
              "      <td>3571</td>\n",
              "      <td>3571</td>\n",
              "      <td>whore</td>\n",
              "      <td>tenyams</td>\n",
              "      <td>1.330000e+18</td>\n",
              "      <td>12-11-2020 19:28</td>\n",
              "      <td>0</td>\n",
              "      <td>NaN</td>\n",
              "      <td>NaN</td>\n",
              "      <td>1.0</td>\n",
              "      <td>yes compliment me I'm an attention whore, yeah...</td>\n",
              "      <td>yeah</td>\n",
              "      <td>mental problems. I'm sorry you're having prob...</td>\n",
              "      <td>NaN</td>\n",
              "    </tr>\n",
              "    <tr>\n",
              "      <th>1874</th>\n",
              "      <td>2992</td>\n",
              "      <td>2992</td>\n",
              "      <td>eat pussy</td>\n",
              "      <td>Zipology_YT</td>\n",
              "      <td>1.330000e+18</td>\n",
              "      <td>11-11-2020 10:38</td>\n",
              "      <td>0</td>\n",
              "      <td>NaN</td>\n",
              "      <td>NaN</td>\n",
              "      <td>1.0</td>\n",
              "      <td>Lowkey tried to eat this pussy eat pussy,irina...</td>\n",
              "      <td>he wanna eat me</td>\n",
              "      <td>he be actin' up</td>\n",
              "      <td>he always tryna…\"</td>\n",
              "    </tr>\n",
              "    <tr>\n",
              "      <th>2043</th>\n",
              "      <td>3281</td>\n",
              "      <td>3281</td>\n",
              "      <td>pu55y</td>\n",
              "      <td>onikasbible</td>\n",
              "      <td>1.330000e+18</td>\n",
              "      <td>08-11-2020 00:20</td>\n",
              "      <td>0</td>\n",
              "      <td>NaN</td>\n",
              "      <td>NaN</td>\n",
              "      <td>1.0</td>\n",
              "      <td>suck my pu55y asff,  you puss.\"</td>\n",
              "      <td>you puss.\"</td>\n",
              "      <td>NaN</td>\n",
              "      <td>NaN</td>\n",
              "    </tr>\n",
              "    <tr>\n",
              "      <th>2955</th>\n",
              "      <td>2119</td>\n",
              "      <td>2119</td>\n",
              "      <td>ass</td>\n",
              "      <td>princess_esmeg</td>\n",
              "      <td>1.330000e+18</td>\n",
              "      <td>11-11-2020 06:56</td>\n",
              "      <td>0</td>\n",
              "      <td>NaN</td>\n",
              "      <td>NaN</td>\n",
              "      <td>1.0</td>\n",
              "      <td>Subscribe for content dedicated to my hot body...</td>\n",
              "      <td>bitch…\"</td>\n",
              "      <td>NaN</td>\n",
              "      <td>NaN</td>\n",
              "    </tr>\n",
              "    <tr>\n",
              "      <th>4095</th>\n",
              "      <td>2971</td>\n",
              "      <td>2971</td>\n",
              "      <td>Dick Licker</td>\n",
              "      <td>clintmcduncan</td>\n",
              "      <td>1.330000e+18</td>\n",
              "      <td>09-11-2020 21:36</td>\n",
              "      <td>0</td>\n",
              "      <td>NaN</td>\n",
              "      <td>NaN</td>\n",
              "      <td>1.0</td>\n",
              "      <td>They had to stop Fucken staffers so they start...</td>\n",
              "      <td>suck a titty</td>\n",
              "      <td>dick hole) somethings wrong w/ me😂\"</td>\n",
              "      <td>NaN</td>\n",
              "    </tr>\n",
              "  </tbody>\n",
              "</table>\n",
              "</div>"
            ],
            "text/plain": [
              "      Unnamed: 0  Unnamed: 0.1     Key Word        Username       User_ID  \\\n",
              "127         3571          3571        whore         tenyams  1.330000e+18   \n",
              "1874        2992          2992    eat pussy     Zipology_YT  1.330000e+18   \n",
              "2043        3281          3281        pu55y     onikasbible  1.330000e+18   \n",
              "2955        2119          2119          ass  princess_esmeg  1.330000e+18   \n",
              "4095        2971          2971  Dick Licker   clintmcduncan  1.330000e+18   \n",
              "\n",
              "              Datetime  Favorite_count  Geo Coordinates  Label  \\\n",
              "127   12-11-2020 19:28               0  NaN         NaN    1.0   \n",
              "1874  11-11-2020 10:38               0  NaN         NaN    1.0   \n",
              "2043  08-11-2020 00:20               0  NaN         NaN    1.0   \n",
              "2955  11-11-2020 06:56               0  NaN         NaN    1.0   \n",
              "4095  09-11-2020 21:36               0  NaN         NaN    1.0   \n",
              "\n",
              "                                                   Text       Unnamed: 9  \\\n",
              "127   yes compliment me I'm an attention whore, yeah...             yeah   \n",
              "1874  Lowkey tried to eat this pussy eat pussy,irina...  he wanna eat me   \n",
              "2043                    suck my pu55y asff,  you puss.\"       you puss.\"   \n",
              "2955  Subscribe for content dedicated to my hot body...          bitch…\"   \n",
              "4095  They had to stop Fucken staffers so they start...     suck a titty   \n",
              "\n",
              "                                            Unnamed: 10         Unnamed: 11  \n",
              "127    mental problems. I'm sorry you're having prob...                 NaN  \n",
              "1874                                    he be actin' up   he always tryna…\"  \n",
              "2043                                                NaN                 NaN  \n",
              "2955                                                NaN                 NaN  \n",
              "4095                dick hole) somethings wrong w/ me😂\"                 NaN  "
            ]
          },
          "metadata": {
            "tags": []
          },
          "execution_count": 121
        }
      ]
    },
    {
      "cell_type": "code",
      "metadata": {
        "id": "iSfKL5wGFDh0",
        "outputId": "fcb86802-5267-40fb-f8b6-ea7806d91644"
      },
      "source": [
        "sa['Text'][127] = sa['Text'][127] + ', ' + sa['Unnamed: 9'][127] + ', '  + sa['Unnamed: 10'][127]\n",
        "sa['Text'][1874] = sa['Text'][1874] + ', ' + sa['Unnamed: 9'][1874] + ', '  + sa['Unnamed: 10'][1874] + ', '  + sa['Unnamed: 11'][1874]\n",
        "sa['Text'][2043] = sa['Text'][2043] + ', ' + sa['Unnamed: 9'][2043] \n",
        "sa['Text'][2955] = sa['Text'][2955] + ', ' + sa['Unnamed: 9'][2955]\n",
        "sa['Text'][4095] = sa['Text'][4095] + ', ' + sa['Unnamed: 9'][4095] + ', '  + sa['Unnamed: 10'][4095]\n",
        "\n",
        "data = sa[(sa['Unnamed: 10'].notnull())]\n",
        "data"
      ],
      "execution_count": null,
      "outputs": [
        {
          "output_type": "stream",
          "text": [
            "<ipython-input-264-0d087e9e2cac>:1: SettingWithCopyWarning: \n",
            "A value is trying to be set on a copy of a slice from a DataFrame\n",
            "\n",
            "See the caveats in the documentation: https://pandas.pydata.org/pandas-docs/stable/user_guide/indexing.html#returning-a-view-versus-a-copy\n",
            "  sa['Text'][127] = sa['Text'][127] + ', ' + sa['Unnamed: 9'][127] + ', '  + sa['Unnamed: 10'][127]\n",
            "<ipython-input-264-0d087e9e2cac>:2: SettingWithCopyWarning: \n",
            "A value is trying to be set on a copy of a slice from a DataFrame\n",
            "\n",
            "See the caveats in the documentation: https://pandas.pydata.org/pandas-docs/stable/user_guide/indexing.html#returning-a-view-versus-a-copy\n",
            "  sa['Text'][1874] = sa['Text'][1874] + ', ' + sa['Unnamed: 9'][1874] + ', '  + sa['Unnamed: 10'][1874] + ', '  + sa['Unnamed: 11'][1874]\n",
            "<ipython-input-264-0d087e9e2cac>:3: SettingWithCopyWarning: \n",
            "A value is trying to be set on a copy of a slice from a DataFrame\n",
            "\n",
            "See the caveats in the documentation: https://pandas.pydata.org/pandas-docs/stable/user_guide/indexing.html#returning-a-view-versus-a-copy\n",
            "  sa['Text'][2043] = sa['Text'][2043] + ', ' + sa['Unnamed: 9'][2043]\n",
            "<ipython-input-264-0d087e9e2cac>:4: SettingWithCopyWarning: \n",
            "A value is trying to be set on a copy of a slice from a DataFrame\n",
            "\n",
            "See the caveats in the documentation: https://pandas.pydata.org/pandas-docs/stable/user_guide/indexing.html#returning-a-view-versus-a-copy\n",
            "  sa['Text'][2955] = sa['Text'][2955] + ', ' + sa['Unnamed: 9'][2955]\n",
            "<ipython-input-264-0d087e9e2cac>:5: SettingWithCopyWarning: \n",
            "A value is trying to be set on a copy of a slice from a DataFrame\n",
            "\n",
            "See the caveats in the documentation: https://pandas.pydata.org/pandas-docs/stable/user_guide/indexing.html#returning-a-view-versus-a-copy\n",
            "  sa['Text'][4095] = sa['Text'][4095] + ', ' + sa['Unnamed: 9'][4095] + ', '  + sa['Unnamed: 10'][4095]\n"
          ],
          "name": "stderr"
        },
        {
          "output_type": "execute_result",
          "data": {
            "text/html": [
              "<div>\n",
              "<style scoped>\n",
              "    .dataframe tbody tr th:only-of-type {\n",
              "        vertical-align: middle;\n",
              "    }\n",
              "\n",
              "    .dataframe tbody tr th {\n",
              "        vertical-align: top;\n",
              "    }\n",
              "\n",
              "    .dataframe thead th {\n",
              "        text-align: right;\n",
              "    }\n",
              "</style>\n",
              "<table border=\"1\" class=\"dataframe\">\n",
              "  <thead>\n",
              "    <tr style=\"text-align: right;\">\n",
              "      <th></th>\n",
              "      <th>Unnamed: 0</th>\n",
              "      <th>Unnamed: 0.1</th>\n",
              "      <th>Key Word</th>\n",
              "      <th>Username</th>\n",
              "      <th>User_ID</th>\n",
              "      <th>Datetime</th>\n",
              "      <th>Favorite_count</th>\n",
              "      <th>Geo</th>\n",
              "      <th>Coordinates</th>\n",
              "      <th>Label</th>\n",
              "      <th>Text</th>\n",
              "      <th>Unnamed: 9</th>\n",
              "      <th>Unnamed: 10</th>\n",
              "      <th>Unnamed: 11</th>\n",
              "    </tr>\n",
              "  </thead>\n",
              "  <tbody>\n",
              "    <tr>\n",
              "      <th>127</th>\n",
              "      <td>3571</td>\n",
              "      <td>3571</td>\n",
              "      <td>whore</td>\n",
              "      <td>tenyams</td>\n",
              "      <td>1.330000e+18</td>\n",
              "      <td>12-11-2020 19:28</td>\n",
              "      <td>0</td>\n",
              "      <td>NaN</td>\n",
              "      <td>NaN</td>\n",
              "      <td>1.0</td>\n",
              "      <td>yes compliment me I'm an attention whore, yeah...</td>\n",
              "      <td>yeah</td>\n",
              "      <td>mental problems. I'm sorry you're having prob...</td>\n",
              "      <td>NaN</td>\n",
              "    </tr>\n",
              "    <tr>\n",
              "      <th>1874</th>\n",
              "      <td>2992</td>\n",
              "      <td>2992</td>\n",
              "      <td>eat pussy</td>\n",
              "      <td>Zipology_YT</td>\n",
              "      <td>1.330000e+18</td>\n",
              "      <td>11-11-2020 10:38</td>\n",
              "      <td>0</td>\n",
              "      <td>NaN</td>\n",
              "      <td>NaN</td>\n",
              "      <td>1.0</td>\n",
              "      <td>Lowkey tried to eat this pussy eat pussy,irina...</td>\n",
              "      <td>he wanna eat me</td>\n",
              "      <td>he be actin' up</td>\n",
              "      <td>he always tryna…\"</td>\n",
              "    </tr>\n",
              "    <tr>\n",
              "      <th>2664</th>\n",
              "      <td>2362</td>\n",
              "      <td>2362</td>\n",
              "      <td>big butt</td>\n",
              "      <td>sheabuttersidy</td>\n",
              "      <td>1.330000e+18</td>\n",
              "      <td>11-11-2020 06:37</td>\n",
              "      <td>0</td>\n",
              "      <td>NaN</td>\n",
              "      <td>NaN</td>\n",
              "      <td>1.0</td>\n",
              "      <td>\"Big titties, big butt too\" 🦄</td>\n",
              "      <td>NaN</td>\n",
              "      <td>1</td>\n",
              "      <td>NaN</td>\n",
              "    </tr>\n",
              "    <tr>\n",
              "      <th>4095</th>\n",
              "      <td>2971</td>\n",
              "      <td>2971</td>\n",
              "      <td>Dick Licker</td>\n",
              "      <td>clintmcduncan</td>\n",
              "      <td>1.330000e+18</td>\n",
              "      <td>09-11-2020 21:36</td>\n",
              "      <td>0</td>\n",
              "      <td>NaN</td>\n",
              "      <td>NaN</td>\n",
              "      <td>1.0</td>\n",
              "      <td>They had to stop Fucken staffers so they start...</td>\n",
              "      <td>suck a titty</td>\n",
              "      <td>dick hole) somethings wrong w/ me😂\"</td>\n",
              "      <td>NaN</td>\n",
              "    </tr>\n",
              "  </tbody>\n",
              "</table>\n",
              "</div>"
            ],
            "text/plain": [
              "      Unnamed: 0  Unnamed: 0.1     Key Word        Username       User_ID  \\\n",
              "127         3571          3571        whore         tenyams  1.330000e+18   \n",
              "1874        2992          2992    eat pussy     Zipology_YT  1.330000e+18   \n",
              "2664        2362          2362     big butt  sheabuttersidy  1.330000e+18   \n",
              "4095        2971          2971  Dick Licker   clintmcduncan  1.330000e+18   \n",
              "\n",
              "              Datetime  Favorite_count  Geo Coordinates  Label  \\\n",
              "127   12-11-2020 19:28               0  NaN         NaN    1.0   \n",
              "1874  11-11-2020 10:38               0  NaN         NaN    1.0   \n",
              "2664  11-11-2020 06:37               0  NaN         NaN    1.0   \n",
              "4095  09-11-2020 21:36               0  NaN         NaN    1.0   \n",
              "\n",
              "                                                   Text       Unnamed: 9  \\\n",
              "127   yes compliment me I'm an attention whore, yeah...             yeah   \n",
              "1874  Lowkey tried to eat this pussy eat pussy,irina...  he wanna eat me   \n",
              "2664                      \"Big titties, big butt too\" 🦄              NaN   \n",
              "4095  They had to stop Fucken staffers so they start...     suck a titty   \n",
              "\n",
              "                                            Unnamed: 10         Unnamed: 11  \n",
              "127    mental problems. I'm sorry you're having prob...                 NaN  \n",
              "1874                                    he be actin' up   he always tryna…\"  \n",
              "2664                                                  1                 NaN  \n",
              "4095                dick hole) somethings wrong w/ me😂\"                 NaN  "
            ]
          },
          "metadata": {
            "tags": []
          },
          "execution_count": 264
        }
      ]
    },
    {
      "cell_type": "code",
      "metadata": {
        "id": "d85Z0XjYFDh1",
        "outputId": "2d8bf032-7a0c-4fcd-f782-03dd6c7e3502"
      },
      "source": [
        "sa = sa.drop(['Unnamed: 9','Unnamed: 10','Unnamed: 11'], axis=1)\n",
        "sa = sa[['Label','Text']]\n",
        "sa = sa.rename(columns={'Label':'target','Text':'cmmt_list'})\n",
        "\n",
        "sa"
      ],
      "execution_count": null,
      "outputs": [
        {
          "output_type": "execute_result",
          "data": {
            "text/html": [
              "<div>\n",
              "<style scoped>\n",
              "    .dataframe tbody tr th:only-of-type {\n",
              "        vertical-align: middle;\n",
              "    }\n",
              "\n",
              "    .dataframe tbody tr th {\n",
              "        vertical-align: top;\n",
              "    }\n",
              "\n",
              "    .dataframe thead th {\n",
              "        text-align: right;\n",
              "    }\n",
              "</style>\n",
              "<table border=\"1\" class=\"dataframe\">\n",
              "  <thead>\n",
              "    <tr style=\"text-align: right;\">\n",
              "      <th></th>\n",
              "      <th>target</th>\n",
              "      <th>cmmt_list</th>\n",
              "    </tr>\n",
              "  </thead>\n",
              "  <tbody>\n",
              "    <tr>\n",
              "      <th>0</th>\n",
              "      <td>0.0</td>\n",
              "      <td>If Lauren is t suggesting to deport this gross...</td>\n",
              "    </tr>\n",
              "    <tr>\n",
              "      <th>1</th>\n",
              "      <td>1.0</td>\n",
              "      <td>F in the chat for Corbin, he’s clearly constan...</td>\n",
              "    </tr>\n",
              "    <tr>\n",
              "      <th>2</th>\n",
              "      <td>0.0</td>\n",
              "      <td>Congratulations to Thando and his fiancÃ©, let...</td>\n",
              "    </tr>\n",
              "    <tr>\n",
              "      <th>3</th>\n",
              "      <td>0.0</td>\n",
              "      <td>if you . ♡ ° ♡ think °. ♡ . + that . ✵ ♡ ✷ ♡ ✧...</td>\n",
              "    </tr>\n",
              "    <tr>\n",
              "      <th>4</th>\n",
              "      <td>0.0</td>\n",
              "      <td>Before anyone says anything, I am gonna get a ...</td>\n",
              "    </tr>\n",
              "    <tr>\n",
              "      <th>...</th>\n",
              "      <td>...</td>\n",
              "      <td>...</td>\n",
              "    </tr>\n",
              "    <tr>\n",
              "      <th>4567</th>\n",
              "      <td>0.0</td>\n",
              "      <td>what ab when we fucked😩</td>\n",
              "    </tr>\n",
              "    <tr>\n",
              "      <th>4568</th>\n",
              "      <td>1.0</td>\n",
              "      <td>Also,i think you should go now. Daddy Sony wan...</td>\n",
              "    </tr>\n",
              "    <tr>\n",
              "      <th>4569</th>\n",
              "      <td>1.0</td>\n",
              "      <td>Me and him buttfuck on the daily btw</td>\n",
              "    </tr>\n",
              "    <tr>\n",
              "      <th>4570</th>\n",
              "      <td>0.0</td>\n",
              "      <td>that's their job or are they still on the brea...</td>\n",
              "    </tr>\n",
              "    <tr>\n",
              "      <th>4571</th>\n",
              "      <td>1.0</td>\n",
              "      <td>I'm gonna eat your pusy</td>\n",
              "    </tr>\n",
              "  </tbody>\n",
              "</table>\n",
              "<p>4572 rows × 2 columns</p>\n",
              "</div>"
            ],
            "text/plain": [
              "      target                                          cmmt_list\n",
              "0        0.0  If Lauren is t suggesting to deport this gross...\n",
              "1        1.0  F in the chat for Corbin, he’s clearly constan...\n",
              "2        0.0  Congratulations to Thando and his fiancÃ©, let...\n",
              "3        0.0  if you . ♡ ° ♡ think °. ♡ . + that . ✵ ♡ ✷ ♡ ✧...\n",
              "4        0.0  Before anyone says anything, I am gonna get a ...\n",
              "...      ...                                                ...\n",
              "4567     0.0                            what ab when we fucked😩\n",
              "4568     1.0  Also,i think you should go now. Daddy Sony wan...\n",
              "4569     1.0               Me and him buttfuck on the daily btw\n",
              "4570     0.0  that's their job or are they still on the brea...\n",
              "4571     1.0                            I'm gonna eat your pusy\n",
              "\n",
              "[4572 rows x 2 columns]"
            ]
          },
          "metadata": {
            "tags": []
          },
          "execution_count": 265
        }
      ]
    },
    {
      "cell_type": "code",
      "metadata": {
        "id": "W3X3We_vFDh1",
        "outputId": "42cc19f2-ccad-440b-bf14-168e9301b65e"
      },
      "source": [
        "sa.target.value_counts()"
      ],
      "execution_count": null,
      "outputs": [
        {
          "output_type": "execute_result",
          "data": {
            "text/plain": [
              "1.0    2423\n",
              "0.0    2149\n",
              "Name: target, dtype: int64"
            ]
          },
          "metadata": {
            "tags": []
          },
          "execution_count": 16
        }
      ]
    },
    {
      "cell_type": "code",
      "metadata": {
        "id": "hHfZcNdHFDh1",
        "outputId": "52e448d4-0b5d-4e3c-a04c-11fedc0e77d6"
      },
      "source": [
        "i = 0\n",
        "for label, cmmt in zip(sa.target, sa.cmmt_list):\n",
        "    if label == 1 and i > 70 and i < 101:\n",
        "        print(i, cmmt)\n",
        "    elif label > 100:\n",
        "        break\n",
        "    i+=1"
      ],
      "execution_count": null,
      "outputs": [
        {
          "output_type": "stream",
          "text": [
            "71 “ Tomorrow isn’t promised.. eat her pussy today “\n",
            "72 If my energy alone doesn’t get you aroused then I ain’t the one for you.\n",
            "73 You had me at boobies but, booty...\n",
            "78 dude I am both aroused and terrigyied\n",
            "79 Washington man allegedly called himself â€˜pervyguy40â€™ online. Feds say he planned Bay Area trip to molest kids of unâ€¦\n",
            "82 nawwhhh I miss her cute ass 😭\n",
            "84 I see some trump jiz on your lip.\n",
            "86 Its nice having that friend that wants to fuck you so bad even though she’s a girl and you’re gay.\n",
            "87 I need a pretty ass bitch sucking my balls\n",
            "90 I scared, and aroused, and scared that I’m aroused.\n",
            "92 Mgmt’s new album makes my clit hard 🥵🥺\n",
            "93 do me a favour. Get off my Dick. In lower terms: please Keep my black genitals out of your mouthâ€¦\n",
            "94 Why the fuck did Microsoft flash me with a nutsack.\n",
            "97 if u know what's good for u, u will, naughty slut\n",
            "100 I kin Nishitani because I can't see Majima and not be aroused\n"
          ],
          "name": "stdout"
        }
      ]
    },
    {
      "cell_type": "markdown",
      "metadata": {
        "id": "uX0S3gTHFDh1"
      },
      "source": [
        "1,6, 10, 18, 19, 30, 40, 41, 42, 50, 42, 54, 63, 70, 78, 82, 90, 94\n",
        "drop 29, 79"
      ]
    },
    {
      "cell_type": "code",
      "metadata": {
        "id": "4QazEyMIFDh2",
        "outputId": "d929ec25-34a3-405c-96df-2a933d3d560f"
      },
      "source": [
        "idx = [1, 6, 10, 18, 19, 30, 40, 41, 42, 50, 42, 54, 63, 70, 78, 82, 90, 94]\n",
        "\n",
        "for i in idx:\n",
        "    sa['target'][i] = 0\n",
        "\n",
        "sa = sa.drop(sa.index[29])\n",
        "sa[77:80]"
      ],
      "execution_count": null,
      "outputs": [
        {
          "output_type": "stream",
          "text": [
            "<ipython-input-266-f5a2f150053e>:4: SettingWithCopyWarning: \n",
            "A value is trying to be set on a copy of a slice from a DataFrame\n",
            "\n",
            "See the caveats in the documentation: https://pandas.pydata.org/pandas-docs/stable/user_guide/indexing.html#returning-a-view-versus-a-copy\n",
            "  sa['target'][i] = 0\n"
          ],
          "name": "stderr"
        },
        {
          "output_type": "execute_result",
          "data": {
            "text/html": [
              "<div>\n",
              "<style scoped>\n",
              "    .dataframe tbody tr th:only-of-type {\n",
              "        vertical-align: middle;\n",
              "    }\n",
              "\n",
              "    .dataframe tbody tr th {\n",
              "        vertical-align: top;\n",
              "    }\n",
              "\n",
              "    .dataframe thead th {\n",
              "        text-align: right;\n",
              "    }\n",
              "</style>\n",
              "<table border=\"1\" class=\"dataframe\">\n",
              "  <thead>\n",
              "    <tr style=\"text-align: right;\">\n",
              "      <th></th>\n",
              "      <th>target</th>\n",
              "      <th>cmmt_list</th>\n",
              "    </tr>\n",
              "  </thead>\n",
              "  <tbody>\n",
              "    <tr>\n",
              "      <th>78</th>\n",
              "      <td>0.0</td>\n",
              "      <td>dude I am both aroused and terrigyied</td>\n",
              "    </tr>\n",
              "    <tr>\n",
              "      <th>79</th>\n",
              "      <td>1.0</td>\n",
              "      <td>Washington man allegedly called himself â€˜per...</td>\n",
              "    </tr>\n",
              "    <tr>\n",
              "      <th>80</th>\n",
              "      <td>0.0</td>\n",
              "      <td>“Be wary of friends—they will betray you more ...</td>\n",
              "    </tr>\n",
              "  </tbody>\n",
              "</table>\n",
              "</div>"
            ],
            "text/plain": [
              "    target                                          cmmt_list\n",
              "78     0.0              dude I am both aroused and terrigyied\n",
              "79     1.0  Washington man allegedly called himself â€˜per...\n",
              "80     0.0  “Be wary of friends—they will betray you more ..."
            ]
          },
          "metadata": {
            "tags": []
          },
          "execution_count": 266
        }
      ]
    },
    {
      "cell_type": "code",
      "metadata": {
        "id": "UI1EP6RsFDh3",
        "outputId": "5564e1c6-3aef-4d1a-ef1e-b89e6aea2975"
      },
      "source": [
        "sa['cmmt_list'] = sa['cmmt_list'].apply(lambda x: [x])\n",
        "sa"
      ],
      "execution_count": null,
      "outputs": [
        {
          "output_type": "execute_result",
          "data": {
            "text/html": [
              "<div>\n",
              "<style scoped>\n",
              "    .dataframe tbody tr th:only-of-type {\n",
              "        vertical-align: middle;\n",
              "    }\n",
              "\n",
              "    .dataframe tbody tr th {\n",
              "        vertical-align: top;\n",
              "    }\n",
              "\n",
              "    .dataframe thead th {\n",
              "        text-align: right;\n",
              "    }\n",
              "</style>\n",
              "<table border=\"1\" class=\"dataframe\">\n",
              "  <thead>\n",
              "    <tr style=\"text-align: right;\">\n",
              "      <th></th>\n",
              "      <th>target</th>\n",
              "      <th>cmmt_list</th>\n",
              "    </tr>\n",
              "  </thead>\n",
              "  <tbody>\n",
              "    <tr>\n",
              "      <th>0</th>\n",
              "      <td>0.0</td>\n",
              "      <td>[If Lauren is t suggesting to deport this gros...</td>\n",
              "    </tr>\n",
              "    <tr>\n",
              "      <th>1</th>\n",
              "      <td>0.0</td>\n",
              "      <td>[F in the chat for Corbin, he’s clearly consta...</td>\n",
              "    </tr>\n",
              "    <tr>\n",
              "      <th>2</th>\n",
              "      <td>0.0</td>\n",
              "      <td>[Congratulations to Thando and his fiancÃ©, le...</td>\n",
              "    </tr>\n",
              "    <tr>\n",
              "      <th>3</th>\n",
              "      <td>0.0</td>\n",
              "      <td>[if you . ♡ ° ♡ think °. ♡ . + that . ✵ ♡ ✷ ♡ ...</td>\n",
              "    </tr>\n",
              "    <tr>\n",
              "      <th>4</th>\n",
              "      <td>0.0</td>\n",
              "      <td>[Before anyone says anything, I am gonna get a...</td>\n",
              "    </tr>\n",
              "    <tr>\n",
              "      <th>...</th>\n",
              "      <td>...</td>\n",
              "      <td>...</td>\n",
              "    </tr>\n",
              "    <tr>\n",
              "      <th>4567</th>\n",
              "      <td>0.0</td>\n",
              "      <td>[what ab when we fucked😩]</td>\n",
              "    </tr>\n",
              "    <tr>\n",
              "      <th>4568</th>\n",
              "      <td>1.0</td>\n",
              "      <td>[Also,i think you should go now. Daddy Sony wa...</td>\n",
              "    </tr>\n",
              "    <tr>\n",
              "      <th>4569</th>\n",
              "      <td>1.0</td>\n",
              "      <td>[Me and him buttfuck on the daily btw]</td>\n",
              "    </tr>\n",
              "    <tr>\n",
              "      <th>4570</th>\n",
              "      <td>0.0</td>\n",
              "      <td>[that's their job or are they still on the bre...</td>\n",
              "    </tr>\n",
              "    <tr>\n",
              "      <th>4571</th>\n",
              "      <td>1.0</td>\n",
              "      <td>[I'm gonna eat your pusy]</td>\n",
              "    </tr>\n",
              "  </tbody>\n",
              "</table>\n",
              "<p>4571 rows × 2 columns</p>\n",
              "</div>"
            ],
            "text/plain": [
              "      target                                          cmmt_list\n",
              "0        0.0  [If Lauren is t suggesting to deport this gros...\n",
              "1        0.0  [F in the chat for Corbin, he’s clearly consta...\n",
              "2        0.0  [Congratulations to Thando and his fiancÃ©, le...\n",
              "3        0.0  [if you . ♡ ° ♡ think °. ♡ . + that . ✵ ♡ ✷ ♡ ...\n",
              "4        0.0  [Before anyone says anything, I am gonna get a...\n",
              "...      ...                                                ...\n",
              "4567     0.0                          [what ab when we fucked😩]\n",
              "4568     1.0  [Also,i think you should go now. Daddy Sony wa...\n",
              "4569     1.0             [Me and him buttfuck on the daily btw]\n",
              "4570     0.0  [that's their job or are they still on the bre...\n",
              "4571     1.0                          [I'm gonna eat your pusy]\n",
              "\n",
              "[4571 rows x 2 columns]"
            ]
          },
          "metadata": {
            "tags": []
          },
          "execution_count": 267
        }
      ]
    },
    {
      "cell_type": "code",
      "metadata": {
        "id": "ExzKhozpFDh4",
        "outputId": "4498478b-d6b5-4cf8-9421-2b210b647862"
      },
      "source": [
        "context = pd.concat([sa, context])\n",
        "context"
      ],
      "execution_count": null,
      "outputs": [
        {
          "output_type": "execute_result",
          "data": {
            "text/html": [
              "<div>\n",
              "<style scoped>\n",
              "    .dataframe tbody tr th:only-of-type {\n",
              "        vertical-align: middle;\n",
              "    }\n",
              "\n",
              "    .dataframe tbody tr th {\n",
              "        vertical-align: top;\n",
              "    }\n",
              "\n",
              "    .dataframe thead th {\n",
              "        text-align: right;\n",
              "    }\n",
              "</style>\n",
              "<table border=\"1\" class=\"dataframe\">\n",
              "  <thead>\n",
              "    <tr style=\"text-align: right;\">\n",
              "      <th></th>\n",
              "      <th>target</th>\n",
              "      <th>cmmt_list</th>\n",
              "    </tr>\n",
              "  </thead>\n",
              "  <tbody>\n",
              "    <tr>\n",
              "      <th>0</th>\n",
              "      <td>0</td>\n",
              "      <td>[If Lauren is t suggesting to deport this gros...</td>\n",
              "    </tr>\n",
              "    <tr>\n",
              "      <th>1</th>\n",
              "      <td>0</td>\n",
              "      <td>[F in the chat for Corbin, he’s clearly consta...</td>\n",
              "    </tr>\n",
              "    <tr>\n",
              "      <th>2</th>\n",
              "      <td>0</td>\n",
              "      <td>[Congratulations to Thando and his fiancÃ©, le...</td>\n",
              "    </tr>\n",
              "    <tr>\n",
              "      <th>3</th>\n",
              "      <td>0</td>\n",
              "      <td>[if you . ♡ ° ♡ think °. ♡ . + that . ✵ ♡ ✷ ♡ ...</td>\n",
              "    </tr>\n",
              "    <tr>\n",
              "      <th>4</th>\n",
              "      <td>0</td>\n",
              "      <td>[Before anyone says anything, I am gonna get a...</td>\n",
              "    </tr>\n",
              "    <tr>\n",
              "      <th>...</th>\n",
              "      <td>...</td>\n",
              "      <td>...</td>\n",
              "    </tr>\n",
              "    <tr>\n",
              "      <th>30812</th>\n",
              "      <td>0</td>\n",
              "      <td>[Lol, these people are really out there claimi...</td>\n",
              "    </tr>\n",
              "    <tr>\n",
              "      <th>30813</th>\n",
              "      <td>0</td>\n",
              "      <td>[saw this on Reddit, This is such a terrible b...</td>\n",
              "    </tr>\n",
              "    <tr>\n",
              "      <th>30814</th>\n",
              "      <td>0</td>\n",
              "      <td>[Is this really how our men should be spending...</td>\n",
              "    </tr>\n",
              "    <tr>\n",
              "      <th>30815</th>\n",
              "      <td>0</td>\n",
              "      <td>[Because you lame-ass #MAGA-ites believe that ...</td>\n",
              "    </tr>\n",
              "    <tr>\n",
              "      <th>30816</th>\n",
              "      <td>0</td>\n",
              "      <td>[Race and Religion in the Modern Pagan World h...</td>\n",
              "    </tr>\n",
              "  </tbody>\n",
              "</table>\n",
              "<p>36257 rows × 2 columns</p>\n",
              "</div>"
            ],
            "text/plain": [
              "      target                                          cmmt_list\n",
              "0          0  [If Lauren is t suggesting to deport this gros...\n",
              "1          0  [F in the chat for Corbin, he’s clearly consta...\n",
              "2          0  [Congratulations to Thando and his fiancÃ©, le...\n",
              "3          0  [if you . ♡ ° ♡ think °. ♡ . + that . ✵ ♡ ✷ ♡ ...\n",
              "4          0  [Before anyone says anything, I am gonna get a...\n",
              "...      ...                                                ...\n",
              "30812      0  [Lol, these people are really out there claimi...\n",
              "30813      0  [saw this on Reddit, This is such a terrible b...\n",
              "30814      0  [Is this really how our men should be spending...\n",
              "30815      0  [Because you lame-ass #MAGA-ites believe that ...\n",
              "30816      0  [Race and Religion in the Modern Pagan World h...\n",
              "\n",
              "[36257 rows x 2 columns]"
            ]
          },
          "metadata": {
            "tags": []
          },
          "execution_count": 268
        }
      ]
    },
    {
      "cell_type": "code",
      "metadata": {
        "id": "Y0Pma081FDh5",
        "outputId": "89e55285-2ac3-4916-e895-9c3d54c865e0"
      },
      "source": [
        "context.target.value_counts()"
      ],
      "execution_count": null,
      "outputs": [
        {
          "output_type": "execute_result",
          "data": {
            "text/plain": [
              "1.0    22711\n",
              "0.0    13546\n",
              "Name: target, dtype: int64"
            ]
          },
          "metadata": {
            "tags": []
          },
          "execution_count": 269
        }
      ]
    },
    {
      "cell_type": "code",
      "metadata": {
        "id": "RnYMk6kiFDh5",
        "outputId": "91a1b1a8-7678-474b-9df2-61d5c8cd9e4c"
      },
      "source": [
        "ver1 = pd.concat([sa,df])\n",
        "ver1 = ver1.dropna()\n",
        "ver1 = ver1.reset_index(drop=True)\n",
        "\n",
        "ver1"
      ],
      "execution_count": null,
      "outputs": [
        {
          "output_type": "execute_result",
          "data": {
            "text/html": [
              "<div>\n",
              "<style scoped>\n",
              "    .dataframe tbody tr th:only-of-type {\n",
              "        vertical-align: middle;\n",
              "    }\n",
              "\n",
              "    .dataframe tbody tr th {\n",
              "        vertical-align: top;\n",
              "    }\n",
              "\n",
              "    .dataframe thead th {\n",
              "        text-align: right;\n",
              "    }\n",
              "</style>\n",
              "<table border=\"1\" class=\"dataframe\">\n",
              "  <thead>\n",
              "    <tr style=\"text-align: right;\">\n",
              "      <th></th>\n",
              "      <th>target</th>\n",
              "      <th>cmmt_list</th>\n",
              "    </tr>\n",
              "  </thead>\n",
              "  <tbody>\n",
              "    <tr>\n",
              "      <th>0</th>\n",
              "      <td>0.0</td>\n",
              "      <td>If Lauren is t suggesting to deport this gross...</td>\n",
              "    </tr>\n",
              "    <tr>\n",
              "      <th>1</th>\n",
              "      <td>0.0</td>\n",
              "      <td>F in the chat for Corbin, he’s clearly constan...</td>\n",
              "    </tr>\n",
              "    <tr>\n",
              "      <th>2</th>\n",
              "      <td>0.0</td>\n",
              "      <td>Congratulations to Thando and his fiancÃ©, let...</td>\n",
              "    </tr>\n",
              "    <tr>\n",
              "      <th>3</th>\n",
              "      <td>0.0</td>\n",
              "      <td>if you . ♡ ° ♡ think °. ♡ . + that . ✵ ♡ ✷ ♡ ✧...</td>\n",
              "    </tr>\n",
              "    <tr>\n",
              "      <th>4</th>\n",
              "      <td>0.0</td>\n",
              "      <td>Before anyone says anything, I am gonna get a ...</td>\n",
              "    </tr>\n",
              "    <tr>\n",
              "      <th>...</th>\n",
              "      <td>...</td>\n",
              "      <td>...</td>\n",
              "    </tr>\n",
              "    <tr>\n",
              "      <th>357477</th>\n",
              "      <td>1.0</td>\n",
              "      <td>Who is the jerk in the last row between the C ...</td>\n",
              "    </tr>\n",
              "    <tr>\n",
              "      <th>357478</th>\n",
              "      <td>1.0</td>\n",
              "      <td>Nobody really cares that she supports the scie...</td>\n",
              "    </tr>\n",
              "    <tr>\n",
              "      <th>357479</th>\n",
              "      <td>1.0</td>\n",
              "      <td>Believing in God or not believing in God are p...</td>\n",
              "    </tr>\n",
              "    <tr>\n",
              "      <th>357480</th>\n",
              "      <td>1.0</td>\n",
              "      <td>I take your point, but I think you're shooting...</td>\n",
              "    </tr>\n",
              "    <tr>\n",
              "      <th>357481</th>\n",
              "      <td>1.0</td>\n",
              "      <td>Anyone who is quoted as having the following e...</td>\n",
              "    </tr>\n",
              "  </tbody>\n",
              "</table>\n",
              "<p>357482 rows × 2 columns</p>\n",
              "</div>"
            ],
            "text/plain": [
              "        target                                          cmmt_list\n",
              "0          0.0  If Lauren is t suggesting to deport this gross...\n",
              "1          0.0  F in the chat for Corbin, he’s clearly constan...\n",
              "2          0.0  Congratulations to Thando and his fiancÃ©, let...\n",
              "3          0.0  if you . ♡ ° ♡ think °. ♡ . + that . ✵ ♡ ✷ ♡ ✧...\n",
              "4          0.0  Before anyone says anything, I am gonna get a ...\n",
              "...        ...                                                ...\n",
              "357477     1.0  Who is the jerk in the last row between the C ...\n",
              "357478     1.0  Nobody really cares that she supports the scie...\n",
              "357479     1.0  Believing in God or not believing in God are p...\n",
              "357480     1.0  I take your point, but I think you're shooting...\n",
              "357481     1.0  Anyone who is quoted as having the following e...\n",
              "\n",
              "[357482 rows x 2 columns]"
            ]
          },
          "metadata": {
            "tags": []
          },
          "execution_count": 22
        }
      ]
    },
    {
      "cell_type": "code",
      "metadata": {
        "id": "LJAuZ9TLFDh5",
        "outputId": "97d138c6-3e0b-4c23-ca0d-b7ea7ab0eb96"
      },
      "source": [
        "df.to_csv('finaldata.csv', index=False)\n",
        "\n",
        "df_gao = pd.concat([sa,df_gao])\n",
        "df_gao.to_csv('finaldata_wgao.csv', index=False)\n",
        "\n",
        "df_gao"
      ],
      "execution_count": null,
      "outputs": [
        {
          "output_type": "execute_result",
          "data": {
            "text/html": [
              "<div>\n",
              "<style scoped>\n",
              "    .dataframe tbody tr th:only-of-type {\n",
              "        vertical-align: middle;\n",
              "    }\n",
              "\n",
              "    .dataframe tbody tr th {\n",
              "        vertical-align: top;\n",
              "    }\n",
              "\n",
              "    .dataframe thead th {\n",
              "        text-align: right;\n",
              "    }\n",
              "</style>\n",
              "<table border=\"1\" class=\"dataframe\">\n",
              "  <thead>\n",
              "    <tr style=\"text-align: right;\">\n",
              "      <th></th>\n",
              "      <th>index</th>\n",
              "      <th>target</th>\n",
              "      <th>cmmt_list</th>\n",
              "    </tr>\n",
              "  </thead>\n",
              "  <tbody>\n",
              "    <tr>\n",
              "      <th>0</th>\n",
              "      <td>0.0</td>\n",
              "      <td>0.0</td>\n",
              "      <td>If Lauren is t suggesting to deport this gross...</td>\n",
              "    </tr>\n",
              "    <tr>\n",
              "      <th>1</th>\n",
              "      <td>1.0</td>\n",
              "      <td>0.0</td>\n",
              "      <td>F in the chat for Corbin, he’s clearly constan...</td>\n",
              "    </tr>\n",
              "    <tr>\n",
              "      <th>2</th>\n",
              "      <td>2.0</td>\n",
              "      <td>0.0</td>\n",
              "      <td>Congratulations to Thando and his fiancÃ©, let...</td>\n",
              "    </tr>\n",
              "    <tr>\n",
              "      <th>3</th>\n",
              "      <td>3.0</td>\n",
              "      <td>0.0</td>\n",
              "      <td>if you . ♡ ° ♡ think °. ♡ . + that . ✵ ♡ ✷ ♡ ✧...</td>\n",
              "    </tr>\n",
              "    <tr>\n",
              "      <th>4</th>\n",
              "      <td>4.0</td>\n",
              "      <td>0.0</td>\n",
              "      <td>Before anyone says anything, I am gonna get a ...</td>\n",
              "    </tr>\n",
              "    <tr>\n",
              "      <th>...</th>\n",
              "      <td>...</td>\n",
              "      <td>...</td>\n",
              "      <td>...</td>\n",
              "    </tr>\n",
              "    <tr>\n",
              "      <th>1804825</th>\n",
              "      <td>NaN</td>\n",
              "      <td>1.0</td>\n",
              "      <td>Who is the jerk in the last row between the C ...</td>\n",
              "    </tr>\n",
              "    <tr>\n",
              "      <th>1804838</th>\n",
              "      <td>NaN</td>\n",
              "      <td>1.0</td>\n",
              "      <td>Nobody really cares that she supports the scie...</td>\n",
              "    </tr>\n",
              "    <tr>\n",
              "      <th>1804856</th>\n",
              "      <td>NaN</td>\n",
              "      <td>1.0</td>\n",
              "      <td>Believing in God or not believing in God are p...</td>\n",
              "    </tr>\n",
              "    <tr>\n",
              "      <th>1804857</th>\n",
              "      <td>NaN</td>\n",
              "      <td>1.0</td>\n",
              "      <td>I take your point, but I think you're shooting...</td>\n",
              "    </tr>\n",
              "    <tr>\n",
              "      <th>1804872</th>\n",
              "      <td>NaN</td>\n",
              "      <td>1.0</td>\n",
              "      <td>Anyone who is quoted as having the following e...</td>\n",
              "    </tr>\n",
              "  </tbody>\n",
              "</table>\n",
              "<p>359009 rows × 3 columns</p>\n",
              "</div>"
            ],
            "text/plain": [
              "         index  target                                          cmmt_list\n",
              "0          0.0     0.0  If Lauren is t suggesting to deport this gross...\n",
              "1          1.0     0.0  F in the chat for Corbin, he’s clearly constan...\n",
              "2          2.0     0.0  Congratulations to Thando and his fiancÃ©, let...\n",
              "3          3.0     0.0  if you . ♡ ° ♡ think °. ♡ . + that . ✵ ♡ ✷ ♡ ✧...\n",
              "4          4.0     0.0  Before anyone says anything, I am gonna get a ...\n",
              "...        ...     ...                                                ...\n",
              "1804825    NaN     1.0  Who is the jerk in the last row between the C ...\n",
              "1804838    NaN     1.0  Nobody really cares that she supports the scie...\n",
              "1804856    NaN     1.0  Believing in God or not believing in God are p...\n",
              "1804857    NaN     1.0  I take your point, but I think you're shooting...\n",
              "1804872    NaN     1.0  Anyone who is quoted as having the following e...\n",
              "\n",
              "[359009 rows x 3 columns]"
            ]
          },
          "metadata": {
            "tags": []
          },
          "execution_count": 148
        }
      ]
    },
    {
      "cell_type": "markdown",
      "metadata": {
        "id": "BWp08Bj7FDh6"
      },
      "source": [
        "# Questions"
      ]
    },
    {
      "cell_type": "code",
      "metadata": {
        "id": "T1PmOnkQFDh6",
        "outputId": "4e1c7901-ec5c-404b-bd23-a2fa66eeea78"
      },
      "source": [
        "q = pd.read_csv('C:\\\\Users\\\\user\\\\OneDrive\\\\Desktop\\\\codestates\\\\기업협업\\\\dataset\\\\question\\\\train.csv')\n",
        "q"
      ],
      "execution_count": null,
      "outputs": [
        {
          "output_type": "execute_result",
          "data": {
            "text/html": [
              "<div>\n",
              "<style scoped>\n",
              "    .dataframe tbody tr th:only-of-type {\n",
              "        vertical-align: middle;\n",
              "    }\n",
              "\n",
              "    .dataframe tbody tr th {\n",
              "        vertical-align: top;\n",
              "    }\n",
              "\n",
              "    .dataframe thead th {\n",
              "        text-align: right;\n",
              "    }\n",
              "</style>\n",
              "<table border=\"1\" class=\"dataframe\">\n",
              "  <thead>\n",
              "    <tr style=\"text-align: right;\">\n",
              "      <th></th>\n",
              "      <th>qid</th>\n",
              "      <th>question_text</th>\n",
              "      <th>target</th>\n",
              "    </tr>\n",
              "  </thead>\n",
              "  <tbody>\n",
              "    <tr>\n",
              "      <th>0</th>\n",
              "      <td>00002165364db923c7e6</td>\n",
              "      <td>How did Quebec nationalists see their province...</td>\n",
              "      <td>0</td>\n",
              "    </tr>\n",
              "    <tr>\n",
              "      <th>1</th>\n",
              "      <td>000032939017120e6e44</td>\n",
              "      <td>Do you have an adopted dog, how would you enco...</td>\n",
              "      <td>0</td>\n",
              "    </tr>\n",
              "    <tr>\n",
              "      <th>2</th>\n",
              "      <td>0000412ca6e4628ce2cf</td>\n",
              "      <td>Why does velocity affect time? Does velocity a...</td>\n",
              "      <td>0</td>\n",
              "    </tr>\n",
              "    <tr>\n",
              "      <th>3</th>\n",
              "      <td>000042bf85aa498cd78e</td>\n",
              "      <td>How did Otto von Guericke used the Magdeburg h...</td>\n",
              "      <td>0</td>\n",
              "    </tr>\n",
              "    <tr>\n",
              "      <th>4</th>\n",
              "      <td>0000455dfa3e01eae3af</td>\n",
              "      <td>Can I convert montra helicon D to a mountain b...</td>\n",
              "      <td>0</td>\n",
              "    </tr>\n",
              "    <tr>\n",
              "      <th>...</th>\n",
              "      <td>...</td>\n",
              "      <td>...</td>\n",
              "      <td>...</td>\n",
              "    </tr>\n",
              "    <tr>\n",
              "      <th>1306117</th>\n",
              "      <td>ffffcc4e2331aaf1e41e</td>\n",
              "      <td>What other technical skills do you need as a c...</td>\n",
              "      <td>0</td>\n",
              "    </tr>\n",
              "    <tr>\n",
              "      <th>1306118</th>\n",
              "      <td>ffffd431801e5a2f4861</td>\n",
              "      <td>Does MS in ECE have good job prospects in USA ...</td>\n",
              "      <td>0</td>\n",
              "    </tr>\n",
              "    <tr>\n",
              "      <th>1306119</th>\n",
              "      <td>ffffd48fb36b63db010c</td>\n",
              "      <td>Is foam insulation toxic?</td>\n",
              "      <td>0</td>\n",
              "    </tr>\n",
              "    <tr>\n",
              "      <th>1306120</th>\n",
              "      <td>ffffec519fa37cf60c78</td>\n",
              "      <td>How can one start a research project based on ...</td>\n",
              "      <td>0</td>\n",
              "    </tr>\n",
              "    <tr>\n",
              "      <th>1306121</th>\n",
              "      <td>ffffed09fedb5088744a</td>\n",
              "      <td>Who wins in a battle between a Wolverine and a...</td>\n",
              "      <td>0</td>\n",
              "    </tr>\n",
              "  </tbody>\n",
              "</table>\n",
              "<p>1306122 rows × 3 columns</p>\n",
              "</div>"
            ],
            "text/plain": [
              "                          qid  \\\n",
              "0        00002165364db923c7e6   \n",
              "1        000032939017120e6e44   \n",
              "2        0000412ca6e4628ce2cf   \n",
              "3        000042bf85aa498cd78e   \n",
              "4        0000455dfa3e01eae3af   \n",
              "...                       ...   \n",
              "1306117  ffffcc4e2331aaf1e41e   \n",
              "1306118  ffffd431801e5a2f4861   \n",
              "1306119  ffffd48fb36b63db010c   \n",
              "1306120  ffffec519fa37cf60c78   \n",
              "1306121  ffffed09fedb5088744a   \n",
              "\n",
              "                                             question_text  target  \n",
              "0        How did Quebec nationalists see their province...       0  \n",
              "1        Do you have an adopted dog, how would you enco...       0  \n",
              "2        Why does velocity affect time? Does velocity a...       0  \n",
              "3        How did Otto von Guericke used the Magdeburg h...       0  \n",
              "4        Can I convert montra helicon D to a mountain b...       0  \n",
              "...                                                    ...     ...  \n",
              "1306117  What other technical skills do you need as a c...       0  \n",
              "1306118  Does MS in ECE have good job prospects in USA ...       0  \n",
              "1306119                          Is foam insulation toxic?       0  \n",
              "1306120  How can one start a research project based on ...       0  \n",
              "1306121  Who wins in a battle between a Wolverine and a...       0  \n",
              "\n",
              "[1306122 rows x 3 columns]"
            ]
          },
          "metadata": {
            "tags": []
          },
          "execution_count": 270
        }
      ]
    },
    {
      "cell_type": "code",
      "metadata": {
        "id": "7McLntilFDh7",
        "outputId": "a91a8474-db9b-4383-99ac-dabf87095a00"
      },
      "source": [
        "q.target.value_counts()"
      ],
      "execution_count": null,
      "outputs": [
        {
          "output_type": "execute_result",
          "data": {
            "text/plain": [
              "0    1225312\n",
              "1      80810\n",
              "Name: target, dtype: int64"
            ]
          },
          "metadata": {
            "tags": []
          },
          "execution_count": 271
        }
      ]
    },
    {
      "cell_type": "code",
      "metadata": {
        "id": "WYRtFb5rFDh7",
        "outputId": "11fe1776-d7e5-4a2e-8e63-3451b10ff77d"
      },
      "source": [
        "def sampling_func(data, n_sample):\n",
        "    np.random.seed(10)\n",
        "    N = len(data)\n",
        "    sample = data.take(np.random.permutation(N)[:n_sample])\n",
        "    return sample\n",
        "\n",
        "q = q.groupby('target', group_keys=False).apply(sampling_func, n_sample=9120)\n",
        "q.target.value_counts()"
      ],
      "execution_count": null,
      "outputs": [
        {
          "output_type": "execute_result",
          "data": {
            "text/plain": [
              "1    9120\n",
              "0    9120\n",
              "Name: target, dtype: int64"
            ]
          },
          "metadata": {
            "tags": []
          },
          "execution_count": 272
        }
      ]
    },
    {
      "cell_type": "code",
      "metadata": {
        "id": "yqW-o_grFDh7",
        "outputId": "af0d62e7-6b1f-4e80-db3b-aba33e9189be"
      },
      "source": [
        "q['cmmt_list'] = q['question_text'].apply(lambda x : [x])\n",
        "q = q[['target','cmmt_list']]\n",
        "context = pd.concat([q,context])\n",
        "context.target.value_counts()"
      ],
      "execution_count": null,
      "outputs": [
        {
          "output_type": "execute_result",
          "data": {
            "text/plain": [
              "1    31831\n",
              "0    22666\n",
              "Name: target, dtype: int64"
            ]
          },
          "metadata": {
            "tags": []
          },
          "execution_count": 273
        }
      ]
    },
    {
      "cell_type": "markdown",
      "metadata": {
        "id": "YbwfRyziFDh8"
      },
      "source": [
        "# Racism"
      ]
    },
    {
      "cell_type": "code",
      "metadata": {
        "id": "hCCTx0IzFDh8",
        "outputId": "0274b614-9fd2-4014-b794-2d031723c79a"
      },
      "source": [
        "racism = pd.read_csv('C:\\\\Users\\\\user\\\\OneDrive\\\\Desktop\\\\codestates\\\\기업협업\\\\dataset\\\\twitter_racism_parsed_dataset.csv')\n",
        "racism"
      ],
      "execution_count": null,
      "outputs": [
        {
          "output_type": "execute_result",
          "data": {
            "text/html": [
              "<div>\n",
              "<style scoped>\n",
              "    .dataframe tbody tr th:only-of-type {\n",
              "        vertical-align: middle;\n",
              "    }\n",
              "\n",
              "    .dataframe tbody tr th {\n",
              "        vertical-align: top;\n",
              "    }\n",
              "\n",
              "    .dataframe thead th {\n",
              "        text-align: right;\n",
              "    }\n",
              "</style>\n",
              "<table border=\"1\" class=\"dataframe\">\n",
              "  <thead>\n",
              "    <tr style=\"text-align: right;\">\n",
              "      <th></th>\n",
              "      <th>index</th>\n",
              "      <th>id</th>\n",
              "      <th>Text</th>\n",
              "      <th>Annotation</th>\n",
              "      <th>oh_label</th>\n",
              "    </tr>\n",
              "  </thead>\n",
              "  <tbody>\n",
              "    <tr>\n",
              "      <th>0</th>\n",
              "      <td>5.767493e+17</td>\n",
              "      <td>5.767493e+17</td>\n",
              "      <td>@AAlwuhaib1977 Muslim mob violence against Hin...</td>\n",
              "      <td>racism</td>\n",
              "      <td>1</td>\n",
              "    </tr>\n",
              "    <tr>\n",
              "      <th>1</th>\n",
              "      <td>5.408905e+17</td>\n",
              "      <td>5.408905e+17</td>\n",
              "      <td>@Te4m_NiGhtM4Re http://t.co/5Ih7MkDbQG</td>\n",
              "      <td>none</td>\n",
              "      <td>0</td>\n",
              "    </tr>\n",
              "    <tr>\n",
              "      <th>2</th>\n",
              "      <td>5.678433e+17</td>\n",
              "      <td>5.678433e+17</td>\n",
              "      <td>@jncatron @isra_jourisra @AMPalestine Islamoph...</td>\n",
              "      <td>racism</td>\n",
              "      <td>1</td>\n",
              "    </tr>\n",
              "    <tr>\n",
              "      <th>3</th>\n",
              "      <td>5.766462e+17</td>\n",
              "      <td>5.766462e+17</td>\n",
              "      <td>Finally I'm all caught up, and that sudden dea...</td>\n",
              "      <td>none</td>\n",
              "      <td>0</td>\n",
              "    </tr>\n",
              "    <tr>\n",
              "      <th>4</th>\n",
              "      <td>5.713492e+17</td>\n",
              "      <td>5.713492e+17</td>\n",
              "      <td>@carolinesinders @herecomesfran *hugs*</td>\n",
              "      <td>none</td>\n",
              "      <td>0</td>\n",
              "    </tr>\n",
              "    <tr>\n",
              "      <th>...</th>\n",
              "      <td>...</td>\n",
              "      <td>...</td>\n",
              "      <td>...</td>\n",
              "      <td>...</td>\n",
              "      <td>...</td>\n",
              "    </tr>\n",
              "    <tr>\n",
              "      <th>13466</th>\n",
              "      <td>5.755964e+17</td>\n",
              "      <td>5.755964e+17</td>\n",
              "      <td>#mkr NOOOOO!!! I wanted Kat and Andre to lose!!!</td>\n",
              "      <td>none</td>\n",
              "      <td>0</td>\n",
              "    </tr>\n",
              "    <tr>\n",
              "      <th>13467</th>\n",
              "      <td>5.580631e+17</td>\n",
              "      <td>5.580631e+17</td>\n",
              "      <td>RT @MumtazCeltik: @WhiteHouse @VP \\n\\n#Kobane ...</td>\n",
              "      <td>none</td>\n",
              "      <td>0</td>\n",
              "    </tr>\n",
              "    <tr>\n",
              "      <th>13468</th>\n",
              "      <td>5.755969e+17</td>\n",
              "      <td>5.755969e+17</td>\n",
              "      <td>Glad the proper competition is starting and ev...</td>\n",
              "      <td>none</td>\n",
              "      <td>0</td>\n",
              "    </tr>\n",
              "    <tr>\n",
              "      <th>13469</th>\n",
              "      <td>5.755990e+17</td>\n",
              "      <td>5.755990e+17</td>\n",
              "      <td>No worries Pete and Manu, take all the time of...</td>\n",
              "      <td>none</td>\n",
              "      <td>0</td>\n",
              "    </tr>\n",
              "    <tr>\n",
              "      <th>13470</th>\n",
              "      <td>5.755977e+17</td>\n",
              "      <td>5.755977e+17</td>\n",
              "      <td>@mykitchenrules #mkr please kick off that lady...</td>\n",
              "      <td>none</td>\n",
              "      <td>0</td>\n",
              "    </tr>\n",
              "  </tbody>\n",
              "</table>\n",
              "<p>13471 rows × 5 columns</p>\n",
              "</div>"
            ],
            "text/plain": [
              "              index            id  \\\n",
              "0      5.767493e+17  5.767493e+17   \n",
              "1      5.408905e+17  5.408905e+17   \n",
              "2      5.678433e+17  5.678433e+17   \n",
              "3      5.766462e+17  5.766462e+17   \n",
              "4      5.713492e+17  5.713492e+17   \n",
              "...             ...           ...   \n",
              "13466  5.755964e+17  5.755964e+17   \n",
              "13467  5.580631e+17  5.580631e+17   \n",
              "13468  5.755969e+17  5.755969e+17   \n",
              "13469  5.755990e+17  5.755990e+17   \n",
              "13470  5.755977e+17  5.755977e+17   \n",
              "\n",
              "                                                    Text Annotation  oh_label  \n",
              "0      @AAlwuhaib1977 Muslim mob violence against Hin...     racism         1  \n",
              "1                 @Te4m_NiGhtM4Re http://t.co/5Ih7MkDbQG       none         0  \n",
              "2      @jncatron @isra_jourisra @AMPalestine Islamoph...     racism         1  \n",
              "3      Finally I'm all caught up, and that sudden dea...       none         0  \n",
              "4                 @carolinesinders @herecomesfran *hugs*       none         0  \n",
              "...                                                  ...        ...       ...  \n",
              "13466   #mkr NOOOOO!!! I wanted Kat and Andre to lose!!!       none         0  \n",
              "13467  RT @MumtazCeltik: @WhiteHouse @VP \\n\\n#Kobane ...       none         0  \n",
              "13468  Glad the proper competition is starting and ev...       none         0  \n",
              "13469  No worries Pete and Manu, take all the time of...       none         0  \n",
              "13470  @mykitchenrules #mkr please kick off that lady...       none         0  \n",
              "\n",
              "[13471 rows x 5 columns]"
            ]
          },
          "metadata": {
            "tags": []
          },
          "execution_count": 274
        }
      ]
    },
    {
      "cell_type": "code",
      "metadata": {
        "id": "nvZSqllUFDh8",
        "outputId": "ae387859-a36c-426f-c856-64b90021e282"
      },
      "source": [
        "racism.oh_label.value_counts()"
      ],
      "execution_count": null,
      "outputs": [
        {
          "output_type": "execute_result",
          "data": {
            "text/plain": [
              "0    11501\n",
              "1     1970\n",
              "Name: oh_label, dtype: int64"
            ]
          },
          "metadata": {
            "tags": []
          },
          "execution_count": 187
        }
      ]
    },
    {
      "cell_type": "code",
      "metadata": {
        "id": "sJq5Bj7OFDh8",
        "outputId": "96dd0344-a420-4ca6-ef96-fd0c57158807"
      },
      "source": [
        "def sampling_func(data, n_sample):\n",
        "    np.random.seed(10)\n",
        "    N = len(data)\n",
        "    sample = data.take(np.random.permutation(N)[:n_sample])\n",
        "    return sample\n",
        "\n",
        "racism = racism.groupby('oh_label', group_keys=False).apply(sampling_func, n_sample=1970)\n",
        "racism.oh_label.value_counts()"
      ],
      "execution_count": null,
      "outputs": [
        {
          "output_type": "execute_result",
          "data": {
            "text/plain": [
              "1    1970\n",
              "0    1970\n",
              "Name: oh_label, dtype: int64"
            ]
          },
          "metadata": {
            "tags": []
          },
          "execution_count": 189
        }
      ]
    },
    {
      "cell_type": "code",
      "metadata": {
        "id": "IKYk2rj5FDh9",
        "outputId": "2adc6792-8985-43af-c40e-20b2548702f7"
      },
      "source": [
        "racism['Text'] = racism['Text'].apply(lambda x : ['how do you think of them?',x])\n",
        "racism = racism[['Text','oh_label']]\n",
        "racism = racism.rename(columns={'oh_label':'target','Text':'cmmt_list'})\n",
        "\n",
        "context = pd.concat([racism,context])\n",
        "context"
      ],
      "execution_count": null,
      "outputs": [
        {
          "output_type": "execute_result",
          "data": {
            "text/html": [
              "<div>\n",
              "<style scoped>\n",
              "    .dataframe tbody tr th:only-of-type {\n",
              "        vertical-align: middle;\n",
              "    }\n",
              "\n",
              "    .dataframe tbody tr th {\n",
              "        vertical-align: top;\n",
              "    }\n",
              "\n",
              "    .dataframe thead th {\n",
              "        text-align: right;\n",
              "    }\n",
              "</style>\n",
              "<table border=\"1\" class=\"dataframe\">\n",
              "  <thead>\n",
              "    <tr style=\"text-align: right;\">\n",
              "      <th></th>\n",
              "      <th>cmmt_list</th>\n",
              "      <th>target</th>\n",
              "    </tr>\n",
              "  </thead>\n",
              "  <tbody>\n",
              "    <tr>\n",
              "      <th>7679</th>\n",
              "      <td>[how do you think of them?, Now that the world...</td>\n",
              "      <td>0.0</td>\n",
              "    </tr>\n",
              "    <tr>\n",
              "      <th>8868</th>\n",
              "      <td>[how do you think of them?, @srhbutts wait. Wh...</td>\n",
              "      <td>0.0</td>\n",
              "    </tr>\n",
              "    <tr>\n",
              "      <th>2935</th>\n",
              "      <td>[how do you think of them?, @JoeHoganCornwal \"...</td>\n",
              "      <td>0.0</td>\n",
              "    </tr>\n",
              "    <tr>\n",
              "      <th>10492</th>\n",
              "      <td>[how do you think of them?, RT @GodlessUtopia:...</td>\n",
              "      <td>0.0</td>\n",
              "    </tr>\n",
              "    <tr>\n",
              "      <th>1927</th>\n",
              "      <td>[how do you think of them?, Lets get these spa...</td>\n",
              "      <td>0.0</td>\n",
              "    </tr>\n",
              "    <tr>\n",
              "      <th>...</th>\n",
              "      <td>...</td>\n",
              "      <td>...</td>\n",
              "    </tr>\n",
              "    <tr>\n",
              "      <th>6784</th>\n",
              "      <td>[Take it to the talk page. This isn't the venu...</td>\n",
              "      <td>1.0</td>\n",
              "    </tr>\n",
              "    <tr>\n",
              "      <th>3976</th>\n",
              "      <td>[N-E-T-T-O Netto is the place to go, shop all ...</td>\n",
              "      <td>1.0</td>\n",
              "    </tr>\n",
              "    <tr>\n",
              "      <th>838</th>\n",
              "      <td>[PS Thomas McPherson Brown article lacks suita...</td>\n",
              "      <td>1.0</td>\n",
              "    </tr>\n",
              "    <tr>\n",
              "      <th>7832</th>\n",
              "      <td>[All of his arguements are nail perfect, you'r...</td>\n",
              "      <td>1.0</td>\n",
              "    </tr>\n",
              "    <tr>\n",
              "      <th>709</th>\n",
              "      <td>[There you go again Gnixon.  Research?  Shall ...</td>\n",
              "      <td>1.0</td>\n",
              "    </tr>\n",
              "  </tbody>\n",
              "</table>\n",
              "<p>9682 rows × 2 columns</p>\n",
              "</div>"
            ],
            "text/plain": [
              "                                               cmmt_list  target\n",
              "7679   [how do you think of them?, Now that the world...     0.0\n",
              "8868   [how do you think of them?, @srhbutts wait. Wh...     0.0\n",
              "2935   [how do you think of them?, @JoeHoganCornwal \"...     0.0\n",
              "10492  [how do you think of them?, RT @GodlessUtopia:...     0.0\n",
              "1927   [how do you think of them?, Lets get these spa...     0.0\n",
              "...                                                  ...     ...\n",
              "6784   [Take it to the talk page. This isn't the venu...     1.0\n",
              "3976   [N-E-T-T-O Netto is the place to go, shop all ...     1.0\n",
              "838    [PS Thomas McPherson Brown article lacks suita...     1.0\n",
              "7832   [All of his arguements are nail perfect, you'r...     1.0\n",
              "709    [There you go again Gnixon.  Research?  Shall ...     1.0\n",
              "\n",
              "[9682 rows x 2 columns]"
            ]
          },
          "metadata": {
            "tags": []
          },
          "execution_count": 191
        }
      ]
    },
    {
      "cell_type": "markdown",
      "metadata": {
        "id": "XvuiZE3NFDh9"
      },
      "source": [
        "# Preprocessing"
      ]
    },
    {
      "cell_type": "markdown",
      "metadata": {
        "id": "sXmvUPihFDh9"
      },
      "source": [
        "## Ver1. Use pronoun, swearing"
      ]
    },
    {
      "cell_type": "code",
      "metadata": {
        "id": "IFrBsgRSFDh9"
      },
      "source": [
        "import re\n",
        "import unicodedata\n",
        "\n",
        "def clean_text(text):\n",
        "    text = text.lower().strip()\n",
        "    text = ''.join(c for c in unicodedata.normalize('NFD', text) if unicodedata.category(c) != 'Mn')\n",
        "    text = re.sub(r'[\\r|\\t|\\n]', ' ', text)\n",
        "    text = re.sub('(http|ftp|https)://(?:[-\\w.]|(?:\\da-f]{2}))+','',text) #url 제거\n",
        "    text = re.sub('(\\[a-z0-9\\_.+-\\]+@\\[a-z0-9-\\]+.\\[a-z0-9-.\\]+)','',text) #email 제거\n",
        "    text = re.sub('<[^>]*>','',text) #html tag 제거\n",
        "    text = re.sub(r\"[^a-z.!?]+\", r\" \", text) #문자+문장부호만 빼고 모두 제거\n",
        "    text = re.sub(r\"([.!?])\", r\" \\1\", text) #문장부호는 \\1로 대체\n",
        "    text = re.sub(' the ', ' ', text)\n",
        "    text = re.sub(' a ', ' ', text)\n",
        "    text = re.sub(' u ', 'you ', text)\n",
        "    text = re.sub(' ur ', ' your ', text)\n",
        "    text = re.sub(' y ', 'why ', text)\n",
        "    text = re.sub(' ciu ', 'see you ', text)\n",
        "    text = re.sub(' da ', 'dumb ass ', text)\n",
        "    text = re.sub(' fug ', 'fuck ugly ', text)\n",
        "    text = re.sub('gratest', 'greatest ', text)\n",
        "    text = re.sub('sh\\*t', 'shit ', text)\n",
        "    text = re.sub('s\\*\\*t', 'shit ', text)\n",
        "    text = re.sub('f\\*ck', 'fuck ', text)\n",
        "    text = re.sub(' f ', 'fuck ', text)\n",
        "    text = re.sub('fu\\*k', 'fuck ', text)\n",
        "    text = re.sub('f\\*\\*k', 'fuck ', text)   \n",
        "    text = re.sub('f\\*\\*\\*\\*\\*g', 'fuck ', text)\n",
        "    text = re.sub('p\\*ssy', 'pussy ', text)\n",
        "    text = re.sub('p\\*\\*\\*y', 'pussy ', text)\n",
        "    text = re.sub('pu\\*\\*y', 'pussy ', text)\n",
        "    text = re.sub('p\\*ss', 'piss ', text)\n",
        "    text = re.sub('b\\*tch', 'bitch ', text)\n",
        "    text = re.sub('bit\\*h', 'bitch ', text)\n",
        "    text = re.sub(' btch ', 'bitch ', text)\n",
        "    text = re.sub(' bch ', 'bitch ', text)\n",
        "    text = re.sub('h\\*ll', 'hell ', text)\n",
        "    text = re.sub('h\\*\\*l', 'hell ', text)\n",
        "    text = re.sub('cr\\*p', 'crap ', text)\n",
        "    text = re.sub('d\\*mn', 'damn ', text)\n",
        "    text = re.sub('stu\\*pid', 'stupid ', text)\n",
        "    text = re.sub('st\\*pid', 'stupid ', text)\n",
        "    text = re.sub('n\\*gger', 'nigger ', text)\n",
        "    text = re.sub('n\\*\\*\\*ga', 'nigger ', text)\n",
        "    text = re.sub('f\\*ggot', 'faggot ', text)\n",
        "    text = re.sub('scr\\*w', 'screw ', text)\n",
        "    text = re.sub('pr\\*ck', 'prick ', text)\n",
        "    text = re.sub('g\\*d', 'god ', text)\n",
        "    text = re.sub('s\\*x', 'sex ', text)\n",
        "    text = re.sub('a\\*s', 'ass ', text)\n",
        "    text = re.sub('a\\*\\*hole', 'asshole ', text)\n",
        "    text = re.sub('a\\*\\*\\*ole', 'asshole ', text)\n",
        "    text = re.sub('a\\*\\*', 'ass ', text)    \n",
        "    text = re.sub(r\"im \", \"i am \", text)\n",
        "    text = re.sub(r\"what's\", \"what is \", text)\n",
        "    text = re.sub(r\"\\'s\", \" \", text)\n",
        "    text = re.sub(r\"\\'ve\", \" have \", text)\n",
        "    text = re.sub(r\"can't\", \"can not \", text)\n",
        "    text = re.sub(r\"n't\", \" not \", text)\n",
        "    text = re.sub(r\"i'm\", \"i am \", text)\n",
        "    text = re.sub(r\"\\'re\", \" are \", text)\n",
        "    text = re.sub(r\"\\'d\", \" would \", text)\n",
        "    text = re.sub(r\"\\'ll\", \" will \", text)\n",
        "    text = re.sub(r\"\\'scuse\", \" excuse \", text)\n",
        "    text = re.sub('\\W', ' ', text)\n",
        "    text = re.sub('\\s+', ' ', text)\n",
        "    text = text.strip(' ')\n",
        "    \n",
        "    return text\n",
        "\n",
        "def preprocessing(comment):\n",
        "    cnt=0\n",
        "    if type(comment) == str:\n",
        "        return clean_text(comment)\n",
        "    elif type(comment) == list:\n",
        "        cnt+=1\n",
        "        comments = []\n",
        "        for text in comment:\n",
        "            if text == 'removed' or text == '[removed]' or text == ['removed']:\n",
        "                continue\n",
        "            text = clean_text(text)\n",
        "            comments.append(text)\n",
        "        return ' [SEP] '.join(comments)\n",
        "    else:\n",
        "        print(type(comment))"
      ],
      "execution_count": null,
      "outputs": []
    },
    {
      "cell_type": "code",
      "metadata": {
        "id": "ODFov4DJFDh-",
        "outputId": "d7430c2c-6498-4cbc-99a1-ff30d01d3b59"
      },
      "source": [
        "import time\n",
        "\n",
        "start = time.time()\n",
        "ver1['cleaned_comment'] = ver1['cmmt_list'].apply(lambda x: preprocessing(x))\n",
        "print(f'Preprocessing is finished: {time.time()-start:.2f} secs are taken')"
      ],
      "execution_count": null,
      "outputs": [
        {
          "output_type": "stream",
          "text": [
            "Preprocessing is finished: 89.42 secs are taken\n"
          ],
          "name": "stdout"
        }
      ]
    },
    {
      "cell_type": "code",
      "metadata": {
        "id": "aClN4padFDh-",
        "outputId": "c1760f98-4173-4a4f-b9bb-d5adf17517ea"
      },
      "source": [
        "org_len = len(ver1)\n",
        "ver1 = ver1[(ver1.cleaned_comment != '')]\n",
        "print(f'Total {org_len-len(ver1)} of datas are removed')"
      ],
      "execution_count": null,
      "outputs": [
        {
          "output_type": "stream",
          "text": [
            "Total 1049 of datas are removed\n"
          ],
          "name": "stdout"
        }
      ]
    },
    {
      "cell_type": "code",
      "metadata": {
        "id": "h0ELo9JKFDh-",
        "outputId": "5546cbfa-a302-46ab-e654-69ab8033f370"
      },
      "source": [
        "import seaborn as sns\n",
        "\n",
        "ver1['char_length'] = ver1['cleaned_comment'].apply(lambda x: len(str(x)))\n",
        "\n",
        "sns.displot(ver1['char_length']);"
      ],
      "execution_count": null,
      "outputs": [
        {
          "output_type": "display_data",
          "data": {
            "image/png": "[encoded data removed]",
            "text/plain": [
              "<Figure size 360x360 with 1 Axes>"
            ]
          },
          "metadata": {
            "tags": [],
            "needs_background": "light"
          }
        }
      ]
    },
    {
      "cell_type": "code",
      "metadata": {
        "id": "1tUb5q1EFDh-",
        "outputId": "50e870b4-06d4-4687-a25b-f5b371d13f7f"
      },
      "source": [
        "ver1_trim = ver1[(ver1.char_length <= 512)]\n",
        "ver1_trim = ver1_trim[['target','cleaned_comment']]\n",
        "\n",
        "ver1_trim.to_csv('finaldata.csv', index=False)\n",
        "print(len(ver1_trim))\n",
        "print(ver1_trim['target'].value_counts())"
      ],
      "execution_count": null,
      "outputs": [
        {
          "output_type": "stream",
          "text": [
            "301001\n",
            "1.0    155565\n",
            "0.0    145436\n",
            "Name: target, dtype: int64\n"
          ],
          "name": "stdout"
        }
      ]
    },
    {
      "cell_type": "markdown",
      "metadata": {
        "id": "gbkFZ4n7FDh_"
      },
      "source": [
        "## Ver2. lemmatizing & change some target words to token"
      ]
    },
    {
      "cell_type": "code",
      "metadata": {
        "id": "A7mKHZEzFDh_",
        "outputId": "c2c6cb45-495d-49f7-de1a-552f08e7ab0d"
      },
      "source": [
        "!pip install -U nltk"
      ],
      "execution_count": null,
      "outputs": [
        {
          "output_type": "stream",
          "text": [
            "Requirement already up-to-date: nltk in c:\\users\\user\\anaconda3\\lib\\site-packages (3.6.2)\n",
            "Requirement already satisfied, skipping upgrade: click in c:\\users\\user\\anaconda3\\lib\\site-packages (from nltk) (7.1.2)\n",
            "Requirement already satisfied, skipping upgrade: joblib in c:\\users\\user\\anaconda3\\lib\\site-packages (from nltk) (0.17.0)\n",
            "Requirement already satisfied, skipping upgrade: regex in c:\\users\\user\\anaconda3\\lib\\site-packages (from nltk) (2020.10.15)\n",
            "Requirement already satisfied, skipping upgrade: tqdm in c:\\users\\user\\anaconda3\\lib\\site-packages (from nltk) (4.50.2)\n"
          ],
          "name": "stdout"
        }
      ]
    },
    {
      "cell_type": "code",
      "metadata": {
        "id": "jE7qyBnRFDh_",
        "outputId": "d2ec1ce7-ec04-443a-ca58-429a25c96ab2"
      },
      "source": [
        "from nltk import pos_tag\n",
        "from nltk.stem import WordNetLemmatizer\n",
        "\n",
        "wnl = WordNetLemmatizer()\n",
        "\n",
        "def penn2morphy(penntag):\n",
        "    \"\"\" Converts Penn Treebank tags to WordNet. \"\"\"\n",
        "    morphy_tag = {'NN':'n', 'JJ':'a',\n",
        "                  'VB':'v', 'RB':'r'}\n",
        "    try:\n",
        "        return morphy_tag[penntag[:2]]\n",
        "    except:\n",
        "        return 'n' \n",
        "\n",
        "text = 'FUCKing you bitches'\n",
        "text = text.lower().split()\n",
        "text = ' '.join([wnl.lemmatize(w, pos=penn2morphy(tag)) for w, tag in pos_tag(text)])\n",
        "text"
      ],
      "execution_count": null,
      "outputs": [
        {
          "output_type": "execute_result",
          "data": {
            "text/plain": [
              "'fuck you bitch'"
            ]
          },
          "metadata": {
            "tags": []
          },
          "execution_count": 23
        }
      ]
    },
    {
      "cell_type": "code",
      "metadata": {
        "id": "BotLUYdcFDh_"
      },
      "source": [
        "import re\n",
        "import unicodedata\n",
        "from nltk.stem import WordNetLemmatizer\n",
        "from nltk import pos_tag\n",
        "\n",
        "wnl = WordNetLemmatizer()\n",
        "target = ['gay', 'gays', 'homosexual', 'lesbian', 'LGBT', 'moslem', 'muslim', 'jew', 'jews' 'blacks', 'nigga', 'niggas']\n",
        "\n",
        "def penn2morphy(penntag):\n",
        "    \"\"\" Converts Penn Treebank tags to WordNet. \"\"\"\n",
        "    morphy_tag = {'NN':'n', 'JJ':'a',\n",
        "                  'VB':'v', 'RB':'r'}\n",
        "    try:\n",
        "        return morphy_tag[penntag[:2]]\n",
        "    except:\n",
        "        return 'n' \n",
        "\n",
        "def clean_text(text):\n",
        "    text = text.lower().strip()\n",
        "    text = ''.join(c for c in unicodedata.normalize('NFD', text) if unicodedata.category(c) != 'Mn')\n",
        "    text = re.sub(r'[\\r|\\t|\\n]', ' ', text)\n",
        "    text = re.sub('(http|ftp|https)://(?:[-\\w.]|(?:\\da-f]{2}))+','',text) #url 제거\n",
        "    text = re.sub('(\\[a-z0-9\\_.+-\\]+@\\[a-z0-9-\\]+.\\[a-z0-9-.\\]+)','',text) #email 제거\n",
        "    text = re.sub('<[^>]*>','',text) #html tag 제거\n",
        "    text = re.sub(r\"[^a-z.!?]+\", r\" \", text) #문자+문장부호만 빼고 모두 제거\n",
        "    text = re.sub(r\"([.!?])\", r\" \\1\", text) #문장부호는 \\1로 대체\n",
        "    text = re.sub(' the ', ' ', text)\n",
        "    text = re.sub(' a ', ' ', text)\n",
        "    text = re.sub(' u ', 'you ', text)\n",
        "    text = re.sub(' ur ', ' your ', text)\n",
        "    text = re.sub(' y ', 'why ', text)\n",
        "    text = [w for w in text.split() if len(w)>1] #remove single alphabet in the sentence\n",
        "    text = [w if w not in target else '[TARGET]' for w in text]\n",
        "    text = ' '.join([wnl.lemmatize(w, pos=penn2morphy(tag)) for w, tag in pos_tag(text)])\n",
        "    text = re.sub(' ciu ', 'see you ', text)\n",
        "    text = re.sub(' da ', 'dumb ass ', text)\n",
        "    text = re.sub(' fug ', 'fuck ugly ', text)\n",
        "    text = re.sub('gratest', 'greatest ', text)\n",
        "    text = re.sub('sh\\*t', 'shit ', text)\n",
        "    text = re.sub('s\\*\\*t', 'shit ', text)\n",
        "    text = re.sub('f\\*ck', 'fuck ', text)\n",
        "    text = re.sub('fu\\*k', 'fuck ', text)\n",
        "    text = re.sub('f\\*\\*k', 'fuck ', text)   \n",
        "    text = re.sub('f\\*\\*\\*\\*\\*g', 'fuck ', text)\n",
        "    text = re.sub('p\\*ssy', 'pussy ', text)\n",
        "    text = re.sub('p\\*\\*\\*y', 'pussy ', text)\n",
        "    text = re.sub('pu\\*\\*y', 'pussy ', text)\n",
        "    text = re.sub('p\\*ss', 'piss ', text)\n",
        "    text = re.sub('b\\*tch', 'bitch ', text)\n",
        "    text = re.sub('bit\\*h', 'bitch ', text)\n",
        "    text = re.sub(' btch ', 'bitch ', text)\n",
        "    text = re.sub(' bch ', 'bitch ', text)\n",
        "    text = re.sub('h\\*ll', 'hell ', text)\n",
        "    text = re.sub('h\\*\\*l', 'hell ', text)\n",
        "    text = re.sub('cr\\*p', 'crap ', text)\n",
        "    text = re.sub('d\\*mn', 'damn ', text)\n",
        "    text = re.sub('stu\\*pid', 'stupid ', text)\n",
        "    text = re.sub('st\\*pid', 'stupid ', text)\n",
        "    text = re.sub('n\\*gger', 'nigger ', text)\n",
        "    text = re.sub('n\\*\\*\\*ga', 'nigger ', text)\n",
        "    text = re.sub('f\\*ggot', 'faggot ', text)\n",
        "    text = re.sub('scr\\*w', 'screw ', text)\n",
        "    text = re.sub('pr\\*ck', 'prick ', text)\n",
        "    text = re.sub('g\\*d', 'god ', text)\n",
        "    text = re.sub('s\\*x', 'sex ', text)\n",
        "    text = re.sub('a\\*s', 'ass ', text)\n",
        "    text = re.sub('a\\*\\*hole', 'asshole ', text)\n",
        "    text = re.sub('a\\*\\*\\*ole', 'asshole ', text)\n",
        "    text = re.sub('a\\*\\*', 'ass ', text)    \n",
        "    text = re.sub(r\"im \", \"i am \", text)\n",
        "    text = re.sub(r\"what's\", \"what is \", text)\n",
        "    text = re.sub(r\"\\'s\", \" \", text)\n",
        "    text = re.sub(r\"\\'ve\", \" have \", text)\n",
        "    text = re.sub(r\"can't\", \"can not \", text)\n",
        "    text = re.sub(r\"n't\", \" not \", text)\n",
        "    text = re.sub(r\"i'm\", \"i am \", text)\n",
        "    text = re.sub(r\"\\'re\", \" are \", text)\n",
        "    text = re.sub(r\"\\'d\", \" would \", text)\n",
        "    text = re.sub(r\"\\'ll\", \" will \", text)\n",
        "    text = re.sub(r\"\\'scuse\", \" excuse \", text)\n",
        "    text = re.sub('\\W', ' ', text)\n",
        "    text = re.sub('\\s+', ' ', text)\n",
        "    text = text.strip(' ')\n",
        "    \n",
        "    return text\n",
        "\n",
        "def preprocessing(comment):\n",
        "    if type(comment) == str:\n",
        "        return clean_text(comment)\n",
        "    elif type(comment) == list:\n",
        "        comments = []\n",
        "        for text in comment:\n",
        "            if text == 'removed' or text == '[removed]' or text == ['removed']:\n",
        "                continue\n",
        "            text = clean_text(text)\n",
        "            comments.append(text)\n",
        "        return ' [SEP] '.join(comments)\n",
        "    else:\n",
        "        print(type(comment))"
      ],
      "execution_count": null,
      "outputs": []
    },
    {
      "cell_type": "code",
      "metadata": {
        "id": "t2Mz0Nw_FDiA",
        "outputId": "1e474ae4-a63f-4e42-d28f-0b8e09c776c8"
      },
      "source": [
        "import time\n",
        "\n",
        "start = time.time()\n",
        "ver2 = ver1.copy()\n",
        "ver2['cleaned_comment'] = ver2['cmmt_list'].apply(lambda x: preprocessing(x))\n",
        "print(f'Preprocessing is finished: {time.time()-start:.2f} secs are taken')"
      ],
      "execution_count": null,
      "outputs": [
        {
          "output_type": "stream",
          "text": [
            "Preprocessing is finished: 1515.28 secs are taken\n"
          ],
          "name": "stdout"
        }
      ]
    },
    {
      "cell_type": "code",
      "metadata": {
        "id": "5cDGH5_7FDiA",
        "outputId": "56dee020-37f3-4142-b4bb-82f8dcfaa432"
      },
      "source": [
        "org_len = len(ver2)\n",
        "ver2 = ver2[(ver2.cleaned_comment != '')]\n",
        "print(f'Total {org_len-len(ver2)} of datas are removed')"
      ],
      "execution_count": null,
      "outputs": [
        {
          "output_type": "stream",
          "text": [
            "Total 1088 of datas are removed\n"
          ],
          "name": "stdout"
        }
      ]
    },
    {
      "cell_type": "code",
      "metadata": {
        "id": "t79pKwm-FDiB",
        "outputId": "b33c88fb-7e67-4ce4-f980-82e110289e32"
      },
      "source": [
        "import seaborn as sns\n",
        "\n",
        "ver2['char_length'] = ver2['cleaned_comment'].apply(lambda x: len(str(x)))\n",
        "\n",
        "sns.displot(ver2['char_length']);"
      ],
      "execution_count": null,
      "outputs": [
        {
          "output_type": "display_data",
          "data": {
            "image/png": "[encoded data removed]",
            "text/plain": [
              "<Figure size 360x360 with 1 Axes>"
            ]
          },
          "metadata": {
            "tags": [],
            "needs_background": "light"
          }
        }
      ]
    },
    {
      "cell_type": "code",
      "metadata": {
        "id": "QIp8YwweFDiB",
        "outputId": "17035903-67ae-4834-8a35-4f09617fa590"
      },
      "source": [
        "ver2_trim = ver2[(ver2.char_length <= 512)]\n",
        "ver2_trim = ver2_trim[['target','cleaned_comment']]\n",
        "\n",
        "ver2_trim.to_csv('finaldata_ver2.csv', index=False)\n",
        "print(len(ver2_trim))\n",
        "print(ver2_trim['target'].value_counts())"
      ],
      "execution_count": null,
      "outputs": [
        {
          "output_type": "stream",
          "text": [
            "304850\n",
            "1.0    157637\n",
            "0.0    147213\n",
            "Name: target, dtype: int64\n"
          ],
          "name": "stdout"
        }
      ]
    },
    {
      "cell_type": "markdown",
      "metadata": {
        "id": "EZO86M-LFDiB"
      },
      "source": [
        "## Ver3. Context dataset"
      ]
    },
    {
      "cell_type": "code",
      "metadata": {
        "id": "dAlf3lFBFDiC",
        "outputId": "b3760864-02e2-427c-8744-2554d16860c0"
      },
      "source": [
        "sig_non = 0\n",
        "con_non = 0\n",
        "sig_tox = 0\n",
        "con_tox = 0\n",
        "\n",
        "for i, (target, cmmts) in enumerate(zip(context.target, context.cmmt_list)):\n",
        "    if len(cmmts) == 2 and target == 1:\n",
        "        con_tox+=1\n",
        "    elif len(cmmts) == 2 and target == 0:\n",
        "        con_non+=1\n",
        "    elif len(cmmts) == 1 and target == 1:\n",
        "        sig_tox+=1\n",
        "    elif len(cmmts) == 1 and target == 0:\n",
        "        sig_non+=1\n",
        "    else:\n",
        "        print('IDX:',i,'LEN:',len(cmmts),'TARGET:',target)\n",
        "        \n",
        "print(f'con_tox : {con_tox}',f'con_non : {con_non}',f'sig_tox : {sig_tox}',f'sig_non : {sig_non}',sep='\\n')"
      ],
      "execution_count": null,
      "outputs": [
        {
          "output_type": "stream",
          "text": [
            "con_tox : 12220\n",
            "con_non : 6888\n",
            "sig_tox : 19611\n",
            "sig_non : 18257\n"
          ],
          "name": "stdout"
        }
      ]
    },
    {
      "cell_type": "code",
      "metadata": {
        "id": "KJjUSTlAFDiC"
      },
      "source": [
        "import re\n",
        "import unicodedata\n",
        "\n",
        "def clean_text(text):\n",
        "    text = text.lower().strip()\n",
        "    text = ''.join(c for c in unicodedata.normalize('NFD', text) if unicodedata.category(c) != 'Mn')\n",
        "    text = re.sub(r'[\\r|\\t|\\n]', ' ', text)\n",
        "    text = re.sub('(http|ftp|https)://(?:[-\\w.]|(?:\\da-f]{2}))+','',text) #url 제거\n",
        "    text = re.sub('(\\[a-z0-9\\_.+-\\]+@\\[a-z0-9-\\]+.\\[a-z0-9-.\\]+)','',text) #email 제거\n",
        "    text = re.sub('<[^>]*>','',text) #html tag 제거\n",
        "    text = re.sub(r\"[^a-z.!?]+\", r\" \", text) #문자+문장부호만 빼고 모두 제거\n",
        "    text = re.sub(r\"([.!?])\", r\" \\1\", text) #문장부호는 \\1로 대체\n",
        "    text = re.sub(' the ', ' ', text)\n",
        "    text = re.sub(' a ', ' ', text)\n",
        "    text = re.sub(' u ', 'you ', text)\n",
        "    text = re.sub(' ur ', ' your ', text)\n",
        "    text = re.sub(' y ', 'why ', text)\n",
        "    text = ' '.join([w for w in text.split() if len(w)>1]) #remove single alphabet in the sentence\n",
        "    #text = ' '.join([wnl.lemmatize(w, pos=penn2morphy(tag)) for w, tag in pos_tag(text)])\n",
        "    text = re.sub(' ciu ', 'see you ', text)\n",
        "    text = re.sub(' da ', 'dumb ass ', text)\n",
        "    text = re.sub(' fug ', 'fuck ugly ', text)\n",
        "    text = re.sub('gratest', 'greatest ', text)\n",
        "    text = re.sub('sh\\*t', 'shit ', text)\n",
        "    text = re.sub('s\\*\\*t', 'shit ', text)\n",
        "    text = re.sub('f\\*ck', 'fuck ', text)\n",
        "    text = re.sub('fu\\*k', 'fuck ', text)\n",
        "    text = re.sub('f\\*\\*k', 'fuck ', text)   \n",
        "    text = re.sub('f\\*\\*\\*\\*\\*g', 'fuck ', text)\n",
        "    text = re.sub('p\\*ssy', 'pussy ', text)\n",
        "    text = re.sub('p\\*\\*\\*y', 'pussy ', text)\n",
        "    text = re.sub('pu\\*\\*y', 'pussy ', text)\n",
        "    text = re.sub('p\\*ss', 'piss ', text)\n",
        "    text = re.sub('b\\*tch', 'bitch ', text)\n",
        "    text = re.sub('bit\\*h', 'bitch ', text)\n",
        "    text = re.sub(' btch ', 'bitch ', text)\n",
        "    text = re.sub(' bch ', 'bitch ', text)\n",
        "    text = re.sub('h\\*ll', 'hell ', text)\n",
        "    text = re.sub('h\\*\\*l', 'hell ', text)\n",
        "    text = re.sub('cr\\*p', 'crap ', text)\n",
        "    text = re.sub('d\\*mn', 'damn ', text)\n",
        "    text = re.sub('stu\\*pid', 'stupid ', text)\n",
        "    text = re.sub('st\\*pid', 'stupid ', text)\n",
        "    text = re.sub('n\\*gger', 'nigger ', text)\n",
        "    text = re.sub('n\\*\\*\\*ga', 'nigger ', text)\n",
        "    text = re.sub('f\\*ggot', 'faggot ', text)\n",
        "    text = re.sub('scr\\*w', 'screw ', text)\n",
        "    text = re.sub('pr\\*ck', 'prick ', text)\n",
        "    text = re.sub('g\\*d', 'god ', text)\n",
        "    text = re.sub('s\\*x', 'sex ', text)\n",
        "    text = re.sub('a\\*s', 'ass ', text)\n",
        "    text = re.sub('a\\*\\*hole', 'asshole ', text)\n",
        "    text = re.sub('a\\*\\*\\*ole', 'asshole ', text)\n",
        "    text = re.sub('a\\*\\*', 'ass ', text)    \n",
        "    text = re.sub(r\"im \", \"i am \", text)\n",
        "    text = re.sub(r\"what's\", \"what is \", text)\n",
        "    text = re.sub(r\"\\'s\", \" \", text)\n",
        "    text = re.sub(r\"\\'ve\", \" have \", text)\n",
        "    text = re.sub(r\"can't\", \"can not \", text)\n",
        "    text = re.sub(r\"n't\", \" not \", text)\n",
        "    text = re.sub(r\"i'm\", \"i am \", text)\n",
        "    text = re.sub(r\"\\'re\", \" are \", text)\n",
        "    text = re.sub(r\"\\'d\", \" would \", text)\n",
        "    text = re.sub(r\"\\'ll\", \" will \", text)\n",
        "    text = re.sub(r\"\\'scuse\", \" excuse \", text)\n",
        "    text = re.sub('\\W', ' ', text)\n",
        "    text = re.sub('\\s+', ' ', text)\n",
        "    text = text.strip(' ')\n",
        "    \n",
        "    return text\n",
        "\n",
        "removed_data = ['removed','[removed]',['removed'],'deleted','[deleted]',['deleted']]\n",
        "\n",
        "def preprocessing(comment):\n",
        "    try:\n",
        "        if type(comment) == str:\n",
        "            return clean_text(comment)\n",
        "        elif type(comment) == list:\n",
        "            global cnt\n",
        "            cnt+=1\n",
        "            comments = []\n",
        "            for text in comment:\n",
        "                if text in removed_data:\n",
        "                    print('deleted removed data')\n",
        "                    continue\n",
        "                text = clean_text(text)\n",
        "                comments.append(text)\n",
        "            return comments\n",
        "        else:\n",
        "            print(type(comment))\n",
        "    except:\n",
        "        print(comment)"
      ],
      "execution_count": null,
      "outputs": []
    },
    {
      "cell_type": "code",
      "metadata": {
        "id": "fE7nLFpIFDiD",
        "outputId": "0c7014e6-ea21-4fbf-89a5-d44287f23698"
      },
      "source": [
        "import time\n",
        "\n",
        "cnt=0\n",
        "start = time.time()\n",
        "context['cleaned_comment'] = context['cmmt_list'].apply(lambda x: preprocessing(x))\n",
        "print(f'Preprocessing is finished: {time.time()-start:.2f} secs are taken')\n",
        "print(f'Total {cnt} lists are cleaned')"
      ],
      "execution_count": null,
      "outputs": [
        {
          "output_type": "stream",
          "text": [
            "[nan]\n",
            "Preprocessing is finished: 12.01 secs are taken\n",
            "Total 56976 lists are cleaned\n"
          ],
          "name": "stdout"
        }
      ]
    },
    {
      "cell_type": "code",
      "metadata": {
        "id": "8G-vwUIQFDiE",
        "outputId": "1a2c001f-119c-442d-e296-bbd66ecf5ee4"
      },
      "source": [
        "org_len = len(context)\n",
        "context = context.dropna()\n",
        "print(context.target.value_counts())\n",
        "print(org_len-len(context))"
      ],
      "execution_count": null,
      "outputs": [
        {
          "output_type": "stream",
          "text": [
            "1    31831\n",
            "0    25144\n",
            "Name: target, dtype: int64\n",
            "1\n"
          ],
          "name": "stdout"
        }
      ]
    },
    {
      "cell_type": "code",
      "metadata": {
        "id": "mUKhC2t9FDiF",
        "outputId": "1ce5e73a-24d5-4087-b03e-2770be33a754"
      },
      "source": [
        "import seaborn as sns\n",
        "\n",
        "context['char_length'] = context['cleaned_comment'].apply(lambda x: len(' [SEP] '.join(x).split()))\n",
        "\n",
        "sns.displot(context['char_length']);"
      ],
      "execution_count": null,
      "outputs": [
        {
          "output_type": "display_data",
          "data": {
            "image/png": "[encoded data removed]",
            "text/plain": [
              "<Figure size 360x360 with 1 Axes>"
            ]
          },
          "metadata": {
            "tags": [],
            "needs_background": "light"
          }
        }
      ]
    },
    {
      "cell_type": "code",
      "metadata": {
        "id": "DkeV998GFDiF",
        "outputId": "2c5138b3-ff4a-4c78-a8ef-fdafd07ce144"
      },
      "source": [
        "context_trim = context[['target','cleaned_comment']]\n",
        "context_trim.to_csv('context_add.csv', index=False)\n",
        "print(len(context_trim))\n",
        "#print(context_trim['target'].value_counts())"
      ],
      "execution_count": null,
      "outputs": [
        {
          "output_type": "stream",
          "text": [
            "56975\n"
          ],
          "name": "stdout"
        }
      ]
    },
    {
      "cell_type": "markdown",
      "metadata": {
        "id": "xqwaGjKvFDiF"
      },
      "source": [
        "## Test dataset"
      ]
    },
    {
      "cell_type": "code",
      "metadata": {
        "id": "EL6bTdEhFDiF",
        "outputId": "8fce8c38-43f4-4c51-8b62-b144cef2d02e"
      },
      "source": [
        "gao = gao.rename(columns={'label':'target'})\n",
        "test = gao[['target','cmmt_list']]\n",
        "\n",
        "test"
      ],
      "execution_count": null,
      "outputs": [
        {
          "output_type": "execute_result",
          "data": {
            "text/html": [
              "<div>\n",
              "<style scoped>\n",
              "    .dataframe tbody tr th:only-of-type {\n",
              "        vertical-align: middle;\n",
              "    }\n",
              "\n",
              "    .dataframe tbody tr th {\n",
              "        vertical-align: top;\n",
              "    }\n",
              "\n",
              "    .dataframe thead th {\n",
              "        text-align: right;\n",
              "    }\n",
              "</style>\n",
              "<table border=\"1\" class=\"dataframe\">\n",
              "  <thead>\n",
              "    <tr style=\"text-align: right;\">\n",
              "      <th></th>\n",
              "      <th>target</th>\n",
              "      <th>cmmt_list</th>\n",
              "    </tr>\n",
              "  </thead>\n",
              "  <tbody>\n",
              "    <tr>\n",
              "      <th>0</th>\n",
              "      <td>1</td>\n",
              "      <td>[German lawmakers approve 'no means no' rape l...</td>\n",
              "    </tr>\n",
              "    <tr>\n",
              "      <th>1</th>\n",
              "      <td>1</td>\n",
              "      <td>[German lawmakers approve 'no means no' rape l...</td>\n",
              "    </tr>\n",
              "    <tr>\n",
              "      <th>2</th>\n",
              "      <td>0</td>\n",
              "      <td>[German lawmakers approve 'no means no' rape l...</td>\n",
              "    </tr>\n",
              "    <tr>\n",
              "      <th>3</th>\n",
              "      <td>1</td>\n",
              "      <td>[German lawmakers approve 'no means no' rape l...</td>\n",
              "    </tr>\n",
              "    <tr>\n",
              "      <th>4</th>\n",
              "      <td>1</td>\n",
              "      <td>[German lawmakers approve 'no means no' rape l...</td>\n",
              "    </tr>\n",
              "    <tr>\n",
              "      <th>...</th>\n",
              "      <td>...</td>\n",
              "      <td>...</td>\n",
              "    </tr>\n",
              "    <tr>\n",
              "      <th>1523</th>\n",
              "      <td>1</td>\n",
              "      <td>[Fury as feminist blames toddler alligator dea...</td>\n",
              "    </tr>\n",
              "    <tr>\n",
              "      <th>1524</th>\n",
              "      <td>1</td>\n",
              "      <td>[Fury as feminist blames toddler alligator dea...</td>\n",
              "    </tr>\n",
              "    <tr>\n",
              "      <th>1525</th>\n",
              "      <td>1</td>\n",
              "      <td>[Fury as feminist blames toddler alligator dea...</td>\n",
              "    </tr>\n",
              "    <tr>\n",
              "      <th>1526</th>\n",
              "      <td>1</td>\n",
              "      <td>[Fury as feminist blames toddler alligator dea...</td>\n",
              "    </tr>\n",
              "    <tr>\n",
              "      <th>1527</th>\n",
              "      <td>1</td>\n",
              "      <td>[Fury as feminist blames toddler alligator dea...</td>\n",
              "    </tr>\n",
              "  </tbody>\n",
              "</table>\n",
              "<p>1528 rows × 2 columns</p>\n",
              "</div>"
            ],
            "text/plain": [
              "      target                                          cmmt_list\n",
              "0          1  [German lawmakers approve 'no means no' rape l...\n",
              "1          1  [German lawmakers approve 'no means no' rape l...\n",
              "2          0  [German lawmakers approve 'no means no' rape l...\n",
              "3          1  [German lawmakers approve 'no means no' rape l...\n",
              "4          1  [German lawmakers approve 'no means no' rape l...\n",
              "...      ...                                                ...\n",
              "1523       1  [Fury as feminist blames toddler alligator dea...\n",
              "1524       1  [Fury as feminist blames toddler alligator dea...\n",
              "1525       1  [Fury as feminist blames toddler alligator dea...\n",
              "1526       1  [Fury as feminist blames toddler alligator dea...\n",
              "1527       1  [Fury as feminist blames toddler alligator dea...\n",
              "\n",
              "[1528 rows x 2 columns]"
            ]
          },
          "metadata": {
            "tags": []
          },
          "execution_count": 7
        }
      ]
    },
    {
      "cell_type": "code",
      "metadata": {
        "id": "enxue40XFDiG"
      },
      "source": [
        "import re\n",
        "import unicodedata\n",
        "\n",
        "def clean_text(text):\n",
        "    text = text.lower().strip()\n",
        "    text = ''.join(c for c in unicodedata.normalize('NFD', text) if unicodedata.category(c) != 'Mn')\n",
        "    text = re.sub(r'[\\r|\\t|\\n]', ' ', text)\n",
        "    text = re.sub('(http|ftp|https)://(?:[-\\w.]|(?:\\da-f]{2}))+','',text) #url 제거\n",
        "    text = re.sub('(\\[a-z0-9\\_.+-\\]+@\\[a-z0-9-\\]+.\\[a-z0-9-.\\]+)','',text) #email 제거\n",
        "    text = re.sub('<[^>]*>','',text) #html tag 제거\n",
        "    text = re.sub(r\"[^a-z.!?]+\", r\" \", text) #문자+문장부호만 빼고 모두 제거\n",
        "    text = re.sub(r\"([.!?])\", r\" \\1\", text) #문장부호는 \\1로 대체\n",
        "    text = re.sub(' the ', ' ', text)\n",
        "    text = re.sub(' a ', ' ', text)\n",
        "    text = re.sub(' u ', 'you ', text)\n",
        "    text = re.sub(' ur ', ' your ', text)\n",
        "    text = re.sub(' y ', 'why ', text)\n",
        "    text = re.sub(' ciu ', 'see you ', text)\n",
        "    text = re.sub(' da ', 'dumb ass ', text)\n",
        "    text = re.sub(' fug ', 'fuck ugly ', text)\n",
        "    text = re.sub('gratest', 'greatest ', text)\n",
        "    text = re.sub('sh\\*t', 'shit ', text)\n",
        "    text = re.sub('s\\*\\*t', 'shit ', text)\n",
        "    text = re.sub('f\\*ck', 'fuck ', text)\n",
        "    text = re.sub(' f ', 'fuck ', text)\n",
        "    text = re.sub('fu\\*k', 'fuck ', text)\n",
        "    text = re.sub('f\\*\\*k', 'fuck ', text)   \n",
        "    text = re.sub('f\\*\\*\\*\\*\\*g', 'fuck ', text)\n",
        "    text = re.sub('p\\*ssy', 'pussy ', text)\n",
        "    text = re.sub('p\\*\\*\\*y', 'pussy ', text)\n",
        "    text = re.sub('pu\\*\\*y', 'pussy ', text)\n",
        "    text = re.sub('p\\*ss', 'piss ', text)\n",
        "    text = re.sub('b\\*tch', 'bitch ', text)\n",
        "    text = re.sub('bit\\*h', 'bitch ', text)\n",
        "    text = re.sub(' btch ', 'bitch ', text)\n",
        "    text = re.sub(' bch ', 'bitch ', text)\n",
        "    text = re.sub('h\\*ll', 'hell ', text)\n",
        "    text = re.sub('h\\*\\*l', 'hell ', text)\n",
        "    text = re.sub('cr\\*p', 'crap ', text)\n",
        "    text = re.sub('d\\*mn', 'damn ', text)\n",
        "    text = re.sub('stu\\*pid', 'stupid ', text)\n",
        "    text = re.sub('st\\*pid', 'stupid ', text)\n",
        "    text = re.sub('n\\*gger', 'nigger ', text)\n",
        "    text = re.sub('n\\*\\*\\*ga', 'nigger ', text)\n",
        "    text = re.sub('f\\*ggot', 'faggot ', text)\n",
        "    text = re.sub('scr\\*w', 'screw ', text)\n",
        "    text = re.sub('pr\\*ck', 'prick ', text)\n",
        "    text = re.sub('g\\*d', 'god ', text)\n",
        "    text = re.sub('s\\*x', 'sex ', text)\n",
        "    text = re.sub('a\\*s', 'ass ', text)\n",
        "    text = re.sub('a\\*\\*hole', 'asshole ', text)\n",
        "    text = re.sub('a\\*\\*\\*ole', 'asshole ', text)\n",
        "    text = re.sub('a\\*\\*', 'ass ', text)    \n",
        "    text = re.sub(r\"im \", \"i am \", text)\n",
        "    text = re.sub(r\"what's\", \"what is \", text)\n",
        "    text = re.sub(r\"\\'s\", \" \", text)\n",
        "    text = re.sub(r\"\\'ve\", \" have \", text)\n",
        "    text = re.sub(r\"can't\", \"can not \", text)\n",
        "    text = re.sub(r\"n't\", \" not \", text)\n",
        "    text = re.sub(r\"i'm\", \"i am \", text)\n",
        "    text = re.sub(r\"\\'re\", \" are \", text)\n",
        "    text = re.sub(r\"\\'d\", \" would \", text)\n",
        "    text = re.sub(r\"\\'ll\", \" will \", text)\n",
        "    text = re.sub(r\"\\'scuse\", \" excuse \", text)\n",
        "    text = re.sub('\\W', ' ', text)\n",
        "    text = re.sub('\\s+', ' ', text)\n",
        "    text = text.strip(' ')\n",
        "    \n",
        "    return text\n",
        "\n",
        "def preprocessing(comment):\n",
        "    cnt=0\n",
        "    if type(comment) == str:\n",
        "        return clean_text(comment)\n",
        "    elif type(comment) == list:\n",
        "        cnt+=1\n",
        "        comments = []\n",
        "        for text in comment:\n",
        "            if text == 'removed' or text == '[removed]' or text == ['removed']:\n",
        "                continue\n",
        "            text = clean_text(text)\n",
        "            comments.append(text)\n",
        "        return ' [SEP] '.join(comments)\n",
        "    else:\n",
        "        print(type(comment))"
      ],
      "execution_count": null,
      "outputs": []
    },
    {
      "cell_type": "code",
      "metadata": {
        "id": "lxm67OfkFDiG"
      },
      "source": [
        "import re\n",
        "import unicodedata\n",
        "from nltk.stem import WordNetLemmatizer\n",
        "from nltk import pos_tag\n",
        "\n",
        "wnl = WordNetLemmatizer()\n",
        "target = ['gay', 'gays', 'homosexual', 'lesbian', 'LGBT', 'moslem', 'muslim', 'jew', 'jews' 'blacks', 'nigga', 'niggas']\n",
        "\n",
        "def penn2morphy(penntag):\n",
        "    \"\"\" Converts Penn Treebank tags to WordNet. \"\"\"\n",
        "    morphy_tag = {'NN':'n', 'JJ':'a',\n",
        "                  'VB':'v', 'RB':'r'}\n",
        "    try:\n",
        "        return morphy_tag[penntag[:2]]\n",
        "    except:\n",
        "        return 'n' \n",
        "\n",
        "def clean_text(text):\n",
        "    text = text.lower().strip()\n",
        "    text = ''.join(c for c in unicodedata.normalize('NFD', text) if unicodedata.category(c) != 'Mn')\n",
        "    text = re.sub(r'[\\r|\\t|\\n]', ' ', text)\n",
        "    text = re.sub('(http|ftp|https)://(?:[-\\w.]|(?:\\da-f]{2}))+','',text) #url 제거\n",
        "    text = re.sub('(\\[a-z0-9\\_.+-\\]+@\\[a-z0-9-\\]+.\\[a-z0-9-.\\]+)','',text) #email 제거\n",
        "    text = re.sub('<[^>]*>','',text) #html tag 제거\n",
        "    text = re.sub(r\"[^a-z.!?]+\", r\" \", text) #문자+문장부호만 빼고 모두 제거\n",
        "    text = re.sub(r\"([.!?])\", r\" \\1\", text) #문장부호는 \\1로 대체\n",
        "    text = re.sub(' the ', ' ', text)\n",
        "    text = re.sub(' a ', ' ', text)\n",
        "    text = re.sub(' u ', 'you ', text)\n",
        "    text = re.sub(' ur ', ' your ', text)\n",
        "    text = re.sub(' y ', 'why ', text)\n",
        "    text = [w for w in text.split() if len(w)>1] #remove single alphabet in the sentence\n",
        "    text = [w if w not in target else '[TARGET]' for w in text]\n",
        "    text = ' '.join([wnl.lemmatize(w, pos=penn2morphy(tag)) for w, tag in pos_tag(text)])\n",
        "    text = re.sub(' ciu ', 'see you ', text)\n",
        "    text = re.sub(' da ', 'dumb ass ', text)\n",
        "    text = re.sub(' fug ', 'fuck ugly ', text)\n",
        "    text = re.sub('gratest', 'greatest ', text)\n",
        "    text = re.sub('sh\\*t', 'shit ', text)\n",
        "    text = re.sub('s\\*\\*t', 'shit ', text)\n",
        "    text = re.sub('f\\*ck', 'fuck ', text)\n",
        "    text = re.sub('fu\\*k', 'fuck ', text)\n",
        "    text = re.sub('f\\*\\*k', 'fuck ', text)   \n",
        "    text = re.sub('f\\*\\*\\*\\*\\*g', 'fuck ', text)\n",
        "    text = re.sub('p\\*ssy', 'pussy ', text)\n",
        "    text = re.sub('p\\*\\*\\*y', 'pussy ', text)\n",
        "    text = re.sub('pu\\*\\*y', 'pussy ', text)\n",
        "    text = re.sub('p\\*ss', 'piss ', text)\n",
        "    text = re.sub('b\\*tch', 'bitch ', text)\n",
        "    text = re.sub('bit\\*h', 'bitch ', text)\n",
        "    text = re.sub(' btch ', 'bitch ', text)\n",
        "    text = re.sub(' bch ', 'bitch ', text)\n",
        "    text = re.sub('h\\*ll', 'hell ', text)\n",
        "    text = re.sub('h\\*\\*l', 'hell ', text)\n",
        "    text = re.sub('cr\\*p', 'crap ', text)\n",
        "    text = re.sub('d\\*mn', 'damn ', text)\n",
        "    text = re.sub('stu\\*pid', 'stupid ', text)\n",
        "    text = re.sub('st\\*pid', 'stupid ', text)\n",
        "    text = re.sub('n\\*gger', 'nigger ', text)\n",
        "    text = re.sub('n\\*\\*\\*ga', 'nigger ', text)\n",
        "    text = re.sub('f\\*ggot', 'faggot ', text)\n",
        "    text = re.sub('scr\\*w', 'screw ', text)\n",
        "    text = re.sub('pr\\*ck', 'prick ', text)\n",
        "    text = re.sub('g\\*d', 'god ', text)\n",
        "    text = re.sub('s\\*x', 'sex ', text)\n",
        "    text = re.sub('a\\*s', 'ass ', text)\n",
        "    text = re.sub('a\\*\\*hole', 'asshole ', text)\n",
        "    text = re.sub('a\\*\\*\\*ole', 'asshole ', text)\n",
        "    text = re.sub('a\\*\\*', 'ass ', text)    \n",
        "    text = re.sub(r\"im \", \"i am \", text)\n",
        "    text = re.sub(r\"what's\", \"what is \", text)\n",
        "    text = re.sub(r\"\\'s\", \" \", text)\n",
        "    text = re.sub(r\"\\'ve\", \" have \", text)\n",
        "    text = re.sub(r\"can't\", \"can not \", text)\n",
        "    text = re.sub(r\"n't\", \" not \", text)\n",
        "    text = re.sub(r\"i'm\", \"i am \", text)\n",
        "    text = re.sub(r\"\\'re\", \" are \", text)\n",
        "    text = re.sub(r\"\\'d\", \" would \", text)\n",
        "    text = re.sub(r\"\\'ll\", \" will \", text)\n",
        "    text = re.sub(r\"\\'scuse\", \" excuse \", text)\n",
        "    text = re.sub('\\W', ' ', text)\n",
        "    text = re.sub('\\s+', ' ', text)\n",
        "    text = text.strip(' ')\n",
        "    \n",
        "    return text\n",
        "\n",
        "def preprocessing(comment):\n",
        "    if type(comment) == str:\n",
        "        return clean_text(comment)\n",
        "    elif type(comment) == list:\n",
        "        comments = []\n",
        "        for text in comment:\n",
        "            if text == 'removed' or text == '[removed]' or text == ['removed']:\n",
        "                continue\n",
        "            text = clean_text(text)\n",
        "            comments.append(text)\n",
        "        return ' [SEP] '.join(comments)\n",
        "    else:\n",
        "        print(type(comment))"
      ],
      "execution_count": null,
      "outputs": []
    },
    {
      "cell_type": "code",
      "metadata": {
        "id": "qIvnnxKjFDiG",
        "outputId": "48ffbd00-d5b1-4e36-8223-ad47e4b47ae2"
      },
      "source": [
        "import time\n",
        "\n",
        "start = time.time()\n",
        "test['cleaned_comment'] = test['cmmt_list'].apply(lambda x: preprocessing(x))\n",
        "print(f'Preprocessing is finished: {time.time()-start:.2f} secs are taken')"
      ],
      "execution_count": null,
      "outputs": [
        {
          "output_type": "stream",
          "text": [
            "Preprocessing is finished: 7.70 secs are taken\n"
          ],
          "name": "stdout"
        },
        {
          "output_type": "stream",
          "text": [
            "<ipython-input-9-afcfad48df11>:4: SettingWithCopyWarning: \n",
            "A value is trying to be set on a copy of a slice from a DataFrame.\n",
            "Try using .loc[row_indexer,col_indexer] = value instead\n",
            "\n",
            "See the caveats in the documentation: https://pandas.pydata.org/pandas-docs/stable/user_guide/indexing.html#returning-a-view-versus-a-copy\n",
            "  test['cleaned_comment'] = test['cmmt_list'].apply(lambda x: preprocessing(x))\n"
          ],
          "name": "stderr"
        }
      ]
    },
    {
      "cell_type": "code",
      "metadata": {
        "id": "jdQQMKQKFDiI",
        "outputId": "8531bb3e-3a38-4958-99aa-f1b73353dce0"
      },
      "source": [
        "org_len = len(test)\n",
        "test = test[(test.cleaned_comment != '')]\n",
        "print(f'Total {org_len-len(test)} of datas are removed')"
      ],
      "execution_count": null,
      "outputs": [
        {
          "output_type": "stream",
          "text": [
            "Total 0 of datas are removed\n"
          ],
          "name": "stdout"
        }
      ]
    },
    {
      "cell_type": "code",
      "metadata": {
        "id": "0dMag03bFDiJ",
        "outputId": "0f6dbee3-3f5a-42a4-e1f0-6c06f3f83a0f"
      },
      "source": [
        "test['char_length'] = test['cleaned_comment'].apply(lambda x: len(str(x)))\n",
        "test_trim = test[(test.char_length <= 512)]\n",
        "test_trim = test_trim[['target','cleaned_comment']]\n",
        "\n",
        "test_trim.to_csv('test_ver2.csv', index=False)\n",
        "print(len(test_trim))\n",
        "print(test_trim['target'].value_counts())"
      ],
      "execution_count": null,
      "outputs": [
        {
          "output_type": "stream",
          "text": [
            "1456\n",
            "0    1054\n",
            "1     402\n",
            "Name: target, dtype: int64\n"
          ],
          "name": "stdout"
        }
      ]
    }
  ]
}